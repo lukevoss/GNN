{
 "cells": [
  {
   "cell_type": "markdown",
   "metadata": {},
   "source": [
    "# 1. Noise-free data"
   ]
  },
  {
   "cell_type": "code",
   "execution_count": null,
   "metadata": {},
   "outputs": [],
   "source": [
    "def simulate_sir_simple(lam, mu, I_0, T):\n",
    "    \"\"\"\n",
    "    simulates the epidemy using the Euler forward scheme up to day T.\n",
    "    lam = infection rate\n",
    "    mu = recovery rate\n",
    "    I_0 = initial percentage of infected people\n",
    "    T = days to simulate\n",
    "    \"\"\"\n",
    "    # Initialize variables\n",
    "    S = 1.0 - I_0\n",
    "    I = I_0\n",
    "    R = 0.0\n",
    "    \n",
    "    # Lists to store observations and ODE variables\n",
    "    X = []\n",
    "    C = []\n",
    "    \n",
    "    for day in range(1, T+1):\n",
    "        \n",
    "        # Calculate new values using Euler forward scheme\n",
    "        dS = -lam * S * I\n",
    "        dI = lam * S * I - mu * I\n",
    "        dR = mu * I\n",
    "\n",
    "        S += dS\n",
    "        I += dI\n",
    "        R += dR\n",
    "\n",
    "        # Append current values to the lists\n",
    "        X.append((dS,dR))\n",
    "        C.append((S, I, R))\n",
    "\n",
    "    \n",
    "    return observations, ode_variables\n"
   ]
  },
  {
   "cell_type": "code",
   "execution_count": null,
   "metadata": {},
   "outputs": [],
   "source": [
    "# Example usage:\n",
    "lambda_val = 0.2  # Infection rate\n",
    "mu_val = 0.1     # Recovery rate\n",
    "initial_infected = 0.01  # Initial number of infected people\n",
    "num_days = 100   # Total number of days to simulate\n",
    "\n",
    "observations, ode_variables = simulate_sir_simple(lambda_val, mu_val, initial_infected, num_days)\n",
    "\n",
    "# You can then inspect the lists 'observations' and 'ode_variables' for the results."
   ]
  },
  {
   "cell_type": "markdown",
   "metadata": {},
   "source": [
    "# 2. Noisy data"
   ]
  },
  {
   "cell_type": "code",
   "execution_count": null,
   "metadata": {},
   "outputs": [],
   "source": []
  },
  {
   "cell_type": "markdown",
   "metadata": {},
   "source": [
    "# 3. Model misspecification detection"
   ]
  },
  {
   "cell_type": "code",
   "execution_count": null,
   "metadata": {},
   "outputs": [],
   "source": []
  },
  {
   "cell_type": "markdown",
   "metadata": {},
   "source": [
    "# 4. Sensitivity analysis"
   ]
  }
 ],
 "metadata": {
  "language_info": {
   "name": "python"
  }
 },
 "nbformat": 4,
 "nbformat_minor": 2
}
