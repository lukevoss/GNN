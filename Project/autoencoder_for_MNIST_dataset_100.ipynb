{
 "cells": [
  {
   "cell_type": "markdown",
   "metadata": {
    "id": "view-in-github"
   },
   "source": [
    "<a href=\"https://colab.research.google.com/github/neelkanthrawat/GNN-exercises/blob/main/Project/autoencoder_for_MNIST_dataset.ipynb\" target=\"_parent\"><img src=\"https://colab.research.google.com/assets/colab-badge.svg\" alt=\"Open In Colab\"/></a>"
   ]
  },
  {
   "cell_type": "code",
   "execution_count": 1,
   "metadata": {
    "id": "k34bN2nvAhj_"
   },
   "outputs": [],
   "source": [
    "import torch\n",
    "from torchvision.datasets import MNIST\n",
    "from torchvision import transforms\n",
    "from torch.utils.data import Dataset, DataLoader, random_split\n",
    "from torchvision import datasets, transforms\n",
    "import torch.nn as nn\n",
    "import torch.optim as optim\n",
    "from tqdm import tqdm\n",
    "\n",
    "import numpy as np\n",
    "\n",
    "import matplotlib.pyplot as plt"
   ]
  },
  {
   "cell_type": "markdown",
   "metadata": {
    "id": "HrI_kQmpCTqh"
   },
   "source": [
    "### 1. Load the MNIST dataset"
   ]
  },
  {
   "cell_type": "code",
   "execution_count": 2,
   "metadata": {
    "colab": {
     "base_uri": "https://localhost:8080/"
    },
    "id": "Xjw7V9d8Avoz",
    "outputId": "ddcb4977-d9a7-4d8b-e300-c00314cf50bd"
   },
   "outputs": [
    {
     "name": "stdout",
     "output_type": "stream",
     "text": [
      "Downloading http://yann.lecun.com/exdb/mnist/train-images-idx3-ubyte.gz\n",
      "Downloading http://yann.lecun.com/exdb/mnist/train-images-idx3-ubyte.gz to ./data/MNIST/raw/train-images-idx3-ubyte.gz\n"
     ]
    },
    {
     "name": "stderr",
     "output_type": "stream",
     "text": [
      "100%|██████████| 9912422/9912422 [00:00<00:00, 169860401.22it/s]"
     ]
    },
    {
     "name": "stdout",
     "output_type": "stream",
     "text": [
      "Extracting ./data/MNIST/raw/train-images-idx3-ubyte.gz to ./data/MNIST/raw\n"
     ]
    },
    {
     "name": "stderr",
     "output_type": "stream",
     "text": [
      "\n"
     ]
    },
    {
     "name": "stdout",
     "output_type": "stream",
     "text": [
      "\n",
      "Downloading http://yann.lecun.com/exdb/mnist/train-labels-idx1-ubyte.gz\n",
      "Downloading http://yann.lecun.com/exdb/mnist/train-labels-idx1-ubyte.gz to ./data/MNIST/raw/train-labels-idx1-ubyte.gz\n"
     ]
    },
    {
     "name": "stderr",
     "output_type": "stream",
     "text": [
      "100%|██████████| 28881/28881 [00:00<00:00, 101368781.44it/s]\n"
     ]
    },
    {
     "name": "stdout",
     "output_type": "stream",
     "text": [
      "Extracting ./data/MNIST/raw/train-labels-idx1-ubyte.gz to ./data/MNIST/raw\n",
      "\n",
      "Downloading http://yann.lecun.com/exdb/mnist/t10k-images-idx3-ubyte.gz\n",
      "Downloading http://yann.lecun.com/exdb/mnist/t10k-images-idx3-ubyte.gz to ./data/MNIST/raw/t10k-images-idx3-ubyte.gz\n"
     ]
    },
    {
     "name": "stderr",
     "output_type": "stream",
     "text": [
      "100%|██████████| 1648877/1648877 [00:00<00:00, 50537767.98it/s]"
     ]
    },
    {
     "name": "stdout",
     "output_type": "stream",
     "text": [
      "Extracting ./data/MNIST/raw/t10k-images-idx3-ubyte.gz to ./data/MNIST/raw\n"
     ]
    },
    {
     "name": "stderr",
     "output_type": "stream",
     "text": [
      "\n"
     ]
    },
    {
     "name": "stdout",
     "output_type": "stream",
     "text": [
      "\n",
      "Downloading http://yann.lecun.com/exdb/mnist/t10k-labels-idx1-ubyte.gz\n",
      "Downloading http://yann.lecun.com/exdb/mnist/t10k-labels-idx1-ubyte.gz to ./data/MNIST/raw/t10k-labels-idx1-ubyte.gz\n"
     ]
    },
    {
     "name": "stderr",
     "output_type": "stream",
     "text": [
      "100%|██████████| 4542/4542 [00:00<00:00, 861196.54it/s]\n"
     ]
    },
    {
     "name": "stdout",
     "output_type": "stream",
     "text": [
      "Extracting ./data/MNIST/raw/t10k-labels-idx1-ubyte.gz to ./data/MNIST/raw\n",
      "\n"
     ]
    }
   ],
   "source": [
    "# Define transformations to apply to the data\n",
    "transform = transforms.Compose(\n",
    "    [\n",
    "        transforms.ToTensor(),  # Convert PIL image to tensor\n",
    "        transforms.Normalize(\n",
    "            (0.1307,), (0.3081,)\n",
    "        ),  # Normalize the tensor with mean and standard deviation of MNIST dataset\n",
    "    ]\n",
    ")\n",
    "\n",
    "# Load MNIST dataset\n",
    "train_dataset = MNIST(root=\"./data\", train=True, transform=transform, download=True)\n",
    "test_dataset = MNIST(root=\"./data\", train=False, transform=transform, download=True)"
   ]
  },
  {
   "cell_type": "markdown",
   "metadata": {
    "id": "0zmUjOwdDSWO"
   },
   "source": [
    "plotting the dataset"
   ]
  },
  {
   "cell_type": "code",
   "execution_count": 3,
   "metadata": {
    "colab": {
     "base_uri": "https://localhost:8080/",
     "height": 510
    },
    "id": "3RpjNQFUDVP_",
    "outputId": "34decbf0-a01d-40c4-9068-27e4d919c4c8"
   },
   "outputs": [
    {
     "data": {
      "image/png": "[encoded data removed]",
      "text/plain": [
       "<Figure size 1000x500 with 8 Axes>"
      ]
     },
     "metadata": {},
     "output_type": "display_data"
    }
   ],
   "source": [
    "def plot_images(images, labels, captions, rows=2, cols=4):\n",
    "    fig, axes = plt.subplots(rows, cols, figsize=(10, 5))\n",
    "    for i, ax in enumerate(axes.flat):\n",
    "        ax.imshow(images[i], cmap=\"gray\")\n",
    "        ax.set_title(captions[i])\n",
    "        ax.axis(\"off\")\n",
    "    plt.tight_layout()\n",
    "    plt.show()\n",
    "\n",
    "\n",
    "# Get some sample images and labels from the dataset\n",
    "sample_images = [train_dataset[i][0].squeeze().numpy() for i in range(8)]\n",
    "sample_labels = [train_dataset[i][1] for i in range(8)]\n",
    "sample_captions = [f\"Label: {label}\" for label in sample_labels]\n",
    "\n",
    "# Plot the sample images with captions\n",
    "plot_images(sample_images, sample_labels, sample_captions)"
   ]
  },
  {
   "cell_type": "markdown",
   "metadata": {
    "id": "74hXkabNCXNR"
   },
   "source": [
    "### 2. Create the Dataloaders"
   ]
  },
  {
   "cell_type": "code",
   "execution_count": 4,
   "metadata": {
    "id": "BA4d1a9lORcU"
   },
   "outputs": [],
   "source": [
    "# Define the sizes for train, validation, and test sets\n",
    "train_size = int(0.8 * len(train_dataset))\n",
    "val_size = len(train_dataset) - train_size\n",
    "test_size = len(test_dataset)"
   ]
  },
  {
   "cell_type": "code",
   "execution_count": 5,
   "metadata": {
    "id": "XYfkojdwORQZ"
   },
   "outputs": [],
   "source": [
    "# Split the dataset into train, validation, sets\n",
    "trn_data, val_data = torch.utils.data.random_split(\n",
    "    train_dataset, [train_size, val_size]\n",
    ")"
   ]
  },
  {
   "cell_type": "code",
   "execution_count": 6,
   "metadata": {
    "id": "Q54P9vSkORIf"
   },
   "outputs": [],
   "source": [
    "# Define batch size for data loaders\n",
    "batch_size = 100  # changed batch size to 100"
   ]
  },
  {
   "cell_type": "code",
   "execution_count": 7,
   "metadata": {
    "id": "FVkVWNMuOQ_v"
   },
   "outputs": [],
   "source": [
    "# Create data loaders for train, validation, and test sets\n",
    "train_loader = DataLoader(trn_data, batch_size=batch_size, shuffle=True)\n",
    "val_loader = DataLoader(val_data, batch_size=batch_size, shuffle=False)\n",
    "test_loader = DataLoader(test_dataset, batch_size=batch_size, shuffle=False)"
   ]
  },
  {
   "cell_type": "markdown",
   "metadata": {
    "id": "fIYaQW0LEbiL"
   },
   "source": [
    "### 3. Autoencoder model"
   ]
  },
  {
   "cell_type": "code",
   "execution_count": 8,
   "metadata": {
    "id": "4ULZBwsRam1K"
   },
   "outputs": [],
   "source": [
    "class Autoencoder_simpler(nn.Module):\n",
    "    def __init__(self):\n",
    "        super(Autoencoder_simpler, self).__init__()\n",
    "\n",
    "        # Encoder layers\n",
    "        self.encoder_conv1 = nn.Conv2d(\n",
    "            1, 6, kernel_size=3, stride=2, padding=1\n",
    "        )  # Use stride 2 for downscaling\n",
    "        self.encoder_conv2 = nn.Conv2d(\n",
    "            6, 12, kernel_size=3, stride=2, padding=1\n",
    "        )  # Use stride 2 for downscaling\n",
    "        self.encoder_linear = nn.Linear(12 * 7 * 7, 64)  # 64*6 ---> 20\n",
    "\n",
    "        # Decoder layers\n",
    "        self.decoder_linear = nn.Linear(64, 12 * 7 * 7)\n",
    "        self.decoder_conv1 = nn.ConvTranspose2d(\n",
    "            12, 6, kernel_size=3, stride=2, padding=1, output_padding=1\n",
    "        )  # Use stride 2 for upscaling\n",
    "        self.decoder_conv2 = nn.ConvTranspose2d(\n",
    "            6, 1, kernel_size=3, stride=2, padding=1, output_padding=1\n",
    "        )  # Use stride 2 for upscaling\n",
    "\n",
    "    def encoder(self, x):\n",
    "        # Encoder\n",
    "        x = self.encoder_conv1(x)\n",
    "        x = torch.relu(x)\n",
    "        x = self.encoder_conv2(x)\n",
    "        x = torch.relu(x)\n",
    "        x = x.view(-1, 12 * 7 * 7)\n",
    "        x = self.encoder_linear(x)\n",
    "        return x\n",
    "\n",
    "    def decoder(self, x):\n",
    "        # Decoder\n",
    "        x = self.decoder_linear(x)\n",
    "        x = x.view(-1, 12, 7, 7)\n",
    "        x = self.decoder_conv1(x)\n",
    "        x = torch.relu(x)\n",
    "        x = self.decoder_conv2(x)\n",
    "        x = torch.relu(x)\n",
    "        return x\n",
    "\n",
    "    def forward(self, x):\n",
    "        encoded = self.encoder(x)\n",
    "        decoded = self.decoder(encoded)\n",
    "        return decoded"
   ]
  },
  {
   "cell_type": "markdown",
   "metadata": {
    "id": "gP6fZFTlKW2V"
   },
   "source": [
    "### training and validation function"
   ]
  },
  {
   "cell_type": "code",
   "execution_count": 9,
   "metadata": {
    "id": "6a5FD1CZKZ5e"
   },
   "outputs": [],
   "source": [
    "def train_and_evaluate(\n",
    "    autoencoder,\n",
    "    train_loader,\n",
    "    val_loader,\n",
    "    num_epochs=10,\n",
    "    learning_rate=1e-3,\n",
    "    print_epoch=10,\n",
    "    device=\"cuda\" if torch.cuda.is_available() else \"cpu\",\n",
    "):\n",
    "    criterion = nn.MSELoss()\n",
    "    optimizer = optim.Adam(autoencoder.parameters(), lr=learning_rate)\n",
    "\n",
    "    autoencoder.to(device)  # Move model to device\n",
    "\n",
    "    train_losses = []\n",
    "    val_losses = []\n",
    "\n",
    "    for epoch in range(num_epochs):\n",
    "        train_loss = 0.0\n",
    "        val_loss = 0.0\n",
    "\n",
    "        # Training\n",
    "        autoencoder.train()\n",
    "        for images, _ in train_loader:\n",
    "            images = images.to(device)  # Move data to device\n",
    "            optimizer.zero_grad()\n",
    "            outputs = autoencoder(images)\n",
    "            loss = criterion(outputs, images)\n",
    "            loss.backward()\n",
    "            optimizer.step()\n",
    "            train_loss += loss.item()\n",
    "\n",
    "        # Validation\n",
    "        autoencoder.eval()\n",
    "        with torch.no_grad():\n",
    "            for images, _ in val_loader:\n",
    "                images = images.to(device)  # Move data to device\n",
    "                outputs = autoencoder(images)\n",
    "                loss = criterion(outputs, images)\n",
    "                val_loss += loss.item()\n",
    "\n",
    "        # Average losses\n",
    "        train_loss /= len(train_loader)\n",
    "        val_loss /= len(val_loader)\n",
    "\n",
    "        train_losses.append(train_loss)\n",
    "        val_losses.append(val_loss)\n",
    "\n",
    "        # Print losses\n",
    "        if (epoch + 1) % print_epoch == 0:\n",
    "            print(\n",
    "                f\"Epoch [{epoch+1}/{num_epochs}], Train Loss: {train_loss:.9f}, Val Loss: {val_loss:.9f}\"\n",
    "            )\n",
    "\n",
    "    return train_losses, val_losses"
   ]
  },
  {
   "cell_type": "code",
   "execution_count": 10,
   "metadata": {
    "colab": {
     "base_uri": "https://localhost:8080/"
    },
    "id": "mBLhe_Q7UeOF",
    "outputId": "3c976862-0f28-4ebe-f73b-cc0cb9e51c96"
   },
   "outputs": [
    {
     "name": "stdout",
     "output_type": "stream",
     "text": [
      "cuda\n"
     ]
    }
   ],
   "source": [
    "# Specify the device you want to use\n",
    "device = \"cuda\" if torch.cuda.is_available() else \"cpu\"\n",
    "print(device)"
   ]
  },
  {
   "cell_type": "code",
   "execution_count": 11,
   "metadata": {
    "id": "-Jo1h-aTT5jn"
   },
   "outputs": [],
   "source": [
    "def plot_losses(train_losses, val_losses):\n",
    "    plt.figure(figsize=(7, 5))\n",
    "    plt.plot(train_losses, label=\"Train Loss\", color=\"blue\")\n",
    "    plt.plot(val_losses, label=\"Validation Loss\", color=\"red\")\n",
    "    plt.xlabel(\"Epoch\")\n",
    "    plt.ylabel(\"Loss\")\n",
    "    plt.title(\"Training and Validation Losses\")\n",
    "    plt.legend()\n",
    "    plt.grid(True)\n",
    "    plt.show()"
   ]
  },
  {
   "cell_type": "code",
   "execution_count": 12,
   "metadata": {
    "id": "8rE1qGiPTodw"
   },
   "outputs": [],
   "source": [
    "def test_model_ae(\n",
    "    autoencoder, test_loader, device=\"cuda\" if torch.cuda.is_available() else \"cpu\"\n",
    "):\n",
    "    autoencoder.eval()\n",
    "    criterion = nn.MSELoss()\n",
    "\n",
    "    # Get a batch of test images\n",
    "    images, _ = next(iter(test_loader))\n",
    "    images = images.to(device)\n",
    "\n",
    "    # Reconstruct images using the autoencoder\n",
    "    with torch.no_grad():\n",
    "        reconstructed_images = autoencoder(images)\n",
    "\n",
    "    # Move data back to CPU for plotting\n",
    "    images = images.cpu()\n",
    "    reconstructed_images = reconstructed_images.cpu()\n",
    "\n",
    "    # Plot original and reconstructed images\n",
    "    fig, axes = plt.subplots(nrows=2, ncols=8, figsize=(16, 4))\n",
    "    for i in range(8):\n",
    "        axes[0, i].imshow(images[i].squeeze(), cmap=\"gray\")\n",
    "        axes[0, i].set_title(\"Original\")\n",
    "        axes[0, i].axis(\"off\")\n",
    "        axes[1, i].imshow(reconstructed_images[i].squeeze(), cmap=\"gray\")\n",
    "        axes[1, i].set_title(\"Reconstructed\")\n",
    "        axes[1, i].axis(\"off\")\n",
    "    plt.show()"
   ]
  },
  {
   "cell_type": "markdown",
   "metadata": {
    "id": "Hl4We3jML4qg"
   },
   "source": [
    "Training and Testing AE model"
   ]
  },
  {
   "cell_type": "code",
   "execution_count": 30,
   "metadata": {
    "colab": {
     "base_uri": "https://localhost:8080/"
    },
    "id": "9ZYejBDvarPw",
    "outputId": "8afa0e65-6bcf-47a8-ca12-1c6a23cc38f7"
   },
   "outputs": [
    {
     "name": "stdout",
     "output_type": "stream",
     "text": [
      "Epoch [10/100], Train Loss: 0.180814215, Val Loss: 0.181147929\n",
      "Epoch [20/100], Train Loss: 0.177650685, Val Loss: 0.178133720\n",
      "Epoch [30/100], Train Loss: 0.175105075, Val Loss: 0.175803601\n",
      "Epoch [40/100], Train Loss: 0.174094217, Val Loss: 0.174809910\n",
      "Epoch [50/100], Train Loss: 0.173504880, Val Loss: 0.174537201\n",
      "Epoch [60/100], Train Loss: 0.173133500, Val Loss: 0.174122501\n",
      "Epoch [70/100], Train Loss: 0.172812503, Val Loss: 0.173686938\n",
      "Epoch [80/100], Train Loss: 0.172576072, Val Loss: 0.174163824\n",
      "Epoch [90/100], Train Loss: 0.172366055, Val Loss: 0.173418772\n",
      "Epoch [100/100], Train Loss: 0.172135744, Val Loss: 0.173105491\n"
     ]
    }
   ],
   "source": [
    "# instantiate the model\n",
    "autoencoder_2 = Autoencoder_simpler()\n",
    "\n",
    "# train\n",
    "train_losses, val_losses = train_and_evaluate(\n",
    "    autoencoder_2, train_loader, val_loader, num_epochs=100, print_epoch=10\n",
    ")"
   ]
  },
  {
   "cell_type": "code",
   "execution_count": 31,
   "metadata": {
    "colab": {
     "base_uri": "https://localhost:8080/",
     "height": 487
    },
    "id": "obvJd5ZCLqle",
    "outputId": "d3572fe0-aeb9-47f6-9219-38491c118c89"
   },
   "outputs": [
    {
     "data": {
      "image/png": "[encoded data removed]",
      "text/plain": [
       "<Figure size 700x500 with 1 Axes>"
      ]
     },
     "metadata": {},
     "output_type": "display_data"
    }
   ],
   "source": [
    "# Usage example:\n",
    "plot_losses(train_losses, val_losses)"
   ]
  },
  {
   "cell_type": "code",
   "execution_count": 32,
   "metadata": {
    "colab": {
     "base_uri": "https://localhost:8080/",
     "height": 283
    },
    "id": "hE8xOr-ya7k7",
    "outputId": "e0877532-19b3-445f-8c89-d4db3793409e"
   },
   "outputs": [
    {
     "data": {
      "image/png": "[encoded data removed]",
      "text/plain": [
       "<Figure size 1600x400 with 16 Axes>"
      ]
     },
     "metadata": {},
     "output_type": "display_data"
    }
   ],
   "source": [
    "test_model_ae(autoencoder_2, test_loader)"
   ]
  },
  {
   "cell_type": "code",
   "execution_count": 33,
   "metadata": {
    "colab": {
     "base_uri": "https://localhost:8080/",
     "height": 17
    },
    "id": "R0_7BZVSbuW3",
    "outputId": "56a0d7ca-3001-4232-b96c-9f8a1b8dad57"
   },
   "outputs": [
    {
     "data": {
      "application/javascript": "\n    async function download(id, filename, size) {\n      if (!google.colab.kernel.accessAllowed) {\n        return;\n      }\n      const div = document.createElement('div');\n      const label = document.createElement('label');\n      label.textContent = `Downloading \"${filename}\": `;\n      div.appendChild(label);\n      const progress = document.createElement('progress');\n      progress.max = size;\n      div.appendChild(progress);\n      document.body.appendChild(div);\n\n      const buffers = [];\n      let downloaded = 0;\n\n      const channel = await google.colab.kernel.comms.open(id);\n      // Send a message to notify the kernel that we're ready.\n      channel.send({})\n\n      for await (const message of channel.messages) {\n        // Send a message to notify the kernel that we're ready.\n        channel.send({})\n        if (message.buffers) {\n          for (const buffer of message.buffers) {\n            buffers.push(buffer);\n            downloaded += buffer.byteLength;\n            progress.value = downloaded;\n          }\n        }\n      }\n      const blob = new Blob(buffers, {type: 'application/binary'});\n      const a = document.createElement('a');\n      a.href = window.URL.createObjectURL(blob);\n      a.download = filename;\n      div.appendChild(a);\n      a.click();\n      div.remove();\n    }\n  ",
      "text/plain": [
       "<IPython.core.display.Javascript object>"
      ]
     },
     "metadata": {},
     "output_type": "display_data"
    },
    {
     "data": {
      "application/javascript": "download(\"download_27968631-5e33-4d11-9f49-809325f8e824\", \"ae_100.pth\", 313442)",
      "text/plain": [
       "<IPython.core.display.Javascript object>"
      ]
     },
     "metadata": {},
     "output_type": "display_data"
    }
   ],
   "source": [
    "# Specify the file path\n",
    "save_path = \"ae_100.pth\"\n",
    "\n",
    "# Save the model\n",
    "torch.save(autoencoder_2.state_dict(), save_path)\n",
    "\n",
    "# Download the model\n",
    "from google.colab import files\n",
    "\n",
    "files.download(save_path)"
   ]
  },
  {
   "cell_type": "markdown",
   "metadata": {
    "id": "slH1e7ocg6xQ"
   },
   "source": [
    "### Tasks to do:\n",
    "\n",
    "1. FOR SIMPLE MNIST DATASET\n",
    "    \n",
    "    ~1.a. try a few more autoencoder models and find out even more good/simple model.~\n",
    "\n",
    "    ~1.b. Implement the VAE.~\n",
    "\n",
    "2. FOR COLOURED MNIST DATASET\n",
    "\n",
    "    2.a. Implement the autoencoder.\n",
    "  \n",
    "    2.b. Implement hte VAE"
   ]
  },
  {
   "cell_type": "markdown",
   "metadata": {
    "id": "K095_sjNJHMC"
   },
   "source": [
    "### Variational Autoencoder:"
   ]
  },
  {
   "cell_type": "markdown",
   "metadata": {
    "id": "94NV9asM6hlH"
   },
   "source": [
    "let's try different implementation:\n",
    "\n",
    "\n",
    "* ref: https://github.com/ludovicobuizza/gan_vae/blob/main/utils.py\n",
    "\n",
    "* author's medium article: https://ludovico-buizza.medium.com/generating-things-with-vaes-882c6e3b688d"
   ]
  },
  {
   "cell_type": "code",
   "execution_count": 16,
   "metadata": {
    "id": "iasPFaWc6L9n"
   },
   "outputs": [],
   "source": [
    "### new vae MODEL\n",
    "## SOME UTILS\n",
    "import torch.nn as nn\n",
    "\n",
    "\n",
    "def make_module(conv_layer, hyper_params, activation=nn.ReLU):\n",
    "    modules = []\n",
    "    in_channels = hyper_params[\"in_channels\"]\n",
    "    for i in range(len(hyper_params[\"hidden_channels\"])):\n",
    "        module = nn.Sequential(\n",
    "            conv_layer(\n",
    "                in_channels=in_channels,\n",
    "                out_channels=hyper_params[\"hidden_channels\"][i],\n",
    "                kernel_size=hyper_params[\"kernels\"][i],\n",
    "                stride=hyper_params[\"strides\"][i],\n",
    "                padding=hyper_params[\"paddings\"][i],\n",
    "            ),\n",
    "            nn.BatchNorm2d(num_features=hyper_params[\"hidden_channels\"][i]),\n",
    "            activation(),\n",
    "        )\n",
    "        in_channels = hyper_params[\"hidden_channels\"][i]\n",
    "        modules.append(module)\n",
    "    return nn.Sequential(*modules)\n",
    "\n",
    "\n",
    "def make_final_decoder_layer(decoder_hyper_params):\n",
    "    final_layer = nn.Sequential(\n",
    "        nn.ConvTranspose2d(\n",
    "            in_channels=decoder_hyper_params[\"hidden_channels\"][-1],\n",
    "            out_channels=decoder_hyper_params[\"out_channels\"],\n",
    "            kernel_size=decoder_hyper_params[\"final_kernel\"],\n",
    "            stride=decoder_hyper_params[\"final_stride\"],\n",
    "            padding=decoder_hyper_params[\"final_padding\"],\n",
    "            output_padding=decoder_hyper_params[\"final_output_padding\"],\n",
    "        ),\n",
    "        nn.BatchNorm2d(num_features=decoder_hyper_params[\"out_channels\"]),\n",
    "        nn.LeakyReLU(),\n",
    "        nn.Conv2d(\n",
    "            in_channels=decoder_hyper_params[\"out_channels\"],\n",
    "            out_channels=decoder_hyper_params[\"out_channels\"],\n",
    "            kernel_size=1,\n",
    "            stride=1,\n",
    "            padding=0,\n",
    "        ),\n",
    "        # nn.Sigmoid(),\n",
    "    )\n",
    "    return final_layer"
   ]
  },
  {
   "cell_type": "code",
   "execution_count": 17,
   "metadata": {
    "id": "zOO7SF_I6grD"
   },
   "outputs": [],
   "source": [
    "class VAE_NEW(nn.Module):\n",
    "    def __init__(self, encoder_hyper_params, decoder_hyper_params):\n",
    "        super(VAE_NEW, self).__init__()\n",
    "        self.latent_dim = encoder_hyper_params[\"latent_dims\"]\n",
    "        self.encoder_hyper_params = encoder_hyper_params\n",
    "        self.decoder_hyper_params = decoder_hyper_params\n",
    "\n",
    "        self.encoder = make_module(\n",
    "            conv_layer=nn.Conv2d,\n",
    "            hyper_params=encoder_hyper_params,\n",
    "            activation=nn.LeakyReLU,\n",
    "        )\n",
    "        self.fc_mu = nn.Linear(encoder_hyper_params[\"fc_neurons\"], self.latent_dim)\n",
    "        self.fc_var = nn.Linear(encoder_hyper_params[\"fc_neurons\"], self.latent_dim)\n",
    "\n",
    "        last_dim = encoder_hyper_params[\"hidden_channels\"][-1]\n",
    "        self.decoder_input = nn.Linear(self.latent_dim, last_dim * 4)\n",
    "        self.decoder = make_module(\n",
    "            conv_layer=nn.ConvTranspose2d,\n",
    "            hyper_params=decoder_hyper_params,\n",
    "            activation=nn.LeakyReLU,\n",
    "        )\n",
    "        self.final_layer = make_final_decoder_layer(decoder_hyper_params)\n",
    "\n",
    "    def encode(self, x):\n",
    "        result = self.encoder(x)\n",
    "        result = torch.flatten(result, start_dim=1)\n",
    "        mu = self.fc_mu(result)\n",
    "        log_var = self.fc_var(result)\n",
    "        return mu, log_var\n",
    "\n",
    "    def reparametrize(self, mu, logvar):\n",
    "        std = torch.exp(0.5 * logvar)\n",
    "        eps = torch.randn_like(std)\n",
    "        return eps * std + mu\n",
    "\n",
    "    def decode(self, z):\n",
    "        result = self.decoder_input(z)\n",
    "        result = result.view(-1, int(result.shape[1] / 4), 2, 2)\n",
    "        result = self.decoder(result)\n",
    "        result = self.final_layer(result)\n",
    "        return result\n",
    "\n",
    "    def forward(self, x):\n",
    "        mu, log_var = self.encode(x)\n",
    "        z = self.reparametrize(mu, log_var)\n",
    "        return self.decode(z), mu, log_var\n",
    "\n",
    "    def generate(self, z):\n",
    "        # Decoder for generating samples\n",
    "        return self.decode(z)\n",
    "\n",
    "    def kl_loss(self, mu, logvar):\n",
    "        # KL divergence loss\n",
    "        kl_loss = -0.5 * torch.sum(1 + logvar - mu.pow(2) - logvar.exp())\n",
    "        return kl_loss"
   ]
  },
  {
   "cell_type": "code",
   "execution_count": 18,
   "metadata": {
    "colab": {
     "base_uri": "https://localhost:8080/"
    },
    "id": "mn8v52J_7iCb",
    "outputId": "44338ff3-4879-467e-ddaa-f4bcf0aa5eaa"
   },
   "outputs": [
    {
     "name": "stdout",
     "output_type": "stream",
     "text": [
      "Number of trainable parameters: 71807\n"
     ]
    }
   ],
   "source": [
    "###number of parameters:\n",
    "def count_parameters(model):\n",
    "    return sum(p.numel() for p in model.parameters() if p.requires_grad)\n",
    "\n",
    "\n",
    "## hyperparameters for the encoder and decoder\n",
    "latent_dims = 12\n",
    "encoder_hyper_params = {\n",
    "    \"latent_dims\": latent_dims,\n",
    "    \"hidden_channels\": [24, 24, 24, 24],\n",
    "    \"kernels\": [3, 3, 3, 3],\n",
    "    \"strides\": [1, 2, 2, 1],\n",
    "    \"paddings\": [1, 1, 1, 1],\n",
    "    \"in_channels\": 1,\n",
    "    \"fc_neurons\": 24 * 49,\n",
    "}\n",
    "\n",
    "decoder_hyper_params = {\n",
    "    \"in_channels\": 24,\n",
    "    \"hidden_channels\": [24, 24, 24, 6],\n",
    "    \"kernels\": [3, 4, 4, 4],\n",
    "    \"strides\": [1, 2, 2, 1],\n",
    "    \"paddings\": [0, 0, 0, 0],\n",
    "    \"out_channels\": 1,\n",
    "    \"final_kernel\": 4,\n",
    "    \"final_stride\": 1,\n",
    "    \"final_padding\": 0,\n",
    "    \"final_output_padding\": 0,\n",
    "}\n",
    "\n",
    "# Create an instance of VAE_NEW\n",
    "model = VAE_NEW(\n",
    "    encoder_hyper_params=encoder_hyper_params, decoder_hyper_params=decoder_hyper_params\n",
    ")\n",
    "\n",
    "# Count the number of trainable parameters\n",
    "num_params = count_parameters(model)\n",
    "print(\"Number of trainable parameters:\", num_params)"
   ]
  },
  {
   "cell_type": "code",
   "execution_count": 19,
   "metadata": {
    "id": "p6ns_vlW919K"
   },
   "outputs": [],
   "source": [
    "def train_and_evaluate_vae(\n",
    "    vae,\n",
    "    train_loader,\n",
    "    val_loader,\n",
    "    num_epochs=10,\n",
    "    learning_rate=1e-3,\n",
    "    print_epoch=10,\n",
    "    wt_kl=0.0001,\n",
    "    device=\"cuda\" if torch.cuda.is_available() else \"cpu\",\n",
    "):\n",
    "\n",
    "    criterion = nn.MSELoss()\n",
    "    optimizer = optim.Adam(vae.parameters(), lr=learning_rate, weight_decay=1e-5)\n",
    "\n",
    "    vae.to(device)  # Move model to device\n",
    "\n",
    "    train_losses = []\n",
    "    val_losses = []\n",
    "\n",
    "    for epoch in range(num_epochs):\n",
    "        train_loss = 0.0\n",
    "        val_loss = 0.0\n",
    "\n",
    "        # Training\n",
    "        vae.train()\n",
    "        with tqdm(\n",
    "            total=len(train_loader),\n",
    "            desc=f\"Epoch {epoch + 1}/{num_epochs}\",\n",
    "            unit=\"batch\",\n",
    "            leave=False,\n",
    "        ) as pbar:\n",
    "            for images, _ in train_loader:\n",
    "                images = images.to(device)  # Move data to device\n",
    "                optimizer.zero_grad()\n",
    "                recon_images, mu, logvar = vae(images)\n",
    "                recon_loss = criterion(recon_images, images)\n",
    "                kl_loss = vae.kl_loss(mu, logvar)\n",
    "                loss = recon_loss + wt_kl * kl_loss\n",
    "                loss.backward()\n",
    "                optimizer.step()\n",
    "                train_loss += loss.item()\n",
    "                pbar.update(1)\n",
    "\n",
    "        # Validation\n",
    "        vae.eval()\n",
    "        with torch.no_grad():\n",
    "            for images, _ in val_loader:\n",
    "                images = images.to(device)  # Move data to device\n",
    "                recon_images, mu, logvar = vae(images)\n",
    "                recon_loss = criterion(recon_images, images)\n",
    "                kl_loss = vae.kl_loss(mu, logvar)\n",
    "                loss = recon_loss + wt_kl * kl_loss\n",
    "                val_loss += loss.item()\n",
    "\n",
    "        # Average losses\n",
    "        train_loss /= len(train_loader.dataset)\n",
    "        val_loss /= len(val_loader.dataset)\n",
    "\n",
    "        train_losses.append(train_loss)\n",
    "        val_losses.append(val_loss)\n",
    "\n",
    "        # Print losses\n",
    "        if (epoch + 1) % print_epoch == 0:\n",
    "            print(\n",
    "                f\"Epoch [{epoch+1}/{num_epochs}], Train Loss: {train_loss:.9f}, Val Loss: {val_loss:.9f}\"\n",
    "            )\n",
    "\n",
    "    return train_losses, val_losses"
   ]
  },
  {
   "cell_type": "code",
   "execution_count": 20,
   "metadata": {
    "id": "VgdMOL6yQU91"
   },
   "outputs": [],
   "source": [
    "def test_model_vae(\n",
    "    vae, test_loader, device=\"cuda\" if torch.cuda.is_available() else \"cpu\"\n",
    "):\n",
    "    vae.eval()\n",
    "    criterion = nn.MSELoss(reduction=\"sum\")\n",
    "\n",
    "    # Get a batch of test images\n",
    "    images, _ = next(iter(test_loader))\n",
    "    images = images.to(device)\n",
    "\n",
    "    # Reconstruct images using the VAE\n",
    "    with torch.no_grad():\n",
    "        reconstructed_images, _, _ = vae(images)\n",
    "\n",
    "    # Move data back to CPU for plotting\n",
    "    images = images.cpu()\n",
    "    reconstructed_images = reconstructed_images.cpu()\n",
    "\n",
    "    # Plot original and reconstructed images\n",
    "    fig, axes = plt.subplots(nrows=2, ncols=8, figsize=(16, 4))\n",
    "    for i in range(8):\n",
    "        axes[0, i].imshow(images[i].squeeze(), cmap=\"gray\")\n",
    "        axes[0, i].set_title(\"Original\")\n",
    "        axes[0, i].axis(\"off\")\n",
    "        axes[1, i].imshow(reconstructed_images[i].squeeze(), cmap=\"gray\")\n",
    "        axes[1, i].set_title(\"Reconstructed\")\n",
    "        axes[1, i].axis(\"off\")\n",
    "    plt.show()"
   ]
  },
  {
   "cell_type": "code",
   "execution_count": 21,
   "metadata": {
    "id": "tzd9KH99Mf7L"
   },
   "outputs": [],
   "source": [
    "def plot_generated_images_vae(\n",
    "    vae, num_samples=10, device=\"cuda\" if torch.cuda.is_available() else \"cpu\"\n",
    "):\n",
    "    vae.eval()  # Set model to evaluation mode\n",
    "    with torch.no_grad():\n",
    "        # # Generate samples from the latent space\n",
    "        z = torch.randn(num_samples, vae.latent_dim).to(device)\n",
    "        generated_images = vae.generate(z).cpu()\n",
    "\n",
    "        # Plot generated images\n",
    "        fig, axes = plt.subplots(1, num_samples, figsize=(15, 3))\n",
    "        for i in range(num_samples):\n",
    "            axes[i].imshow(generated_images[i][0], cmap=\"gray\")\n",
    "            axes[i].axis(\"off\")\n",
    "        plt.show()"
   ]
  },
  {
   "cell_type": "markdown",
   "metadata": {
    "id": "qmt8gY2kMCh8"
   },
   "source": [
    "Train and Test VAE model"
   ]
  },
  {
   "cell_type": "code",
   "execution_count": 22,
   "metadata": {
    "id": "CS0DwbA_8xUP"
   },
   "outputs": [],
   "source": [
    "## hyperparameters for the encoder and decoder\n",
    "latent_dims = 12\n",
    "encoder_hyper_params = {\n",
    "    \"latent_dims\": latent_dims,\n",
    "    \"hidden_channels\": [24, 24, 24, 24],\n",
    "    \"kernels\": [3, 3, 3, 3],\n",
    "    \"strides\": [1, 2, 2, 1],\n",
    "    \"paddings\": [1, 1, 1, 1],\n",
    "    \"in_channels\": 1,\n",
    "    \"fc_neurons\": 24 * 49,  # 24*7*7\n",
    "}\n",
    "\n",
    "decoder_hyper_params = {\n",
    "    \"in_channels\": 24,\n",
    "    \"hidden_channels\": [24, 24, 24, 6],\n",
    "    \"kernels\": [3, 4, 4, 4],\n",
    "    \"strides\": [1, 2, 2, 1],\n",
    "    \"paddings\": [0, 0, 0, 0],\n",
    "    \"out_channels\": 1,\n",
    "    \"final_kernel\": 4,\n",
    "    \"final_stride\": 1,\n",
    "    \"final_padding\": 0,\n",
    "    \"final_output_padding\": 0,\n",
    "}\n",
    "\n",
    "# Create an instance of VAE_NEW\n",
    "vae_new = VAE_NEW(\n",
    "    encoder_hyper_params=encoder_hyper_params, decoder_hyper_params=decoder_hyper_params\n",
    ")"
   ]
  },
  {
   "cell_type": "code",
   "execution_count": 23,
   "metadata": {
    "id": "cu7qfyKd9GeY"
   },
   "outputs": [],
   "source": [
    "# print(vae_new)"
   ]
  },
  {
   "cell_type": "code",
   "execution_count": 34,
   "metadata": {
    "colab": {
     "base_uri": "https://localhost:8080/"
    },
    "id": "EH6SyJD_85u5",
    "outputId": "b6099e61-a0c2-4a24-d64b-f8f3f4ecb1ac"
   },
   "outputs": [
    {
     "name": "stderr",
     "output_type": "stream",
     "text": []
    },
    {
     "name": "stdout",
     "output_type": "stream",
     "text": [
      "Epoch [10/100], Train Loss: 0.003206064, Val Loss: 0.003246686\n"
     ]
    },
    {
     "name": "stderr",
     "output_type": "stream",
     "text": []
    },
    {
     "name": "stdout",
     "output_type": "stream",
     "text": [
      "Epoch [20/100], Train Loss: 0.003196584, Val Loss: 0.003216779\n"
     ]
    },
    {
     "name": "stderr",
     "output_type": "stream",
     "text": []
    },
    {
     "name": "stdout",
     "output_type": "stream",
     "text": [
      "Epoch [30/100], Train Loss: 0.003184956, Val Loss: 0.003239115\n"
     ]
    },
    {
     "name": "stderr",
     "output_type": "stream",
     "text": []
    },
    {
     "name": "stdout",
     "output_type": "stream",
     "text": [
      "Epoch [40/100], Train Loss: 0.003178749, Val Loss: 0.003205386\n"
     ]
    },
    {
     "name": "stderr",
     "output_type": "stream",
     "text": []
    },
    {
     "name": "stdout",
     "output_type": "stream",
     "text": [
      "Epoch [50/100], Train Loss: 0.003170168, Val Loss: 0.003200192\n"
     ]
    },
    {
     "name": "stderr",
     "output_type": "stream",
     "text": []
    },
    {
     "name": "stdout",
     "output_type": "stream",
     "text": [
      "Epoch [60/100], Train Loss: 0.003161290, Val Loss: 0.003178718\n"
     ]
    },
    {
     "name": "stderr",
     "output_type": "stream",
     "text": []
    },
    {
     "name": "stdout",
     "output_type": "stream",
     "text": [
      "Epoch [70/100], Train Loss: 0.003161060, Val Loss: 0.003189776\n"
     ]
    },
    {
     "name": "stderr",
     "output_type": "stream",
     "text": []
    },
    {
     "name": "stdout",
     "output_type": "stream",
     "text": [
      "Epoch [80/100], Train Loss: 0.003156281, Val Loss: 0.003183582\n"
     ]
    },
    {
     "name": "stderr",
     "output_type": "stream",
     "text": []
    },
    {
     "name": "stdout",
     "output_type": "stream",
     "text": [
      "Epoch [90/100], Train Loss: 0.003149618, Val Loss: 0.003192461\n"
     ]
    },
    {
     "name": "stderr",
     "output_type": "stream",
     "text": []
    },
    {
     "name": "stdout",
     "output_type": "stream",
     "text": [
      "Epoch [100/100], Train Loss: 0.003146721, Val Loss: 0.003174280\n"
     ]
    }
   ],
   "source": [
    "### train the model\n",
    "train_losses_vae, val_losses_vae = train_and_evaluate_vae(\n",
    "    vae_new,\n",
    "    train_loader,\n",
    "    val_loader,\n",
    "    learning_rate=1e-3,\n",
    "    num_epochs=100,\n",
    "    print_epoch=10,\n",
    ")"
   ]
  },
  {
   "cell_type": "code",
   "execution_count": 35,
   "metadata": {
    "colab": {
     "base_uri": "https://localhost:8080/",
     "height": 487
    },
    "id": "uhHspVtIMGeb",
    "outputId": "33e3b055-ab5a-4647-cc50-1ddf1d2b5182"
   },
   "outputs": [
    {
     "data": {
      "image/png": "[encoded data removed]",
      "text/plain": [
       "<Figure size 700x500 with 1 Axes>"
      ]
     },
     "metadata": {},
     "output_type": "display_data"
    }
   ],
   "source": [
    "plot_losses(train_losses_vae[:], val_losses_vae[:])"
   ]
  },
  {
   "cell_type": "markdown",
   "metadata": {
    "id": "Wl5zuDq6QhqT"
   },
   "source": [
    "reconstruction using VAE"
   ]
  },
  {
   "cell_type": "code",
   "execution_count": 36,
   "metadata": {
    "colab": {
     "base_uri": "https://localhost:8080/",
     "height": 300
    },
    "id": "5gmtEqZo_l78",
    "outputId": "a590293e-0e1b-4601-dd53-8a173d598338"
   },
   "outputs": [
    {
     "name": "stdout",
     "output_type": "stream",
     "text": [
      "with CNN based VAE_NEW\n"
     ]
    },
    {
     "data": {
      "image/png": "[encoded data removed]",
      "text/plain": [
       "<Figure size 1600x400 with 16 Axes>"
      ]
     },
     "metadata": {},
     "output_type": "display_data"
    }
   ],
   "source": [
    "print(\"with CNN based VAE_NEW\")\n",
    "test_model_vae(vae_new, test_loader)"
   ]
  },
  {
   "cell_type": "markdown",
   "metadata": {
    "id": "c2TnLIInQpp6"
   },
   "source": [
    "generating images using VAE"
   ]
  },
  {
   "cell_type": "code",
   "execution_count": 38,
   "metadata": {
    "colab": {
     "base_uri": "https://localhost:8080/",
     "height": 132
    },
    "id": "-Ebrszpk_v3M",
    "outputId": "fd5ae01d-f25b-4d02-e305-718f8f886690"
   },
   "outputs": [
    {
     "name": "stdout",
     "output_type": "stream",
     "text": [
      "VAE-new\n"
     ]
    },
    {
     "data": {
      "image/png": "[encoded data removed]",
      "text/plain": [
       "<Figure size 1500x300 with 10 Axes>"
      ]
     },
     "metadata": {},
     "output_type": "display_data"
    }
   ],
   "source": [
    "print(\"VAE-new\")\n",
    "plot_generated_images_vae(vae_new)"
   ]
  },
  {
   "cell_type": "code",
   "execution_count": 39,
   "metadata": {
    "colab": {
     "base_uri": "https://localhost:8080/",
     "height": 17
    },
    "id": "sbnOIx9abSCp",
    "outputId": "aa1a56f5-6739-4b76-c118-7a8b93e9a92e"
   },
   "outputs": [
    {
     "data": {
      "application/javascript": "\n    async function download(id, filename, size) {\n      if (!google.colab.kernel.accessAllowed) {\n        return;\n      }\n      const div = document.createElement('div');\n      const label = document.createElement('label');\n      label.textContent = `Downloading \"${filename}\": `;\n      div.appendChild(label);\n      const progress = document.createElement('progress');\n      progress.max = size;\n      div.appendChild(progress);\n      document.body.appendChild(div);\n\n      const buffers = [];\n      let downloaded = 0;\n\n      const channel = await google.colab.kernel.comms.open(id);\n      // Send a message to notify the kernel that we're ready.\n      channel.send({})\n\n      for await (const message of channel.messages) {\n        // Send a message to notify the kernel that we're ready.\n        channel.send({})\n        if (message.buffers) {\n          for (const buffer of message.buffers) {\n            buffers.push(buffer);\n            downloaded += buffer.byteLength;\n            progress.value = downloaded;\n          }\n        }\n      }\n      const blob = new Blob(buffers, {type: 'application/binary'});\n      const a = document.createElement('a');\n      a.href = window.URL.createObjectURL(blob);\n      a.download = filename;\n      div.appendChild(a);\n      a.click();\n      div.remove();\n    }\n  ",
      "text/plain": [
       "<IPython.core.display.Javascript object>"
      ]
     },
     "metadata": {},
     "output_type": "display_data"
    },
    {
     "data": {
      "application/javascript": "download(\"download_7eabb649-929a-4fd9-ae16-7a03d93800cf\", \"vae_100.pth\", 310593)",
      "text/plain": [
       "<IPython.core.display.Javascript object>"
      ]
     },
     "metadata": {},
     "output_type": "display_data"
    }
   ],
   "source": [
    "# Specify the file path\n",
    "save_path = \"vae_100.pth\"\n",
    "\n",
    "# Save the model\n",
    "torch.save(vae_new.state_dict(), save_path)\n",
    "\n",
    "# Download the model\n",
    "from google.colab import files\n",
    "\n",
    "files.download(save_path)"
   ]
  },
  {
   "cell_type": "markdown",
   "metadata": {
    "id": "ShOLOXBFHmRy"
   },
   "source": [
    "# checking something. Everything below is just for debugging , nothing special\n",
    "\n"
   ]
  },
  {
   "cell_type": "code",
   "execution_count": null,
   "metadata": {
    "id": "lKx40PE_GU50"
   },
   "outputs": [],
   "source": [
    "# import torch\n",
    "# import torch.nn as nn\n",
    "# from torchvision.datasets import MNIST\n",
    "# from torch.utils.data import DataLoader\n",
    "# import torchvision.transforms as transforms\n",
    "\n",
    "# class Autoencoder(nn.Module):\n",
    "#     def __init__(self):\n",
    "#         super(Autoencoder, self).__init__()\n",
    "\n",
    "#         # Encoder layers\n",
    "#         self.encoder_conv1 = nn.Conv2d(1, 6, kernel_size=3, stride=1, padding=1)\n",
    "#         self.encoder_maxpool1 = nn.MaxPool2d(kernel_size=2, stride=2, padding=0)\n",
    "#         self.encoder_conv2 = nn.Conv2d(6, 12, kernel_size=3, stride=1, padding=1)\n",
    "#         self.encoder_maxpool2 = nn.MaxPool2d(kernel_size=2, stride=2, padding=0)\n",
    "#         self.encoder_linear = nn.Linear(32 * 7 * 7, 64)\n",
    "\n",
    "#         # Decoder layers\n",
    "#         self.decoder_linear = nn.Linear(64, 32 * 7 * 7)\n",
    "#         self.decoder_conv1 = nn.ConvTranspose2d(32, 16, kernel_size=3, stride=1, padding=1)\n",
    "#         self.decoder_upsample1 = nn.Upsample(scale_factor=2, mode='nearest')\n",
    "#         self.decoder_conv2 = nn.ConvTranspose2d(16, 1, kernel_size=3, stride=1, padding=1)\n",
    "#         self.decoder_upsample2 = nn.Upsample(scale_factor=2, mode='nearest')\n",
    "#         self.decoder_sigmoid = nn.Sigmoid()\n",
    "\n",
    "#     def forward(self, x):\n",
    "#         # Encoder\n",
    "#         print(\"image shape at the beginning:\", x.shape)\n",
    "#         x = self.encoder_conv1(x)\n",
    "#         print(\"Shape after encoder_conv1:\", x.shape)\n",
    "#         x = self.encoder_maxpool1(x)\n",
    "#         print(\"Shape after encoder_maxpool1:\", x.shape)\n",
    "#         x = self.encoder_conv2(x)\n",
    "#         print(\"Shape after encoder_conv2:\", x.shape)\n",
    "#         x = self.encoder_maxpool2(x)\n",
    "#         print(\"Shape after encoder_maxpool2:\", x.shape)\n",
    "#         x = x.view(-1, 32 * 7 * 7)\n",
    "#         print(\"Shape after flattening:\", x.shape)\n",
    "#         x = self.encoder_linear(x)\n",
    "#         print(\"Shape after encoder_linear:\", x.shape)\n",
    "\n",
    "#         print(\"encoder finished now decoder\")\n",
    "\n",
    "#         # Decoder\n",
    "#         x = self.decoder_linear(x)\n",
    "#         print(\"Shape after decoder_linear:\", x.shape)\n",
    "#         x = x.view(-1, 32, 7, 7)\n",
    "#         print(\"Shape after reshaping:\", x.shape)\n",
    "#         x = self.decoder_conv1(x)\n",
    "#         print(\"Shape after decoder_conv1:\", x.shape)\n",
    "#         x = self.decoder_upsample1(x)\n",
    "#         print(\"Shape after decoder_upsample1:\", x.shape)\n",
    "#         x = self.decoder_conv2(x)\n",
    "#         print(\"Shape after decoder_conv2:\", x.shape)\n",
    "#         x = self.decoder_upsample2(x)\n",
    "#         print(\"Shape after decoder_upsample2:\", x.shape)\n",
    "\n",
    "#         return x\n",
    "\n",
    "# # Load MNIST dataset\n",
    "# transform = transforms.Compose([transforms.ToTensor(), transforms.Normalize((0.1307,), (0.3081,))])\n",
    "# train_dataset = MNIST(root='./data', train=True, transform=transform, download=True)\n",
    "# train_loader = DataLoader(train_dataset, batch_size=64, shuffle=True)\n",
    "\n",
    "# # Create an instance of the autoencoder\n",
    "# autoencoder = Autoencoder()\n",
    "\n",
    "# # Take one image from the dataset\n",
    "# x, _ = next(iter(train_loader))\n",
    "# image = x[0].unsqueeze(0)  # Take the first image from the batch and add a batch dimension\n",
    "\n",
    "# # Forward pass through the autoencoder with the image\n",
    "# output = autoencoder(image)"
   ]
  },
  {
   "cell_type": "code",
   "execution_count": null,
   "metadata": {
    "id": "EJTyLG-Pzb_6"
   },
   "outputs": [],
   "source": [
    "# class VAE_SIMPLE(nn.Module):\n",
    "#     def __init__(self, latent_dim=128):\n",
    "#         super(VAE_SIMPLE, self).__init__()\n",
    "\n",
    "#         self.latent_dim= latent_dim #Define latent_dim as an attribute of the class\n",
    "#         print(\"latent dim:\", latent_dim)\n",
    "\n",
    "#         # Encoder layers\n",
    "#         self.encoder_conv1 = nn.Conv2d(1, 6, kernel_size=4, stride=2, padding=1)\n",
    "#         self.encoder_conv2 = nn.Conv2d(6, 12, kernel_size=4, stride=2, padding=1)\n",
    "#         self.encoder_linear_mean = nn.Linear(12 * 7 * 7, latent_dim)  # Mean\n",
    "#         self.encoder_linear_logvar = nn.Linear(12 * 7 * 7, latent_dim)  # Log variance\n",
    "\n",
    "#         # Decoder layers\n",
    "#         self.decoder_linear = nn.Linear(latent_dim, 12 * 7 * 7)  # Must match the output shape of the encoder_linear layers\n",
    "#         self.decoder_conv1 = nn.ConvTranspose2d(12, 6, kernel_size=4,\n",
    "#                                                 stride=2, padding=1, output_padding=0)  # Must match the output shape of encoder_conv2\n",
    "#         self.decoder_conv2 = nn.ConvTranspose2d(6, 1, kernel_size=4,\n",
    "#                                                 stride=2, padding=1, output_padding=0)  # Must match the output shape of encoder_conv1\n",
    "\n",
    "\n",
    "#     def reparameterize(self, mu, logvar):\n",
    "#         std = torch.exp(0.5 * logvar)\n",
    "#         eps = torch.randn_like(std)\n",
    "#         return mu + eps * std\n",
    "\n",
    "#     def forward(self, x):\n",
    "#         # Encoder\n",
    "#         x = self.encoder_conv1(x)\n",
    "#         print(\"After encoder_conv1:\", x.shape)\n",
    "#         x = torch.relu(x)\n",
    "#         print(\"After ReLU:\", x.shape)\n",
    "#         x = self.encoder_conv2(x)\n",
    "#         print(\"After encoder_conv2:\", x.shape)\n",
    "#         x = torch.relu(x)\n",
    "#         print(\"After ReLU:\", x.shape)\n",
    "#         x = x.view(-1, 12 * 7 * 7)\n",
    "#         print(\"After flattening:\", x.shape)\n",
    "#         mu = self.encoder_linear_mean(x)\n",
    "#         print(\"Mean shape:\", mu.shape)\n",
    "#         logvar = self.encoder_linear_logvar(x)\n",
    "#         print(\"Logvar shape:\", logvar.shape)\n",
    "#         z = self.reparameterize(mu, logvar)\n",
    "\n",
    "#         # Decoder\n",
    "#         x = self.decoder_linear(z)\n",
    "#         print(\"After decoder_linear:\", x.shape)\n",
    "#         x = x.view(-1, 12, 7, 7)\n",
    "#         print(\"After reshaping:\", x.shape)\n",
    "#         x = self.decoder_conv1(x)\n",
    "#         print(\"After decoder_conv1:\", x.shape)\n",
    "#         x = torch.relu(x)\n",
    "#         print(\"After ReLU:\", x.shape)\n",
    "#         x = self.decoder_conv2(x)\n",
    "#         print(\"After decoder_conv2:\", x.shape)\n",
    "#         #x = torch.sigmoid(x)  # Use sigmoid activation for output in [0, 1]\n",
    "\n",
    "#         return x, mu, logvar\n",
    "\n",
    "#     def generate(self, z):\n",
    "\n",
    "#         # Generate samples from the standard normal distribution\n",
    "#         #z = torch.randn(batch_size, self.latent_dim).to(device)\n",
    "#         # Decoder for generating samples\n",
    "#         x = self.decoder_linear(z)\n",
    "#         print(\"After decoder_linear:\", x.shape)\n",
    "#         x = x.view(-1, 12, 7, 7)\n",
    "#         print(\"After reshaping:\", x.shape)\n",
    "#         x = self.decoder_conv1(x)\n",
    "#         print(\"After decoder_conv1:\", x.shape)\n",
    "#         x = torch.relu(x)\n",
    "#         print(\"After ReLU:\", x.shape)\n",
    "#         x = self.decoder_conv2(x)\n",
    "#         print(\"After decoder_conv2:\", x.shape)\n",
    "#         #x = torch.sigmoid(x)  # Use sigmoid activation for output in [0, 1]\n",
    "\n",
    "#         return x\n",
    "\n",
    "#     def kl_loss(self, mu, logvar):\n",
    "#         # KL divergence loss\n",
    "#         kl_loss = -0.5 * torch.sum(1 + logvar - mu.pow(2) - logvar.exp())\n",
    "#         return kl_loss\n",
    "\n",
    "# # # Load MNIST dataset\n",
    "# transform = transforms.Compose([transforms.ToTensor(), transforms.Normalize((0.1307,), (0.3081,))])\n",
    "# train_dataset = MNIST(root='./data', train=True, transform=transform, download=True)\n",
    "# train_loader = DataLoader(train_dataset, batch_size=64, shuffle=True)\n",
    "\n",
    "# # Create an instance of the autoencoder\n",
    "# vae = VAE_SIMPLE()\n",
    "\n",
    "# # Take one image from the dataset\n",
    "# x, _ = next(iter(train_loader))\n",
    "# image = x[0].unsqueeze(0)  # Take the first image from the batch and add a batch dimension\n",
    "\n",
    "# # Forward pass through the autoencoder with the image\n",
    "# output = vae(image)"
   ]
  },
  {
   "cell_type": "code",
   "execution_count": null,
   "metadata": {
    "id": "QKLfQZumzm5S"
   },
   "outputs": [],
   "source": []
  }
 ],
 "metadata": {
  "accelerator": "GPU",
  "colab": {
   "collapsed_sections": [
    "ShOLOXBFHmRy"
   ],
   "gpuType": "T4",
   "provenance": []
  },
  "kernelspec": {
   "display_name": "Python 3",
   "name": "python3"
  },
  "language_info": {
   "name": "python"
  }
 },
 "nbformat": 4,
 "nbformat_minor": 0
}
