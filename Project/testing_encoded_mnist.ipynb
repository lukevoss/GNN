{
 "cells": [
  {
   "cell_type": "code",
   "execution_count": 2,
   "metadata": {},
   "outputs": [],
   "source": [
    "import torch\n",
    "from sentence_transformers import SentenceTransformer\n",
    "\n",
    "from datasets import EncodedMNIST\n",
    "from autoencoder import AutoencoderSimple\n",
    "from utils import get_best_device\n",
    "\n",
    "ae_path = \"./models/ae_100.pth\"\n",
    "autoencoder = AutoencoderSimple()\n",
    "autoencoder.load_state_dict(torch.load(ae_path, map_location=get_best_device()))\n",
    "embedder = SentenceTransformer(\"intfloat/multilingual-e5-small\")\n",
    "\n",
    "dataset = EncodedMNIST(autoencoder, embedder, train=True)"
   ]
  },
  {
   "cell_type": "code",
   "execution_count": 2,
   "metadata": {},
   "outputs": [],
   "source": [
    "from torch.utils.data import DataLoader\n",
    "data_loader = DataLoader(dataset, batch_size=64, shuffle=True)"
   ]
  },
  {
   "cell_type": "code",
   "execution_count": 5,
   "metadata": {},
   "outputs": [],
   "source": [
    "for batch in data_loader:\n",
    "    x, cond = batch\n",
    "    print(x[0])\n",
    "    print(cond[0])"
   ]
  }
 ],
 "metadata": {
  "kernelspec": {
   "display_name": "gnn",
   "language": "python",
   "name": "python3"
  },
  "language_info": {
   "codemirror_mode": {
    "name": "ipython",
    "version": 3
   },
   "file_extension": ".py",
   "mimetype": "text/x-python",
   "name": "python",
   "nbconvert_exporter": "python",
   "pygments_lexer": "ipython3",
   "version": "3.12.2"
  }
 },
 "nbformat": 4,
 "nbformat_minor": 2
}
