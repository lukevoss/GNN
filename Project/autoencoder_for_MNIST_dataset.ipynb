{
 "nbformat": 4,
 "nbformat_minor": 0,
 "metadata": {
  "colab": {
   "provenance": [],
   "collapsed_sections": [
    "ShOLOXBFHmRy"
   ],
   "gpuType": "T4",
   "include_colab_link": true
  },
  "kernelspec": {
   "name": "python3",
   "display_name": "Python 3"
  },
  "language_info": {
   "name": "python"
  },
  "accelerator": "GPU"
 },
 "cells": [
  {
   "cell_type": "markdown",
   "metadata": {
    "id": "view-in-github",
    "colab_type": "text"
   },
   "source": [
    "<a href=\"https://colab.research.google.com/github/neelkanthrawat/GNN-exercises/blob/main/Project/autoencoder_for_MNIST_dataset.ipynb\" target=\"_parent\"><img src=\"https://colab.research.google.com/assets/colab-badge.svg\" alt=\"Open In Colab\"/></a>"
   ]
  },
  {
   "cell_type": "code",
   "execution_count": null,
   "metadata": {
    "id": "k34bN2nvAhj_"
   },
   "outputs": [],
   "source": [
    "import torch\n",
    "from torchvision.datasets import MNIST\n",
    "from torchvision import transforms\n",
    "from torch.utils.data import Dataset, DataLoader, random_split\n",
    "from torchvision import datasets, transforms\n",
    "import torch.nn as nn\n",
    "import torch.optim as optim\n",
    "from tqdm import tqdm\n",
    "\n",
    "import numpy as np\n",
    "\n",
    "import matplotlib.pyplot as plt"
   ]
  },
  {
   "cell_type": "markdown",
   "source": [
    "### 1. Load the MNIST dataset"
   ],
   "metadata": {
    "id": "HrI_kQmpCTqh"
   }
  },
  {
   "cell_type": "code",
   "source": [
    "# Define transformations to apply to the data\n",
    "transform = transforms.Compose(\n",
    "    [\n",
    "        transforms.ToTensor(),  # Convert PIL image to tensor\n",
    "        transforms.Normalize(\n",
    "            (0.1307,), (0.3081,)\n",
    "        ),  # Normalize the tensor with mean and standard deviation of MNIST dataset\n",
    "    ]\n",
    ")\n",
    "\n",
    "# Load MNIST dataset\n",
    "train_dataset = MNIST(root=\"./data\", train=True, transform=transform, download=True)\n",
    "test_dataset = MNIST(root=\"./data\", train=False, transform=transform, download=True)"
   ],
   "metadata": {
    "id": "Xjw7V9d8Avoz"
   },
   "execution_count": null,
   "outputs": []
  },
  {
   "cell_type": "markdown",
   "source": [
    "plotting the dataset"
   ],
   "metadata": {
    "id": "0zmUjOwdDSWO"
   }
  },
  {
   "cell_type": "code",
   "source": [
    "def plot_images(images, labels, captions, rows=2, cols=4):\n",
    "    fig, axes = plt.subplots(rows, cols, figsize=(10, 5))\n",
    "    for i, ax in enumerate(axes.flat):\n",
    "        ax.imshow(images[i], cmap=\"gray\")\n",
    "        ax.set_title(captions[i])\n",
    "        ax.axis(\"off\")\n",
    "    plt.tight_layout()\n",
    "    plt.show()\n",
    "\n",
    "\n",
    "# Get some sample images and labels from the dataset\n",
    "sample_images = [train_dataset[i][0].squeeze().numpy() for i in range(8)]\n",
    "sample_labels = [train_dataset[i][1] for i in range(8)]\n",
    "sample_captions = [f\"Label: {label}\" for label in sample_labels]\n",
    "\n",
    "# Plot the sample images with captions\n",
    "plot_images(sample_images, sample_labels, sample_captions)"
   ],
   "metadata": {
    "id": "3RpjNQFUDVP_",
    "colab": {
     "base_uri": "https://localhost:8080/",
     "height": 442
    },
    "outputId": "f885dba5-8a3d-40a1-cd58-828ad03c6c6e"
   },
   "execution_count": null,
   "outputs": [
    {
     "output_type": "display_data",
     "data": {
      "text/plain": [
       "<Figure size 1000x500 with 8 Axes>"
      ],
      "image/png": "[encoded data removed]"
     },
     "metadata": {}
    }
   ]
  },
  {
   "cell_type": "markdown",
   "source": [
    "### 2. Create the Dataloaders"
   ],
   "metadata": {
    "id": "74hXkabNCXNR"
   }
  },
  {
   "cell_type": "code",
   "source": [
    "# Define the sizes for train, validation, and test sets\n",
    "train_size = int(0.8 * len(train_dataset))\n",
    "val_size = len(train_dataset) - train_size\n",
    "test_size = len(test_dataset)"
   ],
   "metadata": {
    "id": "BA4d1a9lORcU"
   },
   "execution_count": null,
   "outputs": []
  },
  {
   "cell_type": "code",
   "source": [
    "# Split the dataset into train, validation, sets\n",
    "trn_data, val_data = torch.utils.data.random_split(\n",
    "    train_dataset, [train_size, val_size]\n",
    ")"
   ],
   "metadata": {
    "id": "XYfkojdwORQZ"
   },
   "execution_count": null,
   "outputs": []
  },
  {
   "cell_type": "code",
   "source": [
    "# Define batch size for data loaders\n",
    "batch_size = 100  # changed batch size to 100"
   ],
   "metadata": {
    "id": "Q54P9vSkORIf"
   },
   "execution_count": null,
   "outputs": []
  },
  {
   "cell_type": "code",
   "source": [
    "# Create data loaders for train, validation, and test sets\n",
    "train_loader = DataLoader(trn_data, batch_size=batch_size, shuffle=True)\n",
    "val_loader = DataLoader(val_data, batch_size=batch_size, shuffle=False)\n",
    "test_loader = DataLoader(test_dataset, batch_size=batch_size, shuffle=False)"
   ],
   "metadata": {
    "id": "FVkVWNMuOQ_v"
   },
   "execution_count": null,
   "outputs": []
  },
  {
   "cell_type": "markdown",
   "source": [
    "### 3. Autoencoder model"
   ],
   "metadata": {
    "id": "fIYaQW0LEbiL"
   }
  },
  {
   "cell_type": "code",
   "source": [
    "class Autoencoder_simpler(nn.Module):\n",
    "    def __init__(self):\n",
    "        super(Autoencoder_simpler, self).__init__()\n",
    "\n",
    "        # Encoder layers\n",
    "        self.encoder_conv1 = nn.Conv2d(\n",
    "            1, 6, kernel_size=3, stride=2, padding=1\n",
    "        )  # Use stride 2 for downscaling\n",
    "        self.encoder_conv2 = nn.Conv2d(\n",
    "            6, 12, kernel_size=3, stride=2, padding=1\n",
    "        )  # Use stride 2 for downscaling\n",
    "        self.encoder_linear = nn.Linear(12 * 7 * 7, 64)  # 64*6 ---> 20\n",
    "\n",
    "        # Decoder layers\n",
    "        self.decoder_linear = nn.Linear(64, 12 * 7 * 7)\n",
    "        self.decoder_conv1 = nn.ConvTranspose2d(\n",
    "            12, 6, kernel_size=3, stride=2, padding=1, output_padding=1\n",
    "        )  # Use stride 2 for upscaling\n",
    "        self.decoder_conv2 = nn.ConvTranspose2d(\n",
    "            6, 1, kernel_size=3, stride=2, padding=1, output_padding=1\n",
    "        )  # Use stride 2 for upscaling\n",
    "\n",
    "    def encoder(self, x):\n",
    "        # Encoder\n",
    "        x = self.encoder_conv1(x)\n",
    "        x = torch.relu(x)\n",
    "        x = self.encoder_conv2(x)\n",
    "        x = torch.relu(x)\n",
    "        x = x.view(-1, 12 * 7 * 7)\n",
    "        x = self.encoder_linear(x)\n",
    "        return x\n",
    "\n",
    "    def decoder(self, x):\n",
    "        # Decoder\n",
    "        x = self.decoder_linear(x)\n",
    "        x = x.view(-1, 12, 7, 7)\n",
    "        x = self.decoder_conv1(x)\n",
    "        x = torch.relu(x)\n",
    "        x = self.decoder_conv2(x)\n",
    "        x = torch.relu(x)\n",
    "        return x\n",
    "\n",
    "    def forward(self, x):\n",
    "        encoded = self.encoder(x)\n",
    "        decoded = self.decoder(encoded)\n",
    "        return decoded"
   ],
   "metadata": {
    "id": "4ULZBwsRam1K"
   },
   "execution_count": null,
   "outputs": []
  },
  {
   "cell_type": "markdown",
   "source": [
    "### training and validation function"
   ],
   "metadata": {
    "id": "gP6fZFTlKW2V"
   }
  },
  {
   "cell_type": "code",
   "source": [
    "def train_and_evaluate(\n",
    "    autoencoder,\n",
    "    train_loader,\n",
    "    val_loader,\n",
    "    num_epochs=10,\n",
    "    learning_rate=1e-3,\n",
    "    print_epoch=10,\n",
    "    device=\"cuda\" if torch.cuda.is_available() else \"cpu\",\n",
    "):\n",
    "    criterion = nn.MSELoss()\n",
    "    optimizer = optim.Adam(autoencoder.parameters(), lr=learning_rate)\n",
    "\n",
    "    autoencoder.to(device)  # Move model to device\n",
    "\n",
    "    train_losses = []\n",
    "    val_losses = []\n",
    "\n",
    "    for epoch in range(num_epochs):\n",
    "        train_loss = 0.0\n",
    "        val_loss = 0.0\n",
    "\n",
    "        # Training\n",
    "        autoencoder.train()\n",
    "        for images, _ in train_loader:\n",
    "            images = images.to(device)  # Move data to device\n",
    "            optimizer.zero_grad()\n",
    "            outputs = autoencoder(images)\n",
    "            loss = criterion(outputs, images)\n",
    "            loss.backward()\n",
    "            optimizer.step()\n",
    "            train_loss += loss.item()\n",
    "\n",
    "        # Validation\n",
    "        autoencoder.eval()\n",
    "        with torch.no_grad():\n",
    "            for images, _ in val_loader:\n",
    "                images = images.to(device)  # Move data to device\n",
    "                outputs = autoencoder(images)\n",
    "                loss = criterion(outputs, images)\n",
    "                val_loss += loss.item()\n",
    "\n",
    "        # Average losses\n",
    "        train_loss /= len(train_loader)\n",
    "        val_loss /= len(val_loader)\n",
    "\n",
    "        train_losses.append(train_loss)\n",
    "        val_losses.append(val_loss)\n",
    "\n",
    "        # Print losses\n",
    "        if (epoch + 1) % print_epoch == 0:\n",
    "            print(\n",
    "                f\"Epoch [{epoch+1}/{num_epochs}], Train Loss: {train_loss:.9f}, Val Loss: {val_loss:.9f}\"\n",
    "            )\n",
    "\n",
    "    return train_losses, val_losses"
   ],
   "metadata": {
    "id": "6a5FD1CZKZ5e"
   },
   "execution_count": null,
   "outputs": []
  },
  {
   "cell_type": "code",
   "source": [
    "# Specify the device you want to use\n",
    "device = \"cuda\" if torch.cuda.is_available() else \"cpu\"\n",
    "print(device)"
   ],
   "metadata": {
    "colab": {
     "base_uri": "https://localhost:8080/"
    },
    "id": "mBLhe_Q7UeOF",
    "outputId": "5ceb4a4f-4e12-4b94-969d-985fcee0f541"
   },
   "execution_count": null,
   "outputs": [
    {
     "output_type": "stream",
     "name": "stdout",
     "text": [
      "cuda\n"
     ]
    }
   ]
  },
  {
   "cell_type": "code",
   "source": [
    "def plot_losses(train_losses, val_losses):\n",
    "    plt.figure(figsize=(7, 5))\n",
    "    plt.plot(train_losses, label=\"Train Loss\", color=\"blue\")\n",
    "    plt.plot(val_losses, label=\"Validation Loss\", color=\"red\")\n",
    "    plt.xlabel(\"Epoch\")\n",
    "    plt.ylabel(\"Loss\")\n",
    "    plt.title(\"Training and Validation Losses\")\n",
    "    plt.legend()\n",
    "    plt.grid(True)\n",
    "    plt.show()"
   ],
   "metadata": {
    "id": "-Jo1h-aTT5jn"
   },
   "execution_count": null,
   "outputs": []
  },
  {
   "cell_type": "code",
   "source": [
    "def test_model_ae(\n",
    "    autoencoder, test_loader, device=\"cuda\" if torch.cuda.is_available() else \"cpu\"\n",
    "):\n",
    "    autoencoder.eval()\n",
    "    criterion = nn.MSELoss()\n",
    "\n",
    "    # Get a batch of test images\n",
    "    images, _ = next(iter(test_loader))\n",
    "    images = images.to(device)\n",
    "\n",
    "    # Reconstruct images using the autoencoder\n",
    "    with torch.no_grad():\n",
    "        reconstructed_images = autoencoder(images)\n",
    "\n",
    "    # Move data back to CPU for plotting\n",
    "    images = images.cpu()\n",
    "    reconstructed_images = reconstructed_images.cpu()\n",
    "\n",
    "    # Plot original and reconstructed images\n",
    "    fig, axes = plt.subplots(nrows=2, ncols=8, figsize=(16, 4))\n",
    "    for i in range(8):\n",
    "        axes[0, i].imshow(images[i].squeeze(), cmap=\"gray\")\n",
    "        axes[0, i].set_title(\"Original\")\n",
    "        axes[0, i].axis(\"off\")\n",
    "        axes[1, i].imshow(reconstructed_images[i].squeeze(), cmap=\"gray\")\n",
    "        axes[1, i].set_title(\"Reconstructed\")\n",
    "        axes[1, i].axis(\"off\")\n",
    "    plt.show()"
   ],
   "metadata": {
    "id": "8rE1qGiPTodw"
   },
   "execution_count": null,
   "outputs": []
  },
  {
   "cell_type": "markdown",
   "source": [
    "Training and Testing AE model"
   ],
   "metadata": {
    "id": "Hl4We3jML4qg"
   }
  },
  {
   "cell_type": "code",
   "source": [
    "# instantiate the model\n",
    "autoencoder_2 = Autoencoder_simpler()\n",
    "\n",
    "# train\n",
    "train_losses, val_losses = train_and_evaluate(\n",
    "    autoencoder_2, train_loader, val_loader, num_epochs=20, print_epoch=2\n",
    ")"
   ],
   "metadata": {
    "colab": {
     "base_uri": "https://localhost:8080/"
    },
    "id": "9ZYejBDvarPw",
    "outputId": "e0ab12a5-94d5-4ed8-efed-ba82432d6480"
   },
   "execution_count": null,
   "outputs": [
    {
     "output_type": "stream",
     "name": "stdout",
     "text": [
      "Epoch [2/20], Train Loss: 0.300228832, Val Loss: 0.291599924\n",
      "Epoch [4/20], Train Loss: 0.279929214, Val Loss: 0.277589674\n",
      "Epoch [6/20], Train Loss: 0.271407195, Val Loss: 0.269749713\n",
      "Epoch [8/20], Train Loss: 0.266290568, Val Loss: 0.265360670\n",
      "Epoch [10/20], Train Loss: 0.262958380, Val Loss: 0.262874678\n",
      "Epoch [12/20], Train Loss: 0.260341890, Val Loss: 0.260018305\n",
      "Epoch [14/20], Train Loss: 0.258404252, Val Loss: 0.258581149\n",
      "Epoch [16/20], Train Loss: 0.256682541, Val Loss: 0.256924306\n",
      "Epoch [18/20], Train Loss: 0.255162348, Val Loss: 0.255575733\n",
      "Epoch [20/20], Train Loss: 0.253864458, Val Loss: 0.253898860\n"
     ]
    }
   ]
  },
  {
   "cell_type": "code",
   "source": [
    "# Usage example:\n",
    "plot_losses(train_losses, val_losses)"
   ],
   "metadata": {
    "colab": {
     "base_uri": "https://localhost:8080/",
     "height": 487
    },
    "id": "obvJd5ZCLqle",
    "outputId": "d9111ec6-bd7f-43fd-b4aa-9dd8423ad2db"
   },
   "execution_count": null,
   "outputs": [
    {
     "output_type": "display_data",
     "data": {
      "text/plain": [
       "<Figure size 700x500 with 1 Axes>"
      ],
      "image/png": "[encoded data removed]"
     },
     "metadata": {}
    }
   ]
  },
  {
   "cell_type": "code",
   "source": [
    "test_model_ae(autoencoder_2, test_loader)"
   ],
   "metadata": {
    "colab": {
     "base_uri": "https://localhost:8080/",
     "height": 244
    },
    "id": "hE8xOr-ya7k7",
    "outputId": "f1a9bfbd-5378-4a7d-bb9e-4fc87a50e4c2"
   },
   "execution_count": null,
   "outputs": [
    {
     "output_type": "display_data",
     "data": {
      "text/plain": [
       "<Figure size 1600x400 with 16 Axes>"
      ],
      "image/png": "[encoded data removed]"
     },
     "metadata": {}
    }
   ]
  },
  {
   "cell_type": "markdown",
   "source": [
    "### Tasks to do:\n",
    "\n",
    "1. FOR SIMPLE MNIST DATASET\n",
    "    \n",
    "    ~1.a. try a few more autoencoder models and find out even more good/simple model.~\n",
    "\n",
    "    ~1.b. Implement the VAE.~\n",
    "\n",
    "2. FOR COLOURED MNIST DATASET\n",
    "\n",
    "    2.a. Implement the autoencoder.\n",
    "  \n",
    "    2.b. Implement hte VAE"
   ],
   "metadata": {
    "id": "slH1e7ocg6xQ"
   }
  },
  {
   "cell_type": "markdown",
   "source": [
    "### Variational Autoencoder:"
   ],
   "metadata": {
    "id": "K095_sjNJHMC"
   }
  },
  {
   "cell_type": "markdown",
   "source": [
    "let's try different implementation:\n",
    "\n",
    "\n",
    "* ref: https://github.com/ludovicobuizza/gan_vae/blob/main/utils.py\n",
    "\n",
    "* author's medium article: https://ludovico-buizza.medium.com/generating-things-with-vaes-882c6e3b688d"
   ],
   "metadata": {
    "id": "94NV9asM6hlH"
   }
  },
  {
   "cell_type": "code",
   "source": [
    "### new vae MODEL\n",
    "## SOME UTILS\n",
    "import torch.nn as nn\n",
    "\n",
    "\n",
    "def make_module(conv_layer, hyper_params, activation=nn.ReLU):\n",
    "    modules = []\n",
    "    in_channels = hyper_params[\"in_channels\"]\n",
    "    for i in range(len(hyper_params[\"hidden_channels\"])):\n",
    "        module = nn.Sequential(\n",
    "            conv_layer(\n",
    "                in_channels=in_channels,\n",
    "                out_channels=hyper_params[\"hidden_channels\"][i],\n",
    "                kernel_size=hyper_params[\"kernels\"][i],\n",
    "                stride=hyper_params[\"strides\"][i],\n",
    "                padding=hyper_params[\"paddings\"][i],\n",
    "            ),\n",
    "            nn.BatchNorm2d(num_features=hyper_params[\"hidden_channels\"][i]),\n",
    "            activation(),\n",
    "        )\n",
    "        in_channels = hyper_params[\"hidden_channels\"][i]\n",
    "        modules.append(module)\n",
    "    return nn.Sequential(*modules)\n",
    "\n",
    "\n",
    "def make_final_decoder_layer(decoder_hyper_params):\n",
    "    final_layer = nn.Sequential(\n",
    "        nn.ConvTranspose2d(\n",
    "            in_channels=decoder_hyper_params[\"hidden_channels\"][-1],\n",
    "            out_channels=decoder_hyper_params[\"out_channels\"],\n",
    "            kernel_size=decoder_hyper_params[\"final_kernel\"],\n",
    "            stride=decoder_hyper_params[\"final_stride\"],\n",
    "            padding=decoder_hyper_params[\"final_padding\"],\n",
    "            output_padding=decoder_hyper_params[\"final_output_padding\"],\n",
    "        ),\n",
    "        nn.BatchNorm2d(num_features=decoder_hyper_params[\"out_channels\"]),\n",
    "        nn.LeakyReLU(),\n",
    "        nn.Conv2d(\n",
    "            in_channels=decoder_hyper_params[\"out_channels\"],\n",
    "            out_channels=decoder_hyper_params[\"out_channels\"],\n",
    "            kernel_size=1,\n",
    "            stride=1,\n",
    "            padding=0,\n",
    "        ),\n",
    "        # nn.Sigmoid(),\n",
    "    )\n",
    "    return final_layer"
   ],
   "metadata": {
    "id": "iasPFaWc6L9n"
   },
   "execution_count": null,
   "outputs": []
  },
  {
   "cell_type": "code",
   "source": [
    "class VAE_NEW(nn.Module):\n",
    "    def __init__(self, encoder_hyper_params, decoder_hyper_params):\n",
    "        super(VAE_NEW, self).__init__()\n",
    "        self.latent_dim = encoder_hyper_params[\"latent_dims\"]\n",
    "        self.encoder_hyper_params = encoder_hyper_params\n",
    "        self.decoder_hyper_params = decoder_hyper_params\n",
    "\n",
    "        self.encoder = make_module(\n",
    "            conv_layer=nn.Conv2d,\n",
    "            hyper_params=encoder_hyper_params,\n",
    "            activation=nn.LeakyReLU,\n",
    "        )\n",
    "        self.fc_mu = nn.Linear(encoder_hyper_params[\"fc_neurons\"], self.latent_dim)\n",
    "        self.fc_var = nn.Linear(encoder_hyper_params[\"fc_neurons\"], self.latent_dim)\n",
    "\n",
    "        last_dim = encoder_hyper_params[\"hidden_channels\"][-1]\n",
    "        self.decoder_input = nn.Linear(self.latent_dim, last_dim * 4)\n",
    "        self.decoder = make_module(\n",
    "            conv_layer=nn.ConvTranspose2d,\n",
    "            hyper_params=decoder_hyper_params,\n",
    "            activation=nn.LeakyReLU,\n",
    "        )\n",
    "        self.final_layer = make_final_decoder_layer(decoder_hyper_params)\n",
    "\n",
    "    def encode(self, x):\n",
    "        result = self.encoder(x)\n",
    "        result = torch.flatten(result, start_dim=1)\n",
    "        mu = self.fc_mu(result)\n",
    "        log_var = self.fc_var(result)\n",
    "        return mu, log_var\n",
    "\n",
    "    def reparametrize(self, mu, logvar):\n",
    "        std = torch.exp(0.5 * logvar)\n",
    "        eps = torch.randn_like(std)\n",
    "        return eps * std + mu\n",
    "\n",
    "    def decode(self, z):\n",
    "        result = self.decoder_input(z)\n",
    "        result = result.view(-1, int(result.shape[1] / 4), 2, 2)\n",
    "        result = self.decoder(result)\n",
    "        result = self.final_layer(result)\n",
    "        return result\n",
    "\n",
    "    def forward(self, x):\n",
    "        mu, log_var = self.encode(x)\n",
    "        z = self.reparametrize(mu, log_var)\n",
    "        return self.decode(z), mu, log_var\n",
    "\n",
    "    def generate(self, z):\n",
    "        # Decoder for generating samples\n",
    "        return self.decode(z)\n",
    "\n",
    "    def kl_loss(self, mu, logvar):\n",
    "        # KL divergence loss\n",
    "        kl_loss = -0.5 * torch.sum(1 + logvar - mu.pow(2) - logvar.exp())\n",
    "        return kl_loss"
   ],
   "metadata": {
    "id": "zOO7SF_I6grD"
   },
   "execution_count": null,
   "outputs": []
  },
  {
   "cell_type": "code",
   "source": [
    "###number of parameters:\n",
    "def count_parameters(model):\n",
    "    return sum(p.numel() for p in model.parameters() if p.requires_grad)\n",
    "\n",
    "\n",
    "## hyperparameters for the encoder and decoder\n",
    "latent_dims = 12\n",
    "encoder_hyper_params = {\n",
    "    \"latent_dims\": latent_dims,\n",
    "    \"hidden_channels\": [24, 24, 24, 24],\n",
    "    \"kernels\": [3, 3, 3, 3],\n",
    "    \"strides\": [1, 2, 2, 1],\n",
    "    \"paddings\": [1, 1, 1, 1],\n",
    "    \"in_channels\": 1,\n",
    "    \"fc_neurons\": 24 * 49,\n",
    "}\n",
    "\n",
    "decoder_hyper_params = {\n",
    "    \"in_channels\": 24,\n",
    "    \"hidden_channels\": [24, 24, 24, 6],\n",
    "    \"kernels\": [3, 4, 4, 4],\n",
    "    \"strides\": [1, 2, 2, 1],\n",
    "    \"paddings\": [0, 0, 0, 0],\n",
    "    \"out_channels\": 1,\n",
    "    \"final_kernel\": 4,\n",
    "    \"final_stride\": 1,\n",
    "    \"final_padding\": 0,\n",
    "    \"final_output_padding\": 0,\n",
    "}\n",
    "\n",
    "# Create an instance of VAE_NEW\n",
    "model = VAE_NEW(\n",
    "    encoder_hyper_params=encoder_hyper_params, decoder_hyper_params=decoder_hyper_params\n",
    ")\n",
    "\n",
    "# Count the number of trainable parameters\n",
    "num_params = count_parameters(model)\n",
    "print(\"Number of trainable parameters:\", num_params)"
   ],
   "metadata": {
    "colab": {
     "base_uri": "https://localhost:8080/"
    },
    "id": "mn8v52J_7iCb",
    "outputId": "cd9e6e24-e815-4c99-9aa9-30ea6504f809"
   },
   "execution_count": null,
   "outputs": [
    {
     "output_type": "stream",
     "name": "stdout",
     "text": [
      "Number of trainable parameters: 71807\n"
     ]
    }
   ]
  },
  {
   "cell_type": "code",
   "source": [
    "def train_and_evaluate_vae(\n",
    "    vae,\n",
    "    train_loader,\n",
    "    val_loader,\n",
    "    num_epochs=10,\n",
    "    learning_rate=1e-3,\n",
    "    print_epoch=10,\n",
    "    wt_kl=0.0001,\n",
    "    device=\"cuda\" if torch.cuda.is_available() else \"cpu\",\n",
    "):\n",
    "\n",
    "    criterion = nn.MSELoss()\n",
    "    optimizer = optim.Adam(vae.parameters(), lr=learning_rate, weight_decay=1e-5)\n",
    "\n",
    "    vae.to(device)  # Move model to device\n",
    "\n",
    "    train_losses = []\n",
    "    val_losses = []\n",
    "\n",
    "    for epoch in range(num_epochs):\n",
    "        train_loss = 0.0\n",
    "        val_loss = 0.0\n",
    "\n",
    "        # Training\n",
    "        vae.train()\n",
    "        with tqdm(\n",
    "            total=len(train_loader),\n",
    "            desc=f\"Epoch {epoch + 1}/{num_epochs}\",\n",
    "            unit=\"batch\",\n",
    "            leave=False,\n",
    "        ) as pbar:\n",
    "            for images, _ in train_loader:\n",
    "                images = images.to(device)  # Move data to device\n",
    "                optimizer.zero_grad()\n",
    "                recon_images, mu, logvar = vae(images)\n",
    "                recon_loss = criterion(recon_images, images)\n",
    "                kl_loss = vae.kl_loss(mu, logvar)\n",
    "                loss = recon_loss + wt_kl * kl_loss\n",
    "                loss.backward()\n",
    "                optimizer.step()\n",
    "                train_loss += loss.item()\n",
    "                pbar.update(1)\n",
    "\n",
    "        # Validation\n",
    "        vae.eval()\n",
    "        with torch.no_grad():\n",
    "            for images, _ in val_loader:\n",
    "                images = images.to(device)  # Move data to device\n",
    "                recon_images, mu, logvar = vae(images)\n",
    "                recon_loss = criterion(recon_images, images)\n",
    "                kl_loss = vae.kl_loss(mu, logvar)\n",
    "                loss = recon_loss + wt_kl * kl_loss\n",
    "                val_loss += loss.item()\n",
    "\n",
    "        # Average losses\n",
    "        train_loss /= len(train_loader.dataset)\n",
    "        val_loss /= len(val_loader.dataset)\n",
    "\n",
    "        train_losses.append(train_loss)\n",
    "        val_losses.append(val_loss)\n",
    "\n",
    "        # Print losses\n",
    "        if (epoch + 1) % print_epoch == 0:\n",
    "            print(\n",
    "                f\"Epoch [{epoch+1}/{num_epochs}], Train Loss: {train_loss:.9f}, Val Loss: {val_loss:.9f}\"\n",
    "            )\n",
    "\n",
    "    return train_losses, val_losses"
   ],
   "metadata": {
    "id": "p6ns_vlW919K"
   },
   "execution_count": null,
   "outputs": []
  },
  {
   "cell_type": "code",
   "source": [
    "def test_model_vae(\n",
    "    vae, test_loader, device=\"cuda\" if torch.cuda.is_available() else \"cpu\"\n",
    "):\n",
    "    vae.eval()\n",
    "    criterion = nn.MSELoss(reduction=\"sum\")\n",
    "\n",
    "    # Get a batch of test images\n",
    "    images, _ = next(iter(test_loader))\n",
    "    images = images.to(device)\n",
    "\n",
    "    # Reconstruct images using the VAE\n",
    "    with torch.no_grad():\n",
    "        reconstructed_images, _, _ = vae(images)\n",
    "\n",
    "    # Move data back to CPU for plotting\n",
    "    images = images.cpu()\n",
    "    reconstructed_images = reconstructed_images.cpu()\n",
    "\n",
    "    # Plot original and reconstructed images\n",
    "    fig, axes = plt.subplots(nrows=2, ncols=8, figsize=(16, 4))\n",
    "    for i in range(8):\n",
    "        axes[0, i].imshow(images[i].squeeze(), cmap=\"gray\")\n",
    "        axes[0, i].set_title(\"Original\")\n",
    "        axes[0, i].axis(\"off\")\n",
    "        axes[1, i].imshow(reconstructed_images[i].squeeze(), cmap=\"gray\")\n",
    "        axes[1, i].set_title(\"Reconstructed\")\n",
    "        axes[1, i].axis(\"off\")\n",
    "    plt.show()"
   ],
   "metadata": {
    "id": "VgdMOL6yQU91"
   },
   "execution_count": null,
   "outputs": []
  },
  {
   "cell_type": "code",
   "source": [
    "def plot_generated_images_vae(\n",
    "    vae, num_samples=10, device=\"cuda\" if torch.cuda.is_available() else \"cpu\"\n",
    "):\n",
    "    vae.eval()  # Set model to evaluation mode\n",
    "    with torch.no_grad():\n",
    "        # # Generate samples from the latent space\n",
    "        z = torch.randn(num_samples, vae.latent_dim).to(device)\n",
    "        generated_images = vae.generate(z).cpu()\n",
    "\n",
    "        # Plot generated images\n",
    "        fig, axes = plt.subplots(1, num_samples, figsize=(15, 3))\n",
    "        for i in range(num_samples):\n",
    "            axes[i].imshow(generated_images[i][0], cmap=\"gray\")\n",
    "            axes[i].axis(\"off\")\n",
    "        plt.show()"
   ],
   "metadata": {
    "id": "tzd9KH99Mf7L"
   },
   "execution_count": null,
   "outputs": []
  },
  {
   "cell_type": "markdown",
   "source": [
    "Train and Test VAE model"
   ],
   "metadata": {
    "id": "qmt8gY2kMCh8"
   }
  },
  {
   "cell_type": "code",
   "source": [
    "## hyperparameters for the encoder and decoder\n",
    "latent_dims = 12\n",
    "encoder_hyper_params = {\n",
    "    \"latent_dims\": latent_dims,\n",
    "    \"hidden_channels\": [24, 24, 24, 24],\n",
    "    \"kernels\": [3, 3, 3, 3],\n",
    "    \"strides\": [1, 2, 2, 1],\n",
    "    \"paddings\": [1, 1, 1, 1],\n",
    "    \"in_channels\": 1,\n",
    "    \"fc_neurons\": 24 * 49,  # 24*7*7\n",
    "}\n",
    "\n",
    "decoder_hyper_params = {\n",
    "    \"in_channels\": 24,\n",
    "    \"hidden_channels\": [24, 24, 24, 6],\n",
    "    \"kernels\": [3, 4, 4, 4],\n",
    "    \"strides\": [1, 2, 2, 1],\n",
    "    \"paddings\": [0, 0, 0, 0],\n",
    "    \"out_channels\": 1,\n",
    "    \"final_kernel\": 4,\n",
    "    \"final_stride\": 1,\n",
    "    \"final_padding\": 0,\n",
    "    \"final_output_padding\": 0,\n",
    "}\n",
    "\n",
    "# Create an instance of VAE_NEW\n",
    "vae_new = VAE_NEW(\n",
    "    encoder_hyper_params=encoder_hyper_params, decoder_hyper_params=decoder_hyper_params\n",
    ")"
   ],
   "metadata": {
    "id": "CS0DwbA_8xUP"
   },
   "execution_count": null,
   "outputs": []
  },
  {
   "cell_type": "code",
   "source": [
    "# print(vae_new)"
   ],
   "metadata": {
    "id": "cu7qfyKd9GeY"
   },
   "execution_count": null,
   "outputs": []
  },
  {
   "cell_type": "code",
   "source": [
    "### train the model\n",
    "train_losses_vae, val_losses_vae = train_and_evaluate_vae(\n",
    "    vae_new, train_loader, val_loader, learning_rate=1e-3, num_epochs=20, print_epoch=2\n",
    ")"
   ],
   "metadata": {
    "colab": {
     "base_uri": "https://localhost:8080/"
    },
    "id": "EH6SyJD_85u5",
    "outputId": "0e4d6252-a927-4fae-bf81-2387e9dedc09"
   },
   "execution_count": null,
   "outputs": [
    {
     "output_type": "stream",
     "name": "stderr",
     "text": []
    },
    {
     "output_type": "stream",
     "name": "stdout",
     "text": [
      "Epoch [2/10], Train Loss: 0.007835401, Val Loss: 0.007087212\n"
     ]
    },
    {
     "output_type": "stream",
     "name": "stderr",
     "text": []
    },
    {
     "output_type": "stream",
     "name": "stdout",
     "text": [
      "Epoch [4/10], Train Loss: 0.005424858, Val Loss: 0.004995223\n"
     ]
    },
    {
     "output_type": "stream",
     "name": "stderr",
     "text": []
    },
    {
     "output_type": "stream",
     "name": "stdout",
     "text": [
      "Epoch [6/10], Train Loss: 0.004201218, Val Loss: 0.003994157\n"
     ]
    },
    {
     "output_type": "stream",
     "name": "stderr",
     "text": []
    },
    {
     "output_type": "stream",
     "name": "stdout",
     "text": [
      "Epoch [8/10], Train Loss: 0.003680350, Val Loss: 0.003628861\n"
     ]
    },
    {
     "output_type": "stream",
     "name": "stderr",
     "text": []
    },
    {
     "output_type": "stream",
     "name": "stdout",
     "text": [
      "Epoch [10/10], Train Loss: 0.003501015, Val Loss: 0.003466723\n"
     ]
    }
   ]
  },
  {
   "cell_type": "code",
   "source": [
    "plot_losses(train_losses_vae[:], val_losses_vae[:])"
   ],
   "metadata": {
    "colab": {
     "base_uri": "https://localhost:8080/",
     "height": 487
    },
    "id": "uhHspVtIMGeb",
    "outputId": "a669fe6b-5960-4108-f3d5-d3476177c9ca"
   },
   "execution_count": null,
   "outputs": [
    {
     "output_type": "display_data",
     "data": {
      "text/plain": [
       "<Figure size 700x500 with 1 Axes>"
      ],
      "image/png": "[encoded data removed]"
     },
     "metadata": {}
    }
   ]
  },
  {
   "cell_type": "markdown",
   "source": [
    "reconstruction using VAE"
   ],
   "metadata": {
    "id": "Wl5zuDq6QhqT"
   }
  },
  {
   "cell_type": "code",
   "source": [
    "print(\"with CNN based VAE_NEW\")\n",
    "test_model_vae(vae_new, test_loader)"
   ],
   "metadata": {
    "colab": {
     "base_uri": "https://localhost:8080/",
     "height": 261
    },
    "id": "5gmtEqZo_l78",
    "outputId": "0d5e1a74-f4a1-4550-9682-842de049a9f9"
   },
   "execution_count": null,
   "outputs": [
    {
     "output_type": "stream",
     "name": "stdout",
     "text": [
      "with CNN based VAE_NEW\n"
     ]
    },
    {
     "output_type": "display_data",
     "data": {
      "text/plain": [
       "<Figure size 1600x400 with 16 Axes>"
      ],
      "image/png": "[encoded data removed]"
     },
     "metadata": {}
    }
   ]
  },
  {
   "cell_type": "markdown",
   "source": [
    "generating images using VAE"
   ],
   "metadata": {
    "id": "c2TnLIInQpp6"
   }
  },
  {
   "cell_type": "code",
   "source": [
    "print(\"VAE-new\")\n",
    "plot_generated_images_vae(vae_new)"
   ],
   "metadata": {
    "colab": {
     "base_uri": "https://localhost:8080/",
     "height": 118
    },
    "id": "-Ebrszpk_v3M",
    "outputId": "b8771cbc-80db-495d-ce91-2b3f293ded22"
   },
   "execution_count": null,
   "outputs": [
    {
     "output_type": "stream",
     "name": "stdout",
     "text": [
      "VAE-new\n"
     ]
    },
    {
     "output_type": "display_data",
     "data": {
      "text/plain": [
       "<Figure size 1500x300 with 10 Axes>"
      ],
      "image/png": "[encoded data removed]"
     },
     "metadata": {}
    }
   ]
  },
  {
   "cell_type": "markdown",
   "source": [
    "# checking something. Everything below is just for debugging , nothing special\n",
    "\n"
   ],
   "metadata": {
    "id": "ShOLOXBFHmRy"
   }
  },
  {
   "cell_type": "code",
   "source": [
    "# import torch\n",
    "# import torch.nn as nn\n",
    "# from torchvision.datasets import MNIST\n",
    "# from torch.utils.data import DataLoader\n",
    "# import torchvision.transforms as transforms\n",
    "\n",
    "# class Autoencoder(nn.Module):\n",
    "#     def __init__(self):\n",
    "#         super(Autoencoder, self).__init__()\n",
    "\n",
    "#         # Encoder layers\n",
    "#         self.encoder_conv1 = nn.Conv2d(1, 6, kernel_size=3, stride=1, padding=1)\n",
    "#         self.encoder_maxpool1 = nn.MaxPool2d(kernel_size=2, stride=2, padding=0)\n",
    "#         self.encoder_conv2 = nn.Conv2d(6, 12, kernel_size=3, stride=1, padding=1)\n",
    "#         self.encoder_maxpool2 = nn.MaxPool2d(kernel_size=2, stride=2, padding=0)\n",
    "#         self.encoder_linear = nn.Linear(32 * 7 * 7, 64)\n",
    "\n",
    "#         # Decoder layers\n",
    "#         self.decoder_linear = nn.Linear(64, 32 * 7 * 7)\n",
    "#         self.decoder_conv1 = nn.ConvTranspose2d(32, 16, kernel_size=3, stride=1, padding=1)\n",
    "#         self.decoder_upsample1 = nn.Upsample(scale_factor=2, mode='nearest')\n",
    "#         self.decoder_conv2 = nn.ConvTranspose2d(16, 1, kernel_size=3, stride=1, padding=1)\n",
    "#         self.decoder_upsample2 = nn.Upsample(scale_factor=2, mode='nearest')\n",
    "#         self.decoder_sigmoid = nn.Sigmoid()\n",
    "\n",
    "#     def forward(self, x):\n",
    "#         # Encoder\n",
    "#         print(\"image shape at the beginning:\", x.shape)\n",
    "#         x = self.encoder_conv1(x)\n",
    "#         print(\"Shape after encoder_conv1:\", x.shape)\n",
    "#         x = self.encoder_maxpool1(x)\n",
    "#         print(\"Shape after encoder_maxpool1:\", x.shape)\n",
    "#         x = self.encoder_conv2(x)\n",
    "#         print(\"Shape after encoder_conv2:\", x.shape)\n",
    "#         x = self.encoder_maxpool2(x)\n",
    "#         print(\"Shape after encoder_maxpool2:\", x.shape)\n",
    "#         x = x.view(-1, 32 * 7 * 7)\n",
    "#         print(\"Shape after flattening:\", x.shape)\n",
    "#         x = self.encoder_linear(x)\n",
    "#         print(\"Shape after encoder_linear:\", x.shape)\n",
    "\n",
    "#         print(\"encoder finished now decoder\")\n",
    "\n",
    "#         # Decoder\n",
    "#         x = self.decoder_linear(x)\n",
    "#         print(\"Shape after decoder_linear:\", x.shape)\n",
    "#         x = x.view(-1, 32, 7, 7)\n",
    "#         print(\"Shape after reshaping:\", x.shape)\n",
    "#         x = self.decoder_conv1(x)\n",
    "#         print(\"Shape after decoder_conv1:\", x.shape)\n",
    "#         x = self.decoder_upsample1(x)\n",
    "#         print(\"Shape after decoder_upsample1:\", x.shape)\n",
    "#         x = self.decoder_conv2(x)\n",
    "#         print(\"Shape after decoder_conv2:\", x.shape)\n",
    "#         x = self.decoder_upsample2(x)\n",
    "#         print(\"Shape after decoder_upsample2:\", x.shape)\n",
    "\n",
    "#         return x\n",
    "\n",
    "# # Load MNIST dataset\n",
    "# transform = transforms.Compose([transforms.ToTensor(), transforms.Normalize((0.1307,), (0.3081,))])\n",
    "# train_dataset = MNIST(root='./data', train=True, transform=transform, download=True)\n",
    "# train_loader = DataLoader(train_dataset, batch_size=64, shuffle=True)\n",
    "\n",
    "# # Create an instance of the autoencoder\n",
    "# autoencoder = Autoencoder()\n",
    "\n",
    "# # Take one image from the dataset\n",
    "# x, _ = next(iter(train_loader))\n",
    "# image = x[0].unsqueeze(0)  # Take the first image from the batch and add a batch dimension\n",
    "\n",
    "# # Forward pass through the autoencoder with the image\n",
    "# output = autoencoder(image)"
   ],
   "metadata": {
    "id": "lKx40PE_GU50"
   },
   "execution_count": null,
   "outputs": []
  },
  {
   "cell_type": "code",
   "source": [
    "# class VAE_SIMPLE(nn.Module):\n",
    "#     def __init__(self, latent_dim=128):\n",
    "#         super(VAE_SIMPLE, self).__init__()\n",
    "\n",
    "#         self.latent_dim= latent_dim #Define latent_dim as an attribute of the class\n",
    "#         print(\"latent dim:\", latent_dim)\n",
    "\n",
    "#         # Encoder layers\n",
    "#         self.encoder_conv1 = nn.Conv2d(1, 6, kernel_size=4, stride=2, padding=1)\n",
    "#         self.encoder_conv2 = nn.Conv2d(6, 12, kernel_size=4, stride=2, padding=1)\n",
    "#         self.encoder_linear_mean = nn.Linear(12 * 7 * 7, latent_dim)  # Mean\n",
    "#         self.encoder_linear_logvar = nn.Linear(12 * 7 * 7, latent_dim)  # Log variance\n",
    "\n",
    "#         # Decoder layers\n",
    "#         self.decoder_linear = nn.Linear(latent_dim, 12 * 7 * 7)  # Must match the output shape of the encoder_linear layers\n",
    "#         self.decoder_conv1 = nn.ConvTranspose2d(12, 6, kernel_size=4,\n",
    "#                                                 stride=2, padding=1, output_padding=0)  # Must match the output shape of encoder_conv2\n",
    "#         self.decoder_conv2 = nn.ConvTranspose2d(6, 1, kernel_size=4,\n",
    "#                                                 stride=2, padding=1, output_padding=0)  # Must match the output shape of encoder_conv1\n",
    "\n",
    "\n",
    "#     def reparameterize(self, mu, logvar):\n",
    "#         std = torch.exp(0.5 * logvar)\n",
    "#         eps = torch.randn_like(std)\n",
    "#         return mu + eps * std\n",
    "\n",
    "#     def forward(self, x):\n",
    "#         # Encoder\n",
    "#         x = self.encoder_conv1(x)\n",
    "#         print(\"After encoder_conv1:\", x.shape)\n",
    "#         x = torch.relu(x)\n",
    "#         print(\"After ReLU:\", x.shape)\n",
    "#         x = self.encoder_conv2(x)\n",
    "#         print(\"After encoder_conv2:\", x.shape)\n",
    "#         x = torch.relu(x)\n",
    "#         print(\"After ReLU:\", x.shape)\n",
    "#         x = x.view(-1, 12 * 7 * 7)\n",
    "#         print(\"After flattening:\", x.shape)\n",
    "#         mu = self.encoder_linear_mean(x)\n",
    "#         print(\"Mean shape:\", mu.shape)\n",
    "#         logvar = self.encoder_linear_logvar(x)\n",
    "#         print(\"Logvar shape:\", logvar.shape)\n",
    "#         z = self.reparameterize(mu, logvar)\n",
    "\n",
    "#         # Decoder\n",
    "#         x = self.decoder_linear(z)\n",
    "#         print(\"After decoder_linear:\", x.shape)\n",
    "#         x = x.view(-1, 12, 7, 7)\n",
    "#         print(\"After reshaping:\", x.shape)\n",
    "#         x = self.decoder_conv1(x)\n",
    "#         print(\"After decoder_conv1:\", x.shape)\n",
    "#         x = torch.relu(x)\n",
    "#         print(\"After ReLU:\", x.shape)\n",
    "#         x = self.decoder_conv2(x)\n",
    "#         print(\"After decoder_conv2:\", x.shape)\n",
    "#         #x = torch.sigmoid(x)  # Use sigmoid activation for output in [0, 1]\n",
    "\n",
    "#         return x, mu, logvar\n",
    "\n",
    "#     def generate(self, z):\n",
    "\n",
    "#         # Generate samples from the standard normal distribution\n",
    "#         #z = torch.randn(batch_size, self.latent_dim).to(device)\n",
    "#         # Decoder for generating samples\n",
    "#         x = self.decoder_linear(z)\n",
    "#         print(\"After decoder_linear:\", x.shape)\n",
    "#         x = x.view(-1, 12, 7, 7)\n",
    "#         print(\"After reshaping:\", x.shape)\n",
    "#         x = self.decoder_conv1(x)\n",
    "#         print(\"After decoder_conv1:\", x.shape)\n",
    "#         x = torch.relu(x)\n",
    "#         print(\"After ReLU:\", x.shape)\n",
    "#         x = self.decoder_conv2(x)\n",
    "#         print(\"After decoder_conv2:\", x.shape)\n",
    "#         #x = torch.sigmoid(x)  # Use sigmoid activation for output in [0, 1]\n",
    "\n",
    "#         return x\n",
    "\n",
    "#     def kl_loss(self, mu, logvar):\n",
    "#         # KL divergence loss\n",
    "#         kl_loss = -0.5 * torch.sum(1 + logvar - mu.pow(2) - logvar.exp())\n",
    "#         return kl_loss\n",
    "\n",
    "# # # Load MNIST dataset\n",
    "# transform = transforms.Compose([transforms.ToTensor(), transforms.Normalize((0.1307,), (0.3081,))])\n",
    "# train_dataset = MNIST(root='./data', train=True, transform=transform, download=True)\n",
    "# train_loader = DataLoader(train_dataset, batch_size=64, shuffle=True)\n",
    "\n",
    "# # Create an instance of the autoencoder\n",
    "# vae = VAE_SIMPLE()\n",
    "\n",
    "# # Take one image from the dataset\n",
    "# x, _ = next(iter(train_loader))\n",
    "# image = x[0].unsqueeze(0)  # Take the first image from the batch and add a batch dimension\n",
    "\n",
    "# # Forward pass through the autoencoder with the image\n",
    "# output = vae(image)"
   ],
   "metadata": {
    "id": "EJTyLG-Pzb_6"
   },
   "execution_count": null,
   "outputs": []
  },
  {
   "cell_type": "code",
   "source": [],
   "metadata": {
    "id": "QKLfQZumzm5S"
   },
   "execution_count": null,
   "outputs": []
  }
 ]
}