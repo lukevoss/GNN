{
  "nbformat": 4,
  "nbformat_minor": 0,
  "metadata": {
    "colab": {
      "provenance": [],
      "collapsed_sections": [
        "-rAxRJ7i7vI1"
      ],
      "include_colab_link": true
    },
    "kernelspec": {
      "name": "python3",
      "display_name": "Python 3"
    },
    "language_info": {
      "name": "python"
    }
  },
  "cells": [
    {
      "cell_type": "markdown",
      "metadata": {
        "id": "view-in-github",
        "colab_type": "text"
      },
      "source": [
        "<a href=\"https://colab.research.google.com/github/neelkanthrawat/GNN-exercises/blob/main/Project/AE_mnist_style_transfer.ipynb\" target=\"_parent\"><img src=\"https://colab.research.google.com/assets/colab-badge.svg\" alt=\"Open In Colab\"/></a>"
      ]
    },
    {
      "cell_type": "markdown",
      "source": [
        "# AE for style transfer via CINN"
      ],
      "metadata": {
        "id": "y42ldso6w5aX"
      }
    },
    {
      "cell_type": "markdown",
      "source": [
        "Training a common AE for the coloured mnist and uncoloured mnist dataset"
      ],
      "metadata": {
        "id": "Fqi0YZV7w1RC"
      }
    },
    {
      "cell_type": "markdown",
      "source": [
        "Let's first generate the coloured MNIST dataset"
      ],
      "metadata": {
        "id": "jIs3gex6xbZk"
      }
    },
    {
      "cell_type": "code",
      "source": [
        "print(\"hello\")"
      ],
      "metadata": {
        "colab": {
          "base_uri": "https://localhost:8080/"
        },
        "id": "_f7pwCmJo9P8",
        "outputId": "51f887d5-9c2d-481a-e8dc-fa53e4b3ffb9"
      },
      "execution_count": null,
      "outputs": [
        {
          "output_type": "stream",
          "name": "stdout",
          "text": [
            "hello\n"
          ]
        }
      ]
    },
    {
      "cell_type": "code",
      "source": [
        "import torch\n",
        "from torchvision.datasets import MNIST\n",
        "from torchvision import transforms\n",
        "from torchvision.transforms import ToTensor\n",
        "from torch.utils.data import DataLoader, TensorDataset\n",
        "from sklearn.model_selection import train_test_split\n",
        "import torch.nn as nn\n",
        "import torch.optim as optim\n",
        "from tqdm import tqdm\n",
        "\n",
        "import numpy as np\n",
        "import matplotlib.pyplot as plt"
      ],
      "metadata": {
        "id": "A1feFcS3yhMM"
      },
      "execution_count": null,
      "outputs": []
    },
    {
      "cell_type": "code",
      "execution_count": null,
      "metadata": {
        "colab": {
          "base_uri": "https://localhost:8080/"
        },
        "id": "mmW0vowgwz-e",
        "outputId": "18158725-df93-41e0-9ef0-77a4ab8fd1ad"
      },
      "outputs": [
        {
          "output_type": "execute_result",
          "data": {
            "text/plain": [
              "array([129, 245, 138])"
            ]
          },
          "metadata": {},
          "execution_count": 4
        }
      ],
      "source": [
        "np.random.randint(0,256,3)"
      ]
    },
    {
      "cell_type": "markdown",
      "source": [
        "### 1. Colored images (combination of R,G,B (and not just one of R,G,B))\n",
        "\n",
        "(For coloring the digits only either red or green or blue, go to section 2 in the notebook below)"
      ],
      "metadata": {
        "id": "oMSoGx_B2YHk"
      }
    },
    {
      "cell_type": "code",
      "source": [
        "# Function to randomly colorize MNIST dataset\n",
        "def random_colorize_mnist(X):\n",
        "    colored_X = np.zeros((X.shape[0], X.shape[1], X.shape[2], 3), dtype=np.uint8)\n",
        "\n",
        "    for i in range(X.shape[0]):\n",
        "        img = X[i]\n",
        "\n",
        "        # Generate random color\n",
        "        color = np.random.randint(0, 256, 3)\n",
        "\n",
        "        # Colorize the digits while keeping the background unchanged\n",
        "        colored_img = np.zeros((img.shape[0], img.shape[1], 3), dtype=np.uint8)\n",
        "        colored_img[img > 0] = color\n",
        "        colored_X[i] = colored_img\n",
        "\n",
        "    return colored_X"
      ],
      "metadata": {
        "id": "2vq0E6QfyfZS"
      },
      "execution_count": null,
      "outputs": []
    },
    {
      "cell_type": "code",
      "source": [
        "# Load MNIST training dataset\n",
        "train_dataset = MNIST(root='./data', train=True, download=True, transform=ToTensor())\n",
        "X_train = train_dataset.data.numpy()\n",
        "y_train = train_dataset.targets.numpy()\n",
        "\n",
        "# Load MNIST test dataset\n",
        "test_dataset = MNIST(root='./data', train=False, download=True, transform=ToTensor())\n",
        "X_test = test_dataset.data.numpy()\n",
        "y_test = test_dataset.targets.numpy()"
      ],
      "metadata": {
        "id": "5sbspr4oy1cw",
        "colab": {
          "base_uri": "https://localhost:8080/"
        },
        "outputId": "4061d9cd-c51f-49a3-8243-a7c69520cc46"
      },
      "execution_count": null,
      "outputs": [
        {
          "output_type": "stream",
          "name": "stdout",
          "text": [
            "Downloading http://yann.lecun.com/exdb/mnist/train-images-idx3-ubyte.gz\n",
            "Downloading http://yann.lecun.com/exdb/mnist/train-images-idx3-ubyte.gz to ./data/MNIST/raw/train-images-idx3-ubyte.gz\n"
          ]
        },
        {
          "output_type": "stream",
          "name": "stderr",
          "text": [
            "100%|██████████| 9912422/9912422 [00:00<00:00, 221522102.52it/s]"
          ]
        },
        {
          "output_type": "stream",
          "name": "stdout",
          "text": [
            "Extracting ./data/MNIST/raw/train-images-idx3-ubyte.gz to ./data/MNIST/raw\n"
          ]
        },
        {
          "output_type": "stream",
          "name": "stderr",
          "text": [
            "\n"
          ]
        },
        {
          "output_type": "stream",
          "name": "stdout",
          "text": [
            "\n",
            "Downloading http://yann.lecun.com/exdb/mnist/train-labels-idx1-ubyte.gz\n",
            "Downloading http://yann.lecun.com/exdb/mnist/train-labels-idx1-ubyte.gz to ./data/MNIST/raw/train-labels-idx1-ubyte.gz\n"
          ]
        },
        {
          "output_type": "stream",
          "name": "stderr",
          "text": [
            "100%|██████████| 28881/28881 [00:00<00:00, 24581106.70it/s]\n"
          ]
        },
        {
          "output_type": "stream",
          "name": "stdout",
          "text": [
            "Extracting ./data/MNIST/raw/train-labels-idx1-ubyte.gz to ./data/MNIST/raw\n",
            "\n",
            "Downloading http://yann.lecun.com/exdb/mnist/t10k-images-idx3-ubyte.gz\n",
            "Downloading http://yann.lecun.com/exdb/mnist/t10k-images-idx3-ubyte.gz to ./data/MNIST/raw/t10k-images-idx3-ubyte.gz\n"
          ]
        },
        {
          "output_type": "stream",
          "name": "stderr",
          "text": [
            "100%|██████████| 1648877/1648877 [00:00<00:00, 247836996.83it/s]"
          ]
        },
        {
          "output_type": "stream",
          "name": "stdout",
          "text": [
            "Extracting ./data/MNIST/raw/t10k-images-idx3-ubyte.gz to ./data/MNIST/raw\n",
            "\n",
            "Downloading http://yann.lecun.com/exdb/mnist/t10k-labels-idx1-ubyte.gz\n"
          ]
        },
        {
          "output_type": "stream",
          "name": "stderr",
          "text": [
            "\n"
          ]
        },
        {
          "output_type": "stream",
          "name": "stdout",
          "text": [
            "Downloading http://yann.lecun.com/exdb/mnist/t10k-labels-idx1-ubyte.gz to ./data/MNIST/raw/t10k-labels-idx1-ubyte.gz\n"
          ]
        },
        {
          "output_type": "stream",
          "name": "stderr",
          "text": [
            "100%|██████████| 4542/4542 [00:00<00:00, 20032101.75it/s]\n"
          ]
        },
        {
          "output_type": "stream",
          "name": "stdout",
          "text": [
            "Extracting ./data/MNIST/raw/t10k-labels-idx1-ubyte.gz to ./data/MNIST/raw\n",
            "\n"
          ]
        }
      ]
    },
    {
      "cell_type": "code",
      "source": [
        "# Colorize the training images\n",
        "colored_X_train = random_colorize_mnist(X_train)\n",
        "\n",
        "# Colorize the test images\n",
        "colored_X_test = random_colorize_mnist(X_test)"
      ],
      "metadata": {
        "id": "uayZCSSgz1Tl"
      },
      "execution_count": null,
      "outputs": []
    },
    {
      "cell_type": "code",
      "source": [
        "# Function to plot colored MNIST dataset\n",
        "def plotting_mnist_dataset(colored_X, title):\n",
        "    plt.figure(figsize=(10, 4))\n",
        "    for i in range(10):\n",
        "        plt.subplot(2, 5, i + 1)\n",
        "        plt.imshow(colored_X[i])\n",
        "        plt.axis('off')\n",
        "    plt.suptitle(title)\n",
        "    plt.show()"
      ],
      "metadata": {
        "id": "0dCw3JxEz15i"
      },
      "execution_count": null,
      "outputs": []
    },
    {
      "cell_type": "code",
      "source": [
        "# Plot colored images from the training dataset\n",
        "plotting_mnist_dataset(colored_X_train, 'Colored MNIST - Training Dataset')\n",
        "\n",
        "# Plot colored images from the test dataset\n",
        "plotting_mnist_dataset(colored_X_test, 'Colored MNIST - Test Dataset')"
      ],
      "metadata": {
        "colab": {
          "base_uri": "https://localhost:8080/",
          "height": 745
        },
        "id": "GtE8hyRx0KIf",
        "outputId": "79b8c8a8-d511-47da-836a-e4a85df817ff"
      },
      "execution_count": null,
      "outputs": [
        {
          "output_type": "display_data",
          "data": {
            "text/plain": [
              "<Figure size 1000x400 with 10 Axes>"
            ],
            "image/png": "[encoded data removed]"
          },
          "metadata": {}
        },
        {
          "output_type": "display_data",
          "data": {
            "text/plain": [
              "<Figure size 1000x400 with 10 Axes>"
            ],
            "image/png": "[encoded data removed]"
          },
          "metadata": {}
        }
      ]
    },
    {
      "cell_type": "code",
      "source": [
        "# Save colored datasets and labels\n",
        "np.savez('colored_mnist_train.npz', images=colored_X_train, labels=y_train)\n",
        "np.savez('colored_mnist_test.npz', images=colored_X_test, labels=y_test)"
      ],
      "metadata": {
        "id": "nS9nRgwc0K8R"
      },
      "execution_count": null,
      "outputs": []
    },
    {
      "cell_type": "code",
      "source": [
        "# #  CODE TO Load the colored training dataset\n",
        "# train_data = np.load('colored_mnist_train.npz')\n",
        "# colored_X_train = train_data['images']\n",
        "# y_train = train_data['labels']\n",
        "\n",
        "# # Load the colored test dataset\n",
        "# test_data = np.load('colored_mnist_test.npz')\n",
        "# colored_X_test = test_data['images']\n",
        "# y_test = test_data['labels']"
      ],
      "metadata": {
        "id": "IjjLF4111SMw"
      },
      "execution_count": null,
      "outputs": []
    },
    {
      "cell_type": "markdown",
      "source": [
        "### 2. Let's create the dataset where the digits are colored only R,G,B."
      ],
      "metadata": {
        "id": "PhumuZuT2IVJ"
      }
    },
    {
      "cell_type": "code",
      "source": [
        "# Function to randomly colorize MNIST dataset with a single color channel\n",
        "def random_colorize_rgb_mnist(X):\n",
        "    colored_X = np.zeros((X.shape[0], X.shape[1], X.shape[2], 3), dtype=np.uint8)\n",
        "\n",
        "    for i in range(X.shape[0]):\n",
        "        img = X[i]\n",
        "\n",
        "        # Generate random color channel index (0 for red, 1 for green, 2 for blue)\n",
        "        color_channel_index = np.random.randint(0, 3)\n",
        "\n",
        "        # Set the color based on the selected color channel\n",
        "        color = [0, 0, 0]\n",
        "        color[color_channel_index] = 255\n",
        "\n",
        "        # Colorize the digits while keeping the background unchanged\n",
        "        colored_img = np.zeros((img.shape[0], img.shape[1], 3), dtype=np.uint8)\n",
        "        colored_img[img > 0] = color\n",
        "        colored_X[i] = colored_img\n",
        "\n",
        "    return colored_X\n"
      ],
      "metadata": {
        "id": "EjzKrM8t2H6a"
      },
      "execution_count": null,
      "outputs": []
    },
    {
      "cell_type": "code",
      "source": [
        "colored_rgb_X_train = random_colorize_rgb_mnist(X_train)\n",
        "colored_rgb_X_test = random_colorize_rgb_mnist(X_test)"
      ],
      "metadata": {
        "id": "s_m-WJ_T2Wu1"
      },
      "execution_count": null,
      "outputs": []
    },
    {
      "cell_type": "code",
      "source": [
        "# Plot colored images from the training dataset\n",
        "plotting_mnist_dataset(colored_rgb_X_train, 'Colored RGB MNIST - Training Dataset')\n",
        "\n",
        "# Plot colored images from the test dataset\n",
        "plotting_mnist_dataset(colored_rgb_X_test, 'Colored RGB MNIST - Test Dataset')"
      ],
      "metadata": {
        "colab": {
          "base_uri": "https://localhost:8080/",
          "height": 745
        },
        "id": "cUskrsWn3DSz",
        "outputId": "70fd6d03-9aab-455b-fb9e-8be776b53f24"
      },
      "execution_count": null,
      "outputs": [
        {
          "output_type": "display_data",
          "data": {
            "text/plain": [
              "<Figure size 1000x400 with 10 Axes>"
            ],
            "image/png": "[encoded data removed]"
          },
          "metadata": {}
        },
        {
          "output_type": "display_data",
          "data": {
            "text/plain": [
              "<Figure size 1000x400 with 10 Axes>"
            ],
            "image/png": "[encoded data removed]"
          },
          "metadata": {}
        }
      ]
    },
    {
      "cell_type": "code",
      "source": [
        "# Save colored datasets and labels\n",
        "np.savez('colored_rgb_mnist_train.npz', images=colored_X_train, labels=y_train)\n",
        "np.savez('colored_rgb_mnist_test.npz', images=colored_X_test, labels=y_test)"
      ],
      "metadata": {
        "id": "5o34i0Zy3LUP"
      },
      "execution_count": null,
      "outputs": []
    },
    {
      "cell_type": "markdown",
      "source": [
        "### Creating the dataset for AE training:"
      ],
      "metadata": {
        "id": "OWU63Zaa2CBY"
      }
    },
    {
      "cell_type": "code",
      "source": [
        "### Load MNIST training dataset\n",
        "train_dataset = MNIST(root='./data', train=True, download=True, transform=ToTensor())\n",
        "uncolored_X_train = train_dataset.data.numpy()\n",
        "uncolored_y_train = train_dataset.targets.numpy()\n",
        "\n",
        "### Load MNIST test dataset\n",
        "test_dataset = MNIST(root='./data', train=False, download=True, transform=ToTensor())\n",
        "uncolored_X_test = test_dataset.data.numpy()\n",
        "uncolored_y_test = test_dataset.targets.numpy()\n",
        "\n",
        "### coloured dataset\n",
        "colored_rgb_X_train = random_colorize_rgb_mnist(uncolored_X_train)\n",
        "colored_rgb_X_test = random_colorize_rgb_mnist(uncolored_X_test)\n",
        "\n",
        "### labels for the dataset\n",
        "# Create labels for uncolored datasets\n",
        "uncolored_labels_train = np.zeros(len(uncolored_X_train))\n",
        "uncolored_labels_test = np.zeros(len(uncolored_X_test))\n",
        "\n",
        "# Create labels for colored datasets\n",
        "colored_labels_train = np.ones(len(colored_rgb_X_train))\n",
        "colored_labels_test = np.ones(len(colored_rgb_X_test))"
      ],
      "metadata": {
        "id": "tn4BY33Y18vz"
      },
      "execution_count": null,
      "outputs": []
    },
    {
      "cell_type": "code",
      "source": [
        "np.shape(uncolored_X_train), np.shape(colored_rgb_X_train)"
      ],
      "metadata": {
        "colab": {
          "base_uri": "https://localhost:8080/"
        },
        "id": "wfXTB7vVA9ZY",
        "outputId": "e9338951-d4fb-417f-b111-45186a57a629"
      },
      "execution_count": null,
      "outputs": [
        {
          "output_type": "execute_result",
          "data": {
            "text/plain": [
              "((60000, 28, 28), (60000, 28, 28, 3))"
            ]
          },
          "metadata": {},
          "execution_count": 17
        }
      ]
    },
    {
      "cell_type": "markdown",
      "source": [
        "Expanding the single-channel images of the uncolored dataset to three channels by replicating the single channel across all three channels:"
      ],
      "metadata": {
        "id": "z_SQ3Q9fA3GZ"
      }
    },
    {
      "cell_type": "code",
      "source": [
        "# Reshape uncolored images to (60000, 28, 28, 1)\n",
        "uncolored_X_train_resized = uncolored_X_train.reshape(-1, 28, 28, 1)\n",
        "uncolored_X_test_resized = uncolored_X_test.reshape(-1, 28, 28, 1)\n",
        "\n",
        "# Expand single channel to three channels\n",
        "uncolored_X_train_expanded = np.repeat(uncolored_X_train_resized, 3, axis=-1)\n",
        "uncolored_X_test_expanded = np.repeat(uncolored_X_test_resized, 3, axis=-1)"
      ],
      "metadata": {
        "id": "cSsSm2Pv_4yg"
      },
      "execution_count": null,
      "outputs": []
    },
    {
      "cell_type": "code",
      "source": [
        "np.shape(uncolored_X_train), np.shape(colored_rgb_X_train), np.shape(uncolored_X_train_expanded)"
      ],
      "metadata": {
        "colab": {
          "base_uri": "https://localhost:8080/"
        },
        "id": "zus6OpQo4uzd",
        "outputId": "9810cc56-8b34-4aa5-90ee-f50908aba65b"
      },
      "execution_count": null,
      "outputs": [
        {
          "output_type": "execute_result",
          "data": {
            "text/plain": [
              "((60000, 28, 28), (60000, 28, 28, 3), (60000, 28, 28, 3))"
            ]
          },
          "metadata": {},
          "execution_count": 19
        }
      ]
    },
    {
      "cell_type": "markdown",
      "source": [
        "Normalising the data"
      ],
      "metadata": {
        "id": "Gpz5DndSApm_"
      }
    },
    {
      "cell_type": "code",
      "source": [
        "# Normalize the datasets\n",
        "# Convert the datasets to float32 before normalization\n",
        "uncolored_X_train_expanded = uncolored_X_train_expanded.astype(np.float32)\n",
        "uncolored_X_test_expanded = uncolored_X_test_expanded.astype(np.float32)\n",
        "colored_rgb_X_train = colored_rgb_X_train.astype(np.float32)\n",
        "colored_rgb_X_test = colored_rgb_X_test.astype(np.float32)\n",
        "\n",
        "# Normalize the datasets\n",
        "uncolored_X_train_expanded_norm=uncolored_X_train_expanded /255.0\n",
        "uncolored_X_test_expanded_norm = uncolored_X_test_expanded/255.0\n",
        "colored_rgb_X_train_norm = colored_rgb_X_train/255.0\n",
        "colored_rgb_X_test_norm=colored_rgb_X_test/255.0"
      ],
      "metadata": {
        "id": "NlGVu5OxAopy"
      },
      "execution_count": null,
      "outputs": []
    },
    {
      "cell_type": "code",
      "source": [
        "### FOR X_TRAIN and labels_TRAIN\n",
        "# Initialize empty arrays to store mixed data and labels\n",
        "mixed_X_train = np.empty((len(uncolored_X_train_expanded) + len(colored_rgb_X_train), 28, 28, 3), dtype=np.float32)\n",
        "mixed_labels_train = np.empty(len(uncolored_labels_train) + len(colored_labels_train))\n",
        "\n",
        "# Interleave uncolored and colored data and labels\n",
        "mixed_X_train[::2] = colored_rgb_X_train_norm#uncolored_X_train_expanded_norm\n",
        "mixed_X_train[1::2] = colored_rgb_X_train_norm\n",
        "\n",
        "mixed_labels_train[::2] = uncolored_labels_train\n",
        "mixed_labels_train[1::2] = colored_labels_train\n"
      ],
      "metadata": {
        "id": "OBj6uqfJAoIL"
      },
      "execution_count": null,
      "outputs": []
    },
    {
      "cell_type": "code",
      "source": [
        "np.shape(mixed_X_train), np.shape(mixed_labels_train)"
      ],
      "metadata": {
        "colab": {
          "base_uri": "https://localhost:8080/"
        },
        "id": "Bm_Te9odDTl9",
        "outputId": "287177d1-e5a8-40ae-acc5-123905494506"
      },
      "execution_count": null,
      "outputs": [
        {
          "output_type": "execute_result",
          "data": {
            "text/plain": [
              "((120000, 28, 28, 3), (120000,))"
            ]
          },
          "metadata": {},
          "execution_count": 22
        }
      ]
    },
    {
      "cell_type": "code",
      "source": [
        "### FOR X_TEST AND LABELS_TEST\n",
        "# Initialize empty arrays to store mixed test data and labels\n",
        "mixed_X_test = np.empty((len(uncolored_X_test_expanded) + len(colored_rgb_X_test), 28, 28, 3), dtype=np.float32)\n",
        "mixed_labels_test = np.empty(len(uncolored_labels_test) + len(colored_labels_test))\n",
        "\n",
        "# Interleave uncolored and colored test data and labels\n",
        "mixed_X_test[::2] = colored_rgb_X_test_norm#uncolored_X_test_expanded_norm\n",
        "mixed_X_test[1::2] = colored_rgb_X_test_norm\n",
        "\n",
        "mixed_labels_test[::2] = uncolored_labels_test\n",
        "mixed_labels_test[1::2] = colored_labels_test\n"
      ],
      "metadata": {
        "id": "L_oL14OCD04W"
      },
      "execution_count": null,
      "outputs": []
    },
    {
      "cell_type": "code",
      "source": [
        "np.shape(mixed_X_test), np.shape(mixed_labels_test)"
      ],
      "metadata": {
        "colab": {
          "base_uri": "https://localhost:8080/"
        },
        "id": "kKCsZ_EjEARp",
        "outputId": "911d6c19-2c26-4391-c3b6-d4f252b259ab"
      },
      "execution_count": null,
      "outputs": [
        {
          "output_type": "execute_result",
          "data": {
            "text/plain": [
              "((20000, 28, 28, 3), (20000,))"
            ]
          },
          "metadata": {},
          "execution_count": 24
        }
      ]
    },
    {
      "cell_type": "code",
      "source": [
        "are_values_between_zero_and_one = np.all((mixed_X_train >= 0) & (mixed_X_train <= 1))\n",
        "\n",
        "if are_values_between_zero_and_one:\n",
        "    print(\"All values in mixed_X_test are between 0 and 1.\")\n",
        "else:\n",
        "    print(\"Not all values in mixed_X_test are between 0 and 1.\")"
      ],
      "metadata": {
        "colab": {
          "base_uri": "https://localhost:8080/"
        },
        "id": "C1JonqqJi3Ei",
        "outputId": "774e1079-98dc-4b2e-9ab8-f3dc259dcb44"
      },
      "execution_count": null,
      "outputs": [
        {
          "output_type": "stream",
          "name": "stdout",
          "text": [
            "All values in mixed_X_test are between 0 and 1.\n"
          ]
        }
      ]
    },
    {
      "cell_type": "markdown",
      "source": [
        "Creating Dataloaders for AE training"
      ],
      "metadata": {
        "id": "q_tJqGSIEYH5"
      }
    },
    {
      "cell_type": "code",
      "source": [
        "# Convert NumPy arrays to PyTorch tensors\n",
        "mixed_X_train_tensor = torch.tensor(mixed_X_train)\n",
        "mixed_X_test_tensor = torch.tensor(mixed_X_test)\n",
        "\n",
        "# Permute the mixed_X_train and mixed_X_test tensors\n",
        "mixed_X_train_permuted = mixed_X_train_tensor.permute(0, 3, 1, 2)  # earlier channels are the last dimension\n",
        "mixed_X_test_permuted = mixed_X_test_tensor.permute(0, 3, 1, 2)  # earlier channels are the last dimension\n",
        "\n",
        "# Create a TensorDataset for train and test data\n",
        "train_dataset = TensorDataset(mixed_X_train_permuted)\n",
        "test_dataset = TensorDataset(mixed_X_test_permuted)\n",
        "\n",
        "# Split the train dataset into train and validation datasets\n",
        "train_indices, val_indices = train_test_split(range(len(train_dataset)),\n",
        "                                              test_size=0.1, random_state=42)\n",
        "train_subset = torch.utils.data.Subset(train_dataset, train_indices)\n",
        "val_subset = torch.utils.data.Subset(train_dataset, val_indices)\n",
        "\n",
        "# Define batch size\n",
        "batch_size = 64\n",
        "\n",
        "# Create DataLoader objects\n",
        "train_loader = DataLoader(train_subset, batch_size=batch_size, shuffle=True)\n",
        "val_loader = DataLoader(val_subset, batch_size=batch_size, shuffle=True)\n",
        "test_loader = DataLoader(test_dataset, batch_size=batch_size, shuffle=True)"
      ],
      "metadata": {
        "id": "UP6G8rLBFyxX"
      },
      "execution_count": null,
      "outputs": []
    },
    {
      "cell_type": "markdown",
      "source": [
        "Let's check the format of the batches of data in the dataloader"
      ],
      "metadata": {
        "id": "EwOLJjx_Od8H"
      }
    },
    {
      "cell_type": "code",
      "source": [
        "# Get a single batch from the train_loader\n",
        "sample_batch = next(iter(train_loader))\n",
        "\n",
        "# Check the type of the batch\n",
        "print(\"Type of batch:\", type(sample_batch))\n",
        "\n",
        "# Check the type of the data within the batch\n",
        "if isinstance(sample_batch, (list, tuple)):\n",
        "    print(\"Type of data within the batch:\", type(sample_batch[0]))\n",
        "elif isinstance(sample_batch, dict):\n",
        "    print(\"Type of data within the batch:\", type(sample_batch['data']))"
      ],
      "metadata": {
        "colab": {
          "base_uri": "https://localhost:8080/"
        },
        "id": "lOqhypxCNNYm",
        "outputId": "a23afac5-cabc-4ab0-ed1c-337360cdac06"
      },
      "execution_count": null,
      "outputs": [
        {
          "output_type": "stream",
          "name": "stdout",
          "text": [
            "Type of batch: <class 'list'>\n",
            "Type of data within the batch: <class 'torch.Tensor'>\n"
          ]
        }
      ]
    },
    {
      "cell_type": "code",
      "source": [
        "np.shape(sample_batch[0])"
      ],
      "metadata": {
        "colab": {
          "base_uri": "https://localhost:8080/"
        },
        "id": "FtR3CFJnNdR2",
        "outputId": "ed317d91-b068-4a3f-c275-fed6c3654693"
      },
      "execution_count": null,
      "outputs": [
        {
          "output_type": "execute_result",
          "data": {
            "text/plain": [
              "torch.Size([64, 3, 28, 28])"
            ]
          },
          "metadata": {},
          "execution_count": 28
        }
      ]
    },
    {
      "cell_type": "markdown",
      "source": [
        "So the format of the sample_batch is: I have a list and inside that list I have 64 images of the shape 28X28X3."
      ],
      "metadata": {
        "id": "0yPEEXkuN12E"
      }
    },
    {
      "cell_type": "markdown",
      "source": [
        "### Let's create the AE model"
      ],
      "metadata": {
        "id": "bsMXTHpVHi3C"
      }
    },
    {
      "cell_type": "code",
      "source": [
        "class Autoencoder_simpler(nn.Module):\n",
        "    def __init__(self):\n",
        "        super(Autoencoder_simpler, self).__init__()\n",
        "\n",
        "        # Encoder layers\n",
        "        self.encoder_conv1 = nn.Conv2d(3, 10, kernel_size=3, stride=2, padding=1)  # Use stride 2 for downscaling\n",
        "        self.encoder_conv2 = nn.Conv2d(10, 20, kernel_size=3, stride=2, padding=1)  # Use stride 2 for downscaling\n",
        "        self.encoder_linear = nn.Linear(20 * 7 * 7, 64)# 64*6 ---> 20\n",
        "\n",
        "        # Decoder layers\n",
        "        self.decoder_linear = nn.Linear(64, 20* 7 * 7)\n",
        "        self.decoder_conv1 = nn.ConvTranspose2d(20, 10, kernel_size=3, stride=2, padding=1, output_padding=1)  # Use stride 2 for upscaling\n",
        "        self.decoder_conv2 = nn.ConvTranspose2d(10, 3, kernel_size=3, stride=2, padding=1, output_padding=1)  # Use stride 2 for upscaling\n",
        "        #self.sigmoid = nn.Sigmoid()\n",
        "\n",
        "    def encoder(self, x):\n",
        "        # Encoder\n",
        "        x = self.encoder_conv1(x)\n",
        "        x = torch.relu(x)\n",
        "        x = self.encoder_conv2(x)\n",
        "        x = torch.relu(x)\n",
        "        x = x.view(-1, 20 * 7 * 7)\n",
        "        x = self.encoder_linear(x)\n",
        "        return x\n",
        "\n",
        "    def decoder(self, x):\n",
        "        # Decoder\n",
        "        x = self.decoder_linear(x)\n",
        "        x = x.view(-1, 20, 7, 7)\n",
        "        x = self.decoder_conv1(x)\n",
        "        x = torch.relu(x)\n",
        "        x = self.decoder_conv2(x)\n",
        "        x = torch.relu(x)\n",
        "        return x\n",
        "\n",
        "    def forward(self, x):\n",
        "        encoded = self.encoder(x)\n",
        "        decoded = self.decoder(encoded)\n",
        "        return decoded\n"
      ],
      "metadata": {
        "id": "4ULZBwsRam1K"
      },
      "execution_count": null,
      "outputs": []
    },
    {
      "cell_type": "code",
      "source": [
        "import torch\n",
        "import torch.nn as nn\n",
        "import torch.optim as optim\n",
        "\n",
        "def train_and_evaluate(autoencoder, train_loader, val_loader,\n",
        "                       num_epochs=10, learning_rate=1e-3, weight_decay=0.001,\n",
        "                       print_epoch=10, device='cuda' if torch.cuda.is_available() else 'cpu'):\n",
        "\n",
        "    criterion = nn.MSELoss()\n",
        "    optimizer = optim.Adam(autoencoder.parameters(), lr=learning_rate, weight_decay=weight_decay)\n",
        "\n",
        "    autoencoder.to(device)  # Move model to device\n",
        "\n",
        "    train_losses = []\n",
        "    val_losses = []\n",
        "\n",
        "    for epoch in tqdm(range(num_epochs), desc='Epochs'):\n",
        "        train_loss = 0.0\n",
        "        val_loss = 0.0\n",
        "\n",
        "        # Training\n",
        "        autoencoder.train()\n",
        "        for data in train_loader:\n",
        "            inputs = data[0] # extract the data\n",
        "            #inputs = inputs.permute(0, 3, 1, 2)# Permute dimensions\n",
        "            inputs = inputs.to(device)\n",
        "\n",
        "            optimizer.zero_grad()\n",
        "            outputs = autoencoder(inputs)\n",
        "            #outputs = outputs.permute(0, 2, 3, 1)  # Permute dimensions back\n",
        "            loss = criterion(outputs, inputs)\n",
        "            loss.backward()\n",
        "            optimizer.step()\n",
        "\n",
        "            train_loss += loss.item()\n",
        "\n",
        "        # Validation\n",
        "        autoencoder.eval()\n",
        "        with torch.no_grad():\n",
        "            for data in val_loader:\n",
        "                inputs = data[0] # extract the data\n",
        "                #inputs = inputs.permute(0, 3, 1, 2)# Permute dimensions\n",
        "                inputs = inputs.to(device)\n",
        "\n",
        "                outputs = autoencoder(inputs)\n",
        "                #outputs = outputs.permute(0, 2, 3, 1)  # Permute dimensions back\n",
        "                loss = criterion(outputs, inputs)\n",
        "\n",
        "                val_loss += loss.item()\n",
        "\n",
        "        # Average losses\n",
        "        train_loss /= len(train_loader)\n",
        "        val_loss /= len(val_loader)\n",
        "\n",
        "        train_losses.append(train_loss)\n",
        "        val_losses.append(val_loss)\n",
        "\n",
        "        # Print losses\n",
        "        if (epoch + 1) % print_epoch == 0:\n",
        "            print(f\"\\nEpoch [{epoch+1}/{num_epochs}], Train Loss: {train_loss:.9f}, Val Loss: {val_loss:.9f}\")\n",
        "\n",
        "    return train_losses, val_losses\n"
      ],
      "metadata": {
        "id": "6a5FD1CZKZ5e"
      },
      "execution_count": null,
      "outputs": []
    },
    {
      "cell_type": "code",
      "source": [
        "device = 'cuda' if torch.cuda.is_available() else 'cpu'\n",
        "print(device)"
      ],
      "metadata": {
        "colab": {
          "base_uri": "https://localhost:8080/"
        },
        "id": "Y5VqhI9uIb4v",
        "outputId": "e0a4eb5f-2624-462f-a6d4-7ed34466296e"
      },
      "execution_count": null,
      "outputs": [
        {
          "output_type": "stream",
          "name": "stdout",
          "text": [
            "cuda\n"
          ]
        }
      ]
    },
    {
      "cell_type": "code",
      "source": [
        "def plot_losses(train_losses, val_losses):\n",
        "    plt.figure(figsize=(7, 5))\n",
        "    plt.plot(train_losses, label='Train Loss', color='blue')\n",
        "    plt.plot(val_losses, label='Validation Loss', color='red')\n",
        "    plt.xlabel('Epoch')\n",
        "    plt.ylabel('Loss')\n",
        "    plt.title('Training and Validation Losses')\n",
        "    plt.legend()\n",
        "    plt.grid(True)\n",
        "    plt.show()"
      ],
      "metadata": {
        "id": "Xns-FP5IIeAe"
      },
      "execution_count": null,
      "outputs": []
    },
    {
      "cell_type": "code",
      "source": [
        "def plot_images_test_AE(actual_images, reconstructed_images):\n",
        "    fig, axes = plt.subplots(2, len(actual_images), figsize=(len(actual_images) * 2, 4))\n",
        "    for i in range(len(actual_images)):\n",
        "        axes[0, i].imshow(np.transpose(actual_images[i].numpy(), (1, 2, 0)))  # Transpose to (28, 28, 3) format for actual images\n",
        "        axes[0, i].axis('off')\n",
        "        axes[1, i].imshow(np.transpose(reconstructed_images[i].numpy(), (1, 2, 0)))  # Transpose to (28, 28, 3) format for reconstructed images\n",
        "        axes[1, i].axis('off')\n",
        "    plt.show()\n",
        "\n",
        "def test_model_ae(autoencoder, test_loader, num_images=8, device='cuda' if torch.cuda.is_available() else 'cpu'):\n",
        "    autoencoder.eval()\n",
        "    actual_images = []\n",
        "    reconstructed_images = []\n",
        "    with torch.no_grad():\n",
        "        for data in test_loader:\n",
        "            inputs = data[0]  # extract the data\n",
        "            inputs = inputs.to(device)\n",
        "\n",
        "            # Encode and decode the images\n",
        "            outputs = autoencoder(inputs)\n",
        "            actual_images.extend(inputs[:num_images].cpu())  # Select first num_images actual images\n",
        "            reconstructed_images.extend(outputs[:num_images].cpu())  # Select first num_images reconstructed images\n",
        "\n",
        "            if len(actual_images) >= num_images:\n",
        "                break\n",
        "\n",
        "    plot_images_test_AE(actual_images, reconstructed_images)"
      ],
      "metadata": {
        "id": "8rE1qGiPTodw"
      },
      "execution_count": null,
      "outputs": []
    },
    {
      "cell_type": "markdown",
      "source": [
        "let's instantiate a model and train in on the mixture of colored and uncolored mnist dataset"
      ],
      "metadata": {
        "id": "vZAkeWuiI9FN"
      }
    },
    {
      "cell_type": "code",
      "source": [
        "# instantiate the model\n",
        "autoencoder_mixed_mnist=Autoencoder_simpler()\n",
        "\n",
        "# train\n",
        "train_losses, val_losses = train_and_evaluate(autoencoder_mixed_mnist,\n",
        "                                              train_loader, val_loader,learning_rate=5e-4,\n",
        "                                              num_epochs=50, print_epoch=2)"
      ],
      "metadata": {
        "colab": {
          "base_uri": "https://localhost:8080/"
        },
        "id": "pxuZ879lJCfA",
        "outputId": "931b0286-745b-42bd-9438-0c0805e365b8"
      },
      "execution_count": null,
      "outputs": [
        {
          "output_type": "stream",
          "name": "stderr",
          "text": [
            "Epochs:   4%|▍         | 2/50 [00:15<05:57,  7.46s/it]"
          ]
        },
        {
          "output_type": "stream",
          "name": "stdout",
          "text": [
            "\n",
            "Epoch [2/50], Train Loss: 0.017387874, Val Loss: 0.016057457\n"
          ]
        },
        {
          "output_type": "stream",
          "name": "stderr",
          "text": [
            "Epochs:   8%|▊         | 4/50 [00:26<04:51,  6.33s/it]"
          ]
        },
        {
          "output_type": "stream",
          "name": "stdout",
          "text": [
            "\n",
            "Epoch [4/50], Train Loss: 0.015098312, Val Loss: 0.014944131\n"
          ]
        },
        {
          "output_type": "stream",
          "name": "stderr",
          "text": [
            "Epochs:  12%|█▏        | 6/50 [00:38<04:21,  5.94s/it]"
          ]
        },
        {
          "output_type": "stream",
          "name": "stdout",
          "text": [
            "\n",
            "Epoch [6/50], Train Loss: 0.014594509, Val Loss: 0.014463367\n"
          ]
        },
        {
          "output_type": "stream",
          "name": "stderr",
          "text": [
            "Epochs:  16%|█▌        | 8/50 [00:49<04:01,  5.76s/it]"
          ]
        },
        {
          "output_type": "stream",
          "name": "stdout",
          "text": [
            "\n",
            "Epoch [8/50], Train Loss: 0.014427987, Val Loss: 0.014317826\n"
          ]
        },
        {
          "output_type": "stream",
          "name": "stderr",
          "text": [
            "Epochs:  20%|██        | 10/50 [01:00<03:48,  5.71s/it]"
          ]
        },
        {
          "output_type": "stream",
          "name": "stdout",
          "text": [
            "\n",
            "Epoch [10/50], Train Loss: 0.014329735, Val Loss: 0.014160015\n"
          ]
        },
        {
          "output_type": "stream",
          "name": "stderr",
          "text": [
            "Epochs:  24%|██▍       | 12/50 [01:11<03:35,  5.68s/it]"
          ]
        },
        {
          "output_type": "stream",
          "name": "stdout",
          "text": [
            "\n",
            "Epoch [12/50], Train Loss: 0.014297673, Val Loss: 0.014239085\n"
          ]
        },
        {
          "output_type": "stream",
          "name": "stderr",
          "text": [
            "Epochs:  28%|██▊       | 14/50 [01:22<03:22,  5.64s/it]"
          ]
        },
        {
          "output_type": "stream",
          "name": "stdout",
          "text": [
            "\n",
            "Epoch [14/50], Train Loss: 0.014256582, Val Loss: 0.014163539\n"
          ]
        },
        {
          "output_type": "stream",
          "name": "stderr",
          "text": [
            "Epochs:  32%|███▏      | 16/50 [01:33<03:09,  5.56s/it]"
          ]
        },
        {
          "output_type": "stream",
          "name": "stdout",
          "text": [
            "\n",
            "Epoch [16/50], Train Loss: 0.014225768, Val Loss: 0.014096556\n"
          ]
        },
        {
          "output_type": "stream",
          "name": "stderr",
          "text": [
            "Epochs:  36%|███▌      | 18/50 [01:44<02:56,  5.53s/it]"
          ]
        },
        {
          "output_type": "stream",
          "name": "stdout",
          "text": [
            "\n",
            "Epoch [18/50], Train Loss: 0.014213401, Val Loss: 0.014185446\n"
          ]
        },
        {
          "output_type": "stream",
          "name": "stderr",
          "text": [
            "Epochs:  40%|████      | 20/50 [01:56<02:48,  5.62s/it]"
          ]
        },
        {
          "output_type": "stream",
          "name": "stdout",
          "text": [
            "\n",
            "Epoch [20/50], Train Loss: 0.014206429, Val Loss: 0.014176039\n"
          ]
        },
        {
          "output_type": "stream",
          "name": "stderr",
          "text": [
            "Epochs:  44%|████▍     | 22/50 [02:07<02:36,  5.58s/it]"
          ]
        },
        {
          "output_type": "stream",
          "name": "stdout",
          "text": [
            "\n",
            "Epoch [22/50], Train Loss: 0.014186515, Val Loss: 0.013996909\n"
          ]
        },
        {
          "output_type": "stream",
          "name": "stderr",
          "text": [
            "Epochs:  48%|████▊     | 24/50 [02:18<02:24,  5.57s/it]"
          ]
        },
        {
          "output_type": "stream",
          "name": "stdout",
          "text": [
            "\n",
            "Epoch [24/50], Train Loss: 0.014176148, Val Loss: 0.014215479\n"
          ]
        },
        {
          "output_type": "stream",
          "name": "stderr",
          "text": [
            "Epochs:  52%|█████▏    | 26/50 [02:30<02:13,  5.56s/it]"
          ]
        },
        {
          "output_type": "stream",
          "name": "stdout",
          "text": [
            "\n",
            "Epoch [26/50], Train Loss: 0.014166891, Val Loss: 0.014161922\n"
          ]
        },
        {
          "output_type": "stream",
          "name": "stderr",
          "text": [
            "Epochs:  56%|█████▌    | 28/50 [02:41<02:02,  5.55s/it]"
          ]
        },
        {
          "output_type": "stream",
          "name": "stdout",
          "text": [
            "\n",
            "Epoch [28/50], Train Loss: 0.014153007, Val Loss: 0.014103382\n"
          ]
        },
        {
          "output_type": "stream",
          "name": "stderr",
          "text": [
            "Epochs:  60%|██████    | 30/50 [02:52<01:51,  5.57s/it]"
          ]
        },
        {
          "output_type": "stream",
          "name": "stdout",
          "text": [
            "\n",
            "Epoch [30/50], Train Loss: 0.014149011, Val Loss: 0.014024984\n"
          ]
        },
        {
          "output_type": "stream",
          "name": "stderr",
          "text": [
            "Epochs:  64%|██████▍   | 32/50 [03:04<01:42,  5.71s/it]"
          ]
        },
        {
          "output_type": "stream",
          "name": "stdout",
          "text": [
            "\n",
            "Epoch [32/50], Train Loss: 0.014123412, Val Loss: 0.014028096\n"
          ]
        },
        {
          "output_type": "stream",
          "name": "stderr",
          "text": [
            "Epochs:  68%|██████▊   | 34/50 [03:15<01:30,  5.63s/it]"
          ]
        },
        {
          "output_type": "stream",
          "name": "stdout",
          "text": [
            "\n",
            "Epoch [34/50], Train Loss: 0.014117790, Val Loss: 0.014037072\n"
          ]
        },
        {
          "output_type": "stream",
          "name": "stderr",
          "text": [
            "Epochs:  72%|███████▏  | 36/50 [03:26<01:19,  5.69s/it]"
          ]
        },
        {
          "output_type": "stream",
          "name": "stdout",
          "text": [
            "\n",
            "Epoch [36/50], Train Loss: 0.014113195, Val Loss: 0.014025928\n"
          ]
        },
        {
          "output_type": "stream",
          "name": "stderr",
          "text": [
            "Epochs:  76%|███████▌  | 38/50 [03:38<01:07,  5.65s/it]"
          ]
        },
        {
          "output_type": "stream",
          "name": "stdout",
          "text": [
            "\n",
            "Epoch [38/50], Train Loss: 0.014116866, Val Loss: 0.014050178\n"
          ]
        },
        {
          "output_type": "stream",
          "name": "stderr",
          "text": [
            "Epochs:  80%|████████  | 40/50 [03:49<00:56,  5.65s/it]"
          ]
        },
        {
          "output_type": "stream",
          "name": "stdout",
          "text": [
            "\n",
            "Epoch [40/50], Train Loss: 0.014108718, Val Loss: 0.014045774\n"
          ]
        },
        {
          "output_type": "stream",
          "name": "stderr",
          "text": [
            "Epochs:  84%|████████▍ | 42/50 [04:00<00:45,  5.64s/it]"
          ]
        },
        {
          "output_type": "stream",
          "name": "stdout",
          "text": [
            "\n",
            "Epoch [42/50], Train Loss: 0.014102717, Val Loss: 0.014048950\n"
          ]
        },
        {
          "output_type": "stream",
          "name": "stderr",
          "text": [
            "Epochs:  88%|████████▊ | 44/50 [04:11<00:34,  5.67s/it]"
          ]
        },
        {
          "output_type": "stream",
          "name": "stdout",
          "text": [
            "\n",
            "Epoch [44/50], Train Loss: 0.014092204, Val Loss: 0.013936491\n"
          ]
        },
        {
          "output_type": "stream",
          "name": "stderr",
          "text": [
            "Epochs:  92%|█████████▏| 46/50 [04:23<00:22,  5.67s/it]"
          ]
        },
        {
          "output_type": "stream",
          "name": "stdout",
          "text": [
            "\n",
            "Epoch [46/50], Train Loss: 0.014092310, Val Loss: 0.014020436\n"
          ]
        },
        {
          "output_type": "stream",
          "name": "stderr",
          "text": [
            "Epochs:  96%|█████████▌| 48/50 [04:34<00:11,  5.69s/it]"
          ]
        },
        {
          "output_type": "stream",
          "name": "stdout",
          "text": [
            "\n",
            "Epoch [48/50], Train Loss: 0.014089734, Val Loss: 0.014041001\n"
          ]
        },
        {
          "output_type": "stream",
          "name": "stderr",
          "text": [
            "Epochs: 100%|██████████| 50/50 [04:45<00:00,  5.71s/it]"
          ]
        },
        {
          "output_type": "stream",
          "name": "stdout",
          "text": [
            "\n",
            "Epoch [50/50], Train Loss: 0.014082621, Val Loss: 0.014071367\n"
          ]
        },
        {
          "output_type": "stream",
          "name": "stderr",
          "text": [
            "\n"
          ]
        }
      ]
    },
    {
      "cell_type": "code",
      "source": [
        "# Usage example:\n",
        "plot_losses(train_losses, val_losses)"
      ],
      "metadata": {
        "colab": {
          "base_uri": "https://localhost:8080/",
          "height": 487
        },
        "id": "pG1aKrSNTD7-",
        "outputId": "c96a321b-90ce-42b2-c4c1-c3e289377e18"
      },
      "execution_count": null,
      "outputs": [
        {
          "output_type": "display_data",
          "data": {
            "text/plain": [
              "<Figure size 700x500 with 1 Axes>"
            ],
            "image/png": "[encoded data removed]"
          },
          "metadata": {}
        }
      ]
    },
    {
      "cell_type": "code",
      "source": [
        "test_model_ae(autoencoder_mixed_mnist, test_loader)"
      ],
      "metadata": {
        "colab": {
          "base_uri": "https://localhost:8080/",
          "height": 387
        },
        "id": "Jyi-JiZrlb-x",
        "outputId": "ce57eb46-e6a6-4ecb-fedc-9d7db3dfc951"
      },
      "execution_count": null,
      "outputs": [
        {
          "output_type": "stream",
          "name": "stderr",
          "text": [
            "WARNING:matplotlib.image:Clipping input data to the valid range for imshow with RGB data ([0..1] for floats or [0..255] for integers).\n",
            "WARNING:matplotlib.image:Clipping input data to the valid range for imshow with RGB data ([0..1] for floats or [0..255] for integers).\n",
            "WARNING:matplotlib.image:Clipping input data to the valid range for imshow with RGB data ([0..1] for floats or [0..255] for integers).\n",
            "WARNING:matplotlib.image:Clipping input data to the valid range for imshow with RGB data ([0..1] for floats or [0..255] for integers).\n",
            "WARNING:matplotlib.image:Clipping input data to the valid range for imshow with RGB data ([0..1] for floats or [0..255] for integers).\n",
            "WARNING:matplotlib.image:Clipping input data to the valid range for imshow with RGB data ([0..1] for floats or [0..255] for integers).\n",
            "WARNING:matplotlib.image:Clipping input data to the valid range for imshow with RGB data ([0..1] for floats or [0..255] for integers).\n",
            "WARNING:matplotlib.image:Clipping input data to the valid range for imshow with RGB data ([0..1] for floats or [0..255] for integers).\n"
          ]
        },
        {
          "output_type": "display_data",
          "data": {
            "text/plain": [
              "<Figure size 1600x400 with 16 Axes>"
            ],
            "image/png": "[encoded data removed]"
          },
          "metadata": {}
        }
      ]
    },
    {
      "cell_type": "markdown",
      "source": [
        "### Everything below is irrelavant"
      ],
      "metadata": {
        "id": "-rAxRJ7i7vI1"
      }
    },
    {
      "cell_type": "code",
      "source": [
        "# so this is the code that I have:\n",
        "# \"### Load MNIST training dataset\n",
        "# train_dataset = MNIST(root='./data', train=True, download=True, transform=ToTensor())\n",
        "# uncolored_X_train = train_dataset.data.numpy()\n",
        "# uncolored_y_train = train_dataset.targets.numpy()\n",
        "\n",
        "# ### Load MNIST test dataset\n",
        "# test_dataset = MNIST(root='./data', train=False, download=True, transform=ToTensor())\n",
        "# uncolored_X_test = test_dataset.data.numpy()\n",
        "# uncolored_y_test = test_dataset.targets.numpy()\n",
        "\n",
        "# ### coloured dataset\n",
        "# colored_rgb_X_train = random_colorize_rgb_mnist(uncolored_X_train)\n",
        "# colored_rgb_X_test = random_colorize_rgb_mnist(uncolored_X_test)\n",
        "\n",
        "# ### labels for the dataset\n",
        "# # Create labels for uncolored datasets\n",
        "# uncolored_labels_train = np.zeros(len(uncolored_X_train))\n",
        "# uncolored_labels_test = np.zeros(len(uncolored_X_test))\n",
        "\n",
        "# # Create labels for colored datasets\n",
        "# colored_labels_train = np.ones(len(colored_rgb_X_train))\n",
        "# colored_labels_test = np.ones(len(colored_rgb_X_test))\"\n",
        "\n"
      ],
      "metadata": {
        "id": "OiGLLU4v6Xt9"
      },
      "execution_count": null,
      "outputs": []
    }
  ]
}