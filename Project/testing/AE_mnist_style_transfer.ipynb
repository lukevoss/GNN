{
  "nbformat": 4,
  "nbformat_minor": 0,
  "metadata": {
    "colab": {
      "provenance": [],
      "authorship_tag": "ABX9TyPXdThaGy7r1+vGk7TfhVKs",
      "include_colab_link": true
    },
    "kernelspec": {
      "name": "python3",
      "display_name": "Python 3"
    },
    "language_info": {
      "name": "python"
    }
  },
  "cells": [
    {
      "cell_type": "markdown",
      "metadata": {
        "id": "view-in-github",
        "colab_type": "text"
      },
      "source": [
        "<a href=\"https://colab.research.google.com/github/neelkanthrawat/GNN-exercises/blob/main/Project/AE_mnist_style_transfer.ipynb\" target=\"_parent\"><img src=\"https://colab.research.google.com/assets/colab-badge.svg\" alt=\"Open In Colab\"/></a>"
      ]
    },
    {
      "cell_type": "markdown",
      "source": [
        "# AE for style transfer via CINN"
      ],
      "metadata": {
        "id": "y42ldso6w5aX"
      }
    },
    {
      "cell_type": "markdown",
      "source": [
        "Training a common AE for the coloured mnist and uncoloured mnist dataset"
      ],
      "metadata": {
        "id": "Fqi0YZV7w1RC"
      }
    },
    {
      "cell_type": "markdown",
      "source": [
        "Let's first generate the coloured MNIST dataset"
      ],
      "metadata": {
        "id": "jIs3gex6xbZk"
      }
    },
    {
      "cell_type": "code",
      "source": [
        "import torch\n",
        "from torchvision.datasets import MNIST\n",
        "from torchvision import transforms\n",
        "from torchvision.transforms import ToTensor\n",
        "\n",
        "import numpy as np\n",
        "import matplotlib.pyplot as plt"
      ],
      "metadata": {
        "id": "A1feFcS3yhMM"
      },
      "execution_count": 5,
      "outputs": []
    },
    {
      "cell_type": "code",
      "execution_count": 3,
      "metadata": {
        "colab": {
          "base_uri": "https://localhost:8080/"
        },
        "id": "mmW0vowgwz-e",
        "outputId": "c64ebed3-739f-4430-c6ec-0806b33fcf52"
      },
      "outputs": [
        {
          "output_type": "execute_result",
          "data": {
            "text/plain": [
              "array([120, 153,  86])"
            ]
          },
          "metadata": {},
          "execution_count": 3
        }
      ],
      "source": [
        "np.random.randint(0,256,3)"
      ]
    },
    {
      "cell_type": "markdown",
      "source": [
        "### 1. Colored images (combination of R,G,B (and not just one of R,G,B))\n",
        "\n",
        "(For coloring the digits only either red or green or blue, go to section 2 in the notebook below)"
      ],
      "metadata": {
        "id": "oMSoGx_B2YHk"
      }
    },
    {
      "cell_type": "code",
      "source": [
        "# Function to randomly colorize MNIST dataset\n",
        "def random_colorize_mnist(X):\n",
        "    colored_X = np.zeros((X.shape[0], X.shape[1], X.shape[2], 3), dtype=np.uint8)\n",
        "\n",
        "    for i in range(X.shape[0]):\n",
        "        img = X[i]\n",
        "\n",
        "        # Generate random color\n",
        "        color = np.random.randint(0, 256, 3)\n",
        "\n",
        "        # Colorize the digits while keeping the background unchanged\n",
        "        colored_img = np.zeros((img.shape[0], img.shape[1], 3), dtype=np.uint8)\n",
        "        colored_img[img > 0] = color\n",
        "        colored_X[i] = colored_img\n",
        "\n",
        "    return colored_X"
      ],
      "metadata": {
        "id": "2vq0E6QfyfZS"
      },
      "execution_count": 4,
      "outputs": []
    },
    {
      "cell_type": "code",
      "source": [
        "# Load MNIST training dataset\n",
        "train_dataset = MNIST(root='./data', train=True, download=True, transform=ToTensor())\n",
        "X_train = train_dataset.data.numpy()\n",
        "y_train = train_dataset.targets.numpy()\n",
        "\n",
        "# Load MNIST test dataset\n",
        "test_dataset = MNIST(root='./data', train=False, download=True, transform=ToTensor())\n",
        "X_test = test_dataset.data.numpy()\n",
        "y_test = test_dataset.targets.numpy()"
      ],
      "metadata": {
        "id": "5sbspr4oy1cw"
      },
      "execution_count": null,
      "outputs": []
    },
    {
      "cell_type": "code",
      "source": [
        "# Colorize the training images\n",
        "colored_X_train = random_colorize_mnist(X_train)\n",
        "\n",
        "# Colorize the test images\n",
        "colored_X_test = random_colorize_mnist(X_test)"
      ],
      "metadata": {
        "id": "uayZCSSgz1Tl"
      },
      "execution_count": 7,
      "outputs": []
    },
    {
      "cell_type": "code",
      "source": [
        "# Function to plot colored MNIST dataset\n",
        "def plotting_mnist_dataset(colored_X, title):\n",
        "    plt.figure(figsize=(10, 4))\n",
        "    for i in range(10):\n",
        "        plt.subplot(2, 5, i + 1)\n",
        "        plt.imshow(colored_X[i])\n",
        "        plt.axis('off')\n",
        "    plt.suptitle(title)\n",
        "    plt.show()"
      ],
      "metadata": {
        "id": "0dCw3JxEz15i"
      },
      "execution_count": 8,
      "outputs": []
    },
    {
      "cell_type": "code",
      "source": [
        "# Plot colored images from the training dataset\n",
        "plotting_mnist_dataset(colored_X_train, 'Colored MNIST - Training Dataset')\n",
        "\n",
        "# Plot colored images from the test dataset\n",
        "plotting_mnist_dataset(colored_X_test, 'Colored MNIST - Test Dataset')"
      ],
      "metadata": {
        "colab": {
          "base_uri": "https://localhost:8080/",
          "height": 745
        },
        "id": "GtE8hyRx0KIf",
        "outputId": "c580656b-d9cd-4950-f263-77c4ca1f5491"
      },
      "execution_count": 9,
      "outputs": [
        {
          "output_type": "display_data",
          "data": {
            "text/plain": [
              "<Figure size 1000x400 with 10 Axes>"
            ],
            "image/png": "[encoded data removed]"
          },
          "metadata": {}
        },
        {
          "output_type": "display_data",
          "data": {
            "text/plain": [
              "<Figure size 1000x400 with 10 Axes>"
            ],
            "image/png": "[encoded data removed]"
          },
          "metadata": {}
        }
      ]
    },
    {
      "cell_type": "code",
      "source": [
        "# Save colored datasets and labels\n",
        "np.savez('colored_mnist_train.npz', images=colored_X_train, labels=y_train)\n",
        "np.savez('colored_mnist_test.npz', images=colored_X_test, labels=y_test)"
      ],
      "metadata": {
        "id": "nS9nRgwc0K8R"
      },
      "execution_count": 10,
      "outputs": []
    },
    {
      "cell_type": "code",
      "source": [
        "# #  CODE TO Load the colored training dataset\n",
        "# train_data = np.load('colored_mnist_train.npz')\n",
        "# colored_X_train = train_data['images']\n",
        "# y_train = train_data['labels']\n",
        "\n",
        "# # Load the colored test dataset\n",
        "# test_data = np.load('colored_mnist_test.npz')\n",
        "# colored_X_test = test_data['images']\n",
        "# y_test = test_data['labels']"
      ],
      "metadata": {
        "id": "IjjLF4111SMw"
      },
      "execution_count": null,
      "outputs": []
    },
    {
      "cell_type": "markdown",
      "source": [
        "### 2. Let's create the dataset where the digits are colored only R,G,B."
      ],
      "metadata": {
        "id": "PhumuZuT2IVJ"
      }
    },
    {
      "cell_type": "code",
      "source": [
        "# Function to randomly colorize MNIST dataset with a single color channel\n",
        "def random_colorize_rgb_mnist(X):\n",
        "    colored_X = np.zeros((X.shape[0], X.shape[1], X.shape[2], 3), dtype=np.uint8)\n",
        "\n",
        "    for i in range(X.shape[0]):\n",
        "        img = X[i]\n",
        "\n",
        "        # Generate random color channel index (0 for red, 1 for green, 2 for blue)\n",
        "        color_channel_index = np.random.randint(0, 3)\n",
        "\n",
        "        # Set the color based on the selected color channel\n",
        "        color = [0, 0, 0]\n",
        "        color[color_channel_index] = 255\n",
        "\n",
        "        # Colorize the digits while keeping the background unchanged\n",
        "        colored_img = np.zeros((img.shape[0], img.shape[1], 3), dtype=np.uint8)\n",
        "        colored_img[img > 0] = color\n",
        "        colored_X[i] = colored_img\n",
        "\n",
        "    return colored_X\n"
      ],
      "metadata": {
        "id": "EjzKrM8t2H6a"
      },
      "execution_count": 18,
      "outputs": []
    },
    {
      "cell_type": "code",
      "source": [
        "colored_rgb_X_train = random_colorize_rgb_mnist(X_train)\n",
        "colored_rgb_X_test = random_colorize_rgb_mnist(X_test)"
      ],
      "metadata": {
        "id": "s_m-WJ_T2Wu1"
      },
      "execution_count": 19,
      "outputs": []
    },
    {
      "cell_type": "code",
      "source": [
        "# Plot colored images from the training dataset\n",
        "plotting_mnist_dataset(colored_rgb_X_train, 'Colored RGB MNIST - Training Dataset')\n",
        "\n",
        "# Plot colored images from the test dataset\n",
        "plotting_mnist_dataset(colored_rgb_X_test, 'Colored RGB MNIST - Test Dataset')"
      ],
      "metadata": {
        "colab": {
          "base_uri": "https://localhost:8080/",
          "height": 745
        },
        "id": "cUskrsWn3DSz",
        "outputId": "5bf32966-4b9e-4674-c3a5-faed1a718ce4"
      },
      "execution_count": 20,
      "outputs": [
        {
          "output_type": "display_data",
          "data": {
            "text/plain": [
              "<Figure size 1000x400 with 10 Axes>"
            ],
            "image/png": "[encoded data removed]"
          },
          "metadata": {}
        },
        {
          "output_type": "display_data",
          "data": {
            "text/plain": [
              "<Figure size 1000x400 with 10 Axes>"
            ],
            "image/png": "[encoded data removed]"
          },
          "metadata": {}
        }
      ]
    },
    {
      "cell_type": "code",
      "source": [
        "# Save colored datasets and labels\n",
        "np.savez('colored_rgb_mnist_train.npz', images=colored_X_train, labels=y_train)\n",
        "np.savez('colored_rgb_mnist_test.npz', images=colored_X_test, labels=y_test)"
      ],
      "metadata": {
        "id": "5o34i0Zy3LUP"
      },
      "execution_count": 21,
      "outputs": []
    }
  ]
}