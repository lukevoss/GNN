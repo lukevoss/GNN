{
 "cells": [
  {
   "cell_type": "code",
   "execution_count": 24,
   "metadata": {},
   "outputs": [
    {
     "data": {
      "application/vnd.jupyter.widget-view+json": {
       "model_id": "6978692459d14caca8dc9d8006d63593",
       "version_major": 2,
       "version_minor": 0
      },
      "text/plain": [
       "modules.json:   0%|          | 0.00/387 [00:00<?, ?B/s]"
      ]
     },
     "metadata": {},
     "output_type": "display_data"
    },
    {
     "name": "stderr",
     "output_type": "stream",
     "text": [
      "c:\\Users\\luke\\anaconda3\\envs\\gnn\\Lib\\site-packages\\huggingface_hub\\file_download.py:149: UserWarning: `huggingface_hub` cache-system uses symlinks by default to efficiently store duplicated files but your machine does not support them in C:\\Users\\luke\\.cache\\huggingface\\hub\\models--intfloat--multilingual-e5-small. Caching files will still work but in a degraded version that might require more space on your disk. This warning can be disabled by setting the `HF_HUB_DISABLE_SYMLINKS_WARNING` environment variable. For more details, see https://huggingface.co/docs/huggingface_hub/how-to-cache#limitations.\n",
      "To support symlinks on Windows, you either need to activate Developer Mode or to run Python as an administrator. In order to see activate developer mode, see this article: https://docs.microsoft.com/en-us/windows/apps/get-started/enable-your-device-for-development\n",
      "  warnings.warn(message)\n"
     ]
    },
    {
     "data": {
      "application/vnd.jupyter.widget-view+json": {
       "model_id": "755dc7f6baa24ed2bc334aa4d8fa4d4a",
       "version_major": 2,
       "version_minor": 0
      },
      "text/plain": [
       "README.md:   0%|          | 0.00/160k [00:00<?, ?B/s]"
      ]
     },
     "metadata": {},
     "output_type": "display_data"
    },
    {
     "data": {
      "application/vnd.jupyter.widget-view+json": {
       "model_id": "d0856b8d9f564484917e48d5e0c92d92",
       "version_major": 2,
       "version_minor": 0
      },
      "text/plain": [
       "sentence_bert_config.json:   0%|          | 0.00/57.0 [00:00<?, ?B/s]"
      ]
     },
     "metadata": {},
     "output_type": "display_data"
    },
    {
     "data": {
      "application/vnd.jupyter.widget-view+json": {
       "model_id": "b6a7db168d554d449b0ac4680e3f55f5",
       "version_major": 2,
       "version_minor": 0
      },
      "text/plain": [
       "config.json:   0%|          | 0.00/655 [00:00<?, ?B/s]"
      ]
     },
     "metadata": {},
     "output_type": "display_data"
    },
    {
     "data": {
      "application/vnd.jupyter.widget-view+json": {
       "model_id": "65fbbbcc8e504599a733ab29a9235cc8",
       "version_major": 2,
       "version_minor": 0
      },
      "text/plain": [
       "model.safetensors:   0%|          | 0.00/471M [00:00<?, ?B/s]"
      ]
     },
     "metadata": {},
     "output_type": "display_data"
    },
    {
     "data": {
      "application/vnd.jupyter.widget-view+json": {
       "model_id": "e30f51180fab4d4ebe43662f87fe915b",
       "version_major": 2,
       "version_minor": 0
      },
      "text/plain": [
       "tokenizer_config.json:   0%|          | 0.00/443 [00:00<?, ?B/s]"
      ]
     },
     "metadata": {},
     "output_type": "display_data"
    },
    {
     "data": {
      "application/vnd.jupyter.widget-view+json": {
       "model_id": "df9ab5d159fb4ef689a684ddc65fb5b3",
       "version_major": 2,
       "version_minor": 0
      },
      "text/plain": [
       "sentencepiece.bpe.model:   0%|          | 0.00/5.07M [00:00<?, ?B/s]"
      ]
     },
     "metadata": {},
     "output_type": "display_data"
    },
    {
     "data": {
      "application/vnd.jupyter.widget-view+json": {
       "model_id": "65f2da3824f84ccd911737f0a3e13ab5",
       "version_major": 2,
       "version_minor": 0
      },
      "text/plain": [
       "tokenizer.json:   0%|          | 0.00/17.1M [00:00<?, ?B/s]"
      ]
     },
     "metadata": {},
     "output_type": "display_data"
    },
    {
     "data": {
      "application/vnd.jupyter.widget-view+json": {
       "model_id": "faa41251740b4bdbbb3876bf458baa78",
       "version_major": 2,
       "version_minor": 0
      },
      "text/plain": [
       "special_tokens_map.json:   0%|          | 0.00/167 [00:00<?, ?B/s]"
      ]
     },
     "metadata": {},
     "output_type": "display_data"
    },
    {
     "data": {
      "application/vnd.jupyter.widget-view+json": {
       "model_id": "55605f3e0671440fac7afbc1f2f166cb",
       "version_major": 2,
       "version_minor": 0
      },
      "text/plain": [
       "1_Pooling/config.json:   0%|          | 0.00/200 [00:00<?, ?B/s]"
      ]
     },
     "metadata": {},
     "output_type": "display_data"
    }
   ],
   "source": [
    "import torch.nn.functional as F\n",
    "from sentence_transformers import SentenceTransformer\n",
    "import pandas as pd\n",
    "\n",
    "model = SentenceTransformer(\"intfloat/multilingual-e5-small\")"
   ]
  },
  {
   "cell_type": "code",
   "execution_count": 35,
   "metadata": {},
   "outputs": [],
   "source": [
    "texts = [\"null\", \"zero\", \"zéro\", \"0\", \"eins\", \"one\", \"un\", \"1\"]\n",
    "\n",
    "# Compute embeddings\n",
    "embeddings = model.encode(texts, convert_to_tensor=True)"
   ]
  },
  {
   "cell_type": "code",
   "execution_count": 38,
   "metadata": {},
   "outputs": [],
   "source": [
    "# Compute cosine-similarity for each pair of sentences\n",
    "scores = F.cosine_similarity(embeddings.unsqueeze(1), embeddings.unsqueeze(0), dim=-1)"
   ]
  },
  {
   "cell_type": "code",
   "execution_count": 37,
   "metadata": {},
   "outputs": [
    {
     "data": {
      "text/html": [
       "<div>\n",
       "<style scoped>\n",
       "    .dataframe tbody tr th:only-of-type {\n",
       "        vertical-align: middle;\n",
       "    }\n",
       "\n",
       "    .dataframe tbody tr th {\n",
       "        vertical-align: top;\n",
       "    }\n",
       "\n",
       "    .dataframe thead th {\n",
       "        text-align: right;\n",
       "    }\n",
       "</style>\n",
       "<table border=\"1\" class=\"dataframe\">\n",
       "  <thead>\n",
       "    <tr style=\"text-align: right;\">\n",
       "      <th></th>\n",
       "      <th>null</th>\n",
       "      <th>zero</th>\n",
       "      <th>zéro</th>\n",
       "      <th>0</th>\n",
       "      <th>eins</th>\n",
       "      <th>one</th>\n",
       "      <th>un</th>\n",
       "      <th>1</th>\n",
       "    </tr>\n",
       "  </thead>\n",
       "  <tbody>\n",
       "    <tr>\n",
       "      <th>null</th>\n",
       "      <td>1.000000</td>\n",
       "      <td>0.872664</td>\n",
       "      <td>0.838133</td>\n",
       "      <td>0.860027</td>\n",
       "      <td>0.829367</td>\n",
       "      <td>0.831154</td>\n",
       "      <td>0.868731</td>\n",
       "      <td>0.846994</td>\n",
       "    </tr>\n",
       "    <tr>\n",
       "      <th>zero</th>\n",
       "      <td>0.872664</td>\n",
       "      <td>1.000000</td>\n",
       "      <td>0.895807</td>\n",
       "      <td>0.875818</td>\n",
       "      <td>0.854740</td>\n",
       "      <td>0.911587</td>\n",
       "      <td>0.872743</td>\n",
       "      <td>0.858308</td>\n",
       "    </tr>\n",
       "    <tr>\n",
       "      <th>zéro</th>\n",
       "      <td>0.838133</td>\n",
       "      <td>0.895807</td>\n",
       "      <td>1.000000</td>\n",
       "      <td>0.812064</td>\n",
       "      <td>0.833462</td>\n",
       "      <td>0.838863</td>\n",
       "      <td>0.859899</td>\n",
       "      <td>0.801402</td>\n",
       "    </tr>\n",
       "    <tr>\n",
       "      <th>0</th>\n",
       "      <td>0.860027</td>\n",
       "      <td>0.875818</td>\n",
       "      <td>0.812064</td>\n",
       "      <td>1.000000</td>\n",
       "      <td>0.815234</td>\n",
       "      <td>0.844847</td>\n",
       "      <td>0.835922</td>\n",
       "      <td>0.960342</td>\n",
       "    </tr>\n",
       "    <tr>\n",
       "      <th>eins</th>\n",
       "      <td>0.829367</td>\n",
       "      <td>0.854739</td>\n",
       "      <td>0.833462</td>\n",
       "      <td>0.815234</td>\n",
       "      <td>1.000000</td>\n",
       "      <td>0.893743</td>\n",
       "      <td>0.914635</td>\n",
       "      <td>0.819075</td>\n",
       "    </tr>\n",
       "    <tr>\n",
       "      <th>one</th>\n",
       "      <td>0.831154</td>\n",
       "      <td>0.911587</td>\n",
       "      <td>0.838863</td>\n",
       "      <td>0.844847</td>\n",
       "      <td>0.893743</td>\n",
       "      <td>1.000000</td>\n",
       "      <td>0.907838</td>\n",
       "      <td>0.866694</td>\n",
       "    </tr>\n",
       "    <tr>\n",
       "      <th>un</th>\n",
       "      <td>0.868731</td>\n",
       "      <td>0.872743</td>\n",
       "      <td>0.859899</td>\n",
       "      <td>0.835922</td>\n",
       "      <td>0.914635</td>\n",
       "      <td>0.907838</td>\n",
       "      <td>1.000000</td>\n",
       "      <td>0.836599</td>\n",
       "    </tr>\n",
       "    <tr>\n",
       "      <th>1</th>\n",
       "      <td>0.846994</td>\n",
       "      <td>0.858308</td>\n",
       "      <td>0.801402</td>\n",
       "      <td>0.960342</td>\n",
       "      <td>0.819075</td>\n",
       "      <td>0.866694</td>\n",
       "      <td>0.836599</td>\n",
       "      <td>1.000000</td>\n",
       "    </tr>\n",
       "  </tbody>\n",
       "</table>\n",
       "</div>"
      ],
      "text/plain": [
       "          null      zero      zéro         0      eins       one        un  \\\n",
       "null  1.000000  0.872664  0.838133  0.860027  0.829367  0.831154  0.868731   \n",
       "zero  0.872664  1.000000  0.895807  0.875818  0.854740  0.911587  0.872743   \n",
       "zéro  0.838133  0.895807  1.000000  0.812064  0.833462  0.838863  0.859899   \n",
       "0     0.860027  0.875818  0.812064  1.000000  0.815234  0.844847  0.835922   \n",
       "eins  0.829367  0.854739  0.833462  0.815234  1.000000  0.893743  0.914635   \n",
       "one   0.831154  0.911587  0.838863  0.844847  0.893743  1.000000  0.907838   \n",
       "un    0.868731  0.872743  0.859899  0.835922  0.914635  0.907838  1.000000   \n",
       "1     0.846994  0.858308  0.801402  0.960342  0.819075  0.866694  0.836599   \n",
       "\n",
       "             1  \n",
       "null  0.846994  \n",
       "zero  0.858308  \n",
       "zéro  0.801402  \n",
       "0     0.960342  \n",
       "eins  0.819075  \n",
       "one   0.866694  \n",
       "un    0.836599  \n",
       "1     1.000000  "
      ]
     },
     "execution_count": 37,
     "metadata": {},
     "output_type": "execute_result"
    }
   ],
   "source": [
    "df = pd.DataFrame(scores.cpu().numpy(), columns=texts, index=texts)\n",
    "df"
   ]
  }
 ],
 "metadata": {
  "kernelspec": {
   "display_name": "gnn",
   "language": "python",
   "name": "python3"
  },
  "language_info": {
   "codemirror_mode": {
    "name": "ipython",
    "version": 3
   },
   "file_extension": ".py",
   "mimetype": "text/x-python",
   "name": "python",
   "nbconvert_exporter": "python",
   "pygments_lexer": "ipython3",
   "version": "3.12.2"
  }
 },
 "nbformat": 4,
 "nbformat_minor": 2
}
