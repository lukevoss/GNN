{
  "nbformat": 4,
  "nbformat_minor": 0,
  "metadata": {
    "colab": {
      "provenance": [],
      "gpuType": "T4",
      "include_colab_link": true
    },
    "kernelspec": {
      "name": "python3",
      "display_name": "Python 3"
    },
    "language_info": {
      "name": "python"
    },
    "accelerator": "GPU"
  },
  "cells": [
    {
      "cell_type": "markdown",
      "metadata": {
        "id": "view-in-github",
        "colab_type": "text"
      },
      "source": [
        "<a href=\"https://colab.research.google.com/github/neelkanthrawat/GNN-exercises/blob/main/Project/CINN_for_style_transfer.ipynb\" target=\"_parent\"><img src=\"https://colab.research.google.com/assets/colab-badge.svg\" alt=\"Open In Colab\"/></a>"
      ]
    },
    {
      "cell_type": "code",
      "execution_count": 1,
      "metadata": {
        "id": "NF3YDtbcA0CK"
      },
      "outputs": [],
      "source": [
        "import torch\n",
        "import torch.nn as nn\n",
        "from torchvision.datasets import MNIST\n",
        "from torchvision import transforms\n",
        "from torchvision.transforms import ToTensor\n",
        "from torch.utils.data import DataLoader, TensorDataset\n",
        "from sklearn.model_selection import train_test_split\n",
        "import torch.nn as nn\n",
        "import torch.optim as optim\n",
        "from tqdm import tqdm\n",
        "from torchvision.transforms.functional import to_tensor\n",
        "\n",
        "\n",
        "from scipy.stats import special_ortho_group\n",
        "from sklearn.datasets import make_moons, load_digits\n",
        "import matplotlib.pyplot as plt\n",
        "import random\n",
        "import numpy as np\n",
        "import matplotlib.pyplot as plt\n",
        "import math"
      ]
    },
    {
      "cell_type": "markdown",
      "source": [
        "### Let's now load the saved AE model and begin creating the dataset for the CINN training:"
      ],
      "metadata": {
        "id": "jlsADe06T-TQ"
      }
    },
    {
      "cell_type": "code",
      "source": [
        "device=  \"cuda\" if torch.cuda.is_available() else \"cpu\"\n",
        "print(device)"
      ],
      "metadata": {
        "colab": {
          "base_uri": "https://localhost:8080/"
        },
        "id": "akZHICMVeMX-",
        "outputId": "9bf4d49f-68a1-48ae-9aeb-b294ffcc3acf"
      },
      "execution_count": 2,
      "outputs": [
        {
          "output_type": "stream",
          "name": "stdout",
          "text": [
            "cuda\n"
          ]
        }
      ]
    },
    {
      "cell_type": "code",
      "source": [
        "class Autoencoder_simpler(nn.Module):\n",
        "    def __init__(self, dropout_prob=0.1):\n",
        "        super(Autoencoder_simpler, self).__init__()\n",
        "\n",
        "        self.dropout_prob = dropout_prob\n",
        "\n",
        "        # Encoder layers\n",
        "        self.encoder_conv1 = nn.Conv2d(3, 16, kernel_size=3, stride=2, padding=1)  # Use stride 2 for downscaling\n",
        "        self.encoder_conv2 = nn.Conv2d(16, 24, kernel_size=3, stride=2, padding=1)  # Use stride 2 for downscaling\n",
        "        self.encoder_linear = nn.Linear(24 * 7 * 7, 24)  # 64*6 ---> 20\n",
        "\n",
        "        # Dropout layers\n",
        "        self.dropout = nn.Dropout(p=self.dropout_prob)  # Add dropout layer\n",
        "\n",
        "        # Decoder layers\n",
        "        self.decoder_linear = nn.Linear(24, 24* 7 * 7)\n",
        "        self.decoder_conv1 = nn.ConvTranspose2d(24, 16, kernel_size=3, stride=2, padding=1, output_padding=1)  # Use stride 2 for upscaling\n",
        "        self.decoder_conv2 = nn.ConvTranspose2d(16, 3, kernel_size=3, stride=2, padding=1, output_padding=1)  # Use stride 2 for upscaling\n",
        "\n",
        "    def encoder(self, x):\n",
        "    # Encoder\n",
        "        x = self.encoder_conv1(x)\n",
        "        x = torch.relu(x)\n",
        "        x = self.dropout(x)  # Apply dropout\n",
        "        x = self.encoder_conv2(x)\n",
        "        x = torch.relu(x)\n",
        "        x = self.dropout(x)  # Apply dropout\n",
        "        x = x.reshape(-1, 24 * 7 * 7)  # Use .reshape() instead of .view()\n",
        "        x = self.encoder_linear(x)\n",
        "        return x\n",
        "\n",
        "    def decoder(self, x):\n",
        "        # Decoder\n",
        "        x = self.decoder_linear(x)\n",
        "        x = x.view(-1, 24, 7, 7)\n",
        "        x = self.decoder_conv1(x)\n",
        "        x = torch.relu(x)\n",
        "        x = self.dropout(x)  # Apply dropout\n",
        "        x = self.decoder_conv2(x)\n",
        "        x = torch.relu(x)\n",
        "        x = torch.clamp(x, 0, 1) # Clamp output\n",
        "        return x\n",
        "\n",
        "    def forward(self, x):\n",
        "        encoded = self.encoder(x)\n",
        "        decoded = self.decoder(encoded)\n",
        "        return decoded"
      ],
      "metadata": {
        "id": "vV_yy9geUwcG"
      },
      "execution_count": 3,
      "outputs": []
    },
    {
      "cell_type": "code",
      "source": [
        "# Define the path to the pretrained model\n",
        "checkpoint_path = \"/content/autoencoder_mixed_mnist_dropout_0.01_60_epochs.pth\"\n",
        "\n",
        "# Load the pretrained model\n",
        "pretrained_model_list = torch.load(checkpoint_path,map_location=torch.device('cpu'))\n",
        "\n",
        "ae_model=Autoencoder_simpler(dropout_prob=0.01)\n",
        "ae_model.to(device)\n",
        "\n",
        "ae_model.load_state_dict(pretrained_model_list)"
      ],
      "metadata": {
        "colab": {
          "base_uri": "https://localhost:8080/"
        },
        "id": "plgGxmZLS0kl",
        "outputId": "223e2c24-7394-43f2-8802-e3c0dc5798e5"
      },
      "execution_count": 4,
      "outputs": [
        {
          "output_type": "execute_result",
          "data": {
            "text/plain": [
              "<All keys matched successfully>"
            ]
          },
          "metadata": {},
          "execution_count": 4
        }
      ]
    },
    {
      "cell_type": "markdown",
      "source": [
        "### Let's load the dataset here:"
      ],
      "metadata": {
        "id": "VOC5EcfsfDBl"
      }
    },
    {
      "cell_type": "code",
      "source": [
        "encoded_image_train_set=torch.load(\"/content/encoded_images_train_set.pt\")\n",
        "encoded_image_train_set=encoded_image_train_set[10000:100000,:]\n",
        "encoded_image_test_set= torch.load(\"/content/encoded_images_test_set.pt\")"
      ],
      "metadata": {
        "id": "8fU0bWMRfRLu"
      },
      "execution_count": 38,
      "outputs": []
    },
    {
      "cell_type": "code",
      "source": [
        "### 0 for uncolored and 1 for colored\n",
        "len_train=encoded_image_train_set.size()[0]\n",
        "len_test=encoded_image_test_set.size()[0]\n",
        "\n",
        "labels_train= torch.cat((torch.zeros(len_train // 2),torch.ones(len_train // 2)))\n",
        "labels_test = torch.cat((torch.zeros(len_test // 2),torch.ones(len_test // 2)))"
      ],
      "metadata": {
        "id": "HEc0WmDmkrof"
      },
      "execution_count": 39,
      "outputs": []
    },
    {
      "cell_type": "code",
      "source": [
        "encoded_image_train_set.size(), labels_train.size(), encoded_image_test_set.size(), labels_test.size()"
      ],
      "metadata": {
        "colab": {
          "base_uri": "https://localhost:8080/"
        },
        "id": "2igTl16yl1St",
        "outputId": "7b94d44e-a43b-4a3b-abb5-87d692ffe61a"
      },
      "execution_count": 40,
      "outputs": [
        {
          "output_type": "execute_result",
          "data": {
            "text/plain": [
              "(torch.Size([90000, 24]),\n",
              " torch.Size([90000]),\n",
              " torch.Size([20000, 24]),\n",
              " torch.Size([20000]))"
            ]
          },
          "metadata": {},
          "execution_count": 40
        }
      ]
    },
    {
      "cell_type": "markdown",
      "source": [
        "### Creating the dataloader"
      ],
      "metadata": {
        "id": "y6rLlZeRLpQa"
      }
    },
    {
      "cell_type": "code",
      "source": [
        "import torch\n",
        "from torch.utils.data import Dataset, DataLoader, random_split\n",
        "import numpy as np\n",
        "\n",
        "# Set random seed for reproducibility\n",
        "torch.manual_seed(42)\n",
        "np.random.seed(42)\n",
        "\n",
        "# Assuming you have a CustomDataset class defined\n",
        "class CustomDataset(Dataset):\n",
        "    def __init__(self, data, labels):\n",
        "        self.data = data\n",
        "        self.color_labels = labels\n",
        "\n",
        "    def __len__(self):\n",
        "        return len(self.data)\n",
        "\n",
        "    def __getitem__(self, idx):\n",
        "        return self.data[idx], self.color_labels[idx]\n",
        "\n",
        "# Assuming you have the train_dataset\n",
        "train_dataset = CustomDataset(encoded_image_train_set, labels_train)\n",
        "test_dataset = CustomDataset(encoded_image_test_set, labels_test)\n",
        "\n",
        "# Calculate the number of samples for training and validation\n",
        "total_samples = len(train_dataset)\n",
        "train_size = int(0.9 * total_samples)\n",
        "val_size = total_samples - train_size\n",
        "\n",
        "# Split the train_dataset into train and val datasets with a fixed random seed\n",
        "train_dataset, val_dataset = random_split(train_dataset, [train_size, val_size],\n",
        "                                          generator=torch.Generator().manual_seed(42))\n",
        "\n",
        "# Define batch size\n",
        "batch_size = 32\n",
        "\n",
        "# Create data loaders for train, val, and test sets with shuffling and fixed random seed\n",
        "train_loader = DataLoader(train_dataset, batch_size=batch_size, shuffle=True,\n",
        "                          worker_init_fn=np.random.seed)\n",
        "val_loader = DataLoader(val_dataset, batch_size=batch_size, shuffle=False)\n",
        "test_loader = DataLoader(test_dataset, batch_size=batch_size, shuffle=False)\n"
      ],
      "metadata": {
        "id": "KbpjGBMxQ49a"
      },
      "execution_count": 41,
      "outputs": []
    },
    {
      "cell_type": "markdown",
      "source": [
        "### CINN code:"
      ],
      "metadata": {
        "id": "fJ2mxKsgMqkg"
      }
    },
    {
      "cell_type": "code",
      "source": [
        "def subnet_constructor(input_size, hidden_size, output_size):\n",
        "    model = nn.Sequential(\n",
        "        nn.Linear(input_size, hidden_size),\n",
        "        nn.ReLU(),\n",
        "        nn.Linear(hidden_size, hidden_size),\n",
        "        nn.ReLU(),\n",
        "        nn.Linear(hidden_size, output_size)\n",
        "    )\n",
        "    return model\n",
        "\n",
        "def ortogonal_matrix(dim):\n",
        "    \"\"\"\n",
        "    A = torch.normal(mean=torch.zeros((dim,dim)), std=torch.ones((dim,dim)))\n",
        "    Q, _ = torch.linalg.qr(A)\n",
        "    if dim == 2:\n",
        "        Q[1,1] = -Q[0,0]\n",
        "        Q[0,1] = -Q[1,0]\n",
        "        print(torch.linalg.det(Q))\n",
        "    return Q\n",
        "    \"\"\"\n",
        "    Q = special_ortho_group.rvs(dim)\n",
        "    return torch.Tensor(Q)\n",
        "\n"
      ],
      "metadata": {
        "id": "NRTjxJGfB3Li"
      },
      "execution_count": 42,
      "outputs": []
    },
    {
      "cell_type": "code",
      "source": [
        "class conditional_coupling_block(nn.Module):\n",
        "    def __init__(self, input_size, hidden_size, condition_size):\n",
        "        super().__init__()\n",
        "        self.input_size = input_size\n",
        "        self.hidden_size = hidden_size\n",
        "        self.condition_size = condition_size\n",
        "        self.split1 = math.floor(self.input_size/2)\n",
        "        self.split2 = self.input_size - self.split1\n",
        "        self.subnet = subnet_constructor(self.split1 + self.condition_size, self.hidden_size, 2*self.split2)\n",
        "\n",
        "    def forward(self, x, cond, rev=False):\n",
        "        x1, x2 = x[..., :self.split1], x[..., self.split1:]\n",
        "        params = self.subnet(torch.cat([x1, cond], -1))\n",
        "        s, t = params[...,:self.split2], params[...,self.split2:]\n",
        "        s = torch.tanh(s)\n",
        "        ljd = torch.sum(s, -1)\n",
        "\n",
        "        if not rev:\n",
        "            s = torch.exp(s)\n",
        "            x2 = s*x2 + t\n",
        "            return torch.cat([x1,x2], -1), ljd\n",
        "\n",
        "        if rev:\n",
        "            s = torch.exp(-s)\n",
        "            x2 = s * (x2-t)\n",
        "            return torch.cat([x1,x2], -1)\n",
        "\n"
      ],
      "metadata": {
        "id": "ld1eraUoBfI1"
      },
      "execution_count": 43,
      "outputs": []
    },
    {
      "cell_type": "code",
      "source": [
        "class conditional_realNVP(nn.Module):\n",
        "    def __init__(self, input_size, hidden_size, n_blocks, condition_size,\n",
        "                 device='cuda' if torch.cuda.is_available() else 'cpu'):\n",
        "        super().__init__()\n",
        "        self.input_size = input_size\n",
        "        self.hidden_size = hidden_size\n",
        "        self.n_blocks = n_blocks\n",
        "        self.condition_size = condition_size\n",
        "        self.device = device\n",
        "\n",
        "        # Move conditional_coupling_blocks to specified device\n",
        "        self.coupling_blocks = nn.ModuleList([\n",
        "            conditional_coupling_block(input_size, hidden_size, self.condition_size).to(device)\n",
        "            for _ in range(n_blocks)\n",
        "        ])\n",
        "\n",
        "        self.orthogonal_matrices = [ortogonal_matrix(input_size).to(device)\n",
        "        for _ in range(n_blocks-1)]\n",
        "\n",
        "\n",
        "    def forward(self, x, cond, rev=False):\n",
        "        if rev:\n",
        "            return self._inverse(x, cond)\n",
        "        return self._forward(x, cond)\n",
        "\n",
        "    def _forward(self, x, cond):\n",
        "        cond = nn.functional.one_hot(cond.to(torch.int64), num_classes=self.condition_size)\n",
        "        ljd = torch.zeros((x.shape[0])).to(device)\n",
        "        for l in range(self.n_blocks-1):\n",
        "            x, partial_ljd = self.coupling_blocks[l](x, cond)\n",
        "            ljd += partial_ljd\n",
        "            x = torch.matmul(x, self.orthogonal_matrices[l])\n",
        "        x, partial_ljd = self.coupling_blocks[-1](x, cond)\n",
        "        ljd += partial_ljd\n",
        "        return x, ljd\n",
        "\n",
        "    def _inverse(self, x, cond):\n",
        "        cond = nn.functional.one_hot(cond.to(torch.int64), num_classes=self.condition_size)\n",
        "        for l in range(self.n_blocks-1, 0, -1):\n",
        "            x = self.coupling_blocks[l](x, cond, rev=True)\n",
        "            x = torch.matmul(x, self.orthogonal_matrices[l-1].T)\n",
        "        x = self.coupling_blocks[0](x, cond, rev=True)\n",
        "        return x\n",
        "\n",
        "    def sample(self, num_samples, cond=None):\n",
        "        samples = []\n",
        "        if cond is None:\n",
        "            for c in range(self.condition_size):\n",
        "                z = torch.normal(mean=torch.zeros((num_samples, self.input_size)), std=torch.ones((num_samples, self.input_size)))\n",
        "                samples.append(self._inverse(z, cond=c*torch.ones(num_samples)))\n",
        "        else:\n",
        "            z = torch.normal(mean=torch.zeros((num_samples, self.input_size)), std=torch.ones((num_samples, self.input_size)))\n",
        "            samples.append(self._inverse(z, cond=cond*torch.ones(num_samples)))\n",
        "        return torch.cat(samples, 0)\n"
      ],
      "metadata": {
        "id": "Duu45naUBgjb"
      },
      "execution_count": 44,
      "outputs": []
    },
    {
      "cell_type": "code",
      "source": [
        "# train and evaluate function\n",
        "def train_and_evaluate_cinn(model, train_loader, val_loader, device,\n",
        "                       num_epochs=10, learning_rate=1e-3, weight_decay=0.001,\n",
        "                       step_size_scheduler=5,gamma_scheduler=0.5,\n",
        "                       print_epoch=10, ):\n",
        "\n",
        "\n",
        "    optimizer = optim.Adam(model.parameters(), lr=learning_rate, weight_decay=weight_decay)\n",
        "    scheduler = optim.lr_scheduler.StepLR(optimizer,\n",
        "                                          step_size=step_size_scheduler,\n",
        "                                          gamma= gamma_scheduler)  # Learning rate scheduler\n",
        "\n",
        "    model.to(device)  # Move model to device\n",
        "\n",
        "    train_losses = []\n",
        "    val_losses = []\n",
        "\n",
        "    for epoch in tqdm(range(num_epochs), desc='Epochs'):\n",
        "        train_loss = 0.0\n",
        "        val_loss = 0.0\n",
        "\n",
        "        # Training\n",
        "        model.train()\n",
        "        for data in train_loader:\n",
        "            x_data, y_data = data[0], data[1] # extract the data\n",
        "            x_data, y_data = x_data.to(device), y_data.to(device)\n",
        "\n",
        "            batch_size = x_data.size(0)  # Get actual batch size\n",
        "\n",
        "\n",
        "            optimizer.zero_grad()\n",
        "            z, ljd = model(x_data, y_data)\n",
        "\n",
        "            loss = torch.sum(0.5*torch.sum(z**2, -1)-ljd) / batch_size\n",
        "            loss.backward()\n",
        "            optimizer.step()\n",
        "\n",
        "            train_loss += loss.item()\n",
        "\n",
        "        # Validation\n",
        "        model.eval()\n",
        "        with torch.no_grad():\n",
        "            for data in val_loader:\n",
        "                x_data, y_data = data[0], data[1] # extract the data\n",
        "                x_data, y_data = x_data.to(device), y_data.to(device)\n",
        "                batch_size = x_data.size(0)  # Get actual batch size\n",
        "\n",
        "                z, ljd = model(x_data, y_data)\n",
        "                loss = torch.sum(0.5*torch.sum(z**2, -1)-ljd) / batch_size\n",
        "\n",
        "                val_loss += loss.item()\n",
        "\n",
        "        # Average losses\n",
        "        train_loss /= len(train_loader)\n",
        "        val_loss /= len(val_loader)\n",
        "\n",
        "        train_losses.append(train_loss)\n",
        "        val_losses.append(val_loss)\n",
        "\n",
        "        # Step the learning rate scheduler\n",
        "        scheduler.step()\n",
        "\n",
        "        # Print losses\n",
        "        if (epoch + 1) % print_epoch == 0:\n",
        "            print(f\"\\nEpoch [{epoch+1}/{num_epochs}], Train Loss: {train_loss:.9f}, Val Loss: {val_loss:.9f}\")\n",
        "\n",
        "    return train_losses, val_losses\n"
      ],
      "metadata": {
        "id": "Q7HZrRoaNWJw"
      },
      "execution_count": 45,
      "outputs": []
    },
    {
      "cell_type": "code",
      "source": [
        "def plot_train_and_val_losses(train_losses, val_losses):\n",
        "    plt.figure(figsize=(7, 5))\n",
        "    plt.plot(train_losses, label='Train Loss', color='blue')\n",
        "    plt.plot(val_losses, label='Validation Loss', color='red')\n",
        "    plt.xlabel('Epoch')\n",
        "    plt.ylabel('Loss')\n",
        "    plt.title('Training and Validation Losses')\n",
        "    plt.legend()\n",
        "    plt.grid(True)\n",
        "    plt.show()"
      ],
      "metadata": {
        "id": "SomnyjAFiG5N"
      },
      "execution_count": 46,
      "outputs": []
    },
    {
      "cell_type": "markdown",
      "source": [
        "Let's try to train CINN on our dataset so that we can proceed with the task of style transfer:"
      ],
      "metadata": {
        "id": "HbgcHXnFStMe"
      }
    },
    {
      "cell_type": "code",
      "source": [
        "# let's instantiate the model\n",
        "model_cinn_style_transfer= conditional_realNVP(input_size=24, hidden_size=30,n_blocks=5\n",
        "                                               , condition_size=2)\n",
        "# model_cinn_style_transfer.to(device)\n",
        "# model_cinn_style_transfer"
      ],
      "metadata": {
        "id": "-xvokX3RHasc"
      },
      "execution_count": 83,
      "outputs": []
    },
    {
      "cell_type": "code",
      "source": [
        "args_dict = {\n",
        "    'model': model_cinn_style_transfer,\n",
        "    'train_loader': train_loader,\n",
        "    'val_loader': val_loader,\n",
        "    'num_epochs': 10,\n",
        "    'learning_rate': 1e-3,\n",
        "    'weight_decay': 0.001,\n",
        "    'step_size_scheduler': 100,\n",
        "    'gamma_scheduler': 0.5,\n",
        "    'print_epoch': 2,\n",
        "    'device': device\n",
        "}\n"
      ],
      "metadata": {
        "id": "2C6GypXgTo0g"
      },
      "execution_count": 84,
      "outputs": []
    },
    {
      "cell_type": "code",
      "source": [
        "# let's train and evaluate\n",
        "train_loss, val_loss = train_and_evaluate_cinn(**args_dict)"
      ],
      "metadata": {
        "colab": {
          "base_uri": "https://localhost:8080/"
        },
        "id": "hVjqZ6T7TzOW",
        "outputId": "233a74d2-2d03-44a8-9e14-f5561d80a4a5"
      },
      "execution_count": 85,
      "outputs": [
        {
          "output_type": "stream",
          "name": "stderr",
          "text": [
            "Epochs:  20%|██        | 2/10 [06:10<24:44, 185.50s/it]"
          ]
        },
        {
          "output_type": "stream",
          "name": "stdout",
          "text": [
            "\n",
            "Epoch [2/10], Train Loss: -0.783454115, Val Loss: -1.235329393\n"
          ]
        },
        {
          "output_type": "stream",
          "name": "stderr",
          "text": [
            "Epochs:  40%|████      | 4/10 [12:24<18:39, 186.55s/it]"
          ]
        },
        {
          "output_type": "stream",
          "name": "stdout",
          "text": [
            "\n",
            "Epoch [4/10], Train Loss: -2.050421749, Val Loss: -2.192166706\n"
          ]
        },
        {
          "output_type": "stream",
          "name": "stderr",
          "text": [
            "Epochs:  60%|██████    | 6/10 [18:37<12:25, 186.49s/it]"
          ]
        },
        {
          "output_type": "stream",
          "name": "stdout",
          "text": [
            "\n",
            "Epoch [6/10], Train Loss: -2.613677046, Val Loss: -2.705841145\n"
          ]
        },
        {
          "output_type": "stream",
          "name": "stderr",
          "text": [
            "Epochs:  80%|████████  | 8/10 [24:58<06:16, 188.47s/it]"
          ]
        },
        {
          "output_type": "stream",
          "name": "stdout",
          "text": [
            "\n",
            "Epoch [8/10], Train Loss: -2.953523830, Val Loss: -2.949558027\n"
          ]
        },
        {
          "output_type": "stream",
          "name": "stderr",
          "text": [
            "Epochs: 100%|██████████| 10/10 [31:19<00:00, 187.93s/it]"
          ]
        },
        {
          "output_type": "stream",
          "name": "stdout",
          "text": [
            "\n",
            "Epoch [10/10], Train Loss: -3.178345589, Val Loss: -3.189664037\n"
          ]
        },
        {
          "output_type": "stream",
          "name": "stderr",
          "text": [
            "\n"
          ]
        }
      ]
    },
    {
      "cell_type": "code",
      "source": [
        "plot_train_and_val_losses(train_loss, val_loss)"
      ],
      "metadata": {
        "id": "rIBMKiJCT-O-",
        "colab": {
          "base_uri": "https://localhost:8080/",
          "height": 487
        },
        "outputId": "c49dca3e-73ed-46b1-caa5-b04e1e5a1b59"
      },
      "execution_count": 86,
      "outputs": [
        {
          "output_type": "display_data",
          "data": {
            "text/plain": [
              "<Figure size 700x500 with 1 Axes>"
            ],
            "image/png": "[encoded data removed]"
          },
          "metadata": {}
        }
      ]
    },
    {
      "cell_type": "markdown",
      "source": [
        "### let's check style transfer"
      ],
      "metadata": {
        "id": "O_mGqvHUlx_y"
      }
    },
    {
      "cell_type": "code",
      "source": [
        "def style_transfer_after_training(model_cinn, encoded_source_image, source_style_label,\n",
        "                                  label_target_style, device=device):\n",
        "    encoded_source_image, source_style_label = encoded_source_image.to(device), source_style_label.to(device)\n",
        "\n",
        "\n",
        "    # Get the residual\n",
        "    model_cinn.eval()\n",
        "    z, _ = model_cinn( encoded_source_image, source_style_label)\n",
        "\n",
        "    # Define the target style label\n",
        "    y_label_colored = torch.tensor([label_target_style]).to(device)\n",
        "\n",
        "    # Transfer the style\n",
        "    model_cinn.eval()\n",
        "    x_transfered = model_cinn._inverse(z, y_label_colored[0])\n",
        "\n",
        "    return x_transfered\n",
        "\n",
        "def decode_latent_vec(latent_rep, ae_model):\n",
        "  ae_model.eval()\n",
        "  decoded= ae_model.decoder(latent_rep)\n",
        "  return decoded\n"
      ],
      "metadata": {
        "id": "qSdsRJ0kXvft"
      },
      "execution_count": 87,
      "outputs": []
    },
    {
      "cell_type": "code",
      "source": [
        "i=68\n",
        "x_uncolored, y_label=encoded_image_test_set[i,:], labels_test[i]\n",
        "x_uncolored, y_label= x_uncolored.to(device), y_label.to(device)\n",
        "x_trans_check= style_transfer_after_training(model_cinn_style_transfer,\n",
        "                                             x_uncolored, y_label, 1, device=device)\n",
        "\n",
        "### let's send x through the decoder\n",
        "decoded_x_style_trans= decode_latent_vec(x_trans_check, ae_model)\n",
        "decoded_original= decode_latent_vec(x_uncolored, ae_model)\n",
        "print(decoded_x_style_trans.shape);print(decoded_original.shape)"
      ],
      "metadata": {
        "colab": {
          "base_uri": "https://localhost:8080/"
        },
        "id": "gCGBqZgoaufH",
        "outputId": "53d73730-60ad-41ae-fd07-ec0582184c1f"
      },
      "execution_count": 88,
      "outputs": [
        {
          "output_type": "stream",
          "name": "stdout",
          "text": [
            "torch.Size([1, 3, 28, 28])\n",
            "torch.Size([1, 3, 28, 28])\n"
          ]
        }
      ]
    },
    {
      "cell_type": "code",
      "source": [
        "def plot_images(image1, image2):\n",
        "    fig, axes = plt.subplots(1, 2,figsize=(4, 4))\n",
        "    axes[0].imshow(np.transpose(image1.squeeze().detach().cpu().numpy(), (1, 2, 0)))  # Transpose image dimensions from (1, 3, 28, 28) to (28, 28, 3)\n",
        "    axes[0].set_title('True Image')\n",
        "    axes[0].axis('off')\n",
        "\n",
        "    axes[1].imshow(np.transpose(image2.squeeze().detach().cpu().numpy(), (1, 2, 0)))  # Transpose image dimensions from (1, 3, 28, 28) to (28, 28, 3)\n",
        "    axes[1].set_title('Style Transferred')\n",
        "    axes[1].axis('off')\n",
        "\n",
        "    plt.show()\n",
        "\n",
        "plot_images(decoded_original, decoded_x_style_trans)"
      ],
      "metadata": {
        "id": "oFGtVH2GrCGj",
        "colab": {
          "base_uri": "https://localhost:8080/",
          "height": 200
        },
        "outputId": "3b3402e7-366a-41af-8fd1-37dc8f280b3e"
      },
      "execution_count": 89,
      "outputs": [
        {
          "output_type": "display_data",
          "data": {
            "text/plain": [
              "<Figure size 400x400 with 2 Axes>"
            ],
            "image/png": "[encoded data removed]"
          },
          "metadata": {}
        }
      ]
    },
    {
      "cell_type": "markdown",
      "source": [
        "few more datasets:"
      ],
      "metadata": {
        "id": "cnMOg1DBgQeN"
      }
    },
    {
      "cell_type": "code",
      "source": [
        "import random\n",
        "import matplotlib.pyplot as plt\n",
        "\n",
        "# Define a function to plot multiple images in a subplot\n",
        "def plot_images_subplot(images, titles):\n",
        "    fig, axes = plt.subplots(2, 10, figsize=(12, 4))\n",
        "\n",
        "    for i, (original, style_transferred) in enumerate(images):\n",
        "        # Plot original images in the first row\n",
        "        axes[0, i].imshow(original.squeeze().detach().cpu().numpy().transpose(1, 2, 0))\n",
        "        axes[0, i].set_title(titles[i][0], fontsize=11)\n",
        "        axes[0, i].axis('off')\n",
        "\n",
        "        # Plot style transferred images in the second row\n",
        "        axes[1, i].imshow(style_transferred.squeeze().detach().cpu().numpy().transpose(1, 2, 0))\n",
        "        axes[1, i].set_title(titles[i][1], fontsize=9)\n",
        "        axes[1, i].axis('off')\n",
        "\n",
        "    plt.tight_layout()\n",
        "    plt.show()\n",
        "\n",
        "\n",
        "# Select 5 random indices from the test set\n",
        "random_indices = random.sample(range(len(encoded_image_test_set[:9000])), 10)\n",
        "\n",
        "# Perform style transfer and plot for each selected image\n",
        "images_to_plot = []\n",
        "titles = []\n",
        "\n",
        "for i in random_indices:\n",
        "    x_uncolored, y_label = encoded_image_test_set[i], labels_test[i]\n",
        "    x_uncolored, y_label= x_uncolored.to(device), y_label.to(device)\n",
        "    source_style_label = 0 if y_label == 1 else 1\n",
        "    label_target_style = 1 if y_label == 0 else 0\n",
        "\n",
        "    x_trans_check = style_transfer_after_training(model_cinn_style_transfer,\n",
        "                                                  x_uncolored, y_label, label_target_style, device=device)\n",
        "\n",
        "    decoded_original = decode_latent_vec(x_uncolored, ae_model)\n",
        "    decoded_x_style_trans = decode_latent_vec(x_trans_check, ae_model)\n",
        "\n",
        "    images_to_plot.append((decoded_original, decoded_x_style_trans))\n",
        "    titles.append(('Original', 'Style Transferred'))\n",
        "\n",
        "# Plot the original and style transferred images in a subplot\n",
        "plot_images_subplot(images_to_plot, titles)\n"
      ],
      "metadata": {
        "colab": {
          "base_uri": "https://localhost:8080/",
          "height": 183
        },
        "id": "M7hTObn7gQBj",
        "outputId": "1e708a95-d21a-4933-82c0-86655bf41454"
      },
      "execution_count": 90,
      "outputs": [
        {
          "output_type": "display_data",
          "data": {
            "text/plain": [
              "<Figure size 1200x400 with 20 Axes>"
            ],
            "image/png": "[encoded data removed]"
          },
          "metadata": {}
        }
      ]
    },
    {
      "cell_type": "code",
      "source": [
        "random_indices"
      ],
      "metadata": {
        "colab": {
          "base_uri": "https://localhost:8080/"
        },
        "id": "aLmFX4Zt2XaL",
        "outputId": "c6eadb19-84cb-4e8b-f8fc-dda10ce92fe8"
      },
      "execution_count": 91,
      "outputs": [
        {
          "output_type": "execute_result",
          "data": {
            "text/plain": [
              "[4930, 280, 1299, 7828, 3471, 2533, 1300, 1681, 6136, 5076]"
            ]
          },
          "metadata": {},
          "execution_count": 91
        }
      ]
    },
    {
      "cell_type": "markdown",
      "source": [
        "## Although the code below is not relevant anymore, for the time being don't delete it"
      ],
      "metadata": {
        "id": "w5TXI78LS2c9"
      }
    },
    {
      "cell_type": "markdown",
      "source": [
        "### Dataset for style transfer with CINN:"
      ],
      "metadata": {
        "id": "cuaGw7trMtE2"
      }
    },
    {
      "cell_type": "code",
      "source": [
        "# Function to randomly colorize MNIST dataset with a single color channel\n",
        "# def random_colorize_rgb_mnist(X):\n",
        "#     colored_X = np.zeros((X.shape[0], X.shape[1], X.shape[2], 3), dtype=np.uint8)\n",
        "\n",
        "#     for i in range(X.shape[0]):\n",
        "#         img = X[i]\n",
        "\n",
        "#         # Generate random color channel index (0 for red, 1 for green, 2 for blue)\n",
        "#         color_channel_index = np.random.randint(0, 3)\n",
        "\n",
        "#         # Set the color based on the selected color channel\n",
        "#         color = [0, 0, 0]\n",
        "#         color[color_channel_index] = 255\n",
        "\n",
        "#         # Colorize the digits while keeping the background unchanged\n",
        "#         colored_img = np.zeros((img.shape[0], img.shape[1], 3), dtype=np.uint8)\n",
        "#         colored_img[img > 0] = color\n",
        "#         colored_X[i] = colored_img\n",
        "\n",
        "#     return colored_X"
      ],
      "metadata": {
        "id": "GK8dCSfORwew"
      },
      "execution_count": 92,
      "outputs": []
    },
    {
      "cell_type": "code",
      "source": [
        "### Load MNIST training dataset\n",
        "# train_dataset = MNIST(root='./data', train=True, download=True, transform=ToTensor())\n",
        "# uncolored_X_train = train_dataset.data.numpy()\n",
        "# uncolored_y_train = train_dataset.targets.numpy()\n",
        "\n",
        "# ### Load MNIST test dataset\n",
        "# test_dataset = MNIST(root='./data', train=False, download=True, transform=ToTensor())\n",
        "# uncolored_X_test = test_dataset.data.numpy()\n",
        "# uncolored_y_test = test_dataset.targets.numpy()\n",
        "\n",
        "\n",
        "# colored_rgb_X_train = random_colorize_rgb_mnist(uncolored_X_train)\n",
        "# colored_rgb_X_test = random_colorize_rgb_mnist(uncolored_X_test)\n",
        "\n",
        "# ### labels for the dataset\n",
        "# # Create labels for uncolored datasets\n",
        "# uncolored_labels_train = np.zeros(len(uncolored_X_train))\n",
        "# uncolored_labels_test = np.zeros(len(uncolored_X_test))\n",
        "\n",
        "# # Create labels for colored datasets\n",
        "# colored_labels_train = np.ones(len(colored_rgb_X_train))\n",
        "# colored_labels_test = np.ones(len(colored_rgb_X_test))"
      ],
      "metadata": {
        "id": "NLYnlh8uMxRj"
      },
      "execution_count": 93,
      "outputs": []
    },
    {
      "cell_type": "code",
      "source": [
        "# Reshape uncolored images to (60000, 28, 28, 1)\n",
        "# uncolored_X_train_resized = uncolored_X_train.reshape(-1, 28, 28, 1)\n",
        "# uncolored_X_test_resized = uncolored_X_test.reshape(-1, 28, 28, 1)\n",
        "\n",
        "# # Expand single channel to three channels\n",
        "# uncolored_X_train_expanded = np.repeat(uncolored_X_train_resized, 3, axis=-1)\n",
        "# uncolored_X_test_expanded = np.repeat(uncolored_X_test_resized, 3, axis=-1)"
      ],
      "metadata": {
        "id": "8JWcqSjmSVM_"
      },
      "execution_count": 94,
      "outputs": []
    },
    {
      "cell_type": "code",
      "source": [
        "# Normalize the datasets\n",
        "# # Convert the datasets to float32 before normalization\n",
        "# uncolored_X_train_expanded = uncolored_X_train_expanded.astype(np.float32)\n",
        "# uncolored_X_test_expanded = uncolored_X_test_expanded.astype(np.float32)\n",
        "# colored_rgb_X_train = colored_rgb_X_train.astype(np.float32)\n",
        "# colored_rgb_X_test = colored_rgb_X_test.astype(np.float32)\n",
        "\n",
        "# # # Normalize the datasets\n",
        "# uncolored_X_train_expanded=uncolored_X_train_expanded/255.0\n",
        "# uncolored_X_test_expanded = uncolored_X_test_expanded/255.0\n",
        "# colored_rgb_X_train= colored_rgb_X_train/255.0\n",
        "# colored_rgb_X_test=colored_rgb_X_test/255.0"
      ],
      "metadata": {
        "id": "USPekQUTSRqO"
      },
      "execution_count": 95,
      "outputs": []
    },
    {
      "cell_type": "code",
      "source": [
        "# mixed_X_train = np.concatenate((uncolored_X_train_expanded[:len(uncolored_X_train_expanded)],\n",
        "#                                 colored_rgb_X_train), axis=0)\n",
        "\n",
        "# mixed_X_test = np.concatenate((uncolored_X_test_expanded[:len(uncolored_X_test_expanded)],\n",
        "#                                 colored_rgb_X_test), axis=0)\n",
        "\n",
        "# np.shape(mixed_X_train), np.shape(mixed_X_test)"
      ],
      "metadata": {
        "id": "BHnb6F3wSoJt"
      },
      "execution_count": 96,
      "outputs": []
    },
    {
      "cell_type": "code",
      "source": [
        "# mixed_X_train_tensor = torch.tensor(mixed_X_train)\n",
        "# mixed_X_test_tensor = torch.tensor(mixed_X_test)\n",
        "# # Permute the mixed_X_train and mixed_X_test tensors\n",
        "# mixed_X_train_tensor = mixed_X_train_tensor.permute(0, 3, 1, 2)  # earlier channels are the last dimension\n",
        "# mixed_X_test_tensor = mixed_X_test_tensor.permute(0, 3, 1, 2)  # earlier channels are the last dimension\n"
      ],
      "metadata": {
        "id": "OlZJDvlTSrCT"
      },
      "execution_count": 97,
      "outputs": []
    },
    {
      "cell_type": "code",
      "source": [
        "# torch.save(mixed_X_train_tensor, \"images_train_set.pt\")\n",
        "# torch.save(mixed_X_test_tensor, \"images_test_set.pt\" )"
      ],
      "metadata": {
        "id": "SjyKLo6EcAjI"
      },
      "execution_count": 98,
      "outputs": []
    },
    {
      "cell_type": "code",
      "source": [
        "# ae_model.eval()\n",
        "# images_test_set=ae_model.encoder(mixed_X_test_tensor)\n",
        "# images_train_set= ae_model.encoder(mixed_X_train_tensor)\n",
        "\n",
        "# print(images_test_set.size()); print(images_train_set.size())\n",
        "\n",
        "# torch.save(images_train_set, \"encoded_images_train_set.pt\")\n",
        "# torch.save(images_test_set, \"encoded_images_test_set.pt\")"
      ],
      "metadata": {
        "id": "CSCq8K0uj371"
      },
      "execution_count": 99,
      "outputs": []
    }
  ]
}