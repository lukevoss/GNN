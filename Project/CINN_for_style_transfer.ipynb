{
  "nbformat": 4,
  "nbformat_minor": 0,
  "metadata": {
    "colab": {
      "provenance": [],
      "collapsed_sections": [
        "cuaGw7trMtE2"
      ],
      "authorship_tag": "ABX9TyPAy4oMpusVp+v/vAflpmvC",
      "include_colab_link": true
    },
    "kernelspec": {
      "name": "python3",
      "display_name": "Python 3"
    },
    "language_info": {
      "name": "python"
    }
  },
  "cells": [
    {
      "cell_type": "markdown",
      "metadata": {
        "id": "view-in-github",
        "colab_type": "text"
      },
      "source": [
        "<a href=\"https://colab.research.google.com/github/neelkanthrawat/GNN-exercises/blob/main/Project/CINN_for_style_transfer.ipynb\" target=\"_parent\"><img src=\"https://colab.research.google.com/assets/colab-badge.svg\" alt=\"Open In Colab\"/></a>"
      ]
    },
    {
      "cell_type": "code",
      "execution_count": 1,
      "metadata": {
        "id": "NF3YDtbcA0CK"
      },
      "outputs": [],
      "source": [
        "import torch\n",
        "import torch.nn as nn\n",
        "from torchvision.datasets import MNIST\n",
        "from torchvision import transforms\n",
        "from torchvision.transforms import ToTensor\n",
        "from torch.utils.data import DataLoader, TensorDataset\n",
        "from sklearn.model_selection import train_test_split\n",
        "import torch.nn as nn\n",
        "import torch.optim as optim\n",
        "from tqdm import tqdm\n",
        "\n",
        "from scipy.stats import special_ortho_group\n",
        "from sklearn.datasets import make_moons, load_digits\n",
        "import matplotlib.pyplot as plt\n",
        "import random\n",
        "import numpy as np\n",
        "import matplotlib.pyplot as plt\n",
        "import math"
      ]
    },
    {
      "cell_type": "markdown",
      "source": [
        "### Dataset for the CINN:"
      ],
      "metadata": {
        "id": "cuaGw7trMtE2"
      }
    },
    {
      "cell_type": "code",
      "source": [
        "# Function to randomly colorize MNIST dataset with a single color channel\n",
        "# def random_colorize_rgb_mnist(X):\n",
        "#     colored_X = np.zeros((X.shape[0], X.shape[1], X.shape[2], 3), dtype=np.uint8)\n",
        "\n",
        "#     for i in range(X.shape[0]):\n",
        "#         img = X[i]\n",
        "\n",
        "#         # Generate random color channel index (0 for red, 1 for green, 2 for blue)\n",
        "#         color_channel_index = np.random.randint(0, 3)\n",
        "\n",
        "#         # Set the color based on the selected color channel\n",
        "#         color = [0, 0, 0]\n",
        "#         color[color_channel_index] = 255\n",
        "\n",
        "#         # Colorize the digits while keeping the background unchanged\n",
        "#         colored_img = np.zeros((img.shape[0], img.shape[1], 3), dtype=np.uint8)\n",
        "#         colored_img[img > 0] = color\n",
        "#         colored_X[i] = colored_img\n",
        "\n",
        "#     return colored_X"
      ],
      "metadata": {
        "id": "GK8dCSfORwew"
      },
      "execution_count": 2,
      "outputs": []
    },
    {
      "cell_type": "code",
      "source": [
        "### Load MNIST training dataset\n",
        "# train_dataset = MNIST(root='./data', train=True, download=True, transform=ToTensor())\n",
        "# uncolored_X_train = train_dataset.data.numpy()\n",
        "# uncolored_y_train = train_dataset.targets.numpy()\n",
        "\n",
        "# ### Load MNIST test dataset\n",
        "# test_dataset = MNIST(root='./data', train=False, download=True, transform=ToTensor())\n",
        "# uncolored_X_test = test_dataset.data.numpy()\n",
        "# uncolored_y_test = test_dataset.targets.numpy()\n",
        "\n",
        "\n",
        "# colored_rgb_X_train = random_colorize_rgb_mnist(uncolored_X_train)\n",
        "# colored_rgb_X_test = random_colorize_rgb_mnist(uncolored_X_test)\n",
        "\n",
        "# ### labels for the dataset\n",
        "# # Create labels for uncolored datasets\n",
        "# uncolored_labels_train = np.zeros(len(uncolored_X_train))\n",
        "# uncolored_labels_test = np.zeros(len(uncolored_X_test))\n",
        "\n",
        "# # Create labels for colored datasets\n",
        "# colored_labels_train = np.ones(len(colored_rgb_X_train))\n",
        "# colored_labels_test = np.ones(len(colored_rgb_X_test))"
      ],
      "metadata": {
        "id": "NLYnlh8uMxRj"
      },
      "execution_count": 3,
      "outputs": []
    },
    {
      "cell_type": "code",
      "source": [
        "# Reshape uncolored images to (60000, 28, 28, 1)\n",
        "# uncolored_X_train_resized = uncolored_X_train.reshape(-1, 28, 28, 1)\n",
        "# uncolored_X_test_resized = uncolored_X_test.reshape(-1, 28, 28, 1)\n",
        "\n",
        "# # Expand single channel to three channels\n",
        "# uncolored_X_train_expanded = np.repeat(uncolored_X_train_resized, 3, axis=-1)\n",
        "# uncolored_X_test_expanded = np.repeat(uncolored_X_test_resized, 3, axis=-1)"
      ],
      "metadata": {
        "id": "8JWcqSjmSVM_"
      },
      "execution_count": 4,
      "outputs": []
    },
    {
      "cell_type": "code",
      "source": [
        "# Normalize the datasets\n",
        "# # Convert the datasets to float32 before normalization\n",
        "# uncolored_X_train_expanded = uncolored_X_train_expanded.astype(np.float32)\n",
        "# uncolored_X_test_expanded = uncolored_X_test_expanded.astype(np.float32)\n",
        "# colored_rgb_X_train = colored_rgb_X_train.astype(np.float32)\n",
        "# colored_rgb_X_test = colored_rgb_X_test.astype(np.float32)\n",
        "\n",
        "# # # Normalize the datasets\n",
        "# uncolored_X_train_expanded=uncolored_X_train_expanded/255.0\n",
        "# uncolored_X_test_expanded = uncolored_X_test_expanded/255.0\n",
        "# colored_rgb_X_train= colored_rgb_X_train/255.0\n",
        "# colored_rgb_X_test=colored_rgb_X_test/255.0"
      ],
      "metadata": {
        "id": "USPekQUTSRqO"
      },
      "execution_count": 5,
      "outputs": []
    },
    {
      "cell_type": "code",
      "source": [
        "# mixed_X_train = np.concatenate((uncolored_X_train_expanded[:len(uncolored_X_train_expanded)],\n",
        "#                                 colored_rgb_X_train), axis=0)\n",
        "\n",
        "# mixed_X_test = np.concatenate((uncolored_X_test_expanded[:len(uncolored_X_test_expanded)],\n",
        "#                                 colored_rgb_X_test), axis=0)\n",
        "\n",
        "# np.shape(mixed_X_train), np.shape(mixed_X_test)"
      ],
      "metadata": {
        "id": "BHnb6F3wSoJt"
      },
      "execution_count": 6,
      "outputs": []
    },
    {
      "cell_type": "code",
      "source": [
        "# mixed_X_train_tensor = torch.tensor(mixed_X_train)\n",
        "# mixed_X_test_tensor = torch.tensor(mixed_X_test)\n",
        "# # Permute the mixed_X_train and mixed_X_test tensors\n",
        "# mixed_X_train_tensor = mixed_X_train_tensor.permute(0, 3, 1, 2)  # earlier channels are the last dimension\n",
        "# mixed_X_test_tensor = mixed_X_test_tensor.permute(0, 3, 1, 2)  # earlier channels are the last dimension\n"
      ],
      "metadata": {
        "id": "OlZJDvlTSrCT"
      },
      "execution_count": 7,
      "outputs": []
    },
    {
      "cell_type": "code",
      "source": [],
      "metadata": {
        "id": "2xSMKSMUc9Ir"
      },
      "execution_count": 7,
      "outputs": []
    },
    {
      "cell_type": "code",
      "source": [
        "# torch.save(mixed_X_train_tensor, \"images_train_set.pt\")\n",
        "# torch.save(mixed_X_test_tensor, \"images_test_set.pt\" )"
      ],
      "metadata": {
        "id": "SjyKLo6EcAjI"
      },
      "execution_count": 8,
      "outputs": []
    },
    {
      "cell_type": "markdown",
      "source": [
        "### Let's now load the saved AE model and begin creating the dataset for the CINN training:"
      ],
      "metadata": {
        "id": "jlsADe06T-TQ"
      }
    },
    {
      "cell_type": "code",
      "source": [
        "class Autoencoder_simpler(nn.Module):\n",
        "    def __init__(self, dropout_prob=0.1):\n",
        "        super(Autoencoder_simpler, self).__init__()\n",
        "\n",
        "        self.dropout_prob = dropout_prob\n",
        "\n",
        "        # Encoder layers\n",
        "        self.encoder_conv1 = nn.Conv2d(3, 16, kernel_size=3, stride=2, padding=1)  # Use stride 2 for downscaling\n",
        "        self.encoder_conv2 = nn.Conv2d(16, 24, kernel_size=3, stride=2, padding=1)  # Use stride 2 for downscaling\n",
        "        self.encoder_linear = nn.Linear(24 * 7 * 7, 24)  # 64*6 ---> 20\n",
        "\n",
        "        # Dropout layers\n",
        "        self.dropout = nn.Dropout(p=self.dropout_prob)  # Add dropout layer\n",
        "\n",
        "        # Decoder layers\n",
        "        self.decoder_linear = nn.Linear(24, 24* 7 * 7)\n",
        "        self.decoder_conv1 = nn.ConvTranspose2d(24, 16, kernel_size=3, stride=2, padding=1, output_padding=1)  # Use stride 2 for upscaling\n",
        "        self.decoder_conv2 = nn.ConvTranspose2d(16, 3, kernel_size=3, stride=2, padding=1, output_padding=1)  # Use stride 2 for upscaling\n",
        "\n",
        "    def encoder(self, x):\n",
        "    # Encoder\n",
        "        x = self.encoder_conv1(x)\n",
        "        #print(\"After encoder_conv1:\", x.shape)\n",
        "        x = torch.relu(x)\n",
        "        #print(\"After relu:\", x.shape)\n",
        "        x = self.dropout(x)  # Apply dropout\n",
        "        #print(\"After dropout:\", x.shape)\n",
        "        x = self.encoder_conv2(x)\n",
        "        #print(\"After encoder_conv2:\", x.shape)\n",
        "        x = torch.relu(x)\n",
        "        #print(\"After relu:\", x.shape)\n",
        "        x = self.dropout(x)  # Apply dropout\n",
        "        #print(\"After dropout:\", x.shape)\n",
        "        x = x.reshape(-1, 24 * 7 * 7)  # Use .reshape() instead of .view()\n",
        "        #print(\"After reshaping:\", x.shape)\n",
        "        x = self.encoder_linear(x)\n",
        "        #print(\"After encoder_linear:\", x.shape)\n",
        "        return x\n",
        "\n",
        "    def decoder(self, x):\n",
        "        # Decoder\n",
        "        x = self.decoder_linear(x)\n",
        "        x = x.view(-1, 24, 7, 7)\n",
        "        x = self.decoder_conv1(x)\n",
        "        x = torch.relu(x)\n",
        "        x = self.dropout(x)  # Apply dropout\n",
        "        x = self.decoder_conv2(x)\n",
        "        x = torch.relu(x)\n",
        "        x = torch.clamp(x, 0, 1) # Clamp output\n",
        "        return x\n",
        "\n",
        "    def forward(self, x):\n",
        "        encoded = self.encoder(x)\n",
        "        decoded = self.decoder(encoded)\n",
        "        return decoded"
      ],
      "metadata": {
        "id": "vV_yy9geUwcG"
      },
      "execution_count": 9,
      "outputs": []
    },
    {
      "cell_type": "code",
      "source": [
        "# Define the path to the pretrained model\n",
        "checkpoint_path = \"/content/autoencoder_mixed_mnist_dropout_0.01_60_epochs.pth\"\n",
        "\n",
        "# Load the pretrained model\n",
        "pretrained_model_list = torch.load(checkpoint_path,map_location=torch.device('cpu'))\n",
        "\n",
        "ae_model=Autoencoder_simpler(dropout_prob=0.01)\n",
        "\n",
        "ae_model.load_state_dict(pretrained_model_list)"
      ],
      "metadata": {
        "colab": {
          "base_uri": "https://localhost:8080/"
        },
        "id": "plgGxmZLS0kl",
        "outputId": "fb930e0a-bb5d-4190-de21-10c526db39ea"
      },
      "execution_count": 10,
      "outputs": [
        {
          "output_type": "execute_result",
          "data": {
            "text/plain": [
              "<All keys matched successfully>"
            ]
          },
          "metadata": {},
          "execution_count": 10
        }
      ]
    },
    {
      "cell_type": "code",
      "source": [
        "# ae_model.eval()\n",
        "# images_test_set=ae_model.encoder(mixed_X_test_tensor)\n",
        "# images_train_set= ae_model.encoder(mixed_X_train_tensor)"
      ],
      "metadata": {
        "id": "WPQQRxn8UR4U"
      },
      "execution_count": 11,
      "outputs": []
    },
    {
      "cell_type": "code",
      "source": [
        "# images_test_set.size(), images_train_set.size()"
      ],
      "metadata": {
        "id": "4i26yhOmZQuw"
      },
      "execution_count": 12,
      "outputs": []
    },
    {
      "cell_type": "code",
      "source": [
        "# torch.save(images_train_set, \"encoded_images_train_set.pt\")"
      ],
      "metadata": {
        "id": "OwGRwslcbWor"
      },
      "execution_count": 13,
      "outputs": []
    },
    {
      "cell_type": "code",
      "source": [
        "# torch.save(images_test_set, \"encoded_images_test_set.pt\")"
      ],
      "metadata": {
        "id": "NwRrcvGibggU"
      },
      "execution_count": 14,
      "outputs": []
    },
    {
      "cell_type": "markdown",
      "source": [
        "### Let's load the dataset here:"
      ],
      "metadata": {
        "id": "VOC5EcfsfDBl"
      }
    },
    {
      "cell_type": "code",
      "source": [
        "encoded_image_train_set=torch.load(\"/content/encoded_images_train_set.pt\")\n",
        "encoded_image_test_set= torch.load(\"/content/encoded_images_test_set.pt\")"
      ],
      "metadata": {
        "id": "8fU0bWMRfRLu"
      },
      "execution_count": 15,
      "outputs": []
    },
    {
      "cell_type": "code",
      "source": [
        "encoded_image_train_set.size(), encoded_image_test_set.size()"
      ],
      "metadata": {
        "colab": {
          "base_uri": "https://localhost:8080/"
        },
        "id": "7eNtIVwafnK3",
        "outputId": "a09c029c-25a6-4d89-8401-912e55444fe5"
      },
      "execution_count": 16,
      "outputs": [
        {
          "output_type": "execute_result",
          "data": {
            "text/plain": [
              "(torch.Size([120000, 24]), torch.Size([20000, 24]))"
            ]
          },
          "metadata": {},
          "execution_count": 16
        }
      ]
    },
    {
      "cell_type": "code",
      "source": [
        "### 0 for uncolored and 1 for colored\n",
        "len_train=encoded_image_train_set.size()[0]\n",
        "len_test=encoded_image_test_set.size()[0]\n",
        "\n",
        "labels_train= torch.cat((torch.zeros(len_train // 2),torch.ones(len_train // 2)))\n",
        "labels_test = torch.cat((torch.zeros(len_test // 2),torch.ones(len_test // 2)))"
      ],
      "metadata": {
        "id": "HEc0WmDmkrof"
      },
      "execution_count": 17,
      "outputs": []
    },
    {
      "cell_type": "code",
      "source": [
        "encoded_image_train_set.size(), labels_train.size(), encoded_image_test_set.size(), labels_test.size()"
      ],
      "metadata": {
        "colab": {
          "base_uri": "https://localhost:8080/"
        },
        "id": "2igTl16yl1St",
        "outputId": "51abd529-e3d6-442a-b7ee-bc5b7bfe0fb1"
      },
      "execution_count": 18,
      "outputs": [
        {
          "output_type": "execute_result",
          "data": {
            "text/plain": [
              "(torch.Size([120000, 24]),\n",
              " torch.Size([120000]),\n",
              " torch.Size([20000, 24]),\n",
              " torch.Size([20000]))"
            ]
          },
          "metadata": {},
          "execution_count": 18
        }
      ]
    },
    {
      "cell_type": "markdown",
      "source": [
        "shuffled data"
      ],
      "metadata": {
        "id": "VfH1NDm6nndj"
      }
    },
    {
      "cell_type": "code",
      "source": [
        "# # Define the random seed for reproducibility\n",
        "# torch.manual_seed(42)\n",
        "\n",
        "# # Generate shuffled indices\n",
        "# shuffled_indices_train = torch.randperm(encoded_image_train_set.size(0))\n",
        "# shuffled_indices_test = torch.randperm(encoded_image_test_set.size(0))\n",
        "\n",
        "# # Shuffle the data and labels using the shuffled indices\n",
        "# shuffled_encoded_image_train_set = encoded_image_train_set[shuffled_indices_train]\n",
        "# shuffled_labels_train = labels_train[shuffled_indices_train]\n",
        "\n",
        "# shuffled_encoded_image_test_set = encoded_image_test_set[shuffled_indices_test]\n",
        "# shuffled_labels_test = labels_test[shuffled_indices_test]"
      ],
      "metadata": {
        "id": "8MBPVU1DnnMW"
      },
      "execution_count": 19,
      "outputs": []
    },
    {
      "cell_type": "code",
      "source": [
        "# shuffled_indices_train[:6], shuffled_labels_train[:6]"
      ],
      "metadata": {
        "id": "ALtnwz1snxsm"
      },
      "execution_count": 20,
      "outputs": []
    },
    {
      "cell_type": "markdown",
      "source": [
        "### Creating the dataloader"
      ],
      "metadata": {
        "id": "y6rLlZeRLpQa"
      }
    },
    {
      "cell_type": "code",
      "source": [
        "import torch\n",
        "from torch.utils.data import Dataset\n",
        "\n",
        "# Set random seed for reproducibility\n",
        "torch.manual_seed(42)\n",
        "np.random.seed(42)\n",
        "\n",
        "# Define custom dataset class\n",
        "class CustomDataset(Dataset):\n",
        "    def __init__(self, data, labels):\n",
        "        self.data = data\n",
        "        self.color_labels = labels\n",
        "\n",
        "    def __len__(self):\n",
        "        return len(self.data)\n",
        "\n",
        "    def __getitem__(self, idx):\n",
        "        return self.data[idx], self.color_labels[idx]\n",
        "\n",
        "# Create custom datasets for train and test\n",
        "train_dataset = CustomDataset(encoded_image_train_set, labels_train)\n",
        "test_dataset = CustomDataset(encoded_image_test_set, labels_test)\n",
        "\n",
        "batch_size=64\n",
        "\n",
        "# Create data loaders with shuffling and fixed random seed\n",
        "train_loader = torch.utils.data.DataLoader(train_dataset, batch_size=batch_size, shuffle=True, worker_init_fn=np.random.seed)\n",
        "test_loader = torch.utils.data.DataLoader(test_dataset, batch_size=batch_size, shuffle=False)"
      ],
      "metadata": {
        "id": "4qoQuwmYp29i"
      },
      "execution_count": 21,
      "outputs": []
    },
    {
      "cell_type": "code",
      "source": [
        "# Get the first batch of the train_loader\n",
        "first_batch = next(iter(train_loader))\n",
        "\n",
        "# Extract data and labels from the first batch\n",
        "data, labels = first_batch\n",
        "\n",
        "# Print the size of the first batch\n",
        "print(\"Data Shape:\", data.shape)\n",
        "print(\"Labels:\", labels)\n"
      ],
      "metadata": {
        "colab": {
          "base_uri": "https://localhost:8080/"
        },
        "id": "B_BQu0RyL8hd",
        "outputId": "2c55a19f-4fca-4d10-b64c-af7412e67bf6"
      },
      "execution_count": 23,
      "outputs": [
        {
          "output_type": "stream",
          "name": "stdout",
          "text": [
            "Data Shape: torch.Size([64, 24])\n",
            "Labels: tensor([0., 1., 1., 0., 0., 0., 1., 1., 0., 0., 1., 0., 0., 1., 1., 1., 0., 0.,\n",
            "        0., 0., 1., 1., 0., 1., 1., 1., 0., 1., 0., 0., 0., 0., 1., 1., 0., 0.,\n",
            "        1., 0., 0., 0., 1., 0., 1., 0., 0., 0., 0., 0., 0., 1., 1., 1., 0., 1.,\n",
            "        0., 1., 0., 0., 0., 0., 1., 0., 0., 0.])\n"
          ]
        }
      ]
    },
    {
      "cell_type": "markdown",
      "source": [
        "### CINN code:"
      ],
      "metadata": {
        "id": "fJ2mxKsgMqkg"
      }
    },
    {
      "cell_type": "code",
      "source": [
        "def subnet_constructor(input_size, hidden_size, output_size):\n",
        "    model = nn.Sequential(\n",
        "        nn.Linear(input_size, hidden_size),\n",
        "        nn.ReLU(),\n",
        "        nn.Linear(hidden_size, hidden_size),\n",
        "        nn.ReLU(),\n",
        "        nn.Linear(hidden_size, output_size)\n",
        "    )\n",
        "    return model\n",
        "\n",
        "def ortogonal_matrix(dim):\n",
        "    \"\"\"\n",
        "    A = torch.normal(mean=torch.zeros((dim,dim)), std=torch.ones((dim,dim)))\n",
        "    Q, _ = torch.linalg.qr(A)\n",
        "    if dim == 2:\n",
        "        Q[1,1] = -Q[0,0]\n",
        "        Q[0,1] = -Q[1,0]\n",
        "        print(torch.linalg.det(Q))\n",
        "    return Q\n",
        "    \"\"\"\n",
        "    Q = special_ortho_group.rvs(dim)\n",
        "    return torch.Tensor(Q)\n",
        "\n"
      ],
      "metadata": {
        "id": "NRTjxJGfB3Li"
      },
      "execution_count": null,
      "outputs": []
    },
    {
      "cell_type": "code",
      "source": [
        "class conditional_coupling_block(nn.Module):\n",
        "    def __init__(self, input_size, hidden_size, condition_size):\n",
        "        super().__init__()\n",
        "        self.input_size = input_size\n",
        "        self.hidden_size = hidden_size\n",
        "        self.condition_size = condition_size\n",
        "        self.split1 = math.floor(self.input_size/2)\n",
        "        self.split2 = self.input_size - self.split1\n",
        "        self.subnet = subnet_constructor(self.split1 + self.condition_size, self.hidden_size, 2*self.split2)\n",
        "\n",
        "    def forward(self, x, cond, rev=False):\n",
        "        x1, x2 = x[..., :self.split1], x[..., self.split1:]\n",
        "        params = self.subnet(torch.cat([x1, cond], -1))\n",
        "        s, t = params[...,:self.split2], params[...,self.split2:]\n",
        "        s = torch.tanh(s)\n",
        "        ljd = torch.sum(s, -1)\n",
        "\n",
        "        if not rev:\n",
        "            s = torch.exp(s)\n",
        "            x2 = s*x2 + t\n",
        "            return torch.cat([x1,x2], -1), ljd\n",
        "\n",
        "        if rev:\n",
        "            s = torch.exp(-s)\n",
        "            x2 = s * (x2-t)\n",
        "            return torch.cat([x1,x2], -1)\n",
        "\n"
      ],
      "metadata": {
        "id": "ld1eraUoBfI1"
      },
      "execution_count": null,
      "outputs": []
    },
    {
      "cell_type": "code",
      "source": [
        "class conditional_realNVP(nn.Module):\n",
        "    def __init__(self, input_size, hidden_size, n_blocks, condition_size):\n",
        "        super().__init__()\n",
        "        self.input_size = input_size\n",
        "        self.hidden_size = hidden_size\n",
        "        self.n_blocks = n_blocks\n",
        "        self.condition_size = condition_size\n",
        "\n",
        "        self.coupling_blocks = nn.ModuleList([conditional_coupling_block(input_size, hidden_size, self.condition_size) for _ in range(n_blocks)])\n",
        "        self.orthogonal_matrices = [ortogonal_matrix(input_size) for _ in range(n_blocks-1)]\n",
        "\n",
        "    def forward(self, x, cond, rev=False):\n",
        "        if rev:\n",
        "            return self._inverse(x, cond)\n",
        "        return self._forward(x, cond)\n",
        "\n",
        "    def _forward(self, x, cond):\n",
        "        cond = nn.functional.one_hot(cond.to(torch.int64), num_classes=self.condition_size)\n",
        "        ljd = torch.zeros((x.shape[0]))\n",
        "        for l in range(self.n_blocks-1):\n",
        "            x, partial_ljd = self.coupling_blocks[l](x, cond)\n",
        "            ljd += partial_ljd\n",
        "            x = torch.matmul(x, self.orthogonal_matrices[l])\n",
        "        x, partial_ljd = self.coupling_blocks[-1](x, cond)\n",
        "        ljd += partial_ljd\n",
        "        return x, ljd\n",
        "\n",
        "    def _inverse(self, x, cond):\n",
        "        cond = nn.functional.one_hot(cond.to(torch.int64), num_classes=self.condition_size)\n",
        "        for l in range(self.n_blocks-1, 0, -1):\n",
        "            x = self.coupling_blocks[l](x, cond, rev=True)\n",
        "            x = torch.matmul(x, self.orthogonal_matrices[l-1].T)\n",
        "        x = self.coupling_blocks[0](x, cond, rev=True)\n",
        "        return x\n",
        "\n",
        "    def sample(self, num_samples, cond=None):\n",
        "        samples = []\n",
        "        if cond is None:\n",
        "            for c in range(self.condition_size):\n",
        "                z = torch.normal(mean=torch.zeros((num_samples, self.input_size)), std=torch.ones((num_samples, self.input_size)))\n",
        "                samples.append(self._inverse(z, cond=c*torch.ones(num_samples)))\n",
        "        else:\n",
        "            z = torch.normal(mean=torch.zeros((num_samples, self.input_size)), std=torch.ones((num_samples, self.input_size)))\n",
        "            samples.append(self._inverse(z, cond=cond*torch.ones(num_samples)))\n",
        "        return torch.cat(samples, 0)\n"
      ],
      "metadata": {
        "id": "Duu45naUBgjb"
      },
      "execution_count": null,
      "outputs": []
    },
    {
      "cell_type": "code",
      "source": [
        "def mmd_inverse_multi_quadratic(x, y, bandwidths=None):\n",
        "    batch_size = x.size()[0]\n",
        "\n",
        "    # compute the kernel matrices for each combination of x, y\n",
        "    # (cleverly using broadcasting to do this efficiently)\n",
        "    xx, yy, xy = torch.mm(x,x.t()), torch.mm(y,y.t()), torch.mm(x,y.t())\n",
        "    rx = (xx.diag().unsqueeze(0).expand_as(xx))\n",
        "    ry = (yy.diag().unsqueeze(0).expand_as(yy))\n",
        "\n",
        "    # compute the sum of kernels at different bandwidths\n",
        "    K, L, P = 0, 0, 0\n",
        "    if bandwidths is None:\n",
        "        bandwidths = [0.4, 0.8, 1.6]\n",
        "    for sigma in bandwidths:\n",
        "        s = 1.0 / sigma**2\n",
        "        K += 1.0 / (1.0 + s * (rx.t() + rx - 2.0*xx))\n",
        "        L += 1.0 / (1.0 + s * (ry.t() + ry - 2.0*yy))\n",
        "        P += 1.0 / (1.0 + s * (rx.t() + ry - 2.0*xy))\n",
        "\n",
        "    beta = 1./(batch_size*(batch_size-1)*len(bandwidths))\n",
        "    gamma = 2./(batch_size**2 * len(bandwidths))\n",
        "\n",
        "    return beta * (torch.sum(K)+torch.sum(L)) - gamma * torch.sum(P)"
      ],
      "metadata": {
        "id": "iOjJpiixGwFu"
      },
      "execution_count": null,
      "outputs": []
    },
    {
      "cell_type": "code",
      "source": [
        "def train_cinn_moons(model, batchsize=1000, epochs=1000, lr=0.001):\n",
        "    optimizer = torch.optim.Adam(params=model.parameters(), lr=lr)\n",
        "    for epoch in range(epochs):\n",
        "        optimizer.zero_grad()\n",
        "        x_data, y_data = make_moons(n_samples=batchsize, shuffle=True, noise=0.1, random_state=42)\n",
        "        x_data, y_data = torch.Tensor(x_data), torch.Tensor(y_data)\n",
        "        z, ljd = model(x_data, y_data)\n",
        "        loss = torch.sum(0.5*torch.sum(z**2, -1)-ljd) / batchsize\n",
        "        loss.backward()\n",
        "        optimizer.step()\n",
        "        if (epoch+1) % (epochs//3) == 0:\n",
        "            print(f\"Epoch [{epoch+1}/{epochs}], Loss: {loss.item():.4f}\")\n"
      ],
      "metadata": {
        "id": "uMIjVo5hEAku"
      },
      "execution_count": null,
      "outputs": []
    },
    {
      "cell_type": "code",
      "source": [
        "x_data, y_data = make_moons(n_samples=5, shuffle=True, noise=0.1, random_state=42)\n",
        "x_data, y_data = torch.Tensor(x_data), torch.Tensor(y_data)\n",
        "y_data.size(), x_data.size()# y data is the sample :)"
      ],
      "metadata": {
        "colab": {
          "base_uri": "https://localhost:8080/"
        },
        "id": "vaoNHmFjIPyj",
        "outputId": "92ba17cd-26f2-40d9-946e-69424a1b23df"
      },
      "execution_count": null,
      "outputs": [
        {
          "output_type": "execute_result",
          "data": {
            "text/plain": [
              "(torch.Size([5]), torch.Size([5, 2]))"
            ]
          },
          "metadata": {},
          "execution_count": 19
        }
      ]
    },
    {
      "cell_type": "markdown",
      "source": [
        "The only major change we need to do in this code:\n",
        "\n",
        "1. Replace x_data (data from domain 1) and y_data (dataset: condition vectors) with our data and condition respectively.\n",
        "\n",
        "2. Some changes in the `_forward` function in line number 18 in `conditional_real_nvp` class."
      ],
      "metadata": {
        "id": "tRvtrR9WJBE9"
      }
    },
    {
      "cell_type": "code",
      "source": [
        "cINN_moons = conditional_realNVP(2, 64, 10, 2)\n",
        "train_cinn_moons(cINN_moons, epochs=100)\n",
        "\n"
      ],
      "metadata": {
        "colab": {
          "base_uri": "https://localhost:8080/"
        },
        "id": "1JuDxxwDGhIG",
        "outputId": "3426a66b-5a3d-46ac-c7c3-28c301387dba"
      },
      "execution_count": null,
      "outputs": [
        {
          "output_type": "stream",
          "name": "stdout",
          "text": [
            "Epoch [33/100], Loss: -0.9069\n",
            "Epoch [66/100], Loss: -1.3682\n",
            "Epoch [99/100], Loss: -1.5442\n"
          ]
        }
      ]
    },
    {
      "cell_type": "code",
      "source": [
        "moons_samples = cINN_moons.sample(1000)\n",
        "true_moons_data, _ = make_moons(n_samples=2000, shuffle=True, noise=0.1, random_state=42)\n",
        "true_moons_data = torch.Tensor(true_moons_data)\n",
        "plt.scatter(moons_samples[:,0].detach().numpy(), moons_samples[:,1].detach().numpy())\n",
        "mmd_score = mmd_inverse_multi_quadratic(moons_samples, true_moons_data)\n",
        "plt.title(f\"Moons Samples from cINN (hidden size 64, 10 layers, 100 epochs), MMD={mmd_score:.6f}\")\n",
        "plt.show()"
      ],
      "metadata": {
        "colab": {
          "base_uri": "https://localhost:8080/",
          "height": 452
        },
        "id": "P65WdVtsHVvF",
        "outputId": "d6d77aa5-8335-41c2-8d56-0ff554167d80"
      },
      "execution_count": null,
      "outputs": [
        {
          "output_type": "display_data",
          "data": {
            "text/plain": [
              "<Figure size 640x480 with 1 Axes>"
            ],
            "image/png": "[encoded data removed]"
          },
          "metadata": {}
        }
      ]
    },
    {
      "cell_type": "markdown",
      "source": [
        "### Tasks to do:\n",
        "\n",
        "0. create the training,val and test datasets for the task style transfer with cINN.\n",
        "1. Define a different and more general train_and_evaluate function before calling the model function"
      ],
      "metadata": {
        "id": "nMHxUOaoHuZ1"
      }
    },
    {
      "cell_type": "code",
      "source": [],
      "metadata": {
        "id": "-xvokX3RHasc"
      },
      "execution_count": null,
      "outputs": []
    }
  ]
}