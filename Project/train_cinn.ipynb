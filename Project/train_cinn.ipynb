{
 "cells": [
  {
   "cell_type": "markdown",
   "metadata": {},
   "source": [
    "# Training of Text-to-Image network translation"
   ]
  },
  {
   "cell_type": "code",
   "execution_count": 2,
   "metadata": {},
   "outputs": [],
   "source": [
    "import torch\n",
    "import lightning as L\n",
    "from tqdm import tqdm\n",
    "import torch.nn as nn\n",
    "from torch.utils.data import DataLoader\n",
    "from sentence_transformers import SentenceTransformer\n",
    "\n",
    "from datasets import CustomMNIST\n",
    "from cINN import ConditionalRealNVP\n",
    "from autoencoder import AutoencoderSimple\n",
    "from utils import get_best_device"
   ]
  },
  {
   "cell_type": "markdown",
   "metadata": {},
   "source": [
    "## Load pretrained models"
   ]
  },
  {
   "cell_type": "code",
   "execution_count": 3,
   "metadata": {},
   "outputs": [
    {
     "data": {
      "text/plain": [
       "<All keys matched successfully>"
      ]
     },
     "execution_count": 3,
     "metadata": {},
     "output_type": "execute_result"
    }
   ],
   "source": [
    "embedding_model = SentenceTransformer(\"intfloat/multilingual-e5-small\")\n",
    "\n",
    "ae_path = \"./models/ae_100.pth\"\n",
    "autoencoder = AutoencoderSimple()\n",
    "autoencoder.load_state_dict(torch.load(ae_path, map_location=get_best_device()))"
   ]
  },
  {
   "cell_type": "markdown",
   "metadata": {},
   "source": [
    "## Load data"
   ]
  },
  {
   "cell_type": "code",
   "execution_count": 4,
   "metadata": {},
   "outputs": [],
   "source": [
    "train_data = CustomMNIST(train=True)\n",
    "train_loader = DataLoader(train_data, batch_size=100, shuffle=True)"
   ]
  },
  {
   "cell_type": "markdown",
   "metadata": {},
   "source": [
    "### Encode dataset"
   ]
  },
  {
   "cell_type": "code",
   "execution_count": 5,
   "metadata": {},
   "outputs": [
    {
     "name": "stderr",
     "output_type": "stream",
     "text": [
      "Encoding: 100%|██████████| 600/600 [01:19<00:00,  7.53it/s]\n"
     ]
    }
   ],
   "source": [
    "encoded_dataset = []\n",
    "\n",
    "for batch_imgs, batch_labels in tqdm(train_loader, desc='Encoding'):\n",
    "    encoded_imgs = autoencoder.encoder(batch_imgs)\n",
    "    batch_labels = [str(label) for label in batch_labels]\n",
    "    encoded_lables = embedding_model.encode(batch_labels, convert_to_tensor=True)\n",
    "    encoded_dataset.extend(zip(encoded_imgs, encoded_lables))"
   ]
  },
  {
   "cell_type": "markdown",
   "metadata": {},
   "source": [
    "## Train cINN"
   ]
  },
  {
   "cell_type": "code",
   "execution_count": 10,
   "metadata": {},
   "outputs": [
    {
     "data": {
      "text/plain": [
       "torch.Size([64])"
      ]
     },
     "execution_count": 10,
     "metadata": {},
     "output_type": "execute_result"
    }
   ],
   "source": [
    "cinn = ConditionalRealNVP(input_size=64, hidden_size=128, n_blocks=20, condition_size=384)\n",
    "trainer = L.Trainer(max_epochs=100)\n",
    "trainer.fit(model=cinn, )"
   ]
  }
 ],
 "metadata": {
  "kernelspec": {
   "display_name": "gnn",
   "language": "python",
   "name": "python3"
  },
  "language_info": {
   "codemirror_mode": {
    "name": "ipython",
    "version": 3
   },
   "file_extension": ".py",
   "mimetype": "text/x-python",
   "name": "python",
   "nbconvert_exporter": "python",
   "pygments_lexer": "ipython3",
   "version": "3.12.2"
  }
 },
 "nbformat": 4,
 "nbformat_minor": 2
}
