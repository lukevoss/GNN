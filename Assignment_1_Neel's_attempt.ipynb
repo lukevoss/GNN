{
  "nbformat": 4,
  "nbformat_minor": 0,
  "metadata": {
    "colab": {
      "provenance": [],
      "authorship_tag": "ABX9TyN9TBBjHJAhGLSFt89DT5vv",
      "include_colab_link": true
    },
    "kernelspec": {
      "name": "python3",
      "display_name": "Python 3"
    },
    "language_info": {
      "name": "python"
    }
  },
  "cells": [
    {
      "cell_type": "markdown",
      "metadata": {
        "id": "view-in-github",
        "colab_type": "text"
      },
      "source": [
        "<a href=\"https://colab.research.google.com/github/neelkanthrawat/GNN-exercises/blob/main/Assignment_1_Neel's_attempt.ipynb\" target=\"_parent\"><img src=\"https://colab.research.google.com/assets/colab-badge.svg\" alt=\"Open In Colab\"/></a>"
      ]
    },
    {
      "cell_type": "code",
      "execution_count": 1,
      "metadata": {
        "id": "LgoPLanS-CL-"
      },
      "outputs": [],
      "source": [
        "import numpy as np\n",
        "import matplotlib.pyplot as plt\n",
        "import scipy as sp\n",
        "import pandas as pd\n",
        "from typing import List"
      ]
    },
    {
      "cell_type": "code",
      "source": [
        "### define a gaussian function in n_star dimn\n",
        "\n",
        "####"
      ],
      "metadata": {
        "id": "1JZb9EOS-K7r"
      },
      "execution_count": 2,
      "outputs": []
    },
    {
      "cell_type": "code",
      "source": [
        "### define two dimensional gaussian distribution\n",
        "\n",
        "### this gaussian has the ability to infer (evaluate the probability at the given point)\n",
        "def gaussian_2d(x:np.array,mean:np.array,cov_mat:np.array):\n",
        "  '''\n",
        "  This model will evaluate the probabilty at the given x_vector.\n",
        "  Args:\n",
        "  '''\n",
        "  dimn=np.shape(x)[0]\n",
        "  # x=np.array(x).reshape((1,dimn))\n",
        "  # mean=np.array(mean).reshape((1,dimn))\n",
        "  # print(\"shape(x),shape(mean)\")\n",
        "  # print(np.shape(x), np.shape(mean))\n",
        "  # note that x is a row vector\n",
        "\n",
        "  #\n",
        "  inv_cov=np.linalg.inv(cov_mat)\n",
        "  x_minus_mu=x-mean\n",
        "  # print(\"x_minus_mu:\")\n",
        "  # print(x_minus_mu)\n",
        "\n",
        "  # argument for the exp\n",
        "  arg_for_expn=0.5*(x_minus_mu @ inv_cov @ np.transpose(x_minus_mu))[0,0]\n",
        "  # print(\"arg_for_expn:\");print(arg_for_expn)\n",
        "  det_cov=np.linalg.det(cov_mat)\n",
        "  # print(\"det_cov\");print(det_cov)\n",
        "\n",
        "  # prob\n",
        "  prob=np.exp(-arg_for_expn) * (1./(2*np.pi*np.sqrt(det_cov)))\n",
        "  return prob"
      ],
      "metadata": {
        "id": "GH3pUOYhAg5C"
      },
      "execution_count": 3,
      "outputs": []
    },
    {
      "cell_type": "code",
      "source": [
        "x=np.array([[0.5,0.5]])\n",
        "mean=np.array([[1,1]])\n",
        "cov_mat=np.array([[0.3,0.22],[0.22,0.8]])\n",
        "check=gaussian_2d(x,mean,cov_mat)\n",
        "print(check)"
      ],
      "metadata": {
        "colab": {
          "base_uri": "https://localhost:8080/"
        },
        "id": "F0Gj7DOuJZ9P",
        "outputId": "fd177d14-8a59-4217-e2a2-e6f942242919"
      },
      "execution_count": 4,
      "outputs": [
        {
          "output_type": "stream",
          "name": "stdout",
          "text": [
            "0.2363860723405543\n"
          ]
        }
      ]
    },
    {
      "cell_type": "markdown",
      "source": [
        "### I have a 2D gaussian model at my disposal for the time being. now I need to check how to train it to fit the given dataset"
      ],
      "metadata": {
        "id": "KrFx9MwzMGWe"
      }
    },
    {
      "cell_type": "markdown",
      "source": [
        "### fitting the gaussian model\n",
        "###  when we fit the model, we need some loss function to optimize to find the parameters, is'nt it"
      ],
      "metadata": {
        "id": "rKyjRZ93Njhm"
      }
    },
    {
      "cell_type": "markdown",
      "source": [
        "### My model should have 2 functionalities:\n",
        "1. inference ability (done temporarily)\n",
        "2. generation ability"
      ],
      "metadata": {
        "id": "xv_hzQBrDbKw"
      }
    },
    {
      "cell_type": "markdown",
      "source": [
        "### EM algorithm for training the params for the GMM"
      ],
      "metadata": {
        "id": "Az3CW5-AQsdS"
      }
    },
    {
      "cell_type": "code",
      "source": [
        "def EM_training(mean:np.array,mixing_coeffs:np.array,covs:np.array, dataset_input:np.array):\n",
        "  '''\n",
        "  Args:\n",
        "  mean=\n",
        "        shape(mean)= (L X dimension_of_the_problem_instance (whether 1D, 2D, 3D and so on))\n",
        "  mixing_coeffs=\n",
        "        shape(mixing_coeffs)= (1 X L)\n",
        "  covs= dict of covariance matrices.\n",
        "        shape(covs)= L number of entries, one for each of the P_l(x)\n",
        "  dataset_input: shape would be (num of data set X dimn_of_the_prob)\n",
        "  '''\n",
        "  L=np.shape(mean)[0]\n",
        "  dimn_of_prob=np.shape(dataset_input)[1]\n",
        "  # define gamma: responsibility\n",
        "  num_data=np.shape(dataset_input)[0] ### note shape(dataset_input)=(num data X dimn_of_the_problem)\n",
        "  gamma=np.zeros(shape=(num_data,L))\n",
        "  num_iters=1 # denoted as T in notes\n",
        "  ###\n",
        "  for t in range(0,num_iters):\n",
        "\n",
        "    ### evaluate the E step\n",
        "    # update the gamma.\n",
        "    for idx_over_data in range(0,num_data):\n",
        "      ### here i need to evaluate the common denominator that will go inside the next loop\n",
        "      # print(\"covs[idx_el]\")\n",
        "      # print(covs[0])\n",
        "      prod_mixing_coeffs_and_gaussian_l=[mixing_coeffs[0,idx_el]*gaussian_2d(x=dataset_input[idx_over_data,:].reshape((1,dimn_of_prob)),mean=mean[idx_el,:].reshape((1,dimn_of_prob)),cov_mat=covs[idx_el]) for idx_el in range(0,L)]\n",
        "      # print(\"pil_Pl_fordfnwnf:\")\n",
        "      # print(prod_mixing_coeffs_and_gaussian_l)\n",
        "      Dr_for_gamma=np.sum(prod_mixing_coeffs_and_gaussian_l)\n",
        "      gamma[idx_over_data,:]=[prod_mixing_coeffs_and_gaussian_l[k]/Dr_for_gamma for k in range(0,L)]\n",
        "\n",
        "    print(\"gamma obtained:\");print(gamma)\n",
        "    ### M-step: Re-estimating the parameters\n",
        "    N_l=np.sum(gamma,axis=0)# this is the expression sum_{i=1}^{N(all dataset)} gamma_{il} in the lecture notes\n",
        "    print(\"N_l is:\");print(N_l)\n",
        "    # shape of N_l = (1XL)\n",
        "    ### 1. updating means: the expresion is like a wtd sum of the vectors\n",
        "    ###\n",
        "    for idx_el in range(0,L):\n",
        "      print(\"index el is:\");print(idx_el)\n",
        "      temp_vec=np.array(\n",
        "          [gamma[idx_over_data,idx_el]*dataset_input[idx_over_data,:]\n",
        "           for idx_over_data in range(0,num_data)]\n",
        "          )\n",
        "      print(\"temp vec is:\");print(temp_vec)\n",
        "      #update the mean\n",
        "      # print(\"np.sum(temp_vec,axis=0):\",np.sum(temp_vec,axis=0))\n",
        "      # print(\"mean[idx_el,:]=\",mean[idx_el,:])\n",
        "      mean[idx_el,:]=(1./N_l[idx_el])*np.sum(temp_vec,axis=0)\n",
        "      print(\"mean matrix right now:\");print(mean)\n",
        "    ### 2. update the covariance matrix:\n",
        "    ##### formula for updating the cov mat is: sigma_lth=1/N_l[idx_el] * sum_{i=1}^{N(all_dataset)} * gamma_{il}*some_outer_product\n",
        "\n",
        "\n",
        "    return gamma"
      ],
      "metadata": {
        "id": "NeuVPY6hQx-H"
      },
      "execution_count": 29,
      "outputs": []
    },
    {
      "cell_type": "code",
      "source": [
        "# L=4, N=3, dim_of_prob=2\n",
        "mean=np.array([[1.5,1.25],[0.75,1.25],[1.3,1.7],[1.4,1.63]])\n",
        "print(\"mean:\");print(mean)\n",
        "mixing_coeffs=np.array([[0.25,0.25,0.25,0.25]])\n",
        "covs={0:np.array([[0.02,0.003],[0.003,0.1]]),\n",
        "      1: np.array([[0.06,0.007],[0.007,0.05]]),\n",
        "      2:np.array([[0.068,0.003],[0.007,0.05]]),\n",
        "      3:np.array([[0.06,0.007],[0.017,0.078]])}\n",
        "dataset_input=np.array([[1.78,1],[1.75,1.3],[1.03,1.08]])\n",
        "checking_em=EM_training(mean=mean,\n",
        "                        mixing_coeffs=mixing_coeffs,\n",
        "                        covs=covs,\n",
        "                        dataset_input=dataset_input)\n",
        "# print(\"gamma obtained:\")\n",
        "# print(checking_em)"
      ],
      "metadata": {
        "colab": {
          "base_uri": "https://localhost:8080/"
        },
        "id": "aUW3xhLmp_fK",
        "outputId": "ea8609e0-bfb3-441b-c44a-8de3258e0afd"
      },
      "execution_count": 30,
      "outputs": [
        {
          "output_type": "stream",
          "name": "stdout",
          "text": [
            "mean:\n",
            "[[1.5  1.25]\n",
            " [0.75 1.25]\n",
            " [1.3  1.7 ]\n",
            " [1.4  1.63]]\n",
            "gamma obtained:\n",
            "[[9.18297348e-01 2.95287972e-04 6.13499528e-03 7.52723686e-02]\n",
            " [6.55581269e-01 5.90691003e-04 8.22543748e-02 2.61573665e-01]\n",
            " [1.10155835e-02 8.15573224e-01 3.47270990e-02 1.38684093e-01]]\n",
            "N_l is:\n",
            "[1.5848942  0.8164592  0.12311647 0.47553013]\n",
            "index el is:\n",
            "0\n",
            "temp vec is:\n",
            "[[1.63456928 0.91829735]\n",
            " [1.14726722 0.85225565]\n",
            " [0.01134605 0.01189683]]\n",
            "np.sum(temp_vec,axis=0): [2.79318255 1.78244983]\n",
            "mean[idx_el,:]= [1.5  1.25]\n",
            "mean matrix right now:\n",
            "[[1.76237792 1.12464909]\n",
            " [0.75       1.25      ]\n",
            " [1.3        1.7       ]\n",
            " [1.4        1.63      ]]\n",
            "index el is:\n",
            "1\n",
            "temp vec is:\n",
            "[[5.25612591e-04 2.95287972e-04]\n",
            " [1.03370926e-03 7.67898304e-04]\n",
            " [8.40040421e-01 8.80819082e-01]]\n",
            "np.sum(temp_vec,axis=0): [0.84159974 0.88188227]\n",
            "mean[idx_el,:]= [0.75 1.25]\n",
            "mean matrix right now:\n",
            "[[1.76237792 1.12464909]\n",
            " [1.03079216 1.08013023]\n",
            " [1.3        1.7       ]\n",
            " [1.4        1.63      ]]\n",
            "index el is:\n",
            "2\n",
            "temp vec is:\n",
            "[[0.01092029 0.006135  ]\n",
            " [0.14394516 0.10693069]\n",
            " [0.03576891 0.03750527]]\n",
            "np.sum(temp_vec,axis=0): [0.19063436 0.15057095]\n",
            "mean[idx_el,:]= [1.3 1.7]\n",
            "mean matrix right now:\n",
            "[[1.76237792 1.12464909]\n",
            " [1.03079216 1.08013023]\n",
            " [1.54840665 1.222996  ]\n",
            " [1.4        1.63      ]]\n",
            "index el is:\n",
            "3\n",
            "temp vec is:\n",
            "[[0.13398482 0.07527237]\n",
            " [0.45775391 0.34004576]\n",
            " [0.14284462 0.14977882]]\n",
            "np.sum(temp_vec,axis=0): [0.73458335 0.56509695]\n",
            "mean[idx_el,:]= [1.4  1.63]\n",
            "mean matrix right now:\n",
            "[[1.76237792 1.12464909]\n",
            " [1.03079216 1.08013023]\n",
            " [1.54840665 1.222996  ]\n",
            " [1.54476721 1.18835153]]\n"
          ]
        }
      ]
    },
    {
      "cell_type": "code",
      "source": [
        "a=np.array([[10,20],[1,2],[111,5]])\n",
        "np.sum(a,axis=0),np.sum(a,axis=1)"
      ],
      "metadata": {
        "colab": {
          "base_uri": "https://localhost:8080/"
        },
        "id": "7gzHwxQG2WUi",
        "outputId": "84afd27e-01fc-4b96-e62a-9598236aef72"
      },
      "execution_count": 7,
      "outputs": [
        {
          "output_type": "execute_result",
          "data": {
            "text/plain": [
              "(array([122,  27]), array([ 30,   3, 116]))"
            ]
          },
          "metadata": {},
          "execution_count": 7
        }
      ]
    },
    {
      "cell_type": "code",
      "source": [
        "np.sum(checking_em,axis=0)"
      ],
      "metadata": {
        "colab": {
          "base_uri": "https://localhost:8080/"
        },
        "id": "2BLFicGT2Lz9",
        "outputId": "891e5792-5e2a-4e2f-cd9a-0ebfc3ded86c"
      },
      "execution_count": 8,
      "outputs": [
        {
          "output_type": "execute_result",
          "data": {
            "text/plain": [
              "array([2.01210489, 0.98789511])"
            ]
          },
          "metadata": {},
          "execution_count": 8
        }
      ]
    },
    {
      "cell_type": "code",
      "source": [
        "#dataset_input[0,:],dataset_input[0,:].reshape((1,2))"
      ],
      "metadata": {
        "id": "UZsA4-qfvSr0"
      },
      "execution_count": 9,
      "outputs": []
    },
    {
      "cell_type": "code",
      "source": [
        "#mean[0,:],mean[0,:].reshape((1,2))"
      ],
      "metadata": {
        "id": "oGfFZuIfwURz"
      },
      "execution_count": 10,
      "outputs": []
    },
    {
      "cell_type": "code",
      "source": [
        "# gaussian_2d(x=dataset_input[0,:].reshape((1,2)),\n",
        "#             mean=mean[0,:].reshape((1,2)),\n",
        "#             cov_mat=covs[0])"
      ],
      "metadata": {
        "id": "SvXEPZX8uGCM"
      },
      "execution_count": 11,
      "outputs": []
    },
    {
      "cell_type": "code",
      "source": [
        "a=np.array([[1,2,3]]); b=np.array([[10,100,1000]])\n",
        "(a @ b.T)[0,0]"
      ],
      "metadata": {
        "colab": {
          "base_uri": "https://localhost:8080/"
        },
        "id": "e2G5g8eBYPRv",
        "outputId": "e5100800-2733-43c5-e9c2-da3d8935d292"
      },
      "execution_count": 12,
      "outputs": [
        {
          "output_type": "execute_result",
          "data": {
            "text/plain": [
              "3210"
            ]
          },
          "metadata": {},
          "execution_count": 12
        }
      ]
    },
    {
      "cell_type": "code",
      "source": [
        "np.exp(-1400)"
      ],
      "metadata": {
        "colab": {
          "base_uri": "https://localhost:8080/"
        },
        "id": "OTXvCffnYVuF",
        "outputId": "a2789b9b-3a71-4e6a-a8bb-17ca09f92fce"
      },
      "execution_count": 13,
      "outputs": [
        {
          "output_type": "execute_result",
          "data": {
            "text/plain": [
              "0.0"
            ]
          },
          "metadata": {},
          "execution_count": 13
        }
      ]
    },
    {
      "cell_type": "code",
      "source": [],
      "metadata": {
        "id": "-bvHTrGVxRcI"
      },
      "execution_count": 13,
      "outputs": []
    }
  ]
}