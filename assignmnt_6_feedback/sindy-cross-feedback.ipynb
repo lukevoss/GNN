{
  "cells": [
    {
      "cell_type": "code",
      "execution_count": null,
      "metadata": {
        "id": "KRqV6Xrl-wGF"
      },
      "outputs": [],
      "source": [
        "%load_ext tensorboard\n",
        "\n",
        "from dataclasses import asdict, dataclass\n",
        "from IPython.display import display, Markdown as md\n",
        "import itertools\n",
        "import matplotlib.pyplot as plt\n",
        "import numpy as np\n",
        "\n",
        "from scipy.integrate import odeint\n",
        "\n",
        "from sklearn import linear_model\n",
        "from sklearn.preprocessing import StandardScaler\n",
        "\n",
        "import torch\n",
        "import torch.nn as nn\n",
        "from torch.nn.init import xavier_uniform_\n",
        "import torch.optim as optim\n",
        "from torch.utils.data import DataLoader, TensorDataset, random_split, Dataset\n",
        "from torch.utils.tensorboard import SummaryWriter\n",
        "\n",
        "from tqdm import tqdm\n",
        "from typing import Optional"
      ]
    },
    {
      "cell_type": "code",
      "execution_count": null,
      "metadata": {
        "id": "4tJoRCgC-wGK"
      },
      "outputs": [],
      "source": [
        "@dataclass\n",
        "class Hyperparams():\n",
        "    \"\"\"Keeps track of training/model hyperparameters.\"\"\"\n",
        "    lr: Optional[float] = None\n",
        "    n_epochs: Optional[int] = None\n",
        "    L1_lambda: Optional[float] = None\n",
        "    train_size: Optional[int] = None\n",
        "    batch_size: Optional[int] = None\n",
        "    n_layers: Optional[int] = None\n",
        "    hidden_size: Optional[int] = None\n",
        "    input_size: Optional[int] = None\n",
        "    latent_size: Optional[int] = None\n",
        "    print_interval: Optional[int] = None\n",
        "    n_layers: Optional[int] = None\n",
        "    terms: Optional[list] = None\n",
        "    bias: Optional[bool] = None\n",
        "    thresholding: Optional[str] = None\n",
        "    interval_s: Optional[int] = None\n",
        "    s_a: Optional[float] = None\n",
        "    p_a: Optional[float] = None\n",
        "    p_b: Optional[float] = None\n",
        "    interval_p: Optional[int] = None"
      ]
    },
    {
      "cell_type": "code",
      "execution_count": null,
      "metadata": {
        "id": "HrAKabc_-y0c"
      },
      "outputs": [],
      "source": [
        "device = torch.device('cuda' if torch.cuda.is_available() else 'cpu')"
      ]
    },
    {
      "cell_type": "markdown",
      "metadata": {
        "id": "NxeYQxeFA-US"
      },
      "source": [
        "# Exercise 6"
      ]
    },
    {
      "cell_type": "markdown",
      "metadata": {
        "id": "BeE6CT4c_RMl"
      },
      "source": [
        "## 1 SINDy in Ground Truth Coordinates z"
      ]
    },
    {
      "cell_type": "markdown",
      "metadata": {
        "id": "rFAG_f2ZA-UV"
      },
      "source": [
        "### 1.1 Simulation"
      ]
    },
    {
      "cell_type": "code",
      "execution_count": null,
      "metadata": {
        "id": "rDwCV78V-wGL"
      },
      "outputs": [],
      "source": [
        "def pendulum_rhs(zt:list, dzt:list, coefficients:list, terms:list) -> list:\n",
        "    \"\"\"\n",
        "    Compute the scalar product between the coefficients and the function terms.\n",
        "\n",
        "    The scalar product is computed for all given points (zt, dzt).\n",
        "    \"\"\"\n",
        "    scalar_products = []\n",
        "\n",
        "    for i in range(len(zt)):\n",
        "        sum = 0\n",
        "        for j in range(len(coefficients)):\n",
        "            sum += coefficients[j] * terms[j](zt[i], dzt[i])\n",
        "        scalar_products.append(sum)\n",
        "\n",
        "    return scalar_products\n",
        "\n",
        "\n",
        "def pendulum_ode_step(y: list, t: list, coefficients: list, terms: list) -> list:\n",
        "    \"\"\"\n",
        "    First order ODE representation of the pendulum.\n",
        "\n",
        "    Since the motion of the pendulum is described by a 2nd\n",
        "    order ODE and 'scipy.integrat.ode' solves only 1st order\n",
        "    ODE systems, we transform the 2nd order ODE to a\n",
        "    1st order ODE.\n",
        "    \"\"\"\n",
        "    theta, omega = y\n",
        "    dydt = [omega] + pendulum_rhs([theta], [omega], coefficients, terms)\n",
        "    return dydt\n",
        "\n",
        "\n",
        "\n",
        "def simulate_pendulum(z0, dz0, coefficients, terms, T, dt):\n",
        "    \"\"\"Simulate pendulum movement for T steps with step size dt.\"\"\"\n",
        "    y0 = [z0, dz0]\n",
        "    t = np.arange(0, T *  dt, dt)\n",
        "    return odeint(pendulum_ode_step, y0, t, args=(coefficients, terms))\n",
        "\n",
        "\n",
        "def create_pendulum_data(\n",
        "    z0_min,\n",
        "    z0_max,\n",
        "    dz0_min,\n",
        "    dz0_max,\n",
        "    coefficients,\n",
        "    terms,\n",
        "    T,\n",
        "    dt,\n",
        "    N,\n",
        "    embedding=None,\n",
        "    rejection=True,\n",
        ") -> list:\n",
        "    \"\"\"\n",
        "    Create a set of N simulations with T steps.\n",
        "\n",
        "    A simulation step t consists of (z(t), dz(t), dz(t)).\n",
        "    The initial conditions are randomly sampled from uniform distributions.\n",
        "    \"\"\"\n",
        "    simulations = []\n",
        "\n",
        "    for i in range(N):\n",
        "        z0 = np.random.uniform(z0_min, z0_max, 1)[0]\n",
        "        dz0 = np.random.uniform(dz0_min, dz0_max, 1)[0]\n",
        "\n",
        "        if rejection:\n",
        "            while np.abs(dz0 * dz0 / 2 - np.cos(z0)) > 0.99:\n",
        "                # Resample initial conditions if the pendulum has\n",
        "                # too much angular momentum\n",
        "                z0 = np.random.uniform(z0_min, z0_max, 1)[0]\n",
        "                dz0 = np.random.uniform(dz0_min, dz0_max, 1)[0]\n",
        "\n",
        "        simulation = simulate_pendulum(\n",
        "            z0,\n",
        "            dz0,\n",
        "            coefficients,\n",
        "            terms,\n",
        "            T,\n",
        "            dt,\n",
        "        )\n",
        "\n",
        "        rhs = pendulum_rhs(simulation[:, 0], simulation[:, 1], coefficients, terms)\n",
        "\n",
        "        # Append RHS to simulation\n",
        "        simulation = np.append(simulation, np.array(rhs)[..., None], axis=1)\n",
        "\n",
        "        simulations.append(simulation)\n",
        "    return simulations"
      ]
    },
    {
      "cell_type": "code",
      "execution_count": null,
      "metadata": {
        "id": "RziJlkO3-wGP"
      },
      "outputs": [],
      "source": [
        "# Recommended paramaters\n",
        "N = 100\n",
        "z0_min, z0_max = -np.pi, np.pi\n",
        "dz0_min, dz0_max = -2.1, 2.1\n",
        "T = 500  # Note: 50 doesn't result in any discernible behaviour\n",
        "dt = 0.02\n",
        "\n",
        "# Ground truth 2nd order ODE\n",
        "terms = [lambda zt, dzt: np.sin(zt)]\n",
        "coefficients = [-1]"
      ]
    },
    {
      "cell_type": "code",
      "execution_count": null,
      "metadata": {
        "id": "jEipGPqF-wGP"
      },
      "outputs": [],
      "source": [
        "# Simulate data: Construct canonical training set\n",
        "simulations = create_pendulum_data(\n",
        "    z0_min,\n",
        "    z0_max,\n",
        "    dz0_min,\n",
        "    dz0_max,\n",
        "    coefficients,\n",
        "    terms,\n",
        "    T,\n",
        "    dt,\n",
        "    N,\n",
        ")"
      ]
    },
    {
      "cell_type": "markdown",
      "metadata": {
        "id": "V0WmuP3BA-UZ"
      },
      "source": [
        "We now visualize five random simulations of the pendulum $z(t)$ and its two derivates $\\dot{z}(t), \\ddot{z}(t)$ using the ground truth `coefficients` $(-1)$ and `terms` $(sin(z(t)))$ and the recommended limits of the uniform distributions for the initial conditions. Since simulating only for $T = 50$ with $dt = 0.02$ does not result in any discernible behaviour (The curves of the waves are not visible), we simulate for $T = 500$."
      ]
    },
    {
      "cell_type": "code",
      "execution_count": null,
      "metadata": {
        "id": "rpUQFfqAA-Ua",
        "outputId": "21ddb2c3-6a31-48bd-b602-f63337c9405b"
      },
      "outputs": [
        {
          "data": {
            "image/png": "[encoded data removed]",
            "text/plain": [
              "<Figure size 640x480 with 1 Axes>"
            ]
          },
          "metadata": {},
          "output_type": "display_data"
        },
        {
          "data": {
            "image/png": "[encoded data removed]",
            "text/plain": [
              "<Figure size 640x480 with 1 Axes>"
            ]
          },
          "metadata": {},
          "output_type": "display_data"
        },
        {
          "data": {
            "image/png": "[encoded data removed]",
            "text/plain": [
              "<Figure size 640x480 with 1 Axes>"
            ]
          },
          "metadata": {},
          "output_type": "display_data"
        },
        {
          "data": {
            "image/png": "[encoded data removed]",
            "text/plain": [
              "<Figure size 640x480 with 1 Axes>"
            ]
          },
          "metadata": {},
          "output_type": "display_data"
        },
        {
          "data": {
            "image/png": "[encoded data removed]",
            "text/plain": [
              "<Figure size 640x480 with 1 Axes>"
            ]
          },
          "metadata": {},
          "output_type": "display_data"
        }
      ],
      "source": [
        "# Visualize 5 random runs\n",
        "t = np.arange(0, T *  dt, dt)\n",
        "\n",
        "idx_sims = np.random.randint(0, N, size=5)\n",
        "idx_sims = np.sort(idx_sims)\n",
        "\n",
        "for idx_sim in idx_sims:\n",
        "    simulation = simulations[idx_sim]\n",
        "\n",
        "    plt.plot(t, simulation[:, 0], 'b', label='z(t)')\n",
        "    plt.plot(t, simulation[:, 1], 'g', label='dz(t)')\n",
        "    plt.plot(t, simulation[:, 2], 'y', label='ddz(t)')\n",
        "    plt.legend(loc='best')\n",
        "    plt.xlabel('t')\n",
        "    plt.title(f'Simulation {idx_sim}')\n",
        "    plt.grid()\n",
        "    plt.show()"
      ]
    },
    {
      "cell_type": "markdown",
      "source": [
        "<div style=\"color: green; font-weight: bold\">Comment:</div> implementation is correct and as good as sample solution."
      ],
      "metadata": {
        "id": "VZHw-jJsLHuw"
      }
    },
    {
      "cell_type": "markdown",
      "metadata": {
        "id": "K0MJmgdlA-Uc"
      },
      "source": [
        "### 1.2 Implementation & Training"
      ]
    },
    {
      "cell_type": "markdown",
      "metadata": {
        "id": "gAKIqwPMA-Ud"
      },
      "source": [
        "We now implement the two solvers for the SINDy algorithm"
      ]
    },
    {
      "cell_type": "code",
      "execution_count": null,
      "metadata": {
        "id": "Js2al9QpA-Ud"
      },
      "outputs": [],
      "source": [
        "prior_knowledge_terms = [\n",
        "    lambda zt, dzt: 1,\n",
        "    lambda zt, dzt: zt,\n",
        "    lambda zt, dzt: dzt,\n",
        "    lambda zt, dzt: np.sin(zt),\n",
        "    lambda zt, dzt: zt * zt,\n",
        "    lambda zt, dzt: zt * dzt,\n",
        "    lambda zt, dzt: zt * np.sin(zt),\n",
        "    lambda zt, dzt: dzt * dzt,\n",
        "    lambda zt, dzt: dzt * np.sin(zt),\n",
        "    lambda zt, dzt: np.sin(zt) * np.sin(zt),\n",
        "]"
      ]
    },
    {
      "cell_type": "markdown",
      "metadata": {
        "id": "BC063ftEA-Ue"
      },
      "source": [
        "Below, we compute $\\hat{\\Xi}$ using **Lasso**, where we don't fit an intercept since the features already include a column of 1's."
      ]
    },
    {
      "cell_type": "code",
      "execution_count": null,
      "metadata": {
        "id": "NnoH6f4OONNK"
      },
      "outputs": [],
      "source": [
        "reshaped_simulations = np.array(simulations).reshape((N * T, 3))"
      ]
    },
    {
      "cell_type": "code",
      "execution_count": null,
      "metadata": {
        "id": "mJVZuKeMA-Uf"
      },
      "outputs": [],
      "source": [
        "# First solver implementation using Lasso\n",
        "L1_regularization_lasso = 0.01\n",
        "reg_lasso = linear_model.Lasso(alpha=L1_regularization_lasso, fit_intercept=False)\n",
        "\n",
        "data_lasso = reshaped_simulations\n",
        "y_lasso = data_lasso[:, 2]\n",
        "\n",
        "initial_features_lasso = data_lasso[:, :2]\n",
        "# Compute regression features\n",
        "X_lasso = []\n",
        "for i in range(initial_features_lasso.shape[0]):\n",
        "    features = []\n",
        "    for f in prior_knowledge_terms:\n",
        "        features.append(f(initial_features_lasso[i][0], initial_features_lasso[i][1]))\n",
        "    X_lasso.append(features)\n",
        "X_lasso = np.array(X_lasso)\n",
        "\n",
        "reg_lasso.fit(X=X_lasso, y=y_lasso)\n",
        "\n",
        "# Get regression coefficients\n",
        "xi_lasso = reg_lasso.coef_"
      ]
    },
    {
      "cell_type": "code",
      "execution_count": null,
      "metadata": {
        "id": "I9J0VP_DA-Uf",
        "outputId": "27dcd4de-43a6-4a97-df15-a48798dadd0d"
      },
      "outputs": [
        {
          "data": {
            "text/markdown": [
              "Lasso coefficients [-0.         -0.02106553 -0.         -0.94745798 -0.         -0.\n",
              " -0.         -0.         -0.         -0.        ]"
            ],
            "text/plain": [
              "<IPython.core.display.Markdown object>"
            ]
          },
          "metadata": {},
          "output_type": "display_data"
        }
      ],
      "source": [
        "display(md(f'Lasso coefficients {xi_lasso}'))"
      ]
    },
    {
      "cell_type": "markdown",
      "metadata": {
        "id": "mqGwkE-JA-Ug"
      },
      "source": [
        "**<ins>Results (Lasso):</ins>** In out experiments we observed that the L1-regularization weight `L1_regularization_lasso` has a big impact on the resulting regression coefficients. For example, a weight of 0.1 (i.e., a tenfold increase) results in a $sin(z(t))$ coefficient of $\\approx -0.4$.\n",
        "\n",
        "Below, we compute $\\hat{\\Xi}$ using the **ADAM** optimizer."
      ]
    },
    {
      "cell_type": "markdown",
      "source": [
        "<div style=\"color: green; font-weight: bold\">Comment:</div> Good result and observation regarding the impact of l1-regularisation weight."
      ],
      "metadata": {
        "id": "BJQKZ0yULU79"
      }
    },
    {
      "cell_type": "code",
      "execution_count": null,
      "metadata": {
        "id": "H0uCJOFT_PKi"
      },
      "outputs": [],
      "source": [
        "# Second solver implementation using ADAM\n",
        "class SINDy(nn.Module):\n",
        "    \"\"\"Model SINDy optimization problem.\"\"\"\n",
        "    def __init__(self, **kargs):\n",
        "        super().__init__()\n",
        "\n",
        "        self.terms = kargs.get('terms')\n",
        "        self.n_coeffs = len(self.terms)\n",
        "\n",
        "        self.linear = nn.Linear(in_features=self.n_coeffs, out_features=1, bias=False)\n",
        "        # Initialize layer coefficients with ones\n",
        "        self.linear.weight = torch.nn.Parameter(torch.ones(self.n_coeffs))\n",
        "\n",
        "        # Initialize mask with ones - all coefficients are active at the beginning\n",
        "        self.weight_mask = torch.ones(1, self.n_coeffs, dtype=torch.float).to(device)\n",
        "\n",
        "        # Initialize array for weight history with current weights\n",
        "        self.weights = [self.linear.weight.detach().clone()]\n",
        "\n",
        "    def apply_mask(self):\n",
        "        model.linear.weight = torch.nn.Parameter(self.linear.weight.detach().clone() * self.weight_mask)\n",
        "\n",
        "    def forward(self, z, dz):\n",
        "        # Construct features by applying the function terms\n",
        "        features = torch.squeeze(\n",
        "            torch.stack(\n",
        "                [\n",
        "                    f(z, dz).to(device)\n",
        "                    for f in self.terms\n",
        "                ],\n",
        "                dim=1,\n",
        "            )\n",
        "        ).to(device)\n",
        "        return self.linear(features).unsqueeze(1)"
      ]
    },
    {
      "cell_type": "markdown",
      "source": [
        "<div style=\"color: green; font-weight: bold\">Comment:</div> Conceptually, the implementation is correct :). Although I would say the sample solution's implementation of pytorch-LASSO is more elegant."
      ],
      "metadata": {
        "id": "j6lrSAfsLlNd"
      }
    },
    {
      "cell_type": "code",
      "execution_count": null,
      "metadata": {
        "id": "HmH5pMEq-wGN"
      },
      "outputs": [],
      "source": [
        "def train_sindy(\n",
        "    model: SINDy,\n",
        "    train_loader: DataLoader,\n",
        "    val_loader: DataLoader,\n",
        "    train_hyperparams: Hyperparams,\n",
        "):\n",
        "    \"\"\"Train SINDy.\"\"\"\n",
        "    # Define loss function and optimizer\n",
        "    criterion = nn.MSELoss()\n",
        "    optimizer = optim.Adam(model.parameters(), lr=train_hyperparams.lr)\n",
        "\n",
        "    # Load model to device\n",
        "    model = model.to(device)\n",
        "\n",
        "    # Initialize arrays for holding epochs\n",
        "    if train_hyperparams.thresholding == 'patient':\n",
        "        E_a = torch.ones(size=model.linear.weight.shape, dtype=torch.int)\n",
        "        E_b = torch.ones(size=model.linear.weight.shape, dtype=torch.int)\n",
        "\n",
        "    losses = []\n",
        "    for epoch in range(train_hyperparams.n_epochs):\n",
        "        mean_batch_loss = 0\n",
        "        for inputs, target in train_loader:\n",
        "            model.train()\n",
        "\n",
        "            # Load data to device\n",
        "            inputs = inputs.to(device)\n",
        "            target = target.to(device)\n",
        "\n",
        "            # Forward pass\n",
        "            output = model(inputs[:, 0], inputs[:, 1])\n",
        "\n",
        "            # L1 regularization term\n",
        "            L1_loss = torch.norm(model.linear.weight, p=1)\n",
        "\n",
        "            # Construct loss\n",
        "            loss = criterion(output, target.unsqueeze(1)) + train_hyperparams.L1_lambda * L1_loss\n",
        "\n",
        "            # Backward pass and optimization\n",
        "            optimizer.zero_grad()\n",
        "            loss.backward()\n",
        "            optimizer.step()\n",
        "\n",
        "            mean_batch_loss += loss.item()\n",
        "        losses.append(mean_batch_loss / len(train_loader))\n",
        "\n",
        "        if train_hyperparams.thresholding == 'sequential':\n",
        "            if epoch % train_hyperparams.interval_s == 0:\n",
        "                # Get current weights\n",
        "                W = model.linear.weight.detach().clone()\n",
        "\n",
        "                # Update weight mask\n",
        "                model.weight_mask = (W.abs() > train_hyperparams.s_a).type(torch.float32)\n",
        "\n",
        "                # Update/Turn off model weights\n",
        "                model.linear.weight = torch.nn.Parameter(W * model.weight_mask)\n",
        "\n",
        "                # Register hook to keep frozen/tunrned off weights from being updated\n",
        "                model.linear.weight.register_hook(lambda grad: grad.mul_(model.weight_mask))\n",
        "\n",
        "                # Reregister parameters with the optimizer\n",
        "                optimizer = optim.Adam(model.parameters(), lr=train_hyperparams.lr)\n",
        "        if train_hyperparams.thresholding == 'patient':\n",
        "                # Get current weights\n",
        "                W = model.linear.weight.detach().clone()\n",
        "\n",
        "                # Update epoch corresponding to absolute value\n",
        "                E_a[(W.abs() > train_hyperparams.p_a).type(torch.bool)] = epoch\n",
        "\n",
        "                # Update epoch corresponding to absolute consecutive delta\n",
        "                E_b[((W - model.weights[-1]).abs() > train_hyperparams.p_b).type(torch.bool)] = epoch\n",
        "\n",
        "                if epoch > train_hyperparams.interval_p:\n",
        "                    # Update mask\n",
        "                    model.weight_mask = torch.logical_and(\n",
        "                        model.weight_mask,\n",
        "                        torch.logical_or(\n",
        "                            E_a > epoch - train_hyperparams.interval_p,\n",
        "                            E_b > epoch - train_hyperparams.interval_p,\n",
        "                        ),\n",
        "                    ).squeeze()\n",
        "\n",
        "                    # Update/Turn off model weights\n",
        "                    model.linear.weight = torch.nn.Parameter(W * model.weight_mask)\n",
        "\n",
        "                    # Register hook to keep frozen/tunrned off weights from being updated\n",
        "                    model.linear.weight.register_hook(lambda grad: grad.mul_(model.weight_mask))\n",
        "\n",
        "                    # Reregister parameters with the optimizer\n",
        "                    optimizer = optim.Adam(model.parameters(), lr=train_hyperparams.lr)\n",
        "\n",
        "                # Add current/modified weights to history\n",
        "                model.weights.append(model.linear.weight.detach().clone())\n",
        "\n",
        "        model.eval()\n",
        "        with torch.no_grad():\n",
        "            val_loss = 0\n",
        "            for inputs, target in val_loader:\n",
        "                # Load data to device\n",
        "                inputs = inputs.to(device)\n",
        "                target = target.to(device)\n",
        "\n",
        "                # Forward pass\n",
        "                output = model(inputs[:, 0], inputs[:, 1])\n",
        "\n",
        "                loss = criterion(output, target.unsqueeze(1))\n",
        "                val_loss += loss.item()\n",
        "\n",
        "        val_loss /= len(val_loader)\n",
        "\n",
        "        if (epoch + 1) % train_hyperparams.print_interval == 0 or (epoch + 1) == train_hyperparams.n_epochs:\n",
        "            print(f'Epoch {epoch+1}/{train_hyperparams.n_epochs}, Training Loss: {losses[-1]:.4f}, Val Loss: {val_loss}')\n",
        "            print(f\"Model Coefficients: {model.linear.weight.cpu()}\")"
      ]
    },
    {
      "cell_type": "markdown",
      "source": [
        "<div style=\"color: green; font-weight: bold\">Comment:</div> The `train_sindy`  function is implemented really well and conceptually similar to sample solution's. Although from implementation POV, the sample solution is clearly more elegant, you implementation is also really simple and cool:)."
      ],
      "metadata": {
        "id": "6voGSowfM6-G"
      }
    },
    {
      "cell_type": "code",
      "execution_count": null,
      "metadata": {
        "id": "xli1z889Oqj5"
      },
      "outputs": [],
      "source": [
        "prior_knowledge_terms_torch = [\n",
        "    lambda zt, dzt: torch.ones(zt.shape),\n",
        "    lambda zt, dzt: zt,\n",
        "    lambda zt, dzt: dzt,\n",
        "    lambda zt, dzt: torch.sin(zt),\n",
        "    lambda zt, dzt: zt * zt,\n",
        "    lambda zt, dzt: zt * dzt,\n",
        "    lambda zt, dzt: zt * torch.sin(zt),\n",
        "    lambda zt, dzt: dzt * dzt,\n",
        "    lambda zt, dzt: dzt * torch.sin(zt),\n",
        "    lambda zt, dzt: torch.sin(zt) * torch.sin(zt),\n",
        "]"
      ]
    },
    {
      "cell_type": "code",
      "execution_count": null,
      "metadata": {
        "id": "5vQ8GqRXPl41"
      },
      "outputs": [],
      "source": [
        "class SimulationDataset(Dataset):\n",
        "    def __init__(self, simulations):\n",
        "        self.simulations = simulations\n",
        "\n",
        "    def __len__(self):\n",
        "        return len(self.simulations)\n",
        "\n",
        "    def __getitem__(self, idx):\n",
        "        # Get the simulation at the given index\n",
        "        simulation_sample = self.simulations[idx]\n",
        "\n",
        "        # The features are all but the last element\n",
        "        features = simulation_sample[:-1]\n",
        "\n",
        "        # The target is the last element\n",
        "        target = simulation_sample[-1]\n",
        "\n",
        "        return torch.tensor(features, dtype=torch.float32), torch.tensor(target, dtype=torch.float32)"
      ]
    },
    {
      "cell_type": "code",
      "execution_count": null,
      "metadata": {
        "id": "rqWmtCtzA-Uk"
      },
      "outputs": [],
      "source": [
        "# Model and training config\n",
        "sindy_hyperparams = Hyperparams(\n",
        "    lr=1e-3,\n",
        "    n_epochs=100,\n",
        "    terms=prior_knowledge_terms_torch,\n",
        "    print_interval=10,\n",
        "    batch_size=512,\n",
        "    L1_lambda=1e-5,\n",
        "    thresholding=None,  # Do not apply thresholding\n",
        "    interval_s=10,\n",
        "    s_a=0.02,\n",
        "    p_a=0.1,\n",
        "    p_b=0.002,\n",
        "    interval_p=5,\n",
        ")"
      ]
    },
    {
      "cell_type": "code",
      "execution_count": null,
      "metadata": {
        "colab": {
          "base_uri": "https://localhost:8080/"
        },
        "id": "xFm4OLu5NXK5",
        "outputId": "dc9b5d46-a9c6-47ef-a84c-b74ba1f1d85c"
      },
      "outputs": [
        {
          "name": "stdout",
          "output_type": "stream",
          "text": [
            "Dataset created\n",
            "Length of train data: 40000, validation data: 10000\n"
          ]
        }
      ],
      "source": [
        "# Create dataset\n",
        "simulations_dataset = SimulationDataset(reshaped_simulations)\n",
        "\n",
        "train_size = int(0.8 * len(simulations_dataset))\n",
        "test_size = len(simulations_dataset) - train_size\n",
        "\n",
        "# Train-test split\n",
        "train_dataset, test_dataset = random_split(simulations_dataset, [train_size, test_size])\n",
        "\n",
        "# Create data loaders\n",
        "train_loader = DataLoader(train_dataset, batch_size=sindy_hyperparams.batch_size, shuffle=True)\n",
        "test_loader = DataLoader(test_dataset, batch_size=sindy_hyperparams.batch_size, shuffle=True)\n",
        "print(\"Dataset created\")\n",
        "print(f\"Length of train data: {train_size}, validation data: {test_size}\")"
      ]
    },
    {
      "cell_type": "markdown",
      "metadata": {
        "id": "tMeN54fBA-Ul"
      },
      "source": [
        "We now train a SINDy model thresholding-free."
      ]
    },
    {
      "cell_type": "markdown",
      "metadata": {
        "id": "juc6sgl1A-Um"
      },
      "source": [
        "#### Thresholding-free"
      ]
    },
    {
      "cell_type": "code",
      "execution_count": null,
      "metadata": {
        "id": "Re4i5MwBA-Um",
        "outputId": "07095634-5fff-4010-db8c-58aeed23032c"
      },
      "outputs": [
        {
          "name": "stdout",
          "output_type": "stream",
          "text": [
            "Initiated model\n",
            "Training with None threhsolding...\n",
            "Epoch 10/100, Training Loss: 7.7745, Val Loss: 6.97628161907196\n",
            "Model Coefficients: Parameter containing:\n",
            "tensor([0.3678, 0.3284, 0.3831, 0.3235, 0.3684, 0.3793, 0.3681, 0.3689, 0.3758,\n",
            "        0.3683], requires_grad=True)\n",
            "Epoch 20/100, Training Loss: 0.5738, Val Loss: 0.4985829770565033\n",
            "Model Coefficients: Parameter containing:\n",
            "tensor([ 0.0717, -0.0945,  0.0797, -0.1183,  0.0731,  0.0791,  0.0723,  0.0732,\n",
            "         0.0729,  0.0723], requires_grad=True)\n",
            "Epoch 30/100, Training Loss: 0.0516, Val Loss: 0.048293907381594184\n",
            "Model Coefficients: Parameter containing:\n",
            "tensor([ 0.0040, -0.2724,  0.0040, -0.3429,  0.0046,  0.0064,  0.0047,  0.0061,\n",
            "        -0.0010,  0.0050], requires_grad=True)\n",
            "Epoch 40/100, Training Loss: 0.0299, Val Loss: 0.02920152321457863\n",
            "Model Coefficients: Parameter containing:\n",
            "tensor([-9.3337e-04, -2.9133e-01, -1.4202e-03, -4.4419e-01, -1.6473e-03,\n",
            "         7.3522e-04,  3.9701e-04,  1.2582e-03, -6.5270e-03,  1.0519e-03],\n",
            "       requires_grad=True)\n",
            "Epoch 50/100, Training Loss: 0.0225, Val Loss: 0.021552007272839548\n",
            "Model Coefficients: Parameter containing:\n",
            "tensor([-0.0008, -0.2556, -0.0012, -0.5238, -0.0025,  0.0006,  0.0017,  0.0008,\n",
            "        -0.0057,  0.0025], requires_grad=True)\n",
            "Epoch 60/100, Training Loss: 0.0146, Val Loss: 0.013897591643035412\n",
            "Model Coefficients: Parameter containing:\n",
            "tensor([-7.8402e-04, -2.0540e-01, -9.1157e-04, -6.1758e-01, -2.7993e-03,\n",
            "         6.4901e-04,  2.9927e-03,  1.7876e-04, -4.4047e-03,  3.3521e-03],\n",
            "       requires_grad=True)\n",
            "Epoch 70/100, Training Loss: 0.0077, Val Loss: 0.007274424633942544\n",
            "Model Coefficients: Parameter containing:\n",
            "tensor([-9.4834e-04, -1.4837e-01, -6.6195e-04, -7.2363e-01, -2.8787e-03,\n",
            "         4.7182e-04,  3.9501e-03, -7.7661e-05, -3.1251e-03,  3.2781e-03],\n",
            "       requires_grad=True)\n",
            "Epoch 80/100, Training Loss: 0.0030, Val Loss: 0.002768747217487544\n",
            "Model Coefficients: Parameter containing:\n",
            "tensor([-1.2231e-03, -9.1739e-02, -5.0078e-04, -8.2905e-01, -2.3412e-03,\n",
            "         1.5241e-04,  4.1317e-03, -7.8312e-05, -2.0100e-03,  1.7527e-03],\n",
            "       requires_grad=True)\n",
            "Epoch 90/100, Training Loss: 0.0008, Val Loss: 0.0006665665423497558\n",
            "Model Coefficients: Parameter containing:\n",
            "tensor([-1.0779e-03, -4.4988e-02, -2.9689e-04, -9.1628e-01, -1.3718e-03,\n",
            "        -1.1833e-05,  3.8127e-03,  1.7555e-04, -8.8886e-04, -3.2877e-04],\n",
            "       requires_grad=True)\n",
            "Epoch 100/100, Training Loss: 0.0001, Val Loss: 8.030219432839659e-05\n",
            "Model Coefficients: Parameter containing:\n",
            "tensor([-5.7952e-04, -1.5601e-02, -1.1003e-04, -9.7095e-01, -8.4977e-04,\n",
            "        -4.4164e-05,  3.1550e-03,  1.3299e-04, -1.5451e-04, -1.8932e-03],\n",
            "       requires_grad=True)\n"
          ]
        }
      ],
      "source": [
        "# Initialize model\n",
        "sindy_model = SINDy(**asdict(sindy_hyperparams))\n",
        "print(\"Initiated model\")\n",
        "\n",
        "# Start training\n",
        "print(f\"Training with {sindy_hyperparams.thresholding} threhsolding...\")\n",
        "train_sindy(sindy_model, train_loader, test_loader, sindy_hyperparams)"
      ]
    },
    {
      "cell_type": "markdown",
      "metadata": {
        "id": "VI0cXUtZqUNl"
      },
      "source": [
        "**<ins>Results (Thresholding-free):</ins>** While LASSO was able to push most of the coefficients to 0, thresholding-free training can't. While the $sin$ coefficient is correctly computed ($-0.9...$), the other coefficients are small, but non-zero. Furthemore, the regularization weight doesn't seem to help in zeroing out the other coefficients."
      ]
    },
    {
      "cell_type": "markdown",
      "source": [
        "<div style=\"color: green; font-weight: bold\">Comment:</div> Good result. although I am a bit surprised that it took 100 epochs to get this result. I think lesser number of epochs would have sufficed for this task. But still, good job :).\n",
        "\n",
        "The code is also implemented nicely :)."
      ],
      "metadata": {
        "id": "18KrXcftL2eU"
      }
    },
    {
      "cell_type": "markdown",
      "metadata": {
        "id": "xNNYSoOuA-Un"
      },
      "source": [
        "### 1.3 Thresholding"
      ]
    },
    {
      "cell_type": "markdown",
      "metadata": {
        "id": "wp8f5ntvA-Un"
      },
      "source": [
        "See `train_sindy`."
      ]
    },
    {
      "cell_type": "markdown",
      "metadata": {
        "id": "Zy6vcU2yA-Uo"
      },
      "source": [
        "### 1.4 Evaluation & Visualization"
      ]
    },
    {
      "cell_type": "markdown",
      "metadata": {
        "id": "S5jQo9nbA-Uo"
      },
      "source": [
        "We now train a SINDy model for each thresholding type (i.e., `sequential` and `patient`).\n",
        "\n",
        "Instead of plotting the model weights and the (train and validation) losses, we display these during training. Once training finishes, we also display the final weight mask."
      ]
    },
    {
      "cell_type": "markdown",
      "metadata": {
        "id": "m0NfiVRcA-Up"
      },
      "source": [
        "#### Sequential thresholding"
      ]
    },
    {
      "cell_type": "code",
      "execution_count": null,
      "metadata": {
        "id": "2aDz-BR1A-Up",
        "outputId": "60e1d549-a594-4cae-e6c6-630df7d3b5b6"
      },
      "outputs": [
        {
          "name": "stdout",
          "output_type": "stream",
          "text": [
            "Initiated model\n",
            "Training with sequential threhsolding...\n",
            "Epoch 10/100, Training Loss: 7.1913, Val Loss: 6.417570090293884\n",
            "Model Coefficients: Parameter containing:\n",
            "tensor([0.3494, 0.3144, 0.3620, 0.3083, 0.3511, 0.3573, 0.3498, 0.3502, 0.3554,\n",
            "        0.3494], requires_grad=True)\n",
            "Epoch 20/100, Training Loss: 0.1131, Val Loss: 0.09604717902839184\n",
            "Model Coefficients: Parameter containing:\n",
            "tensor([ 0.0019, -0.2239,  0.0016, -0.2537,  0.0036,  0.0038,  0.0021,  0.0044,\n",
            "        -0.0026,  0.0017], requires_grad=True)\n",
            "Epoch 30/100, Training Loss: 0.0100, Val Loss: 0.008645819802768528\n",
            "Model Coefficients: Parameter containing:\n",
            "tensor([ 0.0000, -0.1588, -0.0000, -0.6969,  0.0000,  0.0000,  0.0000,  0.0000,\n",
            "        -0.0000, -0.0000], requires_grad=True)\n",
            "Epoch 40/100, Training Loss: 0.0000, Val Loss: 9.0128002483425e-08\n",
            "Model Coefficients: Parameter containing:\n",
            "tensor([ 0.0000e+00, -5.2014e-04, -0.0000e+00, -9.9903e-01,  0.0000e+00,\n",
            "         0.0000e+00,  0.0000e+00,  0.0000e+00, -0.0000e+00, -0.0000e+00],\n",
            "       requires_grad=True)\n",
            "Epoch 50/100, Training Loss: 0.0000, Val Loss: 2.223101694051599e-11\n",
            "Model Coefficients: Parameter containing:\n",
            "tensor([ 0.0000, -0.0000, -0.0000, -1.0000,  0.0000,  0.0000,  0.0000,  0.0000,\n",
            "        -0.0000, -0.0000], requires_grad=True)\n",
            "Epoch 60/100, Training Loss: 0.0000, Val Loss: 4.566624075413861e-11\n",
            "Model Coefficients: Parameter containing:\n",
            "tensor([ 0.0000, -0.0000, -0.0000, -1.0000,  0.0000,  0.0000,  0.0000,  0.0000,\n",
            "        -0.0000, -0.0000], requires_grad=True)\n",
            "Epoch 70/100, Training Loss: 0.0000, Val Loss: 5.0053905811808795e-11\n",
            "Model Coefficients: Parameter containing:\n",
            "tensor([ 0.0000, -0.0000, -0.0000, -1.0000,  0.0000,  0.0000,  0.0000,  0.0000,\n",
            "        -0.0000, -0.0000], requires_grad=True)\n",
            "Epoch 80/100, Training Loss: 0.0000, Val Loss: 3.452204928172664e-11\n",
            "Model Coefficients: Parameter containing:\n",
            "tensor([ 0.0000, -0.0000, -0.0000, -1.0000,  0.0000,  0.0000,  0.0000,  0.0000,\n",
            "        -0.0000, -0.0000], requires_grad=True)\n",
            "Epoch 90/100, Training Loss: 0.0000, Val Loss: 4.877963640653737e-11\n",
            "Model Coefficients: Parameter containing:\n",
            "tensor([ 0.0000, -0.0000, -0.0000, -1.0000,  0.0000,  0.0000,  0.0000,  0.0000,\n",
            "        -0.0000, -0.0000], requires_grad=True)\n",
            "Epoch 100/100, Training Loss: 0.0000, Val Loss: 4.0502199163960916e-11\n",
            "Model Coefficients: Parameter containing:\n",
            "tensor([ 0.0000, -0.0000, -0.0000, -1.0000,  0.0000,  0.0000,  0.0000,  0.0000,\n",
            "        -0.0000, -0.0000], requires_grad=True)\n"
          ]
        }
      ],
      "source": [
        "# Model and training config\n",
        "sindy_hyperparams = Hyperparams(\n",
        "    lr=1e-3,\n",
        "    n_epochs=100,\n",
        "    terms=prior_knowledge_terms_torch,\n",
        "    print_interval=10,\n",
        "    batch_size=512,\n",
        "    L1_lambda=1e-5,\n",
        "    thresholding='sequential',  # Sequential training\n",
        "    interval_s=10,\n",
        "    s_a=0.02,\n",
        "    p_a=0.1,\n",
        "    p_b=0.002,\n",
        "    interval_p=5,\n",
        ")\n",
        "\n",
        "# Initiate model\n",
        "sindy_seq_model = SINDy(**asdict(sindy_hyperparams))\n",
        "print(\"Initiated model\")\n",
        "\n",
        "# Call training\n",
        "print(f\"Training with {sindy_hyperparams.thresholding} threhsolding...\")\n",
        "train_sindy(sindy_seq_model, train_loader, test_loader, sindy_hyperparams)"
      ]
    },
    {
      "cell_type": "code",
      "execution_count": null,
      "metadata": {
        "id": "hHYHytQaA-Uq",
        "outputId": "f9bad974-f971-419c-87e6-4648c124ebac"
      },
      "outputs": [
        {
          "name": "stdout",
          "output_type": "stream",
          "text": [
            "Final weight mask: tensor([0., 0., 0., 1., 0., 0., 0., 0., 0., 0.])\n"
          ]
        }
      ],
      "source": [
        "print(f\"Final weight mask: {sindy_seq_model.weight_mask}\")"
      ]
    },
    {
      "cell_type": "markdown",
      "metadata": {
        "id": "_zDbVOmWA-Uq"
      },
      "source": [
        "**<ins>Results (Sequential thresholding):</ins>** Sequential thresholding works like a charm, beating LASSO. It is able to correctly find the $-1$ coefficients of $sin$ and zero out all the other coefficient."
      ]
    },
    {
      "cell_type": "markdown",
      "source": [
        "<div style=\"color: green; font-weight: bold\">Comment:</div> Good results for Sequential thresholding."
      ],
      "metadata": {
        "id": "wPxagdgIMhmv"
      }
    },
    {
      "cell_type": "markdown",
      "metadata": {
        "id": "EV5e0dtRA-Ur"
      },
      "source": [
        "#### Patient (PTAT) thresholding"
      ]
    },
    {
      "cell_type": "code",
      "execution_count": null,
      "metadata": {
        "id": "Q2cusX0lA-Ur",
        "outputId": "fc5796d7-bf2e-4483-eec9-e7c083962557"
      },
      "outputs": [
        {
          "name": "stdout",
          "output_type": "stream",
          "text": [
            "Initiated model\n",
            "Training with patient threhsolding...\n",
            "Epoch 10/100, Training Loss: 5.8668, Val Loss: 4.818489265441895\n",
            "Model Coefficients: Parameter containing:\n",
            "tensor([0.2910, 0.2720, 0.3139, 0.2683, 0.2915, 0.3045, 0.2911, 0.2928, 0.3019,\n",
            "        0.2911], requires_grad=True)\n",
            "Epoch 20/100, Training Loss: 0.0297, Val Loss: 0.02523485878482461\n",
            "Model Coefficients: Parameter containing:\n",
            "tensor([-0.0034, -0.2648, -0.0026, -0.4812, -0.0061,  0.0053,  0.0114,  0.0016,\n",
            "        -0.0056, -0.0037], requires_grad=True)\n",
            "Epoch 30/100, Training Loss: 0.0000, Val Loss: 1.9717957544518329e-10\n",
            "Model Coefficients: Parameter containing:\n",
            "tensor([-0.0000e+00, -1.6256e-05, -0.0000e+00, -9.9996e-01, -0.0000e+00,\n",
            "         0.0000e+00, -0.0000e+00, -0.0000e+00, -0.0000e+00, -1.2470e-05],\n",
            "       requires_grad=True)\n",
            "Epoch 40/100, Training Loss: 0.0000, Val Loss: 5.911183643264595e-11\n",
            "Model Coefficients: Parameter containing:\n",
            "tensor([-0.0000, -0.0000, -0.0000, -1.0000, -0.0000,  0.0000, -0.0000, -0.0000,\n",
            "        -0.0000,  0.0000], requires_grad=True)\n",
            "Epoch 50/100, Training Loss: 0.0000, Val Loss: 2.397408912016563e-11\n",
            "Model Coefficients: Parameter containing:\n",
            "tensor([-0.0000, -0.0000, -0.0000, -1.0000, -0.0000,  0.0000, -0.0000, -0.0000,\n",
            "        -0.0000,  0.0000], requires_grad=True)\n",
            "Epoch 60/100, Training Loss: 0.0000, Val Loss: 1.0222861576356101e-11\n",
            "Model Coefficients: Parameter containing:\n",
            "tensor([-0.0000, -0.0000, -0.0000, -1.0000, -0.0000,  0.0000, -0.0000, -0.0000,\n",
            "        -0.0000,  0.0000], requires_grad=True)\n",
            "Epoch 70/100, Training Loss: 0.0000, Val Loss: 3.341025150982446e-10\n",
            "Model Coefficients: Parameter containing:\n",
            "tensor([-0.0000, -0.0000, -0.0000, -1.0000, -0.0000,  0.0000, -0.0000, -0.0000,\n",
            "        -0.0000,  0.0000], requires_grad=True)\n",
            "Epoch 80/100, Training Loss: 0.0000, Val Loss: 6.987190548368716e-11\n",
            "Model Coefficients: Parameter containing:\n",
            "tensor([-0.0000, -0.0000, -0.0000, -1.0000, -0.0000,  0.0000, -0.0000, -0.0000,\n",
            "        -0.0000,  0.0000], requires_grad=True)\n",
            "Epoch 90/100, Training Loss: 0.0000, Val Loss: 3.870826836144259e-11\n",
            "Model Coefficients: Parameter containing:\n",
            "tensor([-0.0000, -0.0000, -0.0000, -1.0000, -0.0000,  0.0000, -0.0000, -0.0000,\n",
            "        -0.0000,  0.0000], requires_grad=True)\n",
            "Epoch 100/100, Training Loss: 0.0000, Val Loss: 1.605649736433068e-11\n",
            "Model Coefficients: Parameter containing:\n",
            "tensor([-0.0000, -0.0000, -0.0000, -1.0000, -0.0000,  0.0000, -0.0000, -0.0000,\n",
            "        -0.0000,  0.0000], requires_grad=True)\n"
          ]
        }
      ],
      "source": [
        "# Model and training config\n",
        "sindy_hyperparams = Hyperparams(\n",
        "    lr=1e-3,\n",
        "    n_epochs=100,\n",
        "    terms=prior_knowledge_terms_torch,\n",
        "    print_interval=10,\n",
        "    batch_size=512,\n",
        "    L1_lambda=1e-5,\n",
        "    thresholding='patient',  # Patient (PTAT) training\n",
        "    interval_s=10,\n",
        "    s_a=0.02,\n",
        "    p_a=0.1,\n",
        "    p_b=0.002,\n",
        "    interval_p=5,\n",
        ")\n",
        "\n",
        "# Initiate model\n",
        "sindy_patient_model = SINDy(**asdict(sindy_hyperparams))\n",
        "print(\"Initiated model\")\n",
        "\n",
        "# Call training\n",
        "print(f\"Training with {sindy_hyperparams.thresholding} threhsolding...\")\n",
        "train_sindy(sindy_patient_model, train_loader, test_loader, sindy_hyperparams)"
      ]
    },
    {
      "cell_type": "code",
      "execution_count": null,
      "metadata": {
        "id": "oNSqsQm-A-U6",
        "outputId": "ff7190de-74a1-489f-b001-75999bae9010"
      },
      "outputs": [
        {
          "name": "stdout",
          "output_type": "stream",
          "text": [
            "Final weight mask: tensor([False, False, False,  True, False, False, False, False, False, False])\n"
          ]
        }
      ],
      "source": [
        "print(f\"Final weight mask: {sindy_patient_model.weight_mask}\")"
      ]
    },
    {
      "cell_type": "markdown",
      "metadata": {
        "id": "AYjgSYvLA-U6"
      },
      "source": [
        "**<ins>Results (Patient thresholding):</ins>** Patient thresholding (PTAT) works just as good as sequential thresholding.\n",
        "\n",
        "We note that the weight mask (`weight_mask`) resulting from patient thresholding is `bool` while the weight mask resulting from sequential thelding is `float` due to using `torch.logical_or` and  `torch.logical_and` to compute the mask in the context of patient thresholding.  "
      ]
    },
    {
      "cell_type": "markdown",
      "source": [
        "<div style=\"color: green; font-weight: bold\">Comment:</div> It would have been better if you had visualised the values of coefficients throughout the training."
      ],
      "metadata": {
        "id": "WpKrO70PNhuh"
      }
    },
    {
      "cell_type": "markdown",
      "metadata": {
        "id": "N2Gxj1yRA-U7"
      },
      "source": [
        "### 1.5 Small Angle Approximation"
      ]
    },
    {
      "cell_type": "markdown",
      "metadata": {
        "id": "iaM-8INXA-U7"
      },
      "source": [
        "We now create another simulation dataset in which we do not reject the data associated with small angles."
      ]
    },
    {
      "cell_type": "code",
      "execution_count": null,
      "metadata": {
        "id": "yMHQn_CiA-U7"
      },
      "outputs": [],
      "source": [
        "# Simulate data: Construct canonical training set\n",
        "simulations_without_rejections = create_pendulum_data(\n",
        "    z0_min,\n",
        "    z0_max,\n",
        "    dz0_min,\n",
        "    dz0_max,\n",
        "    coefficients,\n",
        "    terms,\n",
        "    T,\n",
        "    dt,\n",
        "    N,\n",
        "    rejection=False,  # Do not reject simulations\n",
        ")"
      ]
    },
    {
      "cell_type": "code",
      "execution_count": null,
      "metadata": {
        "id": "SRCJWMlUA-U8"
      },
      "outputs": [],
      "source": [
        "reshaped_simulations_without_rejections = np.array(simulations_without_rejections).reshape((N * T, 3))"
      ]
    },
    {
      "cell_type": "code",
      "execution_count": null,
      "metadata": {
        "id": "6-nVX_ZCA-U9",
        "outputId": "decb6ea7-f58a-4fa6-bf56-c78e3fb45057"
      },
      "outputs": [
        {
          "name": "stdout",
          "output_type": "stream",
          "text": [
            "Dataset created\n",
            "Length of train data: 40000, validation data: 10000\n"
          ]
        }
      ],
      "source": [
        "# Create dataset\n",
        "simulations_without_rejections_dataset = SimulationDataset(reshaped_simulations)\n",
        "\n",
        "train_size = int(0.8 * len(simulations_without_rejections_dataset))\n",
        "test_size = len(simulations_without_rejections_dataset) - train_size\n",
        "\n",
        "# Train-test split\n",
        "train_without_rejections_dataset, test_without_rejections_dataset = random_split(\n",
        "    simulations_without_rejections_dataset,\n",
        "    [train_size, test_size],\n",
        ")\n",
        "\n",
        "# Create data loaders\n",
        "train_without_rejections_loader = DataLoader(train_without_rejections_dataset, batch_size=sindy_hyperparams.batch_size, shuffle=True)\n",
        "test_without_rejections_loader = DataLoader(test_without_rejections_dataset, batch_size=sindy_hyperparams.batch_size, shuffle=True)\n",
        "print(\"Dataset created\")\n",
        "print(f\"Length of train data: {train_size}, validation data: {test_size}\")"
      ]
    },
    {
      "cell_type": "code",
      "execution_count": null,
      "metadata": {
        "id": "8T6WimOLA-U-",
        "outputId": "eb5b9370-d51b-4f09-bdb5-60bf08384e21"
      },
      "outputs": [
        {
          "name": "stdout",
          "output_type": "stream",
          "text": [
            "Initiated model\n",
            "Training with None threhsolding...\n",
            "Epoch 10/100, Training Loss: 7.8007, Val Loss: 6.90883104801178\n",
            "Model Coefficients: Parameter containing:\n",
            "tensor([0.3679, 0.3299, 0.3815, 0.3240, 0.3691, 0.3775, 0.3685, 0.3686, 0.3737,\n",
            "        0.3681], requires_grad=True)\n",
            "Epoch 20/100, Training Loss: 0.5785, Val Loss: 0.49778866916894915\n",
            "Model Coefficients: Parameter containing:\n",
            "tensor([ 0.0716, -0.0927,  0.0794, -0.1173,  0.0730,  0.0780,  0.0723,  0.0731,\n",
            "         0.0720,  0.0720], requires_grad=True)\n",
            "Epoch 30/100, Training Loss: 0.0520, Val Loss: 0.04916765615344047\n",
            "Model Coefficients: Parameter containing:\n",
            "tensor([ 0.0040, -0.2712,  0.0041, -0.3425,  0.0048,  0.0064,  0.0048,  0.0054,\n",
            "        -0.0011,  0.0047], requires_grad=True)\n",
            "Epoch 40/100, Training Loss: 0.0299, Val Loss: 0.029323353338986634\n",
            "Model Coefficients: Parameter containing:\n",
            "tensor([-7.2764e-04, -2.9109e-01, -9.4390e-04, -4.4409e-01, -1.1825e-03,\n",
            "         1.8679e-03,  5.6565e-04,  3.6896e-04, -6.3963e-03,  7.2990e-04],\n",
            "       requires_grad=True)\n",
            "Epoch 50/100, Training Loss: 0.0225, Val Loss: 0.021793788019567727\n",
            "Model Coefficients: Parameter containing:\n",
            "tensor([-5.0707e-04, -2.5596e-01, -6.0817e-04, -5.2318e-01, -2.0903e-03,\n",
            "         2.3066e-03,  1.6778e-03, -6.1336e-05, -6.5435e-03,  1.9400e-03],\n",
            "       requires_grad=True)\n",
            "Epoch 60/100, Training Loss: 0.0147, Val Loss: 0.014146107621490956\n",
            "Model Coefficients: Parameter containing:\n",
            "tensor([-3.2864e-04, -2.0626e-01, -6.7314e-04, -6.1637e-01, -2.4478e-03,\n",
            "         2.8080e-03,  2.8062e-03, -3.9111e-04, -6.3535e-03,  2.6223e-03],\n",
            "       requires_grad=True)\n",
            "Epoch 70/100, Training Loss: 0.0078, Val Loss: 0.007424522424116731\n",
            "Model Coefficients: Parameter containing:\n",
            "tensor([-4.8684e-04, -1.4929e-01, -3.9512e-04, -7.2192e-01, -2.3808e-03,\n",
            "         3.0743e-03,  3.5605e-03, -4.8539e-04, -6.0712e-03,  2.2504e-03],\n",
            "       requires_grad=True)\n",
            "Epoch 80/100, Training Loss: 0.0031, Val Loss: 0.0028489864547736944\n",
            "Model Coefficients: Parameter containing:\n",
            "tensor([-6.4857e-04, -9.2680e-02, -3.0690e-04, -8.2734e-01, -1.9325e-03,\n",
            "         2.8353e-03,  3.8221e-03, -3.2275e-04, -5.2903e-03,  9.3144e-04],\n",
            "       requires_grad=True)\n",
            "Epoch 90/100, Training Loss: 0.0008, Val Loss: 0.0006951422692509368\n",
            "Model Coefficients: Parameter containing:\n",
            "tensor([-6.0167e-04, -4.5717e-02, -1.2901e-04, -9.1473e-01, -1.2954e-03,\n",
            "         2.2426e-03,  3.6295e-03, -4.8804e-05, -3.8219e-03, -7.5783e-04],\n",
            "       requires_grad=True)\n",
            "Epoch 100/100, Training Loss: 0.0001, Val Loss: 8.579088207625319e-05\n",
            "Model Coefficients: Parameter containing:\n",
            "tensor([-3.1997e-04, -1.6012e-02, -5.9473e-05, -9.7015e-01, -8.0110e-04,\n",
            "         1.2841e-03,  3.0867e-03,  1.6746e-05, -2.1125e-03, -2.1883e-03],\n",
            "       requires_grad=True)\n"
          ]
        }
      ],
      "source": [
        "# Model and training config\n",
        "sindy_hyperparams = Hyperparams(\n",
        "    lr=1e-3,\n",
        "    n_epochs=100,\n",
        "    terms=prior_knowledge_terms_torch,\n",
        "    print_interval=10,\n",
        "    batch_size=512,\n",
        "    L1_lambda=1e-5,\n",
        "    thresholding=None,\n",
        "    interval_s=10,\n",
        "    s_a=0.02,\n",
        "    p_a=0.1,\n",
        "    p_b=0.002,\n",
        "    interval_p=5,\n",
        ")\n",
        "\n",
        "# Initiate model\n",
        "sindy_seq_without_rejections_model = SINDy(**asdict(sindy_hyperparams))\n",
        "print(\"Initiated model\")\n",
        "\n",
        "# Call training\n",
        "print(f\"Training with {sindy_hyperparams.thresholding} threhsolding...\")\n",
        "train_sindy(\n",
        "    sindy_seq_without_rejections_model,\n",
        "    train_without_rejections_loader,\n",
        "    test_without_rejections_loader,\n",
        "    sindy_hyperparams,\n",
        ")"
      ]
    },
    {
      "cell_type": "markdown",
      "metadata": {
        "id": "N31yeZi4A-U-"
      },
      "source": [
        "**<ins>Results (Keep all simulations):</ins>** It seems that not rejecting simulations (keeping the simulations associated with any sampled initial conditions) doesn't lead to other significant coefficients. Consequently, the percentage of simulations associated would small angles should probably be increased to see a difference.  "
      ]
    },
    {
      "cell_type": "markdown",
      "metadata": {
        "id": "4Y92A1XP-wGI"
      },
      "source": [
        "## 2 SINDy-Autoencoders"
      ]
    },
    {
      "cell_type": "markdown",
      "metadata": {
        "id": "beuBWpVb-wGN"
      },
      "source": [
        "### 2.1 Cartesian Embedding"
      ]
    },
    {
      "cell_type": "markdown",
      "metadata": {
        "id": "9XvWiFzUa2qY"
      },
      "source": [
        "Suppose that in real life we didn't know that the deflection angle $z_t$ is the most appropriate variable to express the pendulum behavior. Instead, we measure the location of the pendulum's tip in 2-dimensional Cartesian coordinates $x_t$ with derivatives $\\dot{x}$, $\\ddot{x}$. To simulate this situation, implement an `embed_cartesian(z, dz, ddz)` function that generates a new training set $x_i$, $\\dot{x}_i$, $\\ddot{x}_i \\in \\mathbb{R}^2$ from the canonical representation $z_i$, $\\dot{z}_i$, $\\ddot{z}_i$ via the chain rule:\n",
        "\n",
        "- $x = [\\sin(z), -\\cos(z)]$ (5)\n",
        "- $\\dot{x} = [\\cos(z) \\cdot \\dot{z}, \\sin(z) \\cdot \\dot{z}]$ (6)\n",
        "- $\\ddot{x} = [-\\sin(z) \\cdot \\dot{z}^2 + \\cos(z) \\cdot \\ddot{z}, \\cos(z) \\cdot \\dot{z}^2 + \\sin(z) \\cdot \\ddot{z}]$ (7)\n"
      ]
    },
    {
      "cell_type": "code",
      "execution_count": null,
      "metadata": {
        "id": "b--4sSNga8oy"
      },
      "outputs": [],
      "source": [
        "def embed_cartesian(z, dz, ddz):\n",
        "  \"\"\"\n",
        "  Transform canonical representation of a pendulum, i.e.,  (angle, angular velocity,\n",
        "  angular acceleration), into 2D cartesian coorinates x(t), x_dot(t), x_ddot(t).\n",
        "\n",
        "  Parameters:\n",
        "  -----------\n",
        "  z   (1D array): Angle of pendulum\n",
        "  dz  (1D array): Angular velocity of pendulum\n",
        "  ddz (1D array): Angular acceleration of pendulum\n",
        "\n",
        "  Output:\n",
        "  -------\n",
        "  x (2D array), x_dot (2D array), x_ddot (2D array): Corresponding cartesian coordinates\n",
        "  of the pendulum (position) and its first two derivaties.\n",
        "  \"\"\"\n",
        "  x = np.array([np.sin(z), -np.cos(z)])\n",
        "  x_dot = np.array([np.cos(z) * dz, np.sin(z) * dz])\n",
        "  x_ddot = np.array([-np.sin(z) * dz**2 + np.cos(z) * ddz, np.cos(z) * dz**2 + np.sin(z) * ddz**2])\n",
        "  return x, x_dot, x_ddot"
      ]
    },
    {
      "cell_type": "markdown",
      "source": [
        "<div style=\"color: green; font-weight: bold\">Comment:</div> Function `ember_cartesian` is as elegant as the sample solution."
      ],
      "metadata": {
        "id": "Fmwv5wB4OAE-"
      }
    },
    {
      "cell_type": "code",
      "execution_count": null,
      "metadata": {
        "id": "Ks13pE4C1vPa"
      },
      "outputs": [],
      "source": [
        "z_example = np.pi / 4  # 45 degrees angle\n",
        "dz_example = 1.0       # Angular velocity\n",
        "ddz_example = 0.5      # Angular acceleration\n",
        "\n",
        "# Convert angular to cartesian coordinates\n",
        "cartesian_coordinates = embed_cartesian(\n",
        "    reshaped_simulations[:, 0],  # z\n",
        "    reshaped_simulations[:, 1],  # dz\n",
        "    reshaped_simulations[:, 2],  # ddz\n",
        ")"
      ]
    },
    {
      "cell_type": "code",
      "execution_count": null,
      "metadata": {
        "id": "WDnRi3ji-wGR"
      },
      "outputs": [],
      "source": [
        "# Get pendulum cartesian coordinates\n",
        "pendulum_data = cartesian_coordinates[0].reshape((-1, 2))"
      ]
    },
    {
      "cell_type": "markdown",
      "metadata": {
        "id": "is9zAYag-wGS"
      },
      "source": [
        "### 2.2 Hyperparameter Optimization"
      ]
    },
    {
      "cell_type": "markdown",
      "metadata": {
        "id": "GjqLQaYCbft7"
      },
      "source": [
        "**Task description:** We now need an additional autoencoder whose code space recovers the canonical variables $z_t$ for the ODE, given the Cartesian coordinates $x_i$. (Note that the derivatives are not learned, but will be analytically computed by a forward propagation algorithm in the next subtask.) To find a suitable autoencoder architecture, implement and train a simple Autoencoder with Linear and Sigmoid layers to encode $x_t$ into a one-dimensional latent representation $z_t$ and reconstruct $\\hat{x}_t$. Try different hyperparameters such as the number and the size of the hidden layers. Use the Adam Optimizer and a learning rate of $10^{-3}$. Report the best hyperparameters and use them for the following tasks."
      ]
    },
    {
      "cell_type": "code",
      "execution_count": null,
      "metadata": {
        "id": "tX5VsgWx8oeR"
      },
      "outputs": [],
      "source": [
        "class Autoencoder(nn.Module):\n",
        "    def __init__(self, input_size, hidden_size, n_layers, latent_size):\n",
        "        super(Autoencoder, self).__init__()\n",
        "\n",
        "        self.input_size = input_size\n",
        "        self.n_layers = 2 if n_layers < 2 else n_layers\n",
        "        self.hidden_size = hidden_size\n",
        "        self.latent_size = latent_size\n",
        "\n",
        "\n",
        "        # Encoder layers\n",
        "        self.layers_encoder = [\n",
        "            nn.Linear(self.input_size, self.hidden_size),\n",
        "            nn.Sigmoid(),\n",
        "        ]\n",
        "        # Decoder layers\n",
        "        self.layers_decoder = [\n",
        "            nn.Linear(self.latent_size, self.hidden_size),\n",
        "            nn.Sigmoid(),\n",
        "        ]\n",
        "        if self.n_layers > 2:\n",
        "            for i in range(1, self.n_layers - 1):\n",
        "                # Append hidden layers.\n",
        "                self.layers_encoder.append(nn.Linear(self.hidden_size, self.hidden_size))\n",
        "                self.layers_encoder.append(nn.Sigmoid())\n",
        "                self.layers_decoder.append(nn.Linear(self.hidden_size, self.hidden_size))\n",
        "                self.layers_decoder.append(nn.Sigmoid())\n",
        "\n",
        "        # Append output layers.\n",
        "        self.layers_encoder.append(nn.Linear(self.hidden_size, self.latent_size))\n",
        "        self.layers_decoder.append(nn.Linear(self.hidden_size, self.input_size))\n",
        "\n",
        "        # Encoder\n",
        "        self.encoder = nn.Sequential(*self.layers_encoder)\n",
        "        # Decoder\n",
        "        self.decoder = nn.Sequential(*self.layers_decoder)\n",
        "\n",
        "    def forward(self, x):\n",
        "        z = self.encoder(x)\n",
        "        return self.decoder(z)"
      ]
    },
    {
      "cell_type": "code",
      "execution_count": null,
      "metadata": {
        "id": "ZTNhm5oH83Lu"
      },
      "outputs": [],
      "source": [
        "def train_autoencoder(model, data_loader, num_epochs=10, learning_rate=1e-3, print_interval=5):\n",
        "  criterion = nn.MSELoss()\n",
        "  optimizer = torch.optim.Adam(model.parameters(), lr=learning_rate)\n",
        "\n",
        "  for epoch in range(num_epochs):\n",
        "    total_loss = 0\n",
        "    for data in data_loader:\n",
        "        inputs = data[0]\n",
        "        optimizer.zero_grad()\n",
        "        outputs = model(inputs)\n",
        "        loss = criterion(outputs, inputs)\n",
        "        loss.backward()\n",
        "        optimizer.step()\n",
        "        total_loss += loss.item()\n",
        "    avg_loss = total_loss / len(data_loader)\n",
        "\n",
        "    if (epoch + 1) % print_interval == 0:\n",
        "        print(f'Epoch [{epoch+1}/{num_epochs}], Loss: {avg_loss:.4f}')"
      ]
    },
    {
      "cell_type": "code",
      "execution_count": null,
      "metadata": {
        "id": "h4hqnraA-wGV"
      },
      "outputs": [],
      "source": [
        "# Set training hyperparams\n",
        "autoencoder_hyperparams = Hyperparams(\n",
        "    train_size=2000,\n",
        "    batch_size=15,\n",
        "    input_size=2,  # We are working with cartesian coordinates (2D data)\n",
        "    latent_size=1,\n",
        "    hidden_size=64,\n",
        "    n_layers=2,\n",
        "    n_epochs=100,\n",
        "    lr=1e-3,\n",
        "    print_interval=10,\n",
        ")"
      ]
    },
    {
      "cell_type": "code",
      "execution_count": null,
      "metadata": {
        "id": "1mHj8Fap-qxH"
      },
      "outputs": [],
      "source": [
        "scale = True\n",
        "\n",
        "X_train = pendulum_data[:autoencoder_hyperparams.train_size, :]\n",
        "X_test = pendulum_data[autoencoder_hyperparams.train_size:, :]\n",
        "\n",
        "# Scale data\n",
        "if scale:\n",
        "    scaler = StandardScaler()\n",
        "    X_train = scaler.fit_transform(X_train)\n",
        "    X_test = scaler.transform(X_test)\n",
        "\n",
        "# Convert arrays to tensors\n",
        "X_train = torch.tensor(X_train, dtype=torch.float32)\n",
        "X_test = torch.tensor(X_test, dtype=torch.float32)\n",
        "\n",
        "train_dataset = TensorDataset(X_train)\n",
        "train_loader = DataLoader(dataset=train_dataset, batch_size=autoencoder_hyperparams.batch_size, shuffle=True)"
      ]
    },
    {
      "cell_type": "code",
      "execution_count": null,
      "metadata": {
        "id": "h4Puqxn5A-VD",
        "outputId": "110c7fb4-0e87-4423-badc-b972f400f3b8"
      },
      "outputs": [
        {
          "name": "stdout",
          "output_type": "stream",
          "text": [
            "Training with hidden size: 64\n",
            "Epoch [5/100], Loss: 0.0050\n",
            "Epoch [10/100], Loss: 0.0030\n",
            "Epoch [15/100], Loss: 0.0019\n",
            "Epoch [20/100], Loss: 0.0012\n",
            "Epoch [25/100], Loss: 0.0009\n",
            "Epoch [30/100], Loss: 0.0007\n",
            "Epoch [35/100], Loss: 0.0006\n",
            "Epoch [40/100], Loss: 0.0004\n",
            "Epoch [45/100], Loss: 0.0004\n",
            "Epoch [50/100], Loss: 0.0004\n",
            "Epoch [55/100], Loss: 0.0003\n",
            "Epoch [60/100], Loss: 0.0003\n",
            "Epoch [65/100], Loss: 0.0004\n",
            "Epoch [70/100], Loss: 0.0003\n",
            "Epoch [75/100], Loss: 0.0003\n",
            "Epoch [80/100], Loss: 0.0003\n",
            "Epoch [85/100], Loss: 0.0003\n",
            "Epoch [90/100], Loss: 0.0002\n",
            "Epoch [95/100], Loss: 0.0003\n",
            "Epoch [100/100], Loss: 0.0002\n",
            "Validation error: 0.0001310086081502959\n"
          ]
        }
      ],
      "source": [
        "print(f\"Training with hidden size: {autoencoder_hyperparams.hidden_size}\")\n",
        "model = Autoencoder(\n",
        "  input_size=autoencoder_hyperparams.input_size,\n",
        "  hidden_size=autoencoder_hyperparams.hidden_size,\n",
        "  n_layers=autoencoder_hyperparams.n_layers,\n",
        "  latent_size=autoencoder_hyperparams.latent_size,\n",
        ")\n",
        "train_autoencoder(\n",
        "  model,\n",
        "  train_loader,\n",
        "  num_epochs=autoencoder_hyperparams.n_epochs,\n",
        "  learning_rate=autoencoder_hyperparams.lr,\n",
        ")\n",
        "\n",
        "print(f\"Validation error: {nn.MSELoss()(model(X_test), X_test).item()}\")"
      ]
    },
    {
      "cell_type": "markdown",
      "metadata": {
        "id": "8OFiJkn4A-VE"
      },
      "source": [
        "Now that we've made sure that `Autoencoder` and `train_autoencoder` are running, we begin with the search for the best hyperparameter configuration."
      ]
    },
    {
      "cell_type": "code",
      "execution_count": null,
      "metadata": {
        "id": "rtRoEtv0A-VE",
        "outputId": "440f56ad-ca34-41a2-c809-a9af52fc91d6"
      },
      "outputs": [
        {
          "name": "stdout",
          "output_type": "stream",
          "text": [
            "Searching for best hyperparmeter configuration...\n",
            "Training with hidden size: 32, n_layers: 1, latent size: 1\n",
            "Epoch [25/100], Loss: 0.0012\n",
            "Epoch [50/100], Loss: 0.0005\n",
            "Epoch [75/100], Loss: 0.0003\n",
            "Epoch [100/100], Loss: 0.0003\n",
            "Training with hidden size: 32, n_layers: 2, latent size: 1\n",
            "Epoch [25/100], Loss: 0.0014\n",
            "Epoch [50/100], Loss: 0.0005\n",
            "Epoch [75/100], Loss: 0.0004\n",
            "Epoch [100/100], Loss: 0.0003\n",
            "Training with hidden size: 32, n_layers: 3, latent size: 1\n",
            "Epoch [25/100], Loss: 0.0015\n",
            "Epoch [50/100], Loss: 0.0008\n",
            "Epoch [75/100], Loss: 0.0005\n",
            "Epoch [100/100], Loss: 0.0004\n",
            "Training with hidden size: 64, n_layers: 1, latent size: 1\n",
            "Epoch [25/100], Loss: 0.0009\n",
            "Epoch [50/100], Loss: 0.0004\n",
            "Epoch [75/100], Loss: 0.0003\n",
            "Epoch [100/100], Loss: 0.0003\n",
            "Training with hidden size: 64, n_layers: 2, latent size: 1\n",
            "Epoch [25/100], Loss: 0.0009\n",
            "Epoch [50/100], Loss: 0.0004\n",
            "Epoch [75/100], Loss: 0.0003\n",
            "Epoch [100/100], Loss: 0.0003\n",
            "Training with hidden size: 64, n_layers: 3, latent size: 1\n",
            "Epoch [25/100], Loss: 0.0011\n",
            "Epoch [50/100], Loss: 0.0002\n",
            "Epoch [75/100], Loss: 0.0003\n",
            "Epoch [100/100], Loss: 0.0003\n",
            "Training with hidden size: 128, n_layers: 1, latent size: 1\n",
            "Epoch [25/100], Loss: 0.0007\n",
            "Epoch [50/100], Loss: 0.0002\n",
            "Epoch [75/100], Loss: 0.0002\n",
            "Epoch [100/100], Loss: 0.0002\n",
            "Training with hidden size: 128, n_layers: 2, latent size: 1\n",
            "Epoch [25/100], Loss: 0.0006\n",
            "Epoch [50/100], Loss: 0.0002\n",
            "Epoch [75/100], Loss: 0.0002\n",
            "Epoch [100/100], Loss: 0.0002\n",
            "Training with hidden size: 128, n_layers: 3, latent size: 1\n",
            "Epoch [25/100], Loss: 0.0014\n",
            "Epoch [50/100], Loss: 0.0005\n",
            "Epoch [75/100], Loss: 0.0003\n",
            "Epoch [100/100], Loss: 0.0005\n",
            "Best Hyperparameters: {'hidden_size': 64, 'n_layers': 3, 'latent_size': 1, 'val_loss': 0.0001349008671240881}\n"
          ]
        }
      ],
      "source": [
        "# Perform best hyperparam search\n",
        "hidden_sizes = [32, 64, 128]\n",
        "n_layers_list = [1, 2, 3]\n",
        "latent_sizes = [1]\n",
        "\n",
        "fixed_learning_rate = 1e-3\n",
        "\n",
        "results = []\n",
        "\n",
        "print(f\"Searching for best hyperparmeter configuration...\")\n",
        "\n",
        "for hidden_size, n_layers, latent_size in itertools.product(hidden_sizes, n_layers_list, latent_sizes):\n",
        "    print(f\"Training with hidden size: {hidden_size}, n_layers: {n_layers}, latent size: {latent_size}\")\n",
        "    model = Autoencoder(input_size=2, hidden_size=hidden_size, n_layers=n_layers, latent_size=latent_size)\n",
        "    train_autoencoder(model, train_loader, num_epochs=100, learning_rate=fixed_learning_rate, print_interval=25)\n",
        "    val_loss = nn.MSELoss()(model(X_test), X_test).item()\n",
        "    results.append({'hidden_size': hidden_size, 'n_layers': n_layers, 'latent_size': latent_size, 'val_loss': val_loss})\n",
        "\n",
        "# Find the best hyperparameters\n",
        "best_hyperparams = min(results, key=lambda x: x['val_loss'])\n",
        "print(\"Best Hyperparameters:\", best_hyperparams)"
      ]
    },
    {
      "cell_type": "markdown",
      "source": [
        "<div style=\"color: green; font-weight: bold\">Comment:</div> A suggestion: we think that while showing the loss result, its better to not show more than 4 decimal place.\n",
        "\n",
        "Also it would have been better if you had visualised  your results (average epoch validation losses) for different learning rates as well as for different models (just the way it is done in the sample solution)."
      ],
      "metadata": {
        "id": "WqSWHuq1OM25"
      }
    },
    {
      "cell_type": "markdown",
      "metadata": {
        "id": "j6UNsju8-wGY"
      },
      "source": [
        "### 2.3 Propagation of Time Derivatives"
      ]
    },
    {
      "cell_type": "markdown",
      "metadata": {
        "id": "FfX_qAEtbqbq"
      },
      "source": [
        "**Task description:** Extend your autoencoder with the necessary functionality to compute the derivatives $\\dot{z}_t$, $\\ddot{z}_t$ of the codes, given the Cartesian coordinates and derivatives $x_t$, $\\dot{x}_t$, $\\ddot{x}_t$. Implement two layer classes `SigmoidDerivatives` and `LinearDerivatives` whose `forward(self, x, dx, ddx) \\rightarrow z, dz, ddz` function computes the output (as the network's learned output) and its derivatives (via an explicit implementation of the chain rule through the network):\n",
        "\n",
        "\n",
        "**Algorithm 3: Propagation of Time Derivatives**\n",
        "\n",
        "For $l = 1$ to $L - 1$ do\n",
        "\n",
        "- Initialize: $z_0, \\dot{z}_0, \\ddot{z}_0 \\leftarrow x, \\dot{x}, \\ddot{x}$\n",
        "- Pre-Activations (Linear Layer):\n",
        "  - $\\tilde{z}_l \\leftarrow z_{l-1}W_l + b_l$\n",
        "  - $\\dot{\\tilde{z}}_l \\leftarrow \\dot{z}_{l-1}W_l$\n",
        "  - $\\ddot{\\tilde{z}}_l \\leftarrow \\ddot{z}_{l-1}W_l$\n",
        "- Activations (Sigmoid Layer):\n",
        "  - $z_l \\leftarrow g(\\tilde{z}_l)$\n",
        "  - $\\dot{z}_l \\leftarrow g'(\\tilde{z}_l) \\cdot \\dot{\\tilde{z}}_l$\n",
        "  - $\\ddot{z}_l \\leftarrow g''(\\tilde{z}_l) \\cdot \\dot{\\tilde{z}}_l^2 + g'(\\tilde{z}_l) \\cdot \\ddot{\\tilde{z}}_l$\n",
        "\n",
        "End for\n",
        "\n",
        "For the sigmoid activation function, the derivatives are:\n",
        "\n",
        "- $g(\\tilde{z}) = \\sigma(\\tilde{z}) = \\frac{1}{1 + e^{-\\tilde{z}}}$\n",
        "- $g'(\\tilde{z}) = \\sigma(\\tilde{z}) \\cdot (1 - \\sigma(\\tilde{z}))$\n",
        "- $g''(\\tilde{z}) = \\sigma'(\\tilde{z}) \\cdot (1 - 2\\sigma(\\tilde{z}))$\n",
        "\n",
        "Verify your implementation on example inputs $x_t, \\dot{x}_t, \\ddot{x}_t$ by comparing the propagated time derivatives with the discrete first and second derivatives of the layer's output $z_t = \\text{layer}(x_t)$. To compute discrete derivatives, you need the outputs of three consecutive time steps at distance $\\Delta t$:\n",
        "\n",
        "- $\\dot{z}_t \\approx \\frac{z_{t+1} - z_{t-1}}{2 \\cdot \\Delta t}$\n",
        "- $\\ddot{z}_t \\approx \\frac{z_{t+1} - 2 \\cdot z_t + z_{t-1}}{\\Delta t^2}$"
      ]
    },
    {
      "cell_type": "code",
      "execution_count": null,
      "metadata": {
        "id": "yCaRLC8tc8Lq"
      },
      "outputs": [],
      "source": [
        "class LinearDerivatives(nn.Module):\n",
        "    def __init__(self, input_size, output_size, bias: bool = True):\n",
        "        super(LinearDerivatives, self).__init__()\n",
        "\n",
        "        self.input_size = input_size\n",
        "        self.output_size = output_size\n",
        "        self.bias = bias\n",
        "\n",
        "        self.linear = nn.Linear(self.input_size, self.output_size, bias=self.bias)\n",
        "\n",
        "        nn.init.xavier_uniform_(self.linear.weight)\n",
        "\n",
        "    def forward(self, x, dx, ddx):\n",
        "        \"\"\"Compute preactivation and its 1st and 2nd derivatives.\"\"\"\n",
        "        # Compute preactivation\n",
        "        z_snake = self.linear(x)\n",
        "\n",
        "        if self.bias:\n",
        "            # Compute first derivative of preactivation\n",
        "            dz_snake = self.linear(dx) - self.linear.bias\n",
        "\n",
        "            # Compute second derivative of preactivation\n",
        "            ddz_snake = self.linear(ddx) - self.linear.bias\n",
        "        else:\n",
        "            # Compute first derivative of preactivation\n",
        "            dz_snake = self.linear(dx)\n",
        "\n",
        "            # Compute second derivative of preactivation\n",
        "            ddz_snake = self.linear(ddx)\n",
        "        return z_snake, dz_snake, ddz_snake\n",
        "\n",
        "\n",
        "class SigmoidDerivatives(nn.Module):\n",
        "    def forward(self, z_snake, dz_snake, ddz_snake):\n",
        "        \"\"\"Compute output and its 1st and 2nd derivatives.\"\"\"\n",
        "        # Compute sigmoid of preactivation (i.e., output)\n",
        "        sigmoid = torch.sigmoid(z_snake)\n",
        "        # Compute 1st derivative of sigmoid of preactivation\n",
        "        sigmoid_prime = sigmoid * (1 - sigmoid)\n",
        "        # Compute 2nd derivative of sigmoid of preactivation\n",
        "        sigmoid_double_prime = sigmoid_prime * (1 - 2 * sigmoid)\n",
        "\n",
        "        z = sigmoid\n",
        "        dz = sigmoid_prime * dz_snake\n",
        "        ddz = sigmoid_double_prime * dz_snake**2 + sigmoid_prime * ddz_snake\n",
        "        return z, dz, ddz"
      ]
    },
    {
      "cell_type": "markdown",
      "source": [
        "<div style=\"color: green; font-weight: bold\">Comment:</div> the implementation of `LinearDerivates` and `SigmoidDerivatives` is correct, simple and elegant."
      ],
      "metadata": {
        "id": "s8nC5ImmO9Pe"
      }
    },
    {
      "cell_type": "code",
      "execution_count": null,
      "metadata": {
        "id": "zDXFDrfm-wGZ"
      },
      "outputs": [],
      "source": [
        "class MultiInputSequential(nn.Sequential):\n",
        "    \"\"\"Extends nn.Sequential for multiple input arguments to `forward`.\"\"\"\n",
        "    def forward(self, *inputs):\n",
        "        for module in self._modules.values():\n",
        "            if type(inputs) == tuple:\n",
        "                inputs = module(*inputs)\n",
        "            else:\n",
        "                inputs = module(inputs)\n",
        "        return inputs"
      ]
    },
    {
      "cell_type": "code",
      "execution_count": null,
      "metadata": {
        "id": "mPbZXvkkTqBp"
      },
      "outputs": [],
      "source": [
        "class AutoencoderWithDerivatives(nn.Module):\n",
        "    def __init__(self, input_size, n_layers, hidden_size, latent_size, bias):\n",
        "        super(AutoencoderWithDerivatives, self).__init__()\n",
        "\n",
        "        self.input_size = input_size\n",
        "        self.n_layers = 1 if n_layers <= 1 else n_layers\n",
        "        self.hidden_size = hidden_size\n",
        "        self.latent_size = latent_size\n",
        "        self.bias = bias\n",
        "\n",
        "        if self.n_layers == 1:\n",
        "            # Encoder layers\n",
        "            self.layers_encoder = [\n",
        "                LinearDerivatives(self.input_size, self.latent_size, self.bias),  # Input layer preactivation\n",
        "                SigmoidDerivatives(),  # Input layer activation\n",
        "            ]\n",
        "            # Decoder layers\n",
        "            self.layers_decoder = [\n",
        "                LinearDerivatives(self.latent_size, self.input_size, self.bias),  # Input layer preactivation\n",
        "                SigmoidDerivatives(),  # Input layer activation\n",
        "            ]\n",
        "        else:\n",
        "           # Encoder layers\n",
        "            self.layers_encoder = [\n",
        "                LinearDerivatives(self.input_size, self.hidden_size, self.bias),  # Input layer preactivation\n",
        "                SigmoidDerivatives(),  # Input layer activation\n",
        "            ]\n",
        "            # Decoder layers\n",
        "            self.layers_decoder = [\n",
        "                LinearDerivatives(self.latent_size, self.hidden_size, self.bias),  # Input layer preactivation\n",
        "                SigmoidDerivatives(),  # Input layer activation\n",
        "            ]\n",
        "            if self.n_layers > 2:\n",
        "                for i in range(1, self.n_layers - 1):\n",
        "                    # Append hidden layers.\n",
        "                    self.layers_encoder.append(LinearDerivatives(self.hidden_size, self.hidden_size, self.bias))\n",
        "                    self.layers_encoder.append(SigmoidDerivatives())\n",
        "                    self.layers_decoder.append(LinearDerivatives(self.hidden_size, self.hidden_size, self.bias))\n",
        "                    self.layers_decoder.append(SigmoidDerivatives())\n",
        "\n",
        "            # Append output layers.\n",
        "            self.layers_encoder.append(LinearDerivatives(self.hidden_size, self.latent_size, self.bias))\n",
        "            self.layers_encoder.append(SigmoidDerivatives())  # DeepMoD uses a linear layer as output\n",
        "            self.layers_decoder.append(LinearDerivatives(self.hidden_size, self.input_size, self.bias))\n",
        "            self.layers_decoder.append(SigmoidDerivatives()) # DeepMoD uses a linear layer as output\n",
        "\n",
        "        # Encoder\n",
        "        self.encoder = MultiInputSequential(*self.layers_encoder)\n",
        "        # Decoder\n",
        "        self.decoder = MultiInputSequential(*self.layers_decoder)\n",
        "\n",
        "    def forward(self, x, dx, ddx):\n",
        "        z, dz, ddz = self.encoder(x, dx, ddx)\n",
        "        x_hat, dx_hat, ddx_hat = self.decoder(z, dz, ddz)\n",
        "        return x_hat, dx_hat, ddx_hat"
      ]
    },
    {
      "cell_type": "markdown",
      "source": [
        "<div style=\"color: green; font-weight: bold\">Comment:</div> The way `AutoencoderDerivatives` is implemented above seems to be a bit lengthier. It can be shortened."
      ],
      "metadata": {
        "id": "H76XY-LkPVLu"
      }
    },
    {
      "cell_type": "code",
      "execution_count": null,
      "metadata": {
        "id": "Z-1zDZmLaVN3"
      },
      "outputs": [],
      "source": [
        "def train_autoencoder_with_derivatives(model, train_loader, val_loader, num_epochs=10, learning_rate=1e-3, print_interval=5):\n",
        "    criterion = nn.MSELoss()\n",
        "    optimizer = torch.optim.Adam(model.parameters(), lr=learning_rate)\n",
        "\n",
        "    model = model.to(device)\n",
        "\n",
        "    losses = []\n",
        "    for epoch in range(num_epochs):\n",
        "        model.eval()\n",
        "        total_loss = 0\n",
        "        for data in train_loader:\n",
        "            x = data[0]\n",
        "            dx = data[1]\n",
        "            ddx = data[2]\n",
        "\n",
        "            optimizer.zero_grad()\n",
        "\n",
        "            x_hat, dx_hat, ddx_hat = model(x, dx, ddx)\n",
        "            loss = criterion(x_hat, x)\n",
        "            loss.backward()\n",
        "            optimizer.step()\n",
        "            total_loss += loss.item()\n",
        "\n",
        "        losses.append(total_loss / len(train_loader))\n",
        "\n",
        "        with torch.no_grad():\n",
        "            model.eval()\n",
        "            val_loss = 0\n",
        "            for data in val_loader:\n",
        "                x = data[0]\n",
        "                dx = data[1]\n",
        "                ddx = data[2]\n",
        "\n",
        "                x_hat, dx_hat, ddx_hat = model(x, dx, ddx)\n",
        "\n",
        "                loss = loss = criterion(x_hat, x)\n",
        "                val_loss += loss.item()\n",
        "\n",
        "        val_loss /= len(val_loader)\n",
        "\n",
        "        if (epoch + 1) % print_interval == 0 or (epoch + 1) == num_epochs:\n",
        "            print(f'Epoch {epoch+1}/{num_epochs}, Training Loss: {losses[-1]:.4f}, Val Loss: {val_loss:.4f}')"
      ]
    },
    {
      "cell_type": "code",
      "execution_count": null,
      "metadata": {
        "id": "xd68Z79r-wGa"
      },
      "outputs": [],
      "source": [
        "# Set architecture & training (hyper)params\n",
        "autoencoder_w_derivatives_1_layers_hyperparams = Hyperparams(\n",
        "    train_size=3000,\n",
        "    batch_size=250,\n",
        "    input_size=2,  # We are working with cartesian coordinates (2D data)\n",
        "    latent_size=1,\n",
        "    hidden_size=32,\n",
        "    n_layers=1,\n",
        "    bias=True,\n",
        "    n_epochs=1000,\n",
        "    lr=1e-3,\n",
        "    print_interval=100,\n",
        ")"
      ]
    },
    {
      "cell_type": "code",
      "execution_count": null,
      "metadata": {
        "id": "NGZWvUf4WvWb"
      },
      "outputs": [],
      "source": [
        "# Train set\n",
        "x_train = cartesian_coordinates[0].reshape((-1, 2))[:autoencoder_w_derivatives_1_layers_hyperparams.train_size, :]\n",
        "dx_train = cartesian_coordinates[1].reshape((-1, 2))[:autoencoder_w_derivatives_1_layers_hyperparams.train_size, :]\n",
        "ddx_train = cartesian_coordinates[2].reshape((-1, 2))[:autoencoder_w_derivatives_1_layers_hyperparams.train_size, :]\n",
        "\n",
        "# Test set\n",
        "x_test = cartesian_coordinates[0].reshape((-1, 2))[autoencoder_w_derivatives_1_layers_hyperparams.train_size:autoencoder_w_derivatives_1_layers_hyperparams.train_size + 230, :]\n",
        "dx_test = cartesian_coordinates[1].reshape((-1, 2))[autoencoder_w_derivatives_1_layers_hyperparams.train_size:autoencoder_w_derivatives_1_layers_hyperparams.train_size + 230, :]\n",
        "ddx_test = cartesian_coordinates[2].reshape((-1, 2))[autoencoder_w_derivatives_1_layers_hyperparams.train_size:autoencoder_w_derivatives_1_layers_hyperparams.train_size + 230, :]\n",
        "\n",
        "# Scale data\n",
        "scale = False\n",
        "if scale:\n",
        "    x_scaler = StandardScaler()\n",
        "    x_train = x_scaler.fit_transform(x_train)\n",
        "    x_test = x_scaler.transform(x_test)\n",
        "\n",
        "    dx_scaler = StandardScaler()\n",
        "    dx_train = dx_scaler.fit_transform(dx_train)\n",
        "    dx_test = dx_scaler.transform(dx_test)\n",
        "\n",
        "    ddx_scaler = StandardScaler()\n",
        "    ddx_train = ddx_scaler.fit_transform(ddx_train)\n",
        "    ddx_test = ddx_scaler.transform(ddx_test)\n",
        "\n",
        "# Convert arrays to tensors\n",
        "x_train = torch.tensor(x_train, dtype=torch.float32).to(device)\n",
        "dx_train = torch.tensor(dx_train, dtype=torch.float32).to(device)\n",
        "ddx_train = torch.tensor(ddx_train, dtype=torch.float32).to(device)\n",
        "\n",
        "x_test = torch.tensor(x_test, dtype=torch.float32).to(device)\n",
        "dx_test = torch.tensor(dx_test, dtype=torch.float32).to(device)\n",
        "ddx_test = torch.tensor(ddx_test, dtype=torch.float32).to(device)\n",
        "\n",
        "# Create dataloaders\n",
        "train_data_loader = DataLoader(\n",
        "    TensorDataset(x_train, dx_train, ddx_train),\n",
        "    batch_size=autoencoder_w_derivatives_1_layers_hyperparams.batch_size,\n",
        "    shuffle=True,\n",
        ")\n",
        "\n",
        "test_data_loader = DataLoader(\n",
        "    TensorDataset(x_test, dx_test, ddx_test),\n",
        "    batch_size=autoencoder_w_derivatives_1_layers_hyperparams.batch_size,\n",
        "    shuffle=True,\n",
        ")"
      ]
    },
    {
      "cell_type": "code",
      "execution_count": null,
      "metadata": {
        "colab": {
          "base_uri": "https://localhost:8080/",
          "height": 469
        },
        "id": "kjksazrGayaK",
        "outputId": "fa9f6adc-ecca-41e7-8bd5-de8c1bac814d"
      },
      "outputs": [
        {
          "data": {
            "text/markdown": [
              "Training `AutoencoderWithDerivatives` with `hidden_size`=32"
            ],
            "text/plain": [
              "<IPython.core.display.Markdown object>"
            ]
          },
          "metadata": {},
          "output_type": "display_data"
        },
        {
          "name": "stdout",
          "output_type": "stream",
          "text": [
            "Epoch 100/1000, Training Loss: 0.5791, Val Loss: 0.6763\n",
            "Epoch 200/1000, Training Loss: 0.4447, Val Loss: 0.5254\n",
            "Epoch 300/1000, Training Loss: 0.3643, Val Loss: 0.4334\n",
            "Epoch 400/1000, Training Loss: 0.3240, Val Loss: 0.3868\n",
            "Epoch 500/1000, Training Loss: 0.3026, Val Loss: 0.3614\n",
            "Epoch 600/1000, Training Loss: 0.2906, Val Loss: 0.3469\n",
            "Epoch 700/1000, Training Loss: 0.2837, Val Loss: 0.3383\n",
            "Epoch 800/1000, Training Loss: 0.2793, Val Loss: 0.3328\n",
            "Epoch 900/1000, Training Loss: 0.2764, Val Loss: 0.3292\n",
            "Epoch 1000/1000, Training Loss: 0.2745, Val Loss: 0.3268\n"
          ]
        }
      ],
      "source": [
        "display(md(f\"Training `AutoencoderWithDerivatives` with `hidden_size`={autoencoder_w_derivatives_1_layers_hyperparams.hidden_size}\"))\n",
        "\n",
        "autoencoder_w_derivatives_1_layers_model = AutoencoderWithDerivatives(\n",
        "    input_size=autoencoder_w_derivatives_1_layers_hyperparams.input_size,\n",
        "    hidden_size=autoencoder_w_derivatives_1_layers_hyperparams.hidden_size,\n",
        "    latent_size=autoencoder_w_derivatives_1_layers_hyperparams.latent_size,\n",
        "    n_layers=autoencoder_w_derivatives_1_layers_hyperparams.n_layers,\n",
        "    bias=autoencoder_w_derivatives_1_layers_hyperparams.bias,\n",
        ")\n",
        "\n",
        "train_autoencoder_with_derivatives(\n",
        "    autoencoder_w_derivatives_1_layers_model,\n",
        "    train_data_loader,\n",
        "    test_data_loader,\n",
        "    num_epochs=autoencoder_w_derivatives_1_layers_hyperparams.n_epochs,\n",
        "    learning_rate=autoencoder_w_derivatives_1_layers_hyperparams.lr,\n",
        "    print_interval=autoencoder_w_derivatives_1_layers_hyperparams.print_interval,\n",
        ")"
      ]
    },
    {
      "cell_type": "markdown",
      "metadata": {
        "id": "P8vY578r-wGb"
      },
      "source": [
        "We now verify our implementation by comparing the time-propagated derivatives with the discrete first and second derivatives of the encder's output. We do this in the context of a single-layer and a multilayer architecture."
      ]
    },
    {
      "cell_type": "markdown",
      "metadata": {
        "id": "cWz16FcnA-VJ"
      },
      "source": [
        "#### Single-layer architecture"
      ]
    },
    {
      "cell_type": "code",
      "execution_count": null,
      "metadata": {
        "id": "RoeVGGO9-wGc"
      },
      "outputs": [],
      "source": [
        "if scale:\n",
        "    x_verify = torch.tensor(\n",
        "        x_scaler.transform(cartesian_coordinates[0][:, -3:].T),\n",
        "        dtype=torch.float32\n",
        "    )\n",
        "    dx_verify = torch.tensor(\n",
        "        dx_scaler.transform(cartesian_coordinates[1][:, -3:].T),\n",
        "        dtype=torch.float32\n",
        "    )\n",
        "    ddx_verify = torch.tensor(\n",
        "        ddx_scaler.transform(cartesian_coordinates[2][:, -3:].T),\n",
        "        dtype=torch.float32\n",
        "    )\n",
        "else:\n",
        "    x_verify = torch.tensor(cartesian_coordinates[0][:, -3:].T, dtype=torch.float32)\n",
        "    dx_verify = torch.tensor(cartesian_coordinates[1][:, -3:].T, dtype=torch.float32)\n",
        "    ddx_verify = torch.tensor(cartesian_coordinates[2][:, -3:].T, dtype=torch.float32)"
      ]
    },
    {
      "cell_type": "code",
      "execution_count": null,
      "metadata": {
        "colab": {
          "base_uri": "https://localhost:8080/"
        },
        "id": "lm5l_F4M9mjk",
        "outputId": "d7987c1e-a75c-476c-9a6a-2a29d2cf23b4"
      },
      "outputs": [
        {
          "name": "stdout",
          "output_type": "stream",
          "text": [
            "Absolute delta between time-propagated and discrete derivatives for\n",
            "multilayer architecture: 5.9098005294799805e-05 (1st)\n",
            "and 0.8852031230926514 (2nd)\n"
          ]
        }
      ],
      "source": [
        "# Compute output and time-propagated derivatives\n",
        "z, propagated_dz, propagated_ddz = autoencoder_w_derivatives_1_layers_model.encoder(x_verify, dx_verify, ddx_verify)\n",
        "\n",
        "# Compute discrete derivatives\n",
        "discrete_dz_t = (z[2] - z[0]) / (2 * dt) #  Consecutive observations\n",
        "discrete_ddz_t = (z[2] - 2 * z[1] + z[0]) / (dt * dt)\n",
        "\n",
        "propagated_dz_t, propagated_ddz_t = propagated_dz[1], propagated_ddz[1]\n",
        "\n",
        "print(f\"\"\"Absolute delta between time-propagated and discrete derivatives for\n",
        "multilayer architecture: {torch.abs(discrete_dz_t - propagated_dz_t).item()} (1st)\n",
        "and {torch.abs(discrete_ddz_t - propagated_ddz_t).item()} (2nd)\"\"\")"
      ]
    },
    {
      "cell_type": "markdown",
      "metadata": {
        "id": "YRjTr3N1v_d8"
      },
      "source": [
        "#### Multilayer architecture"
      ]
    },
    {
      "cell_type": "code",
      "execution_count": null,
      "metadata": {
        "colab": {
          "base_uri": "https://localhost:8080/"
        },
        "id": "UeqzNY9jpDDO",
        "outputId": "39b73a50-d077-4597-f3ac-0ed1d1e2bfa4"
      },
      "outputs": [
        {
          "name": "stdout",
          "output_type": "stream",
          "text": [
            "Epoch 100/1000, Training Loss: 0.2950, Val Loss: 0.3492\n",
            "Epoch 200/1000, Training Loss: 0.2690, Val Loss: 0.3199\n",
            "Epoch 300/1000, Training Loss: 0.2687, Val Loss: 0.3195\n",
            "Epoch 400/1000, Training Loss: 0.2686, Val Loss: 0.3193\n",
            "Epoch 500/1000, Training Loss: 0.2685, Val Loss: 0.3192\n",
            "Epoch 600/1000, Training Loss: 0.2685, Val Loss: 0.3192\n",
            "Epoch 700/1000, Training Loss: 0.2685, Val Loss: 0.3192\n",
            "Epoch 800/1000, Training Loss: 0.2685, Val Loss: 0.3191\n",
            "Epoch 900/1000, Training Loss: 0.2685, Val Loss: 0.3191\n",
            "Epoch 1000/1000, Training Loss: 0.2685, Val Loss: 0.3191\n"
          ]
        }
      ],
      "source": [
        "# Set architeture & training (hyper)params\n",
        "autoencoder_w_derivatives_n_layers_hyperparams = Hyperparams(\n",
        "    train_size=3000,\n",
        "    batch_size=250,\n",
        "    input_size=2,  # We are working with cartesian coordinates (2D data)\n",
        "    latent_size=1,\n",
        "    hidden_size=32,\n",
        "    n_layers=4,\n",
        "    bias=True,\n",
        "    n_epochs=1000,\n",
        "    lr=1e-3,\n",
        "    print_interval=100,\n",
        ")\n",
        "\n",
        "autoencoder_w_derivatives_n_layers_model = AutoencoderWithDerivatives(\n",
        "    input_size=autoencoder_w_derivatives_n_layers_hyperparams.input_size,\n",
        "    hidden_size=autoencoder_w_derivatives_n_layers_hyperparams.hidden_size,\n",
        "    latent_size=autoencoder_w_derivatives_n_layers_hyperparams.latent_size,\n",
        "    n_layers=autoencoder_w_derivatives_n_layers_hyperparams.n_layers,\n",
        "    bias=autoencoder_w_derivatives_n_layers_hyperparams.bias,\n",
        ")\n",
        "\n",
        "train_autoencoder_with_derivatives(\n",
        "    autoencoder_w_derivatives_n_layers_model,\n",
        "    train_data_loader,\n",
        "    test_data_loader,\n",
        "    num_epochs=autoencoder_w_derivatives_n_layers_hyperparams.n_epochs,\n",
        "    learning_rate=autoencoder_w_derivatives_n_layers_hyperparams.lr,\n",
        "    print_interval=autoencoder_w_derivatives_n_layers_hyperparams.print_interval,\n",
        ")"
      ]
    },
    {
      "cell_type": "code",
      "execution_count": null,
      "metadata": {
        "colab": {
          "base_uri": "https://localhost:8080/"
        },
        "id": "CpIbpfiy19jf",
        "outputId": "ad367e8f-e047-4671-e92c-81550a49cf5c"
      },
      "outputs": [
        {
          "name": "stdout",
          "output_type": "stream",
          "text": [
            "Absolute delta between time-propagated and discrete derivatives for\n",
            "multilayer architecture: 1.4701858162879944e-05 (1st)\n",
            "and 0.08753948658704758 (2nd)\n"
          ]
        }
      ],
      "source": [
        "# Compute output and time-propagated derivatives\n",
        "z, propagated_dz, propagated_ddz = autoencoder_w_derivatives_n_layers_model.encoder(x_verify, dx_verify, ddx_verify)\n",
        "\n",
        "# Compute discrete derivatives\n",
        "discrete_dz_t = (z[2] - z[0]) / (2 * dt) #  Consecutive observations\n",
        "discrete_ddz_t = (z[2] - 2 * z[1] + z[0]) / (dt * dt)\n",
        "\n",
        "propagated_dz_t, propagated_ddz_t = propagated_dz[1], propagated_ddz[1]\n",
        "\n",
        "print(f\"\"\"Absolute delta between time-propagated and discrete derivatives for\n",
        "multilayer architecture: {torch.abs(discrete_dz_t - propagated_dz_t).item()} (1st)\n",
        "and {torch.abs(discrete_ddz_t - propagated_ddz_t).item()} (2nd)\"\"\")"
      ]
    },
    {
      "cell_type": "markdown",
      "metadata": {
        "id": "ruLqZ4q--wGc"
      },
      "source": [
        "**<ins>Results (Single- and multi-layer):</ins>** Looking at the infinitesimal $\\Delta$s between the time-propagated and the discrete derivatives for both multi- and single-layer architectures, the algorithm for propagating the time derivatives seems to be correctly implemented. We note that, for the 2nd derivative, the $\\Delta$s of this run are quite high. However, other trainings run resulted in far lower $\\Delta$s, e.g., $0.002...$. Consequently, we assume the implementation to be correct."
      ]
    },
    {
      "cell_type": "markdown",
      "source": [
        "<div style=\"color: green; font-weight: bold\">Comment:</div> You could have visualised your results the way it is done in the sample solution to compare the derivatives obtained from the model with the discrete derivatives. You would have observed that as you increase the number of layers, the second derivatives obtained from the model would become more noisy."
      ],
      "metadata": {
        "id": "8gOWLAX1P7ra"
      }
    },
    {
      "cell_type": "markdown",
      "metadata": {
        "id": "Kg_x4UHu-wGc"
      },
      "source": [
        "### 2.4 Implementation"
      ]
    },
    {
      "cell_type": "markdown",
      "metadata": {
        "id": "6_Lg3j6nc89w"
      },
      "source": [
        "**Task description:** Implement the `SINDyAutoencoder` class storing an internal instance of the `SINDy` class from task 1 and an encoder/decoder pair constructed of the `LinearDerivatives` and `SigmoidDerivatives` layers. Use the Xavier uniform initialization and disable the biases. In the `forward(self, x, dx, ddx)` function, compute and return $x$, $\\hat{z}$, $\\ddot{z}$, $\\hat{\\ddot{x}}$, where $\\hat{\\ddot{z}} = \\Theta(z, \\dot{z}) \\cdot \\Xi$ is the RHS in $z$-space. $\\hat{\\ddot{x}}$ is the RHS $\\hat{\\ddot{z}}$ decoded back into $x$-space (that is, you decode $\\hat{x}$ from $z$ and apply the decoder's derivative propagation algorithm to get $\\hat{\\ddot{x}}$ from $\\hat{\\ddot{z}}$).\n",
        "\n",
        "Verify the correctness of the derivative propagation for multi-layer encoders and decoders again by comparing with discrete derivatives.\n",
        "\n",
        "Implement a `train_sindy_autoencoder` function in which you use the output of the forward function to compute and combine the MSE loss components for the new training objective:\n",
        "\n",
        "$$\n",
        "\\hat{\\phi}, \\hat{\\psi}, \\hat{\\Xi} = \\underset{\\phi, \\psi, \\Xi}{\\mathrm{argmin}} \\left( \\frac{1}{T \\cdot N} \\sum_{i=1}^{T \\cdot N} \\left( \\| x_i - \\hat{x}_i \\|^2_2 + \\lambda_{\\ddot{z}} \\| \\ddot{z}_i - \\hat{\\ddot{z}}_i \\|^2_2 + \\lambda_{\\ddot{x}} \\| \\ddot{x}_i - \\hat{\\ddot{x}}_i \\|^2_2 \\right) + \\lambda_1 \\| \\Xi \\|_1 \\right)\n",
        "$$\n",
        "\n",
        "The `SINDy` class now acts on the autoencoder's latent space, and the training of the coefficient vector $\\Xi$ and mask $\\Upsilon$ must be adapted accordingly.\n"
      ]
    },
    {
      "cell_type": "code",
      "execution_count": null,
      "metadata": {
        "id": "gy--IiZ0ACSL"
      },
      "outputs": [],
      "source": [
        "class SINDyAutoencoder(nn.Module):\n",
        "    def __init__(self, input_size, hidden_size, n_layers, latent_size, bias, sindy_args: dict):\n",
        "        super(SINDyAutoencoder, self).__init__()\n",
        "        self.sindy = SINDy(**sindy_args)\n",
        "        self.autoencoder = AutoencoderWithDerivatives(input_size, n_layers, hidden_size, latent_size, bias)\n",
        "\n",
        "    def forward(self, x, dx, ddx):\n",
        "        z, dz, ddz = self.autoencoder.encoder(x, dx, ddx)\n",
        "\n",
        "        ddz_hat = self.sindy(z, dz)\n",
        "\n",
        "        x_hat, dx_hat, ddx_hat = self.autoencoder.decoder(z, dz, ddz_hat)\n",
        "\n",
        "        return x_hat, ddz, ddz_hat, ddx_hat"
      ]
    },
    {
      "cell_type": "code",
      "execution_count": null,
      "metadata": {
        "id": "I6PhuDBB-wGe"
      },
      "outputs": [],
      "source": [
        "def train_sindy_autoencoder(\n",
        "    model: SINDyAutoencoder,\n",
        "    train_loader: DataLoader,\n",
        "    num_epochs,\n",
        "    learning_rate,\n",
        "    lambda_z_ddot,\n",
        "    lambda_x_ddot,\n",
        "    lambda_l1,\n",
        "    dt,\n",
        "    print_interval,\n",
        "    refinement_epoch=1e6,\n",
        "    train_hyperparams=None,\n",
        "):\n",
        "    model.to(device)\n",
        "\n",
        "    optimizer = optim.Adam(model.parameters(), lr=learning_rate)\n",
        "    criterion = nn.MSELoss()\n",
        "\n",
        "    # Initialize arrays for holding epochs\n",
        "    if train_hyperparams.thresholding == 'patient':\n",
        "        E_a = torch.ones(size=model.sindy.linear.weight.shape, dtype=torch.int)\n",
        "        E_b = torch.ones(size=model.sindy.linear.weight.shape, dtype=torch.int)\n",
        "\n",
        "    writer = SummaryWriter()  # Tensorboard writer\n",
        "\n",
        "    for epoch in tqdm(range(num_epochs)):\n",
        "        model.train()\n",
        "        total_loss = 0\n",
        "        for x, dx, ddx in train_loader:\n",
        "\n",
        "            # Send data too device. TODO: Later move them all\n",
        "            x = x.to(device)\n",
        "            dx = dx.to(device)\n",
        "            ddx = ddx.to(device)\n",
        "\n",
        "            optimizer.zero_grad()\n",
        "\n",
        "            # Forward pass\n",
        "            x_hat, ddz, ddz_hat, ddx_hat = model(x, dx, ddx)\n",
        "\n",
        "            ### Compute individual loss components ###\n",
        "            ## Reconstruction loss\n",
        "            loss_reconstruction = criterion(x, x_hat)\n",
        "            ## Second derivative of code\n",
        "            loss_ddz = criterion(ddz, ddz_hat)\n",
        "            ## Second derivative of reconstruction\n",
        "            loss_ddx = criterion(ddx, ddx_hat)\n",
        "            ## L1 loss of coefficients\n",
        "            loss_l1 = torch.norm(model.sindy.linear.weight, p=1)\n",
        "\n",
        "            # Turn off L1 regularization during refinement phase\n",
        "            current_lambda_l1 = lambda_l1 if epoch < refinement_epoch else 0\n",
        "\n",
        "            # Total loss\n",
        "            loss = loss_reconstruction + lambda_z_ddot * loss_ddz + lambda_x_ddot * loss_ddx + current_lambda_l1 * loss_l1\n",
        "\n",
        "            # Backward pass and optimization\n",
        "            loss.backward()\n",
        "            optimizer.step()\n",
        "\n",
        "            total_loss += loss.item()\n",
        "\n",
        "        avg_loss = total_loss / len(train_loader)\n",
        "\n",
        "        # Perform sequential thresholding before refinement phase\n",
        "        if train_hyperparams.thresholding == 'sequential' and epoch < refinement_epoch:\n",
        "            if epoch % train_hyperparams.interval_s == 0:\n",
        "                # Get current weights\n",
        "                W = model.sindy.linear.weight.detach().clone()\n",
        "\n",
        "                # Change weight mask\n",
        "                model.sindy.weight_mask = (W.abs() > train_hyperparams.s_a).type(torch.float32)\n",
        "\n",
        "                # Change weights\n",
        "                model.sindy.linear.weight = torch.nn.Parameter(W * model.sindy.weight_mask)\n",
        "\n",
        "                # Register hook to keep frozen weights from being updated\n",
        "                model.sindy.linear.weight.register_hook(lambda grad: grad.mul_(model.sindy.weight_mask))\n",
        "\n",
        "                # Reregister parameters with the optimizer\n",
        "                optimizer = optim.Adam(model.parameters(), lr=train_hyperparams.lr)\n",
        "        # Perform PTAT thresholding before refinement phase\n",
        "        if train_hyperparams.thresholding == 'patient' and epoch < refinement_epoch:\n",
        "                 # Get current weights\n",
        "                W = model.sindy.linear.weight.detach().clone()\n",
        "\n",
        "                # Update epoch corresponding to absolute value\n",
        "                E_a[(W.abs() > train_hyperparams.p_a).type(torch.bool)] = epoch\n",
        "\n",
        "                # Update epoch corresponding to absolute consecutive delta\n",
        "                E_b[((W - model.sindy.weights[-1]).abs() > train_hyperparams.p_b).type(torch.bool)] = epoch\n",
        "\n",
        "                if epoch > train_hyperparams.interval_p:\n",
        "                    # Update mask\n",
        "                    model.sindy.weight_mask = torch.logical_and(\n",
        "                        model.sindy.weight_mask,\n",
        "                        torch.logical_or(\n",
        "                            E_a > epoch - train_hyperparams.interval_p,\n",
        "                            E_b > epoch - train_hyperparams.interval_p,\n",
        "                        ),\n",
        "                    ).squeeze()\n",
        "\n",
        "                    # Update/Turn off model weights\n",
        "                    model.sindy.linear.weight = torch.nn.Parameter(W * model.sindy.weight_mask)\n",
        "\n",
        "                    # Register hook to keep frozen/tunrned off weights from being updated\n",
        "                    model.sindy.linear.weight.register_hook(lambda grad: grad.mul_(model.sindy.weight_mask))\n",
        "\n",
        "                    # Reregister parameters with the optimizer\n",
        "                    optimizer = optim.Adam(model.parameters(), lr=train_hyperparams.lr)\n",
        "\n",
        "                # Add current/modified weights to history\n",
        "                model.sindy.weights.append(model.sindy.linear.weight.detach().clone())\n",
        "\n",
        "\n",
        "        # Logging for Tensorboard\n",
        "        writer.add_scalar('Loss/Train', avg_loss, epoch)\n",
        "        writer.add_histogram('Coefficients', model.sindy.linear.weight, epoch)\n",
        "\n",
        "        if (epoch + 1) % print_interval == 0:\n",
        "            print(f'Epoch [{epoch + 1}/{num_epochs}], Loss: {avg_loss:.4f}')\n",
        "\n",
        "    writer.close()\n",
        "    return model"
      ]
    },
    {
      "cell_type": "markdown",
      "metadata": {
        "id": "Z1ceKNwG-wGf"
      },
      "source": [
        "### 2.5 Refinement"
      ]
    },
    {
      "cell_type": "markdown",
      "metadata": {
        "id": "HaMMA1U5AD4-"
      },
      "source": [
        "**Task description:** Refinement means that we should switch off the L1 regularization term (i.e. set $λ_1 = 0$) once we\n",
        "are sure which coefficients should remain active in the final solution. Continuing training without\n",
        "regularization on only the active coefficients ensures that the bias introduced by the L1 term\n",
        "is eliminated from the final solution (provided we picked the correct terms at the beginning of\n",
        "refinement). Add a hyper-parameter to `train_sindy_autoencoder` that controls at which epoch\n",
        "the refinement begins."
      ]
    },
    {
      "cell_type": "markdown",
      "metadata": {
        "id": "U7wjeR5q-4Ie"
      },
      "source": [
        "See `train_sindy_autoencoder`."
      ]
    },
    {
      "cell_type": "markdown",
      "metadata": {
        "id": "EJfjuEuv-wGg"
      },
      "source": [
        "### 2.6 Training"
      ]
    },
    {
      "cell_type": "markdown",
      "metadata": {
        "id": "DD3zPHDMAMkr"
      },
      "source": [
        "**Task description:** Train the `SINDyAutoencoder` on the training set described in **Section 1.2**, but embedded into\n",
        "cartesian coordinates according to **Subtask 2.1**. Train for **5000** epochs, followed by **1000** epochs\n",
        "of refinement, with a threshold of `a = 0.1` and an interval of `S = 500` epochs for the Sequential\n",
        "Thresholding, and a trend-threshold of `b = 0.002` and patience of `P = 1000` epochs for the PTAT.\n",
        "Use the loss weights λz¨ = 5 · 10−5\n",
        ", λx¨ = 5 · 10−4\n",
        ", λL1 = 10−5 as in the original implementation by\n",
        "Champion et al..\n",
        "\n",
        "Training should take a couple of minutes per model on a GPU.\n",
        "Log and visualize the training and validation loss components, and the coefficient history. For\n",
        "debugging, you can use tqdm or tensorboard (which also works for pytorch) to monitor the loss and\n",
        "coefficients during training. You should notice that many coefficients quickly drop to 0 under the\n",
        "influence of the L1 regularization and eventually get turned off by the thresholding algorithms.\n",
        "Start by using Sequential Thresholding (ST) for training. When training succeeds, train 10 models\n",
        "with ST and PTAT, store their learned coefficients and compute the relevant metrics for evaluation."
      ]
    },
    {
      "cell_type": "code",
      "execution_count": null,
      "metadata": {
        "id": "_43hV513A-VR"
      },
      "outputs": [],
      "source": [
        "# SINDy hyperparameters: Function library\n",
        "sindy_hyperparams = Hyperparams(\n",
        "    terms=prior_knowledge_terms_torch,\n",
        ")"
      ]
    },
    {
      "cell_type": "code",
      "execution_count": null,
      "metadata": {
        "id": "SxocKguWA-VS"
      },
      "outputs": [],
      "source": [
        "# SINDyAutoencoder model&training hyperparameter\n",
        "sindy_autoencoder_hyperparams = Hyperparams(\n",
        "    train_size=3000,\n",
        "    batch_size=250,\n",
        "    input_size=2,\n",
        "    latent_size=1,\n",
        "    hidden_size=32,\n",
        "    n_layers=3,  # Multilayer architecture\n",
        "    bias=False,  # Turn off bias\n",
        "    n_epochs=6000,\n",
        "    lr=1e-3,\n",
        "    print_interval=100,\n",
        "    thresholding='sequential',  # ST\n",
        "    interval_s=500,\n",
        "    s_a=0.1,\n",
        "    p_a=0.1,\n",
        "    p_b=0.002,\n",
        "    interval_p=1000,\n",
        ")"
      ]
    },
    {
      "cell_type": "code",
      "execution_count": null,
      "metadata": {
        "id": "R4XK3S9OAjHp"
      },
      "outputs": [],
      "source": [
        "# Hyperparameters\n",
        "refinement_epoch = 5000\n",
        "lambda_z_ddot = 5e-5\n",
        "lambda_x_ddot = 5e-4\n",
        "lambda_l1 = 1e-5"
      ]
    },
    {
      "cell_type": "markdown",
      "metadata": {
        "id": "W7MvE4PHA-VS"
      },
      "source": [
        "#### Sequential thresholding"
      ]
    },
    {
      "cell_type": "code",
      "execution_count": null,
      "metadata": {
        "id": "siAwAlu8A-VT",
        "outputId": "ed827b7d-c0a1-465a-db95-c8c8f4608718"
      },
      "outputs": [
        {
          "data": {
            "text/markdown": [
              "Training `SINDyAutoencoder` with `hidden_size`=32 with sequential thrsholding"
            ],
            "text/plain": [
              "<IPython.core.display.Markdown object>"
            ]
          },
          "metadata": {},
          "output_type": "display_data"
        },
        {
          "name": "stderr",
          "output_type": "stream",
          "text": [
            "  2%|▋                                       | 102/6000 [00:06<06:14, 15.76it/s]"
          ]
        },
        {
          "name": "stdout",
          "output_type": "stream",
          "text": [
            "Epoch [100/6000], Loss: 0.2898\n"
          ]
        },
        {
          "name": "stderr",
          "output_type": "stream",
          "text": [
            "  3%|█▎                                      | 200/6000 [00:13<07:41, 12.57it/s]"
          ]
        },
        {
          "name": "stdout",
          "output_type": "stream",
          "text": [
            "Epoch [200/6000], Loss: 0.2717\n"
          ]
        },
        {
          "name": "stderr",
          "output_type": "stream",
          "text": [
            "  5%|██                                      | 302/6000 [00:26<07:46, 12.21it/s]"
          ]
        },
        {
          "name": "stdout",
          "output_type": "stream",
          "text": [
            "Epoch [300/6000], Loss: 0.2711\n"
          ]
        },
        {
          "name": "stderr",
          "output_type": "stream",
          "text": [
            "  7%|██▋                                     | 402/6000 [00:34<06:29, 14.38it/s]"
          ]
        },
        {
          "name": "stdout",
          "output_type": "stream",
          "text": [
            "Epoch [400/6000], Loss: 0.2707\n"
          ]
        },
        {
          "name": "stderr",
          "output_type": "stream",
          "text": [
            "  8%|███▎                                    | 502/6000 [00:41<06:53, 13.31it/s]"
          ]
        },
        {
          "name": "stdout",
          "output_type": "stream",
          "text": [
            "Epoch [500/6000], Loss: 0.2705\n"
          ]
        },
        {
          "name": "stderr",
          "output_type": "stream",
          "text": [
            " 10%|████                                    | 602/6000 [00:49<07:29, 12.00it/s]"
          ]
        },
        {
          "name": "stdout",
          "output_type": "stream",
          "text": [
            "Epoch [600/6000], Loss: 0.2704\n"
          ]
        },
        {
          "name": "stderr",
          "output_type": "stream",
          "text": [
            " 12%|████▋                                   | 702/6000 [00:55<05:42, 15.45it/s]"
          ]
        },
        {
          "name": "stdout",
          "output_type": "stream",
          "text": [
            "Epoch [700/6000], Loss: 0.2703\n"
          ]
        },
        {
          "name": "stderr",
          "output_type": "stream",
          "text": [
            " 13%|█████▎                                  | 802/6000 [01:03<06:32, 13.23it/s]"
          ]
        },
        {
          "name": "stdout",
          "output_type": "stream",
          "text": [
            "Epoch [800/6000], Loss: 0.2702\n"
          ]
        },
        {
          "name": "stderr",
          "output_type": "stream",
          "text": [
            " 15%|██████                                  | 902/6000 [01:10<06:06, 13.92it/s]"
          ]
        },
        {
          "name": "stdout",
          "output_type": "stream",
          "text": [
            "Epoch [900/6000], Loss: 0.2702\n"
          ]
        },
        {
          "name": "stderr",
          "output_type": "stream",
          "text": [
            " 17%|██████▌                                | 1002/6000 [01:18<05:30, 15.11it/s]"
          ]
        },
        {
          "name": "stdout",
          "output_type": "stream",
          "text": [
            "Epoch [1000/6000], Loss: 0.2701\n"
          ]
        },
        {
          "name": "stderr",
          "output_type": "stream",
          "text": [
            " 18%|███████▏                               | 1102/6000 [01:26<06:27, 12.65it/s]"
          ]
        },
        {
          "name": "stdout",
          "output_type": "stream",
          "text": [
            "Epoch [1100/6000], Loss: 0.2701\n"
          ]
        },
        {
          "name": "stderr",
          "output_type": "stream",
          "text": [
            " 20%|███████▊                               | 1202/6000 [01:33<05:07, 15.63it/s]"
          ]
        },
        {
          "name": "stdout",
          "output_type": "stream",
          "text": [
            "Epoch [1200/6000], Loss: 0.2700\n"
          ]
        },
        {
          "name": "stderr",
          "output_type": "stream",
          "text": [
            " 22%|████████▍                              | 1302/6000 [01:40<05:20, 14.67it/s]"
          ]
        },
        {
          "name": "stdout",
          "output_type": "stream",
          "text": [
            "Epoch [1300/6000], Loss: 0.2699\n"
          ]
        },
        {
          "name": "stderr",
          "output_type": "stream",
          "text": [
            " 23%|█████████                              | 1402/6000 [01:46<05:13, 14.65it/s]"
          ]
        },
        {
          "name": "stdout",
          "output_type": "stream",
          "text": [
            "Epoch [1400/6000], Loss: 0.2695\n"
          ]
        },
        {
          "name": "stderr",
          "output_type": "stream",
          "text": [
            " 25%|█████████▊                             | 1502/6000 [01:53<05:15, 14.27it/s]"
          ]
        },
        {
          "name": "stdout",
          "output_type": "stream",
          "text": [
            "Epoch [1500/6000], Loss: 0.2694\n"
          ]
        },
        {
          "name": "stderr",
          "output_type": "stream",
          "text": [
            " 27%|██████████▍                            | 1602/6000 [02:00<04:43, 15.53it/s]"
          ]
        },
        {
          "name": "stdout",
          "output_type": "stream",
          "text": [
            "Epoch [1600/6000], Loss: 0.2693\n"
          ]
        },
        {
          "name": "stderr",
          "output_type": "stream",
          "text": [
            " 28%|███████████                            | 1702/6000 [02:06<04:31, 15.85it/s]"
          ]
        },
        {
          "name": "stdout",
          "output_type": "stream",
          "text": [
            "Epoch [1700/6000], Loss: 0.2693\n"
          ]
        },
        {
          "name": "stderr",
          "output_type": "stream",
          "text": [
            " 30%|███████████▋                           | 1802/6000 [02:13<04:21, 16.04it/s]"
          ]
        },
        {
          "name": "stdout",
          "output_type": "stream",
          "text": [
            "Epoch [1800/6000], Loss: 0.2693\n"
          ]
        },
        {
          "name": "stderr",
          "output_type": "stream",
          "text": [
            " 32%|████████████▎                          | 1901/6000 [02:22<07:14,  9.44it/s]"
          ]
        },
        {
          "name": "stdout",
          "output_type": "stream",
          "text": [
            "Epoch [1900/6000], Loss: 0.2693\n"
          ]
        },
        {
          "name": "stderr",
          "output_type": "stream",
          "text": [
            " 33%|█████████████                          | 2000/6000 [02:31<06:20, 10.50it/s]"
          ]
        },
        {
          "name": "stdout",
          "output_type": "stream",
          "text": [
            "Epoch [2000/6000], Loss: 0.2692\n"
          ]
        },
        {
          "name": "stderr",
          "output_type": "stream",
          "text": [
            " 35%|█████████████▋                         | 2102/6000 [02:42<07:27,  8.70it/s]"
          ]
        },
        {
          "name": "stdout",
          "output_type": "stream",
          "text": [
            "Epoch [2100/6000], Loss: 0.2692\n"
          ]
        },
        {
          "name": "stderr",
          "output_type": "stream",
          "text": [
            " 37%|██████████████▎                        | 2201/6000 [02:51<05:37, 11.26it/s]"
          ]
        },
        {
          "name": "stdout",
          "output_type": "stream",
          "text": [
            "Epoch [2200/6000], Loss: 0.2692\n"
          ]
        },
        {
          "name": "stderr",
          "output_type": "stream",
          "text": [
            " 38%|██████████████▉                        | 2303/6000 [02:58<03:59, 15.44it/s]"
          ]
        },
        {
          "name": "stdout",
          "output_type": "stream",
          "text": [
            "Epoch [2300/6000], Loss: 0.2692\n"
          ]
        },
        {
          "name": "stderr",
          "output_type": "stream",
          "text": [
            " 40%|███████████████▌                       | 2403/6000 [03:05<04:08, 14.47it/s]"
          ]
        },
        {
          "name": "stdout",
          "output_type": "stream",
          "text": [
            "Epoch [2400/6000], Loss: 0.2692\n"
          ]
        },
        {
          "name": "stderr",
          "output_type": "stream",
          "text": [
            " 42%|████████████████▎                      | 2501/6000 [03:12<07:12,  8.08it/s]"
          ]
        },
        {
          "name": "stdout",
          "output_type": "stream",
          "text": [
            "Epoch [2500/6000], Loss: 0.2692\n"
          ]
        },
        {
          "name": "stderr",
          "output_type": "stream",
          "text": [
            " 43%|████████████████▉                      | 2601/6000 [03:20<05:06, 11.09it/s]"
          ]
        },
        {
          "name": "stdout",
          "output_type": "stream",
          "text": [
            "Epoch [2600/6000], Loss: 0.2691\n"
          ]
        },
        {
          "name": "stderr",
          "output_type": "stream",
          "text": [
            " 45%|█████████████████▌                     | 2702/6000 [03:29<04:10, 13.18it/s]"
          ]
        },
        {
          "name": "stdout",
          "output_type": "stream",
          "text": [
            "Epoch [2700/6000], Loss: 0.2691\n"
          ]
        },
        {
          "name": "stderr",
          "output_type": "stream",
          "text": [
            " 47%|██████████████████▏                    | 2802/6000 [03:37<03:46, 14.14it/s]"
          ]
        },
        {
          "name": "stdout",
          "output_type": "stream",
          "text": [
            "Epoch [2800/6000], Loss: 0.2691\n"
          ]
        },
        {
          "name": "stderr",
          "output_type": "stream",
          "text": [
            " 48%|██████████████████▊                    | 2902/6000 [03:44<03:22, 15.29it/s]"
          ]
        },
        {
          "name": "stdout",
          "output_type": "stream",
          "text": [
            "Epoch [2900/6000], Loss: 0.2691\n"
          ]
        },
        {
          "name": "stderr",
          "output_type": "stream",
          "text": [
            " 50%|███████████████████▌                   | 3002/6000 [03:50<04:08, 12.08it/s]"
          ]
        },
        {
          "name": "stdout",
          "output_type": "stream",
          "text": [
            "Epoch [3000/6000], Loss: 0.2691\n"
          ]
        },
        {
          "name": "stderr",
          "output_type": "stream",
          "text": [
            " 52%|████████████████████▏                  | 3102/6000 [03:57<03:13, 14.96it/s]"
          ]
        },
        {
          "name": "stdout",
          "output_type": "stream",
          "text": [
            "Epoch [3100/6000], Loss: 0.2691\n"
          ]
        },
        {
          "name": "stderr",
          "output_type": "stream",
          "text": [
            " 53%|████████████████████▊                  | 3202/6000 [04:04<02:55, 15.96it/s]"
          ]
        },
        {
          "name": "stdout",
          "output_type": "stream",
          "text": [
            "Epoch [3200/6000], Loss: 0.2691\n"
          ]
        },
        {
          "name": "stderr",
          "output_type": "stream",
          "text": [
            " 55%|█████████████████████▍                 | 3301/6000 [04:13<04:51,  9.26it/s]"
          ]
        },
        {
          "name": "stdout",
          "output_type": "stream",
          "text": [
            "Epoch [3300/6000], Loss: 0.2691\n"
          ]
        },
        {
          "name": "stderr",
          "output_type": "stream",
          "text": [
            " 57%|██████████████████████                 | 3401/6000 [04:20<03:10, 13.66it/s]"
          ]
        },
        {
          "name": "stdout",
          "output_type": "stream",
          "text": [
            "Epoch [3400/6000], Loss: 0.2691\n"
          ]
        },
        {
          "name": "stderr",
          "output_type": "stream",
          "text": [
            " 58%|██████████████████████▊                | 3503/6000 [04:27<02:43, 15.25it/s]"
          ]
        },
        {
          "name": "stdout",
          "output_type": "stream",
          "text": [
            "Epoch [3500/6000], Loss: 0.2691\n"
          ]
        },
        {
          "name": "stderr",
          "output_type": "stream",
          "text": [
            " 60%|███████████████████████▍               | 3601/6000 [04:33<02:35, 15.39it/s]"
          ]
        },
        {
          "name": "stdout",
          "output_type": "stream",
          "text": [
            "Epoch [3600/6000], Loss: 0.2691\n"
          ]
        },
        {
          "name": "stderr",
          "output_type": "stream",
          "text": [
            " 62%|████████████████████████               | 3703/6000 [04:40<02:28, 15.52it/s]"
          ]
        },
        {
          "name": "stdout",
          "output_type": "stream",
          "text": [
            "Epoch [3700/6000], Loss: 0.2691\n"
          ]
        },
        {
          "name": "stderr",
          "output_type": "stream",
          "text": [
            " 63%|████████████████████████▋              | 3803/6000 [04:46<02:31, 14.51it/s]"
          ]
        },
        {
          "name": "stdout",
          "output_type": "stream",
          "text": [
            "Epoch [3800/6000], Loss: 0.2691\n"
          ]
        },
        {
          "name": "stderr",
          "output_type": "stream",
          "text": [
            " 65%|█████████████████████████▎             | 3903/6000 [04:53<02:15, 15.46it/s]"
          ]
        },
        {
          "name": "stdout",
          "output_type": "stream",
          "text": [
            "Epoch [3900/6000], Loss: 0.2691\n"
          ]
        },
        {
          "name": "stderr",
          "output_type": "stream",
          "text": [
            " 67%|██████████████████████████             | 4003/6000 [05:00<02:17, 14.50it/s]"
          ]
        },
        {
          "name": "stdout",
          "output_type": "stream",
          "text": [
            "Epoch [4000/6000], Loss: 0.2691\n"
          ]
        },
        {
          "name": "stderr",
          "output_type": "stream",
          "text": [
            " 68%|██████████████████████████▋            | 4103/6000 [05:07<02:07, 14.89it/s]"
          ]
        },
        {
          "name": "stdout",
          "output_type": "stream",
          "text": [
            "Epoch [4100/6000], Loss: 0.2691\n"
          ]
        },
        {
          "name": "stderr",
          "output_type": "stream",
          "text": [
            " 70%|███████████████████████████▎           | 4199/6000 [05:14<03:18,  9.09it/s]"
          ]
        },
        {
          "name": "stdout",
          "output_type": "stream",
          "text": [
            "Epoch [4200/6000], Loss: 0.2691\n"
          ]
        },
        {
          "name": "stderr",
          "output_type": "stream",
          "text": [
            " 72%|███████████████████████████▉           | 4301/6000 [05:24<02:45, 10.24it/s]"
          ]
        },
        {
          "name": "stdout",
          "output_type": "stream",
          "text": [
            "Epoch [4300/6000], Loss: 0.2691\n"
          ]
        },
        {
          "name": "stderr",
          "output_type": "stream",
          "text": [
            " 73%|████████████████████████████▌          | 4403/6000 [05:34<01:37, 16.38it/s]"
          ]
        },
        {
          "name": "stdout",
          "output_type": "stream",
          "text": [
            "Epoch [4400/6000], Loss: 0.2691\n"
          ]
        },
        {
          "name": "stderr",
          "output_type": "stream",
          "text": [
            " 75%|█████████████████████████████▎         | 4503/6000 [05:41<01:38, 15.23it/s]"
          ]
        },
        {
          "name": "stdout",
          "output_type": "stream",
          "text": [
            "Epoch [4500/6000], Loss: 0.2691\n"
          ]
        },
        {
          "name": "stderr",
          "output_type": "stream",
          "text": [
            " 77%|█████████████████████████████▉         | 4601/6000 [05:47<01:30, 15.53it/s]"
          ]
        },
        {
          "name": "stdout",
          "output_type": "stream",
          "text": [
            "Epoch [4600/6000], Loss: 0.2691\n"
          ]
        },
        {
          "name": "stderr",
          "output_type": "stream",
          "text": [
            " 78%|██████████████████████████████▌        | 4701/6000 [05:55<02:10,  9.98it/s]"
          ]
        },
        {
          "name": "stdout",
          "output_type": "stream",
          "text": [
            "Epoch [4700/6000], Loss: 0.2691\n"
          ]
        },
        {
          "name": "stderr",
          "output_type": "stream",
          "text": [
            " 80%|███████████████████████████████▏       | 4801/6000 [06:05<01:42, 11.68it/s]"
          ]
        },
        {
          "name": "stdout",
          "output_type": "stream",
          "text": [
            "Epoch [4800/6000], Loss: 0.2691\n"
          ]
        },
        {
          "name": "stderr",
          "output_type": "stream",
          "text": [
            " 82%|███████████████████████████████▊       | 4901/6000 [06:12<01:14, 14.70it/s]"
          ]
        },
        {
          "name": "stdout",
          "output_type": "stream",
          "text": [
            "Epoch [4900/6000], Loss: 0.2691\n"
          ]
        },
        {
          "name": "stderr",
          "output_type": "stream",
          "text": [
            " 83%|████████████████████████████████▌      | 5002/6000 [06:21<01:50,  9.07it/s]"
          ]
        },
        {
          "name": "stdout",
          "output_type": "stream",
          "text": [
            "Epoch [5000/6000], Loss: 0.2691\n"
          ]
        },
        {
          "name": "stderr",
          "output_type": "stream",
          "text": [
            " 85%|█████████████████████████████████▏     | 5101/6000 [06:31<01:06, 13.57it/s]"
          ]
        },
        {
          "name": "stdout",
          "output_type": "stream",
          "text": [
            "Epoch [5100/6000], Loss: 0.2690\n"
          ]
        },
        {
          "name": "stderr",
          "output_type": "stream",
          "text": [
            " 87%|█████████████████████████████████▊     | 5202/6000 [06:41<01:00, 13.21it/s]"
          ]
        },
        {
          "name": "stdout",
          "output_type": "stream",
          "text": [
            "Epoch [5200/6000], Loss: 0.2690\n"
          ]
        },
        {
          "name": "stderr",
          "output_type": "stream",
          "text": [
            " 88%|██████████████████████████████████▍    | 5300/6000 [06:48<00:54, 12.74it/s]"
          ]
        },
        {
          "name": "stdout",
          "output_type": "stream",
          "text": [
            "Epoch [5300/6000], Loss: 0.2690\n"
          ]
        },
        {
          "name": "stderr",
          "output_type": "stream",
          "text": [
            " 90%|███████████████████████████████████    | 5402/6000 [06:56<00:45, 13.02it/s]"
          ]
        },
        {
          "name": "stdout",
          "output_type": "stream",
          "text": [
            "Epoch [5400/6000], Loss: 0.2690\n"
          ]
        },
        {
          "name": "stderr",
          "output_type": "stream",
          "text": [
            " 92%|███████████████████████████████████▊   | 5502/6000 [07:03<00:33, 14.79it/s]"
          ]
        },
        {
          "name": "stdout",
          "output_type": "stream",
          "text": [
            "Epoch [5500/6000], Loss: 0.2690\n"
          ]
        },
        {
          "name": "stderr",
          "output_type": "stream",
          "text": [
            " 93%|████████████████████████████████████▍  | 5601/6000 [07:12<00:37, 10.68it/s]"
          ]
        },
        {
          "name": "stdout",
          "output_type": "stream",
          "text": [
            "Epoch [5600/6000], Loss: 0.2690\n"
          ]
        },
        {
          "name": "stderr",
          "output_type": "stream",
          "text": [
            " 95%|█████████████████████████████████████  | 5702/6000 [07:20<00:22, 13.52it/s]"
          ]
        },
        {
          "name": "stdout",
          "output_type": "stream",
          "text": [
            "Epoch [5700/6000], Loss: 0.2689\n"
          ]
        },
        {
          "name": "stderr",
          "output_type": "stream",
          "text": [
            " 97%|█████████████████████████████████████▋ | 5801/6000 [07:28<00:14, 13.34it/s]"
          ]
        },
        {
          "name": "stdout",
          "output_type": "stream",
          "text": [
            "Epoch [5800/6000], Loss: 0.2689\n"
          ]
        },
        {
          "name": "stderr",
          "output_type": "stream",
          "text": [
            " 98%|██████████████████████████████████████▎| 5903/6000 [07:35<00:06, 14.59it/s]"
          ]
        },
        {
          "name": "stdout",
          "output_type": "stream",
          "text": [
            "Epoch [5900/6000], Loss: 0.2689\n"
          ]
        },
        {
          "name": "stderr",
          "output_type": "stream",
          "text": [
            "100%|███████████████████████████████████████| 6000/6000 [07:42<00:00, 12.98it/s]"
          ]
        },
        {
          "name": "stdout",
          "output_type": "stream",
          "text": [
            "Epoch [6000/6000], Loss: 0.2689\n"
          ]
        },
        {
          "name": "stderr",
          "output_type": "stream",
          "text": [
            "\n"
          ]
        },
        {
          "data": {
            "text/plain": [
              "SINDyAutoencoder(\n",
              "  (sindy): SINDy(\n",
              "    (linear): Linear(in_features=10, out_features=1, bias=False)\n",
              "  )\n",
              "  (autoencoder): AutoencoderWithDerivatives(\n",
              "    (encoder): MultiInputSequential(\n",
              "      (0): LinearDerivatives(\n",
              "        (linear): Linear(in_features=2, out_features=32, bias=False)\n",
              "      )\n",
              "      (1): SigmoidDerivatives()\n",
              "      (2): LinearDerivatives(\n",
              "        (linear): Linear(in_features=32, out_features=32, bias=False)\n",
              "      )\n",
              "      (3): SigmoidDerivatives()\n",
              "      (4): LinearDerivatives(\n",
              "        (linear): Linear(in_features=32, out_features=1, bias=False)\n",
              "      )\n",
              "      (5): SigmoidDerivatives()\n",
              "    )\n",
              "    (decoder): MultiInputSequential(\n",
              "      (0): LinearDerivatives(\n",
              "        (linear): Linear(in_features=1, out_features=32, bias=False)\n",
              "      )\n",
              "      (1): SigmoidDerivatives()\n",
              "      (2): LinearDerivatives(\n",
              "        (linear): Linear(in_features=32, out_features=32, bias=False)\n",
              "      )\n",
              "      (3): SigmoidDerivatives()\n",
              "      (4): LinearDerivatives(\n",
              "        (linear): Linear(in_features=32, out_features=2, bias=False)\n",
              "      )\n",
              "      (5): SigmoidDerivatives()\n",
              "    )\n",
              "  )\n",
              ")"
            ]
          },
          "execution_count": 52,
          "metadata": {},
          "output_type": "execute_result"
        }
      ],
      "source": [
        "display(md(f\"Training `SINDyAutoencoder` with `hidden_size`={sindy_autoencoder_hyperparams.hidden_size} with {sindy_autoencoder_hyperparams.thresholding} thrsholding\"))\n",
        "\n",
        "# Initialize model\n",
        "sindy_autoencoder_seq_model = SINDyAutoencoder(\n",
        "    input_size=sindy_autoencoder_hyperparams.input_size,\n",
        "    hidden_size=sindy_autoencoder_hyperparams.hidden_size,\n",
        "    latent_size=sindy_autoencoder_hyperparams.latent_size,\n",
        "    n_layers=sindy_autoencoder_hyperparams.n_layers,\n",
        "    bias=sindy_autoencoder_hyperparams.bias,\n",
        "    sindy_args=asdict(sindy_hyperparams),\n",
        ")\n",
        "\n",
        "# Train model\n",
        "train_sindy_autoencoder(\n",
        "    sindy_autoencoder_seq_model,\n",
        "    train_data_loader,\n",
        "    num_epochs=sindy_autoencoder_hyperparams.n_epochs,\n",
        "    learning_rate=sindy_autoencoder_hyperparams.lr,\n",
        "    lambda_z_ddot=lambda_z_ddot,\n",
        "    lambda_x_ddot=lambda_x_ddot,\n",
        "    lambda_l1=lambda_l1,\n",
        "    dt=dt,\n",
        "    print_interval=sindy_autoencoder_hyperparams.print_interval,\n",
        "    refinement_epoch=5000,\n",
        "    train_hyperparams=sindy_autoencoder_hyperparams, #  Needed for thresholding\n",
        ")"
      ]
    },
    {
      "cell_type": "markdown",
      "metadata": {
        "id": "asQJ8f5cA-VT"
      },
      "source": [
        "#### Patient thresholding"
      ]
    },
    {
      "cell_type": "code",
      "execution_count": null,
      "metadata": {
        "id": "U6LXdl5oA-VT"
      },
      "outputs": [],
      "source": [
        "# SINDyAutoencoder model&training hyperparameter\n",
        "sindy_autoencoder_hyperparams = Hyperparams(\n",
        "    train_size=3000,\n",
        "    batch_size=250,\n",
        "    input_size=2,\n",
        "    latent_size=1,\n",
        "    hidden_size=32,\n",
        "    n_layers=3,  # Multilayer architecture\n",
        "    bias=False,  # Turn off bias\n",
        "    n_epochs=6000,\n",
        "    lr=1e-3,\n",
        "    print_interval=100,\n",
        "    thresholding='patient',  # PTAT\n",
        "    interval_s=500,\n",
        "    s_a=0.1,\n",
        "    p_a=0.1,\n",
        "    p_b=0.002,\n",
        "    interval_p=1000,\n",
        ")"
      ]
    },
    {
      "cell_type": "code",
      "execution_count": null,
      "metadata": {
        "id": "Gu6TtmmTA-VU",
        "outputId": "b48817ad-fa4c-40ec-f208-4fd0c024063f"
      },
      "outputs": [
        {
          "data": {
            "text/markdown": [
              "Training `SINDyAutoencoder` with `hidden_size`=32 with patient thrsholding"
            ],
            "text/plain": [
              "<IPython.core.display.Markdown object>"
            ]
          },
          "metadata": {},
          "output_type": "display_data"
        },
        {
          "name": "stderr",
          "output_type": "stream",
          "text": [
            "  2%|▋                                       | 102/6000 [00:07<09:18, 10.56it/s]"
          ]
        },
        {
          "name": "stdout",
          "output_type": "stream",
          "text": [
            "Epoch [100/6000], Loss: 0.3019\n"
          ]
        },
        {
          "name": "stderr",
          "output_type": "stream",
          "text": [
            "  3%|█▎                                      | 202/6000 [00:15<06:35, 14.67it/s]"
          ]
        },
        {
          "name": "stdout",
          "output_type": "stream",
          "text": [
            "Epoch [200/6000], Loss: 0.2742\n"
          ]
        },
        {
          "name": "stderr",
          "output_type": "stream",
          "text": [
            "  5%|██                                      | 302/6000 [00:23<07:32, 12.60it/s]"
          ]
        },
        {
          "name": "stdout",
          "output_type": "stream",
          "text": [
            "Epoch [300/6000], Loss: 0.2720\n"
          ]
        },
        {
          "name": "stderr",
          "output_type": "stream",
          "text": [
            "  7%|██▋                                     | 402/6000 [00:31<07:16, 12.81it/s]"
          ]
        },
        {
          "name": "stdout",
          "output_type": "stream",
          "text": [
            "Epoch [400/6000], Loss: 0.2711\n"
          ]
        },
        {
          "name": "stderr",
          "output_type": "stream",
          "text": [
            "  8%|███▎                                    | 502/6000 [00:38<06:48, 13.45it/s]"
          ]
        },
        {
          "name": "stdout",
          "output_type": "stream",
          "text": [
            "Epoch [500/6000], Loss: 0.2709\n"
          ]
        },
        {
          "name": "stderr",
          "output_type": "stream",
          "text": [
            " 10%|████                                    | 602/6000 [00:46<06:21, 14.14it/s]"
          ]
        },
        {
          "name": "stdout",
          "output_type": "stream",
          "text": [
            "Epoch [600/6000], Loss: 0.2707\n"
          ]
        },
        {
          "name": "stderr",
          "output_type": "stream",
          "text": [
            " 12%|████▋                                   | 701/6000 [00:54<06:38, 13.29it/s]"
          ]
        },
        {
          "name": "stdout",
          "output_type": "stream",
          "text": [
            "Epoch [700/6000], Loss: 0.2704\n"
          ]
        },
        {
          "name": "stderr",
          "output_type": "stream",
          "text": [
            " 13%|█████▎                                  | 802/6000 [01:02<08:55,  9.71it/s]"
          ]
        },
        {
          "name": "stdout",
          "output_type": "stream",
          "text": [
            "Epoch [800/6000], Loss: 0.2699\n"
          ]
        },
        {
          "name": "stderr",
          "output_type": "stream",
          "text": [
            " 15%|██████                                  | 902/6000 [01:11<06:36, 12.85it/s]"
          ]
        },
        {
          "name": "stdout",
          "output_type": "stream",
          "text": [
            "Epoch [900/6000], Loss: 0.2696\n"
          ]
        },
        {
          "name": "stderr",
          "output_type": "stream",
          "text": [
            " 17%|██████▌                                | 1002/6000 [01:20<06:10, 13.50it/s]"
          ]
        },
        {
          "name": "stdout",
          "output_type": "stream",
          "text": [
            "Epoch [1000/6000], Loss: 0.2694\n"
          ]
        },
        {
          "name": "stderr",
          "output_type": "stream",
          "text": [
            " 18%|███████▏                               | 1102/6000 [01:27<05:59, 13.63it/s]"
          ]
        },
        {
          "name": "stdout",
          "output_type": "stream",
          "text": [
            "Epoch [1100/6000], Loss: 0.2694\n"
          ]
        },
        {
          "name": "stderr",
          "output_type": "stream",
          "text": [
            " 20%|███████▊                               | 1202/6000 [01:34<05:11, 15.39it/s]"
          ]
        },
        {
          "name": "stdout",
          "output_type": "stream",
          "text": [
            "Epoch [1200/6000], Loss: 0.2694\n"
          ]
        },
        {
          "name": "stderr",
          "output_type": "stream",
          "text": [
            " 22%|████████▍                              | 1301/6000 [01:42<08:37,  9.08it/s]"
          ]
        },
        {
          "name": "stdout",
          "output_type": "stream",
          "text": [
            "Epoch [1300/6000], Loss: 0.2694\n"
          ]
        },
        {
          "name": "stderr",
          "output_type": "stream",
          "text": [
            " 23%|█████████                              | 1402/6000 [01:53<05:30, 13.93it/s]"
          ]
        },
        {
          "name": "stdout",
          "output_type": "stream",
          "text": [
            "Epoch [1400/6000], Loss: 0.2694\n"
          ]
        },
        {
          "name": "stderr",
          "output_type": "stream",
          "text": [
            " 25%|█████████▊                             | 1502/6000 [02:01<05:31, 13.55it/s]"
          ]
        },
        {
          "name": "stdout",
          "output_type": "stream",
          "text": [
            "Epoch [1500/6000], Loss: 0.2693\n"
          ]
        },
        {
          "name": "stderr",
          "output_type": "stream",
          "text": [
            " 27%|██████████▍                            | 1602/6000 [02:08<06:16, 11.67it/s]"
          ]
        },
        {
          "name": "stdout",
          "output_type": "stream",
          "text": [
            "Epoch [1600/6000], Loss: 0.2693\n"
          ]
        },
        {
          "name": "stderr",
          "output_type": "stream",
          "text": [
            " 28%|███████████                            | 1702/6000 [02:16<04:48, 14.87it/s]"
          ]
        },
        {
          "name": "stdout",
          "output_type": "stream",
          "text": [
            "Epoch [1700/6000], Loss: 0.2693\n"
          ]
        },
        {
          "name": "stderr",
          "output_type": "stream",
          "text": [
            " 30%|███████████▋                           | 1802/6000 [02:23<04:44, 14.75it/s]"
          ]
        },
        {
          "name": "stdout",
          "output_type": "stream",
          "text": [
            "Epoch [1800/6000], Loss: 0.2693\n"
          ]
        },
        {
          "name": "stderr",
          "output_type": "stream",
          "text": [
            " 32%|████████████▎                          | 1902/6000 [02:31<06:19, 10.79it/s]"
          ]
        },
        {
          "name": "stdout",
          "output_type": "stream",
          "text": [
            "Epoch [1900/6000], Loss: 0.2693\n"
          ]
        },
        {
          "name": "stderr",
          "output_type": "stream",
          "text": [
            " 33%|█████████████                          | 2002/6000 [02:38<04:38, 14.37it/s]"
          ]
        },
        {
          "name": "stdout",
          "output_type": "stream",
          "text": [
            "Epoch [2000/6000], Loss: 0.2692\n"
          ]
        },
        {
          "name": "stderr",
          "output_type": "stream",
          "text": [
            " 35%|█████████████▋                         | 2102/6000 [02:46<04:25, 14.68it/s]"
          ]
        },
        {
          "name": "stdout",
          "output_type": "stream",
          "text": [
            "Epoch [2100/6000], Loss: 0.2693\n"
          ]
        },
        {
          "name": "stderr",
          "output_type": "stream",
          "text": [
            " 37%|██████████████▎                        | 2202/6000 [02:54<04:22, 14.48it/s]"
          ]
        },
        {
          "name": "stdout",
          "output_type": "stream",
          "text": [
            "Epoch [2200/6000], Loss: 0.2692\n"
          ]
        },
        {
          "name": "stderr",
          "output_type": "stream",
          "text": [
            " 38%|██████████████▉                        | 2302/6000 [03:02<05:14, 11.77it/s]"
          ]
        },
        {
          "name": "stdout",
          "output_type": "stream",
          "text": [
            "Epoch [2300/6000], Loss: 0.2692\n"
          ]
        },
        {
          "name": "stderr",
          "output_type": "stream",
          "text": [
            " 40%|███████████████▌                       | 2402/6000 [03:10<04:30, 13.29it/s]"
          ]
        },
        {
          "name": "stdout",
          "output_type": "stream",
          "text": [
            "Epoch [2400/6000], Loss: 0.2692\n"
          ]
        },
        {
          "name": "stderr",
          "output_type": "stream",
          "text": [
            " 42%|████████████████▎                      | 2502/6000 [03:19<04:15, 13.69it/s]"
          ]
        },
        {
          "name": "stdout",
          "output_type": "stream",
          "text": [
            "Epoch [2500/6000], Loss: 0.2692\n"
          ]
        },
        {
          "name": "stderr",
          "output_type": "stream",
          "text": [
            " 43%|████████████████▉                      | 2602/6000 [03:27<05:41,  9.96it/s]"
          ]
        },
        {
          "name": "stdout",
          "output_type": "stream",
          "text": [
            "Epoch [2600/6000], Loss: 0.2692\n"
          ]
        },
        {
          "name": "stderr",
          "output_type": "stream",
          "text": [
            " 45%|█████████████████▌                     | 2702/6000 [03:34<03:49, 14.36it/s]"
          ]
        },
        {
          "name": "stdout",
          "output_type": "stream",
          "text": [
            "Epoch [2700/6000], Loss: 0.2692\n"
          ]
        },
        {
          "name": "stderr",
          "output_type": "stream",
          "text": [
            " 47%|██████████████████▏                    | 2802/6000 [03:41<04:06, 12.99it/s]"
          ]
        },
        {
          "name": "stdout",
          "output_type": "stream",
          "text": [
            "Epoch [2800/6000], Loss: 0.2692\n"
          ]
        },
        {
          "name": "stderr",
          "output_type": "stream",
          "text": [
            " 48%|██████████████████▊                    | 2902/6000 [03:49<03:59, 12.91it/s]"
          ]
        },
        {
          "name": "stdout",
          "output_type": "stream",
          "text": [
            "Epoch [2900/6000], Loss: 0.2692\n"
          ]
        },
        {
          "name": "stderr",
          "output_type": "stream",
          "text": [
            " 50%|███████████████████▌                   | 3002/6000 [03:56<03:15, 15.33it/s]"
          ]
        },
        {
          "name": "stdout",
          "output_type": "stream",
          "text": [
            "Epoch [3000/6000], Loss: 0.2691\n"
          ]
        },
        {
          "name": "stderr",
          "output_type": "stream",
          "text": [
            " 52%|████████████████████▏                  | 3102/6000 [04:03<03:04, 15.70it/s]"
          ]
        },
        {
          "name": "stdout",
          "output_type": "stream",
          "text": [
            "Epoch [3100/6000], Loss: 0.2691\n"
          ]
        },
        {
          "name": "stderr",
          "output_type": "stream",
          "text": [
            " 53%|████████████████████▊                  | 3202/6000 [04:10<03:34, 13.06it/s]"
          ]
        },
        {
          "name": "stdout",
          "output_type": "stream",
          "text": [
            "Epoch [3200/6000], Loss: 0.2691\n"
          ]
        },
        {
          "name": "stderr",
          "output_type": "stream",
          "text": [
            " 55%|█████████████████████▍                 | 3300/6000 [04:17<03:11, 14.09it/s]"
          ]
        },
        {
          "name": "stdout",
          "output_type": "stream",
          "text": [
            "Epoch [3300/6000], Loss: 0.2691\n"
          ]
        },
        {
          "name": "stderr",
          "output_type": "stream",
          "text": [
            " 57%|██████████████████████                 | 3402/6000 [04:25<03:27, 12.50it/s]"
          ]
        },
        {
          "name": "stdout",
          "output_type": "stream",
          "text": [
            "Epoch [3400/6000], Loss: 0.2691\n"
          ]
        },
        {
          "name": "stderr",
          "output_type": "stream",
          "text": [
            " 58%|██████████████████████▊                | 3502/6000 [04:33<03:04, 13.51it/s]"
          ]
        },
        {
          "name": "stdout",
          "output_type": "stream",
          "text": [
            "Epoch [3500/6000], Loss: 0.2691\n"
          ]
        },
        {
          "name": "stderr",
          "output_type": "stream",
          "text": [
            " 60%|███████████████████████▍               | 3602/6000 [04:39<02:40, 14.92it/s]"
          ]
        },
        {
          "name": "stdout",
          "output_type": "stream",
          "text": [
            "Epoch [3600/6000], Loss: 0.2691\n"
          ]
        },
        {
          "name": "stderr",
          "output_type": "stream",
          "text": [
            " 62%|████████████████████████               | 3702/6000 [04:47<02:30, 15.30it/s]"
          ]
        },
        {
          "name": "stdout",
          "output_type": "stream",
          "text": [
            "Epoch [3700/6000], Loss: 0.2691\n"
          ]
        },
        {
          "name": "stderr",
          "output_type": "stream",
          "text": [
            " 63%|████████████████████████▋              | 3802/6000 [04:53<02:31, 14.55it/s]"
          ]
        },
        {
          "name": "stdout",
          "output_type": "stream",
          "text": [
            "Epoch [3800/6000], Loss: 0.2691\n"
          ]
        },
        {
          "name": "stderr",
          "output_type": "stream",
          "text": [
            " 65%|█████████████████████████▎             | 3902/6000 [05:00<02:12, 15.80it/s]"
          ]
        },
        {
          "name": "stdout",
          "output_type": "stream",
          "text": [
            "Epoch [3900/6000], Loss: 0.2691\n"
          ]
        },
        {
          "name": "stderr",
          "output_type": "stream",
          "text": [
            " 67%|██████████████████████████             | 4002/6000 [05:07<02:11, 15.22it/s]"
          ]
        },
        {
          "name": "stdout",
          "output_type": "stream",
          "text": [
            "Epoch [4000/6000], Loss: 0.2691\n"
          ]
        },
        {
          "name": "stderr",
          "output_type": "stream",
          "text": [
            " 68%|██████████████████████████▋            | 4102/6000 [05:14<02:06, 15.03it/s]"
          ]
        },
        {
          "name": "stdout",
          "output_type": "stream",
          "text": [
            "Epoch [4100/6000], Loss: 0.2691\n"
          ]
        },
        {
          "name": "stderr",
          "output_type": "stream",
          "text": [
            " 70%|███████████████████████████▎           | 4202/6000 [05:20<01:52, 16.04it/s]"
          ]
        },
        {
          "name": "stdout",
          "output_type": "stream",
          "text": [
            "Epoch [4200/6000], Loss: 0.2691\n"
          ]
        },
        {
          "name": "stderr",
          "output_type": "stream",
          "text": [
            " 72%|███████████████████████████▉           | 4302/6000 [05:27<02:03, 13.75it/s]"
          ]
        },
        {
          "name": "stdout",
          "output_type": "stream",
          "text": [
            "Epoch [4300/6000], Loss: 0.2691\n"
          ]
        },
        {
          "name": "stderr",
          "output_type": "stream",
          "text": [
            " 73%|████████████████████████████▌          | 4402/6000 [05:34<01:43, 15.45it/s]"
          ]
        },
        {
          "name": "stdout",
          "output_type": "stream",
          "text": [
            "Epoch [4400/6000], Loss: 0.2691\n"
          ]
        },
        {
          "name": "stderr",
          "output_type": "stream",
          "text": [
            " 75%|█████████████████████████████▎         | 4502/6000 [05:41<01:35, 15.77it/s]"
          ]
        },
        {
          "name": "stdout",
          "output_type": "stream",
          "text": [
            "Epoch [4500/6000], Loss: 0.2691\n"
          ]
        },
        {
          "name": "stderr",
          "output_type": "stream",
          "text": [
            " 77%|█████████████████████████████▉         | 4602/6000 [05:48<01:29, 15.60it/s]"
          ]
        },
        {
          "name": "stdout",
          "output_type": "stream",
          "text": [
            "Epoch [4600/6000], Loss: 0.2691\n"
          ]
        },
        {
          "name": "stderr",
          "output_type": "stream",
          "text": [
            " 78%|██████████████████████████████▌        | 4702/6000 [05:54<01:27, 14.75it/s]"
          ]
        },
        {
          "name": "stdout",
          "output_type": "stream",
          "text": [
            "Epoch [4700/6000], Loss: 0.2691\n"
          ]
        },
        {
          "name": "stderr",
          "output_type": "stream",
          "text": [
            " 80%|███████████████████████████████▏       | 4802/6000 [06:01<01:21, 14.61it/s]"
          ]
        },
        {
          "name": "stdout",
          "output_type": "stream",
          "text": [
            "Epoch [4800/6000], Loss: 0.2691\n"
          ]
        },
        {
          "name": "stderr",
          "output_type": "stream",
          "text": [
            " 82%|███████████████████████████████▊       | 4902/6000 [06:08<01:16, 14.42it/s]"
          ]
        },
        {
          "name": "stdout",
          "output_type": "stream",
          "text": [
            "Epoch [4900/6000], Loss: 0.2691\n"
          ]
        },
        {
          "name": "stderr",
          "output_type": "stream",
          "text": [
            " 83%|████████████████████████████████▌      | 5002/6000 [06:15<01:05, 15.27it/s]"
          ]
        },
        {
          "name": "stdout",
          "output_type": "stream",
          "text": [
            "Epoch [5000/6000], Loss: 0.2691\n"
          ]
        },
        {
          "name": "stderr",
          "output_type": "stream",
          "text": [
            " 85%|█████████████████████████████████▏     | 5102/6000 [06:22<01:02, 14.48it/s]"
          ]
        },
        {
          "name": "stdout",
          "output_type": "stream",
          "text": [
            "Epoch [5100/6000], Loss: 0.2690\n"
          ]
        },
        {
          "name": "stderr",
          "output_type": "stream",
          "text": [
            " 87%|█████████████████████████████████▊     | 5202/6000 [06:28<00:51, 15.53it/s]"
          ]
        },
        {
          "name": "stdout",
          "output_type": "stream",
          "text": [
            "Epoch [5200/6000], Loss: 0.2690\n"
          ]
        },
        {
          "name": "stderr",
          "output_type": "stream",
          "text": [
            " 88%|██████████████████████████████████▍    | 5302/6000 [06:36<00:55, 12.59it/s]"
          ]
        },
        {
          "name": "stdout",
          "output_type": "stream",
          "text": [
            "Epoch [5300/6000], Loss: 0.2690\n"
          ]
        },
        {
          "name": "stderr",
          "output_type": "stream",
          "text": [
            " 90%|███████████████████████████████████    | 5401/6000 [06:44<01:13,  8.16it/s]"
          ]
        },
        {
          "name": "stdout",
          "output_type": "stream",
          "text": [
            "Epoch [5400/6000], Loss: 0.2690\n"
          ]
        },
        {
          "name": "stderr",
          "output_type": "stream",
          "text": [
            " 92%|███████████████████████████████████▊   | 5503/6000 [06:53<00:32, 15.33it/s]"
          ]
        },
        {
          "name": "stdout",
          "output_type": "stream",
          "text": [
            "Epoch [5500/6000], Loss: 0.2690\n"
          ]
        },
        {
          "name": "stderr",
          "output_type": "stream",
          "text": [
            " 93%|████████████████████████████████████▍  | 5601/6000 [06:59<00:29, 13.73it/s]"
          ]
        },
        {
          "name": "stdout",
          "output_type": "stream",
          "text": [
            "Epoch [5600/6000], Loss: 0.2690\n"
          ]
        },
        {
          "name": "stderr",
          "output_type": "stream",
          "text": [
            " 95%|█████████████████████████████████████  | 5703/6000 [07:05<00:18, 15.66it/s]"
          ]
        },
        {
          "name": "stdout",
          "output_type": "stream",
          "text": [
            "Epoch [5700/6000], Loss: 0.2690\n"
          ]
        },
        {
          "name": "stderr",
          "output_type": "stream",
          "text": [
            " 97%|█████████████████████████████████████▋ | 5801/6000 [07:12<00:14, 13.70it/s]"
          ]
        },
        {
          "name": "stdout",
          "output_type": "stream",
          "text": [
            "Epoch [5800/6000], Loss: 0.2690\n"
          ]
        },
        {
          "name": "stderr",
          "output_type": "stream",
          "text": [
            " 98%|██████████████████████████████████████▎| 5903/6000 [07:18<00:05, 17.03it/s]"
          ]
        },
        {
          "name": "stdout",
          "output_type": "stream",
          "text": [
            "Epoch [5900/6000], Loss: 0.2690\n"
          ]
        },
        {
          "name": "stderr",
          "output_type": "stream",
          "text": [
            "100%|███████████████████████████████████████| 6000/6000 [07:24<00:00, 13.49it/s]"
          ]
        },
        {
          "name": "stdout",
          "output_type": "stream",
          "text": [
            "Epoch [6000/6000], Loss: 0.2690\n"
          ]
        },
        {
          "name": "stderr",
          "output_type": "stream",
          "text": [
            "\n"
          ]
        },
        {
          "data": {
            "text/plain": [
              "SINDyAutoencoder(\n",
              "  (sindy): SINDy(\n",
              "    (linear): Linear(in_features=10, out_features=1, bias=False)\n",
              "  )\n",
              "  (autoencoder): AutoencoderWithDerivatives(\n",
              "    (encoder): MultiInputSequential(\n",
              "      (0): LinearDerivatives(\n",
              "        (linear): Linear(in_features=2, out_features=32, bias=False)\n",
              "      )\n",
              "      (1): SigmoidDerivatives()\n",
              "      (2): LinearDerivatives(\n",
              "        (linear): Linear(in_features=32, out_features=32, bias=False)\n",
              "      )\n",
              "      (3): SigmoidDerivatives()\n",
              "      (4): LinearDerivatives(\n",
              "        (linear): Linear(in_features=32, out_features=1, bias=False)\n",
              "      )\n",
              "      (5): SigmoidDerivatives()\n",
              "    )\n",
              "    (decoder): MultiInputSequential(\n",
              "      (0): LinearDerivatives(\n",
              "        (linear): Linear(in_features=1, out_features=32, bias=False)\n",
              "      )\n",
              "      (1): SigmoidDerivatives()\n",
              "      (2): LinearDerivatives(\n",
              "        (linear): Linear(in_features=32, out_features=32, bias=False)\n",
              "      )\n",
              "      (3): SigmoidDerivatives()\n",
              "      (4): LinearDerivatives(\n",
              "        (linear): Linear(in_features=32, out_features=2, bias=False)\n",
              "      )\n",
              "      (5): SigmoidDerivatives()\n",
              "    )\n",
              "  )\n",
              ")"
            ]
          },
          "execution_count": 54,
          "metadata": {},
          "output_type": "execute_result"
        }
      ],
      "source": [
        "display(md(f\"Training `SINDyAutoencoder` with `hidden_size`={sindy_autoencoder_hyperparams.hidden_size} with {sindy_autoencoder_hyperparams.thresholding} thrsholding\"))\n",
        "\n",
        "# Initialize model\n",
        "sindy_autoencoder_patient_model = SINDyAutoencoder(\n",
        "    input_size=sindy_autoencoder_hyperparams.input_size,\n",
        "    hidden_size=sindy_autoencoder_hyperparams.hidden_size,\n",
        "    latent_size=sindy_autoencoder_hyperparams.latent_size,\n",
        "    n_layers=sindy_autoencoder_hyperparams.n_layers,\n",
        "    bias=sindy_autoencoder_hyperparams.bias,\n",
        "    sindy_args=asdict(sindy_hyperparams),\n",
        ")\n",
        "\n",
        "# Train model\n",
        "train_sindy_autoencoder(\n",
        "    sindy_autoencoder_patient_model,\n",
        "    train_data_loader,\n",
        "    num_epochs=sindy_autoencoder_hyperparams.n_epochs,\n",
        "    learning_rate=sindy_autoencoder_hyperparams.lr,\n",
        "    lambda_z_ddot=lambda_z_ddot,\n",
        "    lambda_x_ddot=lambda_x_ddot,\n",
        "    lambda_l1=lambda_l1,\n",
        "    dt=dt,\n",
        "    print_interval=sindy_autoencoder_hyperparams.print_interval,\n",
        "    refinement_epoch=5000,\n",
        "    train_hyperparams=sindy_autoencoder_hyperparams, #  Needed for thresholding\n",
        ")"
      ]
    },
    {
      "cell_type": "code",
      "execution_count": null,
      "metadata": {
        "id": "UG6qBXDQA-VU",
        "outputId": "ba619ed5-ce47-49aa-e2af-5b3b69505ba6"
      },
      "outputs": [
        {
          "data": {
            "text/html": [
              "\n",
              "      <iframe id=\"tensorboard-frame-c8d54087f7357c8f\" width=\"100%\" height=\"800\" frameborder=\"0\">\n",
              "      </iframe>\n",
              "      <script>\n",
              "        (function() {\n",
              "          const frame = document.getElementById(\"tensorboard-frame-c8d54087f7357c8f\");\n",
              "          const url = new URL(\"/\", window.location);\n",
              "          const port = 6006;\n",
              "          if (port) {\n",
              "            url.port = port;\n",
              "          }\n",
              "          frame.src = url;\n",
              "        })();\n",
              "      </script>\n",
              "    "
            ],
            "text/plain": [
              "<IPython.core.display.HTML object>"
            ]
          },
          "metadata": {},
          "output_type": "display_data"
        }
      ],
      "source": [
        "# Load saved ts\n",
        "%tensorboard --logdir=runs"
      ]
    },
    {
      "cell_type": "code",
      "execution_count": null,
      "metadata": {
        "id": "QJjuHuGQA-VV",
        "outputId": "30da5991-4c54-42b8-9e79-7a16e5c302f2"
      },
      "outputs": [
        {
          "name": "stdout",
          "output_type": "stream",
          "text": [
            "Coefficients of sequential training: Parameter containing:\n",
            "tensor([-0.0000, -0.0000,  0.0000,  0.0000, -0.0000,  0.0000, -0.0000, 12.0400,\n",
            "         0.0000,  0.0000], requires_grad=True)\n"
          ]
        }
      ],
      "source": [
        "print(f\"Coefficients of sequential training: {sindy_autoencoder_seq_model.sindy.linear.weight}\")"
      ]
    },
    {
      "cell_type": "code",
      "execution_count": null,
      "metadata": {
        "id": "GgpPaJndA-VV",
        "outputId": "c6ca9bc0-3b39-4557-c667-4585a0a0b718"
      },
      "outputs": [
        {
          "name": "stdout",
          "output_type": "stream",
          "text": [
            "Coefficients of patient training: Parameter containing:\n",
            "tensor([-0.1224,  0.5713, -0.0989,  0.3924, -0.2404,  0.4477, -0.0839, 10.5160,\n",
            "        -0.0000,  0.0686], requires_grad=True)\n"
          ]
        }
      ],
      "source": [
        "print(f\"Coefficients of patient training: {sindy_autoencoder_patient_model.sindy.linear.weight}\")"
      ]
    },
    {
      "cell_type": "markdown",
      "metadata": {
        "id": "9F9sxEdlA-VW"
      },
      "source": [
        "<ins>**Results**</ins> For both models, we see the loss plateauing at around 3000 epochs.\n",
        "\n",
        "We also visualized the coefficients and losses using tensorboard (The tensorboard files are included in the `runs` directory.). Sequential training managed to converge to a single non-zero coefficient. However, it is the coefficient of `lambda zt, dzt: dzt * dzt`. We believe this has to do with the discrepancy between the time-propagated and discrete second derivative. As noted before, for certain runs, we observed a high $\\Delta$ betwen the two. Since `SINDy` is responsible for the second derivative, working with noisy numbers leads to a different coefficient being identified.\n",
        "\n",
        "For patient thresholding, the model also identifies the coefficient of `lambda zt, dzt: dzt * dzt` as being significant, with almost all the other coefficients having values close to 0.\n",
        "\n",
        "We conclude that, while our implementation of `SINDyAutoencoder` and `train_sindy_autoencoder` are most certainly correct, the noisy $ddz$ leads to other coefficients being identified. Presently, we do not know why we sometimes get a noisy $ddz$."
      ]
    },
    {
      "cell_type": "markdown",
      "metadata": {
        "id": "_h1PnVxM6OWG"
      },
      "source": [
        "### 2.7 Evaluation & Visualization"
      ]
    },
    {
      "cell_type": "markdown",
      "metadata": {
        "id": "BRkSkQsEAjod"
      },
      "source": [
        "**Task description:** Report the average Fraction of Variance Unexplained (FVU) in $x$, $\\ddot{z}$, and $\\ddot{x}$, which is calculated as:\n",
        "\n",
        "$$\n",
        "FVU_y = \\frac{\\sum_{i} (y_i - \\hat{y}_i)^2}{\\sum_{i} (y_i - \\bar{y})^2}\n",
        "$$\n",
        "\n",
        "Analyze the resulting equations. How well do they correspond to the ground truth equation? You should get many equations with the $\\sin(z)$ term or a $z$ term.\n",
        "\n",
        "Resimulate the system with the learned equation and the `simulate_pendulum` function and decode the resimulation with the trained decoder. Compare the ground truth and resimulated $\\hat{z}(t)$ and $\\hat{x}(t)$ and compute the error over time. For up to $t = 1$ s, the resimulation should be very close to the ground truth.\n",
        "\n"
      ]
    },
    {
      "cell_type": "code",
      "execution_count": null,
      "metadata": {
        "id": "iJr7n1KoA2S8"
      },
      "outputs": [],
      "source": [
        "def calculate_fvu(y_true, y_pred):\n",
        "    numerator = torch.sum((y_true - y_pred) ** 2)\n",
        "    denominator = torch.sum((y_true - torch.mean(y_true)) ** 2)\n",
        "    fvu = numerator / denominator\n",
        "    return fvu.item()"
      ]
    },
    {
      "cell_type": "markdown",
      "source": [
        "<div style=\"color: green; font-weight: bold\"> Overall Comment:</div>\n",
        "\n",
        "Overall,you have successfully implemented most of the tasks till 2.6. Although the code implemented is not as elegant as the sample solution, but you have done quite an amazing job:).\n",
        "\n",
        "A suggestion: Whenever possible, try to visualise your results (say loss functions for hyperparameter search, compasirion of derivatives obtained from the model with the discrete derivatives)."
      ],
      "metadata": {
        "id": "zNJXz0GyRToe"
      }
    },
    {
      "cell_type": "code",
      "source": [],
      "metadata": {
        "id": "zHRWx0NkSHDB"
      },
      "execution_count": null,
      "outputs": []
    }
  ],
  "metadata": {
    "accelerator": "GPU",
    "colab": {
      "gpuType": "T4",
      "provenance": []
    },
    "kernelspec": {
      "display_name": "Python 3 (ipykernel)",
      "language": "python",
      "name": "python3"
    },
    "language_info": {
      "codemirror_mode": {
        "name": "ipython",
        "version": 3
      },
      "file_extension": ".py",
      "mimetype": "text/x-python",
      "name": "python",
      "nbconvert_exporter": "python",
      "pygments_lexer": "ipython3",
      "version": "3.9.18"
    }
  },
  "nbformat": 4,
  "nbformat_minor": 0
}