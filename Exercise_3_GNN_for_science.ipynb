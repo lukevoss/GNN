{
  "cells": [
    {
      "cell_type": "markdown",
      "metadata": {
        "colab_type": "text",
        "id": "view-in-github"
      },
      "source": [
        "<a href=\"https://colab.research.google.com/github/neelkanthrawat/GNN-exercises/blob/main/Exercise_3_GNN_for_science.ipynb\" target=\"_parent\"><img src=\"https://colab.research.google.com/assets/colab-badge.svg\" alt=\"Open In Colab\"/></a>"
      ]
    },
    {
      "cell_type": "markdown",
      "metadata": {
        "id": "vaCGwnWuEEiS"
      },
      "source": [
        "# 1. Two moons with an invertible Neural Network"
      ]
    },
    {
      "cell_type": "code",
      "execution_count": 1,
      "metadata": {
        "id": "n2OkMdaoDkic"
      },
      "outputs": [],
      "source": [
        "import torch\n",
        "import torch.nn as nn\n",
        "import torch.optim as optim\n",
        "import matplotlib.pyplot as plt\n",
        "from sklearn.datasets import make_moons\n",
        "from sklearn.model_selection import train_test_split\n",
        "\n",
        "import torch.nn as nn\n",
        "import torch.nn.functional as F"
      ]
    },
    {
      "cell_type": "code",
      "execution_count": 3,
      "metadata": {
        "id": "5rc9IryVX_SB"
      },
      "outputs": [],
      "source": [
        "### modified coupling layer class\n",
        "import torch\n",
        "import torch.nn as nn\n",
        "import torch.nn.functional as F\n",
        "\n",
        "class CouplingLayer(nn.Module):\n",
        "    def __init__(self, input_size, hidden_size):\n",
        "        super(CouplingLayer, self).__init__()\n",
        "        # Neural networks for the first half of the dimensions\n",
        "        self.fc1 = nn.Linear(input_size // 2, hidden_size)\n",
        "        self.fc2 = nn.Linear(hidden_size, hidden_size)\n",
        "        # Translation coefficient\n",
        "        self.fc3 = nn.Linear(hidden_size, input_size // 2)\n",
        "        # Scaling coefficient\n",
        "        self.fc4 = nn.Linear(hidden_size, input_size // 2)\n",
        "\n",
        "    def forward(self, x):\n",
        "        #print(\"___ inside the coupling layer's forward function____\")\n",
        "        #print(\"x is:\"); print(x)\n",
        "        #print(\"shape of x is:\",x.shape)\n",
        "        # Split the input into two halves\n",
        "        x_a, x_b = x.chunk(2, dim=1)\n",
        "        #print(\"shape x_a is:\",x_a.shape)\n",
        "        #print(\"shape x_b is:\",x_b.shape)\n",
        "\n",
        "        # Apply neural network to calculate coefficients\n",
        "        h = F.relu(self.fc1(x_a))\n",
        "        h = F.relu(self.fc2(h))\n",
        "        translation = self.fc3(h)\n",
        "        scaling_before_exp = self.fc4(h)\n",
        "        scaling = torch.exp(torch.tanh(scaling_before_exp))\n",
        "\n",
        "        # Apply the affine transformation\n",
        "        y_b = x_b * scaling + translation\n",
        "\n",
        "        # Concatenate the transformed halves\n",
        "        y = torch.cat([x_a, y_b], dim=1)\n",
        "        #print(\" shape of y is (tensor after the coupling layer):\");print(y.shape)\n",
        "        return y, scaling_before_exp\n",
        "\n",
        "    def backward(self, y):\n",
        "        # Split the input into two halves\n",
        "        y_a, y_b = y.chunk(2, dim=1)\n",
        "\n",
        "        # Apply neural network to calculate coefficients (reverse)\n",
        "        h = F.relu(self.fc1(y_a))\n",
        "        h = F.relu(self.fc2(h))\n",
        "        translation = self.fc3(h)\n",
        "        scaling_before_exp = self.fc4(h)\n",
        "        scaling = torch.exp(torch.tanh(scaling_before_exp))\n",
        "\n",
        "        # Reverse the operations to reconstruct the original input\n",
        "        x_a = y_a\n",
        "        x_b = (y_b - translation) / scaling\n",
        "\n",
        "        # Concatenate the reconstructed halves\n",
        "        x = torch.cat([x_a, x_b], dim=1)\n",
        "        return x"
      ]
    },
    {
      "cell_type": "code",
      "execution_count": 4,
      "metadata": {
        "id": "d5Lq0vtfcNrp"
      },
      "outputs": [],
      "source": [
        "class RealNVP(nn.Module):\n",
        "    def __init__(self, input_size, hidden_size, blocks):\n",
        "        super(RealNVP, self).__init__()\n",
        "        self.input_size = input_size\n",
        "        self.hidden_size = hidden_size\n",
        "        self.blocks = blocks\n",
        "\n",
        "        # List of coupling layers\n",
        "        self.coupling_layers = nn.ModuleList([\n",
        "            CouplingLayer(input_size, hidden_size) for _ in range(blocks)\n",
        "        ])\n",
        "        #print(\"self.input size is:\",self.input_size)\n",
        "\n",
        "\n",
        "        # List to store orthonormal matrices\n",
        "        self.orthonormal_matrices = [self._get_orthonormal_matrix(input_size) for _ in range(blocks)]\n",
        "        # print(\"set of orthogonal matrixes are\")\n",
        "        # print(self.orthonormal_matrices)\n",
        "        # print(\"some test check: \"); print(type(self.orthonormal_matrices[0]))\n",
        "        # print(\"shape is:\");print(self.orthonormal_matrices)\n",
        "\n",
        "        # List to store scaling_before_exp for each block\n",
        "        self.scaling_before_exp_list = []\n",
        "\n",
        "    def _get_orthonormal_matrix(self, size):\n",
        "        # Function to generate a random orthonormal matrix\n",
        "        w = torch.randn(size, size)\n",
        "        q, _ = torch.linalg.qr(w,'reduced')\n",
        "        return q\n",
        "\n",
        "    def forward_realnvp(self, x):\n",
        "        #print(\"inside the forward_realnvp function\")\n",
        "        scaling_before_exp_list = []\n",
        "        for i in range(self.blocks):\n",
        "            #print(\"type of (self.orthonormal_matrices[0]):\",type(self.orthonormal_matrices[0]))\n",
        "            #print(\"x is:\");print(x)\n",
        "            #print(\"self.orthonormal_matrices[i]:\");print(self.orthonormal_matrices[i])\n",
        "\n",
        "            # Apply random orthonormal matrix\n",
        "            x = torch.matmul(x, self.orthonormal_matrices[i])\n",
        "\n",
        "            # Apply coupling layer\n",
        "            x, scaling_before_exp = self.coupling_layers[i].forward(x)\n",
        "            scaling_before_exp_list.append(scaling_before_exp)\n",
        "\n",
        "        self.scaling_before_exp_list = scaling_before_exp_list\n",
        "        return x\n",
        "\n",
        "    def encode(self, x):\n",
        "        # Encoding is the forward pass through the RealNVP model\n",
        "        return self.forward_realnvp(x)\n",
        "\n",
        "    def decode(self, z):\n",
        "        # Reverse transformations for decoding\n",
        "        for i in reversed(range(self.blocks)):\n",
        "            # Apply random orthonormal matrix (reverse)\n",
        "            z = z @ self.orthonormal_matrices[i].t()\n",
        "            # Apply coupling layer (reverse)\n",
        "            z = self.coupling_layers[i].backward(z)\n",
        "        return z"
      ]
    },
    {
      "cell_type": "code",
      "execution_count": 20,
      "metadata": {
        "id": "o_V22geTZkcz"
      },
      "outputs": [],
      "source": [
        "### defining our loss function\n",
        "def calculate_loss(transformed_x, scaling_before_exp_list, dataset_length):\n",
        "    \"\"\"\n",
        "    Calculate the loss for the RealNVP model.\n",
        "\n",
        "    Args:\n",
        "    - transformed_x (tensor): Transformed data produced by the RealNVP model.\n",
        "    - scaling_before_exp_list (list): List of scaling_before_exp values for each block.\n",
        "    - dataset_length (int): The length of the dataset.\n",
        "\n",
        "    Returns:\n",
        "    - loss (tensor): The calculated loss value.\n",
        "    \"\"\"\n",
        "    #print(\"******************inside the calculate loss function**************\")\n",
        "    #print(\"transformed x's shape is:\", transformed_x.shape)\n",
        "    #print(\"scaling_before_exp_list is:\", scaling_before_exp_list)\n",
        "\n",
        "    # Calculate the first term of the loss (negative log-likelihood term)\n",
        "    first_term = torch.sum(transformed_x**2) / 2\n",
        "\n",
        "    # Calculate the second term of the loss (sum over scaling_before_exp values)\n",
        "    second_term = 0.0\n",
        "    for scaling_before_exp in scaling_before_exp_list:\n",
        "        second_term -= scaling_before_exp.sum()\n",
        "\n",
        "    # Calculate the total loss\n",
        "    loss = (first_term + second_term) / dataset_length\n",
        "\n",
        "    return abs(loss)#### if i return the absolute value of this loss, then I observed improvement! so IDK!\n"
      ]
    },
    {
      "cell_type": "code",
      "execution_count": 24,
      "metadata": {},
      "outputs": [],
      "source": [
        "def calculate_loss(z, scaling_before_exp_list, dummy):\n",
        "    # Compute the negative log-likelihood loss\n",
        "    log_likelihoods = 0.5 * torch.sum(z**2, dim=1)  # Assuming a standard Gaussian prior\n",
        "    for scaling_before_exp in scaling_before_exp_list:\n",
        "        log_likelihoods += torch.sum(torch.log(torch.abs(scaling_before_exp)), dim=1)\n",
        "    return -torch.mean(log_likelihoods)"
      ]
    },
    {
      "cell_type": "code",
      "execution_count": 25,
      "metadata": {
        "id": "M1nqAXuofj15"
      },
      "outputs": [],
      "source": [
        "import torch.optim as optim\n",
        "\n",
        "def train_and_evaluate(model, train_loader, val_loader, num_epochs=10, lr=0.001, print_after=1):\n",
        "    \"\"\"\n",
        "    Train the RealNVP model and evaluate on a validation dataset.\n",
        "\n",
        "    Args:\n",
        "    - model (RealNVP): The RealNVP model to be trained.\n",
        "    - train_loader (DataLoader): DataLoader for the training dataset.\n",
        "    - val_loader (DataLoader): DataLoader for the validation dataset.\n",
        "    - num_epochs (int): Number of training epochs.\n",
        "    - lr (float): Learning rate for the optimizer.\n",
        "    - print_after (int): Number of epochs after which to print the training and validation loss.\n",
        "\n",
        "    Returns:\n",
        "    - train_losses (list): List of training losses for each epoch.\n",
        "    - val_losses (list): List of validation losses for each epoch.\n",
        "    \"\"\"\n",
        "\n",
        "    # Define the optimizer\n",
        "    optimizer = optim.Adam(model.parameters(), lr=lr)\n",
        "\n",
        "    train_losses = []  # List to store training losses\n",
        "    val_losses = []    # List to store validation losses\n",
        "\n",
        "    for epoch in range(num_epochs):\n",
        "        total_train_loss = 0.0\n",
        "\n",
        "        # Training phase\n",
        "        model.train()  # Set the model to training mode\n",
        "        for data in train_loader:\n",
        "            inputs= data\n",
        "\n",
        "            # Zero the gradients\n",
        "            optimizer.zero_grad()\n",
        "\n",
        "            # Forward pass (encoding)\n",
        "            encoded = model.encode(inputs)\n",
        "\n",
        "            # Loss calculation\n",
        "            train_loss = calculate_loss(encoded, model.scaling_before_exp_list, len(train_loader))\n",
        "\n",
        "            # Backward pass (gradient computation)\n",
        "            train_loss.backward()\n",
        "\n",
        "            # Update weights\n",
        "            optimizer.step()\n",
        "\n",
        "            total_train_loss += train_loss.item()\n",
        "\n",
        "        # Average training loss for the epoch\n",
        "        average_train_loss = total_train_loss / len(train_loader)\n",
        "\n",
        "        # Validation phase\n",
        "        if val_loader is not None:\n",
        "            model.eval()  # Set the model to evaluation mode\n",
        "            total_val_loss = 0.0\n",
        "            with torch.no_grad():\n",
        "                for val_data in val_loader:\n",
        "                    val_inputs = val_data\n",
        "\n",
        "                    # Forward pass (encoding) for validation\n",
        "                    val_encoded = model.encode(val_inputs)\n",
        "\n",
        "                    # Loss calculation for validation\n",
        "                    val_loss = calculate_loss(val_encoded, model.scaling_before_exp_list, len(val_loader))\n",
        "\n",
        "                    total_val_loss += val_loss.item()\n",
        "\n",
        "            # Average validation loss for the epoch\n",
        "            average_val_loss = total_val_loss / len(val_loader)\n",
        "\n",
        "            # Print training and validation losses together\n",
        "            if (epoch + 1) % print_after == 0:\n",
        "                print(f\"Epoch {epoch + 1}/{num_epochs}, Training Loss: {average_train_loss}, Validation Loss: {average_val_loss}\")\n",
        "\n",
        "            # Append losses to the lists\n",
        "            train_losses.append(average_train_loss)\n",
        "            val_losses.append(average_val_loss)\n",
        "\n",
        "        # Set the model back to training mode\n",
        "        model.train()\n",
        "\n",
        "    print(\"Training complete\")\n",
        "\n",
        "    return train_losses, val_losses"
      ]
    },
    {
      "cell_type": "code",
      "execution_count": 26,
      "metadata": {
        "id": "UmgEQmpLjoPN"
      },
      "outputs": [],
      "source": [
        "dataset_sizes = [ 500, 1000, 5000]\n",
        "\n",
        "# Generate datasets of varying sizes\n",
        "train_datasets = {}\n",
        "val_datasets = {}\n",
        "datasets = {}\n",
        "\n",
        "for size in dataset_sizes:\n",
        "    X, y = make_moons(n_samples=size, noise=0.1)\n",
        "    datasets[size] = {'X': X, 'y': y}\n",
        "    X_train, X_test, y_train, y_test = train_test_split(X, y, test_size=0.3, random_state=42)\n",
        "    train_datasets[size] = {'X': torch.FloatTensor(X_train), 'y': y_train}\n",
        "    val_datasets[size] = {'X': torch.FloatTensor(X_test), 'y': y_test}\n",
        "\n",
        "# # Visualize the training datasets\n",
        "# plt.figure(figsize=(12, 8))\n",
        "\n",
        "# for i, size in enumerate(dataset_sizes, 1):\n",
        "#     plt.subplot(2, 2, i)\n",
        "#     plt.scatter(datasets[size]['X'][:, 0], datasets[size]['X'][:, 1], c=datasets[size]['y'])\n",
        "#     plt.title(f'Dataset Size: {size}')\n",
        "\n",
        "# plt.show() \n"
      ]
    },
    {
      "cell_type": "code",
      "execution_count": 18,
      "metadata": {
        "id": "iZprf1n5iml3"
      },
      "outputs": [],
      "source": [
        "### creating the dataloader for the make moons dataset\n",
        "from torch.utils.data import DataLoader, TensorDataset"
      ]
    },
    {
      "cell_type": "code",
      "execution_count": 27,
      "metadata": {
        "colab": {
          "base_uri": "https://localhost:8080/",
          "height": 1000
        },
        "id": "DZKxq2cykCV1",
        "outputId": "a721163c-5823-4c6a-cfb4-37d46b11bf78"
      },
      "outputs": [
        {
          "name": "stdout",
          "output_type": "stream",
          "text": [
            "shape of the data_considered\n",
            "torch.Size([700, 2])\n",
            "Epoch 10/100, Training Loss: -2.1914996853108665e+23, Validation Loss: -2.2527835079302567e+23\n",
            "Epoch 20/100, Training Loss: -2.2732065527082284e+23, Validation Loss: -2.3814915754361036e+23\n",
            "Epoch 30/100, Training Loss: -2.321072201569625e+23, Validation Loss: -2.4265678879336726e+23\n",
            "Epoch 40/100, Training Loss: -2.3449221515788167e+23, Validation Loss: -2.504497905669714e+23\n",
            "Epoch 50/100, Training Loss: -2.362940267605082e+23, Validation Loss: -2.4870778201814586e+23\n",
            "Epoch 60/100, Training Loss: -2.3722667311315886e+23, Validation Loss: -2.5736054077645338e+23\n",
            "Epoch 70/100, Training Loss: -2.3742278768136866e+23, Validation Loss: -2.5075204154948305e+23\n",
            "Epoch 80/100, Training Loss: -2.3826258454875626e+23, Validation Loss: -2.5317113387636645e+23\n",
            "Epoch 90/100, Training Loss: -2.3878152368894634e+23, Validation Loss: -2.5317679760325784e+23\n",
            "Epoch 100/100, Training Loss: -2.3921946599925628e+23, Validation Loss: -2.5257834307181418e+23\n",
            "Training complete\n"
          ]
        },
        {
          "data": {
            "image/png": "[encoded data removed]",
            "text/plain": [
              "<Figure size 432x288 with 1 Axes>"
            ]
          },
          "metadata": {
            "needs_background": "light"
          },
          "output_type": "display_data"
        },
        {
          "name": "stderr",
          "output_type": "stream",
          "text": [
            "C:\\Users\\luke\\AppData\\Local\\Temp\\ipykernel_26228\\1200463455.py:35: UserWarning: Data has no positive values, and therefore cannot be log-scaled.\n",
            "  plt.yscale('log')\n"
          ]
        },
        {
          "data": {
            "image/png": "[encoded data removed]",
            "text/plain": [
              "<Figure size 432x288 with 1 Axes>"
            ]
          },
          "metadata": {
            "needs_background": "light"
          },
          "output_type": "display_data"
        }
      ],
      "source": [
        "### Trial run\n",
        "input_size=2\n",
        "hidden_size=128\n",
        "blocks=6\n",
        "print_after=1\n",
        "\n",
        "\n",
        "\n",
        "#### data for the two-moons model\n",
        "dataset_size=1000\n",
        "batch_size=32\n",
        "data_considered=train_datasets[dataset_size]['X']\n",
        "print(\"shape of the data_considered\"); print(data_considered.shape)\n",
        "train_loader = torch.utils.data.DataLoader(data_considered, batch_size=32, shuffle=True)\n",
        "val_loader= torch.utils.data.DataLoader(val_datasets[dataset_size]['X'], batch_size=32, shuffle=True)\n",
        "####\n",
        "\n",
        "### instantiate the model\n",
        "model= RealNVP(input_size=2, hidden_size= hidden_size, blocks=blocks)\n",
        "\n",
        "## train the model\n",
        "train_losses, val_losses= train_and_evaluate(model, train_loader, val_loader, num_epochs=100, lr=0.004, print_after=10)\n",
        "#train_inn(model, train_loader, num_epochs=500, lr=0.01, print_after=10)\n",
        "\n",
        "\n",
        "# plotting the loss\n",
        "plt.plot(train_losses,label=\"train_loss\")\n",
        "plt.plot(val_losses, label= \"validation loss\")\n",
        "plt.show()\n",
        "\n",
        "### log plot\n",
        "plt.figure()\n",
        "plt.plot(train_losses,label=\"train_loss\")\n",
        "plt.plot(val_losses, label= \"validation loss\")\n",
        "plt.yscale('log')\n",
        "plt.show()"
      ]
    },
    {
      "cell_type": "markdown",
      "metadata": {
        "id": "J6jOeVqWBggq"
      },
      "source": [
        "### Tasks to do atm:\n",
        "\n",
        "1. check if the model is implemented correctly.\n",
        "2. MOST IMPORTANTLY: is the loss function implemented correctly? when I return the abs(loss) in the `calculate_loss` function, I see some training and improvement. IDK whether the loss function I have implemented is correct or not!"
      ]
    },
    {
      "cell_type": "code",
      "execution_count": 22,
      "metadata": {
        "id": "JwgoNzNn7VJk"
      },
      "outputs": [],
      "source": [
        "\n"
      ]
    },
    {
      "cell_type": "markdown",
      "metadata": {
        "id": "pf6CdptMD93x"
      },
      "source": [
        "### Everything below is garbage"
      ]
    },
    {
      "cell_type": "code",
      "execution_count": 23,
      "metadata": {
        "id": "aGYI6TJig10f"
      },
      "outputs": [],
      "source": [
        "# seperate functions for training and validation.\n",
        "# import torch.optim as optim\n",
        "# def train_inn(model, train_loader, num_epochs=10, lr=0.001, print_after=10):\n",
        "#     \"\"\"\n",
        "#     Train the RealNVP model.\n",
        "\n",
        "#     Args:\n",
        "#     - model (RealNVP): The RealNVP model to be trained.\n",
        "#     - train_loader (DataLoader): DataLoader for the training dataset.\n",
        "#     - num_epochs (int): Number of training epochs.\n",
        "#     - lr (float): Learning rate for the optimizer.\n",
        "#     - print_after (int): Number of epochs after which to print the training loss.\n",
        "\n",
        "#     Returns:\n",
        "#     - train_losses (list): List of training losses for each epoch.\n",
        "#     \"\"\"\n",
        "\n",
        "#     # Define the optimizer\n",
        "#     optimizer = optim.Adam(model.parameters(), lr=lr)\n",
        "\n",
        "#     train_losses = []  # List to store training losses\n",
        "\n",
        "#     for epoch in range(num_epochs):\n",
        "#         total_train_loss = 0.0\n",
        "\n",
        "#         # Training phase\n",
        "#         model.train()  # Set the model to training mode\n",
        "#         for data in train_loader:\n",
        "#             inputs = data#[0] # there is something here which I really need to look into\n",
        "#             #print(\"data from train_loader is inputs is:\"); print(inputs)\n",
        "\n",
        "#             # Zero the gradients\n",
        "#             optimizer.zero_grad()\n",
        "\n",
        "#             # Forward pass (encoding)\n",
        "#             encoded = model.encode(inputs)\n",
        "\n",
        "#             # Loss calculation\n",
        "#             train_loss = calculate_loss(encoded, model.scaling_before_exp_list, len(train_loader))\n",
        "\n",
        "#             # Backward pass (gradient computation)\n",
        "#             train_loss.backward()\n",
        "\n",
        "#             # Update weights\n",
        "#             optimizer.step()\n",
        "\n",
        "#             total_train_loss += train_loss.item()\n",
        "\n",
        "#         # Average training loss for the epoch\n",
        "#         average_train_loss = total_train_loss / len(train_loader)\n",
        "\n",
        "#         # Print training loss after specified number of epochs\n",
        "#         if (epoch + 1) % print_after == 0:\n",
        "#             print(f\"Epoch {epoch + 1}/{num_epochs}, Training Loss: {average_train_loss}\")\n",
        "\n",
        "#         # Append losses to the list\n",
        "#         train_losses.append(average_train_loss)\n",
        "\n",
        "#     print(\"Training complete\")\n",
        "\n",
        "#     return train_losses\n",
        "\n",
        "\n",
        "# def validate_inn(model, val_loader,  print_after=10):\n",
        "#     \"\"\"\n",
        "#     Validate the RealNVP model.\n",
        "\n",
        "#     Args:\n",
        "#     - model (RealNVP): The RealNVP model to be validated.\n",
        "#     - val_loader (DataLoader): DataLoader for the validation dataset.\n",
        "#     - print_after (int): Number of epochs after which to print the validation loss.\n",
        "\n",
        "#     Returns:\n",
        "#     - val_losses (list): List of validation losses for each epoch.\n",
        "#     \"\"\"\n",
        "\n",
        "#     val_losses = []  # List to store validation losses\n",
        "\n",
        "#     model.eval()  # Set the model to evaluation mode\n",
        "#     total_val_loss = 0.0\n",
        "\n",
        "#     with torch.no_grad():\n",
        "#         for epoch, val_data in enumerate(val_loader, 1):\n",
        "#             val_inputs = val_data\n",
        "\n",
        "#             # Forward pass (encoding) for validation\n",
        "#             val_encoded = model.encode(val_inputs)\n",
        "\n",
        "#             # Loss calculation for validation\n",
        "#             val_loss = calculate_loss(val_encoded, model.scaling_before_exp_list, len(val_loader))\n",
        "\n",
        "#             total_val_loss += val_loss.item()\n",
        "\n",
        "#             # Print validation loss after specified number of epochs\n",
        "#             if epoch % print_after == 0:\n",
        "#                 average_val_loss = total_val_loss / epoch\n",
        "#                 print(f\"Epoch {epoch}/{len(val_loader)}, Validation Loss: {average_val_loss}\")\n",
        "\n",
        "#                 # Append average validation loss to the list\n",
        "#                 val_losses.append(average_val_loss)\n",
        "\n",
        "#     print(\"Validation complete\")\n",
        "\n",
        "#     return val_losses"
      ]
    },
    {
      "cell_type": "code",
      "execution_count": 24,
      "metadata": {
        "id": "7kHbOvSbm-XT"
      },
      "outputs": [],
      "source": [
        "# import torch\n",
        "\n",
        "\n",
        "# # Example data\n",
        "# data_size = 500\n",
        "# input_size = 2\n",
        "# hidden_size = 256\n",
        "# blocks = 3\n",
        "# print_after = 10\n",
        "\n",
        "# # Create a dummy dataset\n",
        "# X = torch.randn(data_size, input_size)\n",
        "# print(\"shape of the dataset is:\"); print(X.shape)\n",
        "# print(\"X is :\"); print(X)\n",
        "\n",
        "# # Create a DataLoader for the dataset\n",
        "# train_dataset = TensorDataset(X)\n",
        "# train_loader = DataLoader(train_dataset, batch_size=32, shuffle=True)\n",
        "\n",
        "# # Initialize the RealNVP model\n",
        "# model2 = RealNVP(input_size, hidden_size, blocks)\n",
        "\n",
        "# # Train the model\n",
        "# train_losses = train_inn(model2, train_loader, num_epochs=1, lr=0.001, print_after=1)\n",
        "\n",
        "# ## Print the final training and validation losses\n",
        "# #print(f\"Final Training Loss: {train_losses[-1]}, Final Validation Loss: {val_losses[-1]}\")\n"
      ]
    },
    {
      "cell_type": "code",
      "execution_count": 24,
      "metadata": {
        "id": "0IscDqh0nSW6"
      },
      "outputs": [],
      "source": []
    }
  ],
  "metadata": {
    "colab": {
      "authorship_tag": "ABX9TyPSgzwzeqyn49kmK7+aZMLS",
      "include_colab_link": true,
      "provenance": []
    },
    "kernelspec": {
      "display_name": "Python 3",
      "name": "python3"
    },
    "language_info": {
      "codemirror_mode": {
        "name": "ipython",
        "version": 3
      },
      "file_extension": ".py",
      "mimetype": "text/x-python",
      "name": "python",
      "nbconvert_exporter": "python",
      "pygments_lexer": "ipython3",
      "version": "3.11.3"
    }
  },
  "nbformat": 4,
  "nbformat_minor": 0
}
