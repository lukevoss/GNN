{
 "cells": [
  {
   "cell_type": "markdown",
   "metadata": {},
   "source": [
    "# 1. Two-dimensional data\n",
    "First we start by creating our nececarry inputs"
   ]
  },
  {
   "cell_type": "code",
   "execution_count": 3,
   "metadata": {},
   "outputs": [],
   "source": [
    "import numpy as np\n",
    "from sklearn.datasets import make_moons\n",
    "import matplotlib.pyplot as plt"
   ]
  },
  {
   "cell_type": "markdown",
   "metadata": {},
   "source": [
    "Create three different sized datasets and save them in a dictionary"
   ]
  },
  {
   "cell_type": "code",
   "execution_count": 4,
   "metadata": {},
   "outputs": [],
   "source": [
    "# Create the moon datasets of varying sizes\n",
    "n_samples_small = 100\n",
    "n_samples_medium = 500\n",
    "n_samples_large = 1000\n",
    "\n",
    "datasets = {\n",
    "    \"Small\": make_moons(n_samples=n_samples_small, noise=0.1, random_state=0),\n",
    "    \"Medium\": make_moons(n_samples=n_samples_medium, noise=0.1, random_state=0),\n",
    "    \"Large\": make_moons(n_samples=n_samples_large, noise=0.1, random_state=0),\n",
    "}"
   ]
  },
  {
   "cell_type": "markdown",
   "metadata": {},
   "source": [
    "Lets start by implementing and training our 2D Histogram"
   ]
  },
  {
   "cell_type": "code",
   "execution_count": 6,
   "metadata": {},
   "outputs": [
    {
     "data": {
      "image/png": "[encoded data removed]",
      "text/plain": [
       "<Figure size 432x288 with 2 Axes>"
      ]
     },
     "metadata": {
      "needs_background": "light"
     },
     "output_type": "display_data"
    }
   ],
   "source": [
    "def train_histogram(X, y, bins=20):\n",
    "    x_min, x_max = X[:, 0].min(), X[:, 0].max()\n",
    "    y_min, y_max = X[:, 1].min(), X[:, 1].max()\n",
    "    \n",
    "    x_bins = np.linspace(x_min, x_max, bins + 1)\n",
    "    y_bins = np.linspace(y_min, y_max, bins + 1)\n",
    "    \n",
    "    histogram = np.histogram2d(X[:, 0], X[:, 1], bins=[x_bins, y_bins])[0]\n",
    "    \n",
    "    return histogram\n",
    "\n",
    "# Train histogram for a specific dataset (e.g., the small one)\n",
    "X_small, y_small = datasets[\"Large\"]\n",
    "histogram_small = train_histogram(X_small, y_small)\n",
    "\n",
    "# You can visualize the histogram if needed\n",
    "plt.imshow(histogram_small, origin='lower', cmap='Blues')\n",
    "plt.colorbar()\n",
    "plt.title('2D Histogram')\n",
    "plt.show()"
   ]
  },
  {
   "cell_type": "markdown",
   "metadata": {},
   "source": [
    "# 2. Higher-dimensional data"
   ]
  },
  {
   "cell_type": "code",
   "execution_count": 3,
   "metadata": {},
   "outputs": [],
   "source": [
    "from sklearn.datasets import load_digits\n",
    "from sklearn.mixture import GaussianMixture\n",
    "import numpy as np"
   ]
  },
  {
   "cell_type": "markdown",
   "metadata": {},
   "source": [
    "Let's load the dataset:"
   ]
  },
  {
   "cell_type": "code",
   "execution_count": 4,
   "metadata": {},
   "outputs": [],
   "source": [
    "digits = load_digits()\n",
    "X = digits.data\n",
    "y = digits.target"
   ]
  },
  {
   "cell_type": "markdown",
   "metadata": {},
   "source": [
    "To have variying sized we create subsets of the original data"
   ]
  },
  {
   "cell_type": "code",
   "execution_count": null,
   "metadata": {},
   "outputs": [],
   "source": [
    "# # Choose the percentage of data to use for training\n",
    "# percentages = [0.2, 0.5, 1]\n",
    "\n",
    "# # Initialize an empty list to store training datasets\n",
    "# training_datasets = []\n",
    "\n",
    "# for percent in percentages:\n",
    "#     num_samples = int(X.shape[0] * percent)\n",
    "#     training_data = X[:num_samples, :]\n",
    "#     training_datasets.append(training_data)"
   ]
  },
  {
   "cell_type": "markdown",
   "metadata": {},
   "source": [
    "Now we implement a single Gaussian model, by using the 'GaussianMixture' model from scikit-learn with just one component"
   ]
  },
  {
   "cell_type": "code",
   "execution_count": 7,
   "metadata": {},
   "outputs": [
    {
     "data": {
      "text/plain": [
       "array([80.78289483, 88.84049133, 99.51493384, ..., 92.71972787,\n",
       "       92.39943427, 99.95472205])"
      ]
     },
     "execution_count": 7,
     "metadata": {},
     "output_type": "execute_result"
    }
   ],
   "source": [
    "model = GaussianMixture(n_components=1)\n",
    "model.fit(X)\n",
    "density_estimates = -model.score_samples(X)\n",
    "density_estimates\n"
   ]
  }
 ],
 "metadata": {
  "kernelspec": {
   "display_name": "ml_homework",
   "language": "python",
   "name": "python3"
  },
  "language_info": {
   "codemirror_mode": {
    "name": "ipython",
    "version": 3
   },
   "file_extension": ".py",
   "mimetype": "text/x-python",
   "name": "python",
   "nbconvert_exporter": "python",
   "pygments_lexer": "ipython3",
   "version": "3.11.3"
  }
 },
 "nbformat": 4,
 "nbformat_minor": 2
}
