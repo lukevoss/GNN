{
  "nbformat": 4,
  "nbformat_minor": 0,
  "metadata": {
    "colab": {
      "provenance": [],
      "collapsed_sections": [
        "ShOLOXBFHmRy"
      ],
      "authorship_tag": "ABX9TyMVKNpgDXjV4hga6plINT6p",
      "include_colab_link": true
    },
    "kernelspec": {
      "name": "python3",
      "display_name": "Python 3"
    },
    "language_info": {
      "name": "python"
    }
  },
  "cells": [
    {
      "cell_type": "markdown",
      "metadata": {
        "id": "view-in-github",
        "colab_type": "text"
      },
      "source": [
        "<a href=\"https://colab.research.google.com/github/neelkanthrawat/GNN-exercises/blob/main/neelkanthrawat/GNN-exercises/tree/main/Project/autoencoder_for_MNIST_dataset.ipynb\" target=\"_parent\"><img src=\"https://colab.research.google.com/assets/colab-badge.svg\" alt=\"Open In Colab\"/></a>"
      ]
    },
    {
      "cell_type": "code",
      "execution_count": 1,
      "metadata": {
        "id": "k34bN2nvAhj_"
      },
      "outputs": [],
      "source": [
        "import torch\n",
        "from torchvision.datasets import MNIST\n",
        "from torchvision import transforms\n",
        "from torch.utils.data import Dataset, DataLoader,random_split\n",
        "from torchvision import datasets, transforms\n",
        "\n",
        "import numpy as np\n",
        "\n",
        "import matplotlib.pyplot as plt"
      ]
    },
    {
      "cell_type": "markdown",
      "source": [
        "### 1. Load the MNIST dataset"
      ],
      "metadata": {
        "id": "HrI_kQmpCTqh"
      }
    },
    {
      "cell_type": "code",
      "source": [
        "# Define transformations to apply to the data\n",
        "transform = transforms.Compose([\n",
        "    transforms.ToTensor(),    # Convert PIL image to tensor\n",
        "    transforms.Normalize((0.1307,), (0.3081,))  # Normalize the tensor with mean and standard deviation of MNIST dataset\n",
        "])\n",
        "\n",
        "# Load MNIST dataset\n",
        "train_dataset = MNIST(root='./data', train=True, transform=transform, download=True)\n",
        "test_dataset = MNIST(root='./data', train=False, transform=transform, download=True)"
      ],
      "metadata": {
        "colab": {
          "base_uri": "https://localhost:8080/"
        },
        "id": "Xjw7V9d8Avoz",
        "outputId": "1f7ee10a-2cc7-400f-f88e-1746152fc6c4"
      },
      "execution_count": 2,
      "outputs": [
        {
          "output_type": "stream",
          "name": "stdout",
          "text": [
            "Downloading http://yann.lecun.com/exdb/mnist/train-images-idx3-ubyte.gz\n",
            "Downloading http://yann.lecun.com/exdb/mnist/train-images-idx3-ubyte.gz to ./data/MNIST/raw/train-images-idx3-ubyte.gz\n"
          ]
        },
        {
          "output_type": "stream",
          "name": "stderr",
          "text": [
            "100%|██████████| 9912422/9912422 [00:00<00:00, 115523706.60it/s]\n"
          ]
        },
        {
          "output_type": "stream",
          "name": "stdout",
          "text": [
            "Extracting ./data/MNIST/raw/train-images-idx3-ubyte.gz to ./data/MNIST/raw\n",
            "\n",
            "Downloading http://yann.lecun.com/exdb/mnist/train-labels-idx1-ubyte.gz\n",
            "Downloading http://yann.lecun.com/exdb/mnist/train-labels-idx1-ubyte.gz to ./data/MNIST/raw/train-labels-idx1-ubyte.gz\n"
          ]
        },
        {
          "output_type": "stream",
          "name": "stderr",
          "text": [
            "100%|██████████| 28881/28881 [00:00<00:00, 41484826.65it/s]\n"
          ]
        },
        {
          "output_type": "stream",
          "name": "stdout",
          "text": [
            "Extracting ./data/MNIST/raw/train-labels-idx1-ubyte.gz to ./data/MNIST/raw\n",
            "\n",
            "Downloading http://yann.lecun.com/exdb/mnist/t10k-images-idx3-ubyte.gz\n",
            "Downloading http://yann.lecun.com/exdb/mnist/t10k-images-idx3-ubyte.gz to ./data/MNIST/raw/t10k-images-idx3-ubyte.gz\n"
          ]
        },
        {
          "output_type": "stream",
          "name": "stderr",
          "text": [
            "100%|██████████| 1648877/1648877 [00:00<00:00, 26996113.67it/s]\n"
          ]
        },
        {
          "output_type": "stream",
          "name": "stdout",
          "text": [
            "Extracting ./data/MNIST/raw/t10k-images-idx3-ubyte.gz to ./data/MNIST/raw\n",
            "\n",
            "Downloading http://yann.lecun.com/exdb/mnist/t10k-labels-idx1-ubyte.gz\n",
            "Downloading http://yann.lecun.com/exdb/mnist/t10k-labels-idx1-ubyte.gz to ./data/MNIST/raw/t10k-labels-idx1-ubyte.gz\n"
          ]
        },
        {
          "output_type": "stream",
          "name": "stderr",
          "text": [
            "100%|██████████| 4542/4542 [00:00<00:00, 24114593.38it/s]\n"
          ]
        },
        {
          "output_type": "stream",
          "name": "stdout",
          "text": [
            "Extracting ./data/MNIST/raw/t10k-labels-idx1-ubyte.gz to ./data/MNIST/raw\n",
            "\n"
          ]
        }
      ]
    },
    {
      "cell_type": "markdown",
      "source": [
        "plotting the dataset"
      ],
      "metadata": {
        "id": "0zmUjOwdDSWO"
      }
    },
    {
      "cell_type": "code",
      "source": [
        "# def plot_images(images, labels, captions, rows=2, cols=4):\n",
        "#     fig, axes = plt.subplots(rows, cols, figsize=(10, 5))\n",
        "#     for i, ax in enumerate(axes.flat):\n",
        "#         ax.imshow(images[i], cmap='gray')\n",
        "#         ax.set_title(captions[i])\n",
        "#         ax.axis('off')\n",
        "#     plt.tight_layout()\n",
        "#     plt.show()\n",
        "\n",
        "# # Get some sample images and labels from the dataset\n",
        "# sample_images = [train_dataset[i][0].squeeze().numpy() for i in range(8)]\n",
        "# sample_labels = [train_dataset[i][1] for i in range(8)]\n",
        "# sample_captions = [f\"Label: {label}\" for label in sample_labels]\n",
        "\n",
        "# # Plot the sample images with captions\n",
        "# plot_images(sample_images, sample_labels, sample_captions)"
      ],
      "metadata": {
        "id": "3RpjNQFUDVP_"
      },
      "execution_count": 3,
      "outputs": []
    },
    {
      "cell_type": "markdown",
      "source": [
        "### 2. Create the Dataloaders"
      ],
      "metadata": {
        "id": "74hXkabNCXNR"
      }
    },
    {
      "cell_type": "code",
      "source": [
        "# Define the sizes for train, validation, and test sets\n",
        "train_size = int(0.8 * len(train_dataset))\n",
        "val_size = len(train_dataset) - train_size\n",
        "test_size = len(test_dataset)"
      ],
      "metadata": {
        "id": "BA4d1a9lORcU"
      },
      "execution_count": 4,
      "outputs": []
    },
    {
      "cell_type": "code",
      "source": [
        "# Split the dataset into train, validation, sets\n",
        "trn_data, val_data = torch.utils.data.random_split(train_dataset, [train_size, val_size])"
      ],
      "metadata": {
        "id": "XYfkojdwORQZ"
      },
      "execution_count": 5,
      "outputs": []
    },
    {
      "cell_type": "code",
      "source": [
        "# Define batch size for data loaders\n",
        "batch_size = 64"
      ],
      "metadata": {
        "id": "Q54P9vSkORIf"
      },
      "execution_count": 6,
      "outputs": []
    },
    {
      "cell_type": "code",
      "source": [
        "# Create data loaders for train, validation, and test sets\n",
        "train_loader = DataLoader(trn_data, batch_size=batch_size, shuffle=True)\n",
        "val_loader = DataLoader(val_data, batch_size=batch_size, shuffle=False)\n",
        "test_loader = DataLoader(test_dataset, batch_size=batch_size, shuffle=False)"
      ],
      "metadata": {
        "id": "FVkVWNMuOQ_v"
      },
      "execution_count": 7,
      "outputs": []
    },
    {
      "cell_type": "markdown",
      "source": [
        "### 3. Autoencoder model"
      ],
      "metadata": {
        "id": "fIYaQW0LEbiL"
      }
    },
    {
      "cell_type": "code",
      "source": [
        "import torch\n",
        "import torch.nn as nn\n",
        "\n",
        "class Autoencoder(nn.Module):\n",
        "    def __init__(self):\n",
        "        super(Autoencoder, self).__init__()\n",
        "\n",
        "        # Encoder layers\n",
        "        self.encoder_conv1 = nn.Conv2d(1, 6, kernel_size=3, stride=1, padding=1)\n",
        "        self.encoder_maxpool1 = nn.MaxPool2d(kernel_size=2, stride=2, padding=0)\n",
        "        self.encoder_conv2 = nn.Conv2d(6, 12, kernel_size=3, stride=1, padding=1)\n",
        "        self.encoder_maxpool2 = nn.MaxPool2d(kernel_size=2, stride=2, padding=0)\n",
        "        self.encoder_linear = nn.Linear(12* 7 * 7, 64*6)\n",
        "\n",
        "        # Decoder layers\n",
        "        self.decoder_linear = nn.Linear(64*6, 12 * 7 * 7)\n",
        "        self.decoder_conv1 = nn.ConvTranspose2d(12, 6, kernel_size=3, stride=1, padding=1)\n",
        "        self.decoder_upsample1 = nn.Upsample(scale_factor=2, mode='nearest')\n",
        "        self.decoder_conv2 = nn.ConvTranspose2d(6, 1, kernel_size=3, stride=1, padding=1)\n",
        "        self.decoder_upsample2 = nn.Upsample(scale_factor=2, mode='nearest')\n",
        "        # self.decoder_sigmoid = nn.Sigmoid()\n",
        "\n",
        "    def forward(self, x):\n",
        "        # Encoder\n",
        "        x = self.encoder_conv1(x)\n",
        "        x = self.encoder_maxpool1(x)\n",
        "        x = self.encoder_conv2(x)\n",
        "        x = self.encoder_maxpool2(x)\n",
        "        x = x.view(-1, 12 * 7 * 7)\n",
        "        x = self.encoder_linear(x)\n",
        "\n",
        "        # Decoder\n",
        "        x = self.decoder_linear(x)\n",
        "        x = x.view(-1, 12, 7, 7)\n",
        "        x = self.decoder_conv1(x)\n",
        "        x = self.decoder_upsample1(x)\n",
        "        x = self.decoder_conv2(x)\n",
        "        x = self.decoder_upsample2(x)\n",
        "        # x = self.decoder_sigmoid(x)\n",
        "\n",
        "        return x"
      ],
      "metadata": {
        "id": "5bNVHZ1wEThV"
      },
      "execution_count": 23,
      "outputs": []
    },
    {
      "cell_type": "code",
      "source": [
        "import torch\n",
        "import torch.nn as nn\n",
        "\n",
        "class Autoencoder_simpler(nn.Module):\n",
        "    def __init__(self):\n",
        "        super(Autoencoder_simpler, self).__init__()\n",
        "\n",
        "        # Encoder layers\n",
        "        self.encoder_conv1 = nn.Conv2d(1, 6, kernel_size=3, stride=2, padding=1)  # Use stride 2 for downscaling\n",
        "        self.encoder_conv2 = nn.Conv2d(6, 12, kernel_size=3, stride=2, padding=1)  # Use stride 2 for downscaling\n",
        "        self.encoder_linear = nn.Linear(12 * 7 * 7, 64*6)\n",
        "\n",
        "        # Decoder layers\n",
        "        self.decoder_linear = nn.Linear(64*6, 12 * 7 * 7)\n",
        "        self.decoder_conv1 = nn.ConvTranspose2d(12, 6, kernel_size=3, stride=2, padding=1, output_padding=1)  # Use stride 2 for upscaling\n",
        "        self.decoder_conv2 = nn.ConvTranspose2d(6, 1, kernel_size=3, stride=2, padding=1, output_padding=1)  # Use stride 2 for upscaling\n",
        "\n",
        "    def forward(self, x):\n",
        "        # Encoder\n",
        "        x = self.encoder_conv1(x)\n",
        "        x = torch.relu(x)\n",
        "        x = self.encoder_conv2(x)\n",
        "        x = torch.relu(x)\n",
        "        x = x.view(-1, 12 * 7 * 7)\n",
        "        x = self.encoder_linear(x)\n",
        "\n",
        "        # Decoder\n",
        "        x = self.decoder_linear(x)\n",
        "        x = x.view(-1, 12, 7, 7)\n",
        "        x = self.decoder_conv1(x)\n",
        "        x = torch.relu(x)\n",
        "        x = self.decoder_conv2(x)\n",
        "        x = torch.relu(x)\n",
        "\n",
        "        return x\n"
      ],
      "metadata": {
        "id": "4ULZBwsRam1K"
      },
      "execution_count": 29,
      "outputs": []
    },
    {
      "cell_type": "markdown",
      "source": [
        "### training and validation function"
      ],
      "metadata": {
        "id": "gP6fZFTlKW2V"
      }
    },
    {
      "cell_type": "code",
      "source": [
        "import torch\n",
        "import torch.nn as nn\n",
        "import torch.optim as optim\n",
        "\n",
        "def train_and_evaluate(autoencoder, train_loader, val_loader,\n",
        "                       num_epochs=10, learning_rate=1e-3, print_epoch=10, device='cuda' if torch.cuda.is_available() else 'cpu'):\n",
        "    criterion = nn.MSELoss()\n",
        "    optimizer = optim.Adam(autoencoder.parameters(), lr=learning_rate)\n",
        "\n",
        "    autoencoder.to(device)  # Move model to device\n",
        "\n",
        "    train_losses = []\n",
        "    val_losses = []\n",
        "\n",
        "    for epoch in range(num_epochs):\n",
        "        train_loss = 0.0\n",
        "        val_loss = 0.0\n",
        "\n",
        "        # Training\n",
        "        autoencoder.train()\n",
        "        for images, _ in train_loader:\n",
        "            images = images.to(device)  # Move data to device\n",
        "            optimizer.zero_grad()\n",
        "            outputs = autoencoder(images)\n",
        "            loss = criterion(outputs, images)\n",
        "            loss.backward()\n",
        "            optimizer.step()\n",
        "            train_loss += loss.item()\n",
        "\n",
        "        # Validation\n",
        "        autoencoder.eval()\n",
        "        with torch.no_grad():\n",
        "            for images, _ in val_loader:\n",
        "                images = images.to(device)  # Move data to device\n",
        "                outputs = autoencoder(images)\n",
        "                loss = criterion(outputs, images)\n",
        "                val_loss += loss.item()\n",
        "\n",
        "        # Average losses\n",
        "        train_loss /= len(train_loader)\n",
        "        val_loss /= len(val_loader)\n",
        "\n",
        "        train_losses.append(train_loss)\n",
        "        val_losses.append(val_loss)\n",
        "\n",
        "        # Print losses\n",
        "        if (epoch + 1) % print_epoch == 0:\n",
        "            print(f\"Epoch [{epoch+1}/{num_epochs}], Train Loss: {train_loss:.9f}, Val Loss: {val_loss:.9f}\")\n",
        "\n",
        "    return train_losses, val_losses"
      ],
      "metadata": {
        "id": "6a5FD1CZKZ5e"
      },
      "execution_count": 9,
      "outputs": []
    },
    {
      "cell_type": "code",
      "source": [
        "# Specify the device you want to use\n",
        "device = 'cuda' if torch.cuda.is_available() else 'cpu'\n",
        "print(device)"
      ],
      "metadata": {
        "colab": {
          "base_uri": "https://localhost:8080/"
        },
        "id": "mBLhe_Q7UeOF",
        "outputId": "102d1d05-9516-42cf-f92a-9b014d3e45e2"
      },
      "execution_count": 10,
      "outputs": [
        {
          "output_type": "stream",
          "name": "stdout",
          "text": [
            "cuda\n"
          ]
        }
      ]
    },
    {
      "cell_type": "code",
      "source": [
        "# instantiate the model\n",
        "autoencoder=Autoencoder()\n",
        "\n",
        "# train\n",
        "train_losses, val_losses = train_and_evaluate(autoencoder,\n",
        "                                              train_loader, val_loader,\n",
        "                                              num_epochs=20, print_epoch=2)"
      ],
      "metadata": {
        "colab": {
          "base_uri": "https://localhost:8080/"
        },
        "id": "0Gw0ytPWKdR_",
        "outputId": "dfccdf2c-85ca-4f49-b660-1d570d8ee4aa"
      },
      "execution_count": 24,
      "outputs": [
        {
          "output_type": "stream",
          "name": "stdout",
          "text": [
            "Epoch [2/20], Train Loss: 0.200820841, Val Loss: 0.195769854\n",
            "Epoch [4/20], Train Loss: 0.191048489, Val Loss: 0.188671375\n",
            "Epoch [6/20], Train Loss: 0.188101543, Val Loss: 0.186297944\n",
            "Epoch [8/20], Train Loss: 0.186799742, Val Loss: 0.185154281\n",
            "Epoch [10/20], Train Loss: 0.185999149, Val Loss: 0.184242475\n",
            "Epoch [12/20], Train Loss: 0.185461230, Val Loss: 0.184058018\n",
            "Epoch [14/20], Train Loss: 0.185013351, Val Loss: 0.183319635\n",
            "Epoch [16/20], Train Loss: 0.184691923, Val Loss: 0.183204245\n",
            "Epoch [18/20], Train Loss: 0.184424670, Val Loss: 0.182942750\n",
            "Epoch [20/20], Train Loss: 0.184249431, Val Loss: 0.182882431\n"
          ]
        }
      ]
    },
    {
      "cell_type": "code",
      "source": [
        "# instantiate the model\n",
        "autoencoder_2=Autoencoder_simpler()\n",
        "\n",
        "# train\n",
        "train_losses, val_losses = train_and_evaluate(autoencoder_2,\n",
        "                                              train_loader, val_loader,\n",
        "                                              num_epochs=20, print_epoch=2)"
      ],
      "metadata": {
        "colab": {
          "base_uri": "https://localhost:8080/"
        },
        "id": "9ZYejBDvarPw",
        "outputId": "5eddc6fa-3eca-48a5-cd19-6413a337d2d3"
      },
      "execution_count": 30,
      "outputs": [
        {
          "output_type": "stream",
          "name": "stdout",
          "text": [
            "Epoch [2/20], Train Loss: 0.182094858, Val Loss: 0.176142836\n",
            "Epoch [4/20], Train Loss: 0.168833712, Val Loss: 0.167850794\n",
            "Epoch [6/20], Train Loss: 0.164932242, Val Loss: 0.164839121\n",
            "Epoch [8/20], Train Loss: 0.162611623, Val Loss: 0.162421387\n",
            "Epoch [10/20], Train Loss: 0.160965757, Val Loss: 0.161225904\n",
            "Epoch [12/20], Train Loss: 0.159703324, Val Loss: 0.159889232\n",
            "Epoch [14/20], Train Loss: 0.158721651, Val Loss: 0.159012000\n",
            "Epoch [16/20], Train Loss: 0.157865461, Val Loss: 0.158151309\n",
            "Epoch [18/20], Train Loss: 0.157125558, Val Loss: 0.157417690\n",
            "Epoch [20/20], Train Loss: 0.156456248, Val Loss: 0.156787520\n"
          ]
        }
      ]
    },
    {
      "cell_type": "code",
      "source": [
        "def plot_losses(train_losses, val_losses):\n",
        "    plt.figure(figsize=(7, 5))\n",
        "    plt.plot(train_losses, label='Train Loss', color='blue')\n",
        "    plt.plot(val_losses, label='Validation Loss', color='red')\n",
        "    plt.xlabel('Epoch')\n",
        "    plt.ylabel('Loss')\n",
        "    plt.title('Training and Validation Losses')\n",
        "    plt.legend()\n",
        "    plt.grid(True)\n",
        "    plt.show()\n",
        "\n",
        "# Usage example:\n",
        "plot_losses(train_losses, val_losses)\n"
      ],
      "metadata": {
        "colab": {
          "base_uri": "https://localhost:8080/",
          "height": 487
        },
        "id": "-Jo1h-aTT5jn",
        "outputId": "1954d53b-fb0b-4d1c-fc1d-aea3ebf871a6"
      },
      "execution_count": 32,
      "outputs": [
        {
          "output_type": "display_data",
          "data": {
            "text/plain": [
              "<Figure size 700x500 with 1 Axes>"
            ],
            "image/png": "[encoded data removed]"
          },
          "metadata": {}
        }
      ]
    },
    {
      "cell_type": "code",
      "source": [
        "def test_model(autoencoder, test_loader, device='cuda' if torch.cuda.is_available() else 'cpu'):\n",
        "    autoencoder.eval()\n",
        "    criterion = nn.MSELoss()\n",
        "\n",
        "    # Get a batch of test images\n",
        "    images, _ = next(iter(test_loader))\n",
        "    images = images.to(device)\n",
        "\n",
        "    # Reconstruct images using the autoencoder\n",
        "    with torch.no_grad():\n",
        "        reconstructed_images = autoencoder(images)\n",
        "\n",
        "    # Move data back to CPU for plotting\n",
        "    images = images.cpu()\n",
        "    reconstructed_images = reconstructed_images.cpu()\n",
        "\n",
        "    # Plot original and reconstructed images\n",
        "    fig, axes = plt.subplots(nrows=2, ncols=8, figsize=(16, 4))\n",
        "    for i in range(8):\n",
        "        axes[0, i].imshow(images[i].squeeze(), cmap='gray')\n",
        "        axes[0, i].set_title(\"Original\")\n",
        "        axes[0, i].axis('off')\n",
        "        axes[1, i].imshow(reconstructed_images[i].squeeze(), cmap='gray')\n",
        "        axes[1, i].set_title(\"Reconstructed\")\n",
        "        axes[1, i].axis('off')\n",
        "    plt.show()\n",
        "\n",
        "# Usage example:\n",
        "test_model(autoencoder, test_loader)\n"
      ],
      "metadata": {
        "colab": {
          "base_uri": "https://localhost:8080/",
          "height": 244
        },
        "id": "8rE1qGiPTodw",
        "outputId": "6f142feb-5907-4df2-80aa-bd4d7d082099"
      },
      "execution_count": 22,
      "outputs": [
        {
          "output_type": "display_data",
          "data": {
            "text/plain": [
              "<Figure size 1600x400 with 16 Axes>"
            ],
            "image/png": "[encoded data removed]"
          },
          "metadata": {}
        }
      ]
    },
    {
      "cell_type": "code",
      "source": [
        "test_model(autoencoder_2, test_loader)"
      ],
      "metadata": {
        "colab": {
          "base_uri": "https://localhost:8080/",
          "height": 244
        },
        "id": "hE8xOr-ya7k7",
        "outputId": "bd0be70c-2281-4ebe-a9b3-df3ed195d31d"
      },
      "execution_count": 31,
      "outputs": [
        {
          "output_type": "display_data",
          "data": {
            "text/plain": [
              "<Figure size 1600x400 with 16 Axes>"
            ],
            "image/png": "[encoded data removed]"
          },
          "metadata": {}
        }
      ]
    },
    {
      "cell_type": "markdown",
      "source": [
        "### Latest conclusion:\n",
        "\n",
        "Simpler model (`autoencoder_2`) is better than the first model (`autoencoder_1`)."
      ],
      "metadata": {
        "id": "MR1yCw6ucFND"
      }
    },
    {
      "cell_type": "markdown",
      "source": [
        "# checking something.\n",
        "\n"
      ],
      "metadata": {
        "id": "ShOLOXBFHmRy"
      }
    },
    {
      "cell_type": "code",
      "source": [
        "# import torch\n",
        "# import torch.nn as nn\n",
        "# from torchvision.datasets import MNIST\n",
        "# from torch.utils.data import DataLoader\n",
        "# import torchvision.transforms as transforms\n",
        "\n",
        "# class Autoencoder(nn.Module):\n",
        "#     def __init__(self):\n",
        "#         super(Autoencoder, self).__init__()\n",
        "\n",
        "#         # Encoder layers\n",
        "#         self.encoder_conv1 = nn.Conv2d(1, 6, kernel_size=3, stride=1, padding=1)\n",
        "#         self.encoder_maxpool1 = nn.MaxPool2d(kernel_size=2, stride=2, padding=0)\n",
        "#         self.encoder_conv2 = nn.Conv2d(6, 12, kernel_size=3, stride=1, padding=1)\n",
        "#         self.encoder_maxpool2 = nn.MaxPool2d(kernel_size=2, stride=2, padding=0)\n",
        "#         self.encoder_linear = nn.Linear(32 * 7 * 7, 64)\n",
        "\n",
        "#         # Decoder layers\n",
        "#         self.decoder_linear = nn.Linear(64, 32 * 7 * 7)\n",
        "#         self.decoder_conv1 = nn.ConvTranspose2d(32, 16, kernel_size=3, stride=1, padding=1)\n",
        "#         self.decoder_upsample1 = nn.Upsample(scale_factor=2, mode='nearest')\n",
        "#         self.decoder_conv2 = nn.ConvTranspose2d(16, 1, kernel_size=3, stride=1, padding=1)\n",
        "#         self.decoder_upsample2 = nn.Upsample(scale_factor=2, mode='nearest')\n",
        "#         self.decoder_sigmoid = nn.Sigmoid()\n",
        "\n",
        "#     def forward(self, x):\n",
        "#         # Encoder\n",
        "#         print(\"image shape at the beginning:\", x.shape)\n",
        "#         x = self.encoder_conv1(x)\n",
        "#         print(\"Shape after encoder_conv1:\", x.shape)\n",
        "#         x = self.encoder_maxpool1(x)\n",
        "#         print(\"Shape after encoder_maxpool1:\", x.shape)\n",
        "#         x = self.encoder_conv2(x)\n",
        "#         print(\"Shape after encoder_conv2:\", x.shape)\n",
        "#         x = self.encoder_maxpool2(x)\n",
        "#         print(\"Shape after encoder_maxpool2:\", x.shape)\n",
        "#         x = x.view(-1, 32 * 7 * 7)\n",
        "#         print(\"Shape after flattening:\", x.shape)\n",
        "#         x = self.encoder_linear(x)\n",
        "#         print(\"Shape after encoder_linear:\", x.shape)\n",
        "\n",
        "#         print(\"encoder finished now decoder\")\n",
        "\n",
        "#         # Decoder\n",
        "#         x = self.decoder_linear(x)\n",
        "#         print(\"Shape after decoder_linear:\", x.shape)\n",
        "#         x = x.view(-1, 32, 7, 7)\n",
        "#         print(\"Shape after reshaping:\", x.shape)\n",
        "#         x = self.decoder_conv1(x)\n",
        "#         print(\"Shape after decoder_conv1:\", x.shape)\n",
        "#         x = self.decoder_upsample1(x)\n",
        "#         print(\"Shape after decoder_upsample1:\", x.shape)\n",
        "#         x = self.decoder_conv2(x)\n",
        "#         print(\"Shape after decoder_conv2:\", x.shape)\n",
        "#         x = self.decoder_upsample2(x)\n",
        "#         print(\"Shape after decoder_upsample2:\", x.shape)\n",
        "\n",
        "#         return x\n",
        "\n",
        "# # Load MNIST dataset\n",
        "# transform = transforms.Compose([transforms.ToTensor(), transforms.Normalize((0.1307,), (0.3081,))])\n",
        "# train_dataset = MNIST(root='./data', train=True, transform=transform, download=True)\n",
        "# train_loader = DataLoader(train_dataset, batch_size=64, shuffle=True)\n",
        "\n",
        "# # Create an instance of the autoencoder\n",
        "# autoencoder = Autoencoder()\n",
        "\n",
        "# # Take one image from the dataset\n",
        "# x, _ = next(iter(train_loader))\n",
        "# image = x[0].unsqueeze(0)  # Take the first image from the batch and add a batch dimension\n",
        "\n",
        "# # Forward pass through the autoencoder with the image\n",
        "# output = autoencoder(image)\n"
      ],
      "metadata": {
        "colab": {
          "base_uri": "https://localhost:8080/",
          "height": 408
        },
        "id": "lKx40PE_GU50",
        "outputId": "a830499e-aa15-4a89-a4e8-e40e8bdc9abf"
      },
      "execution_count": 21,
      "outputs": [
        {
          "output_type": "stream",
          "name": "stdout",
          "text": [
            "image shape at the beginning: torch.Size([1, 1, 28, 28])\n",
            "Shape after encoder_conv1: torch.Size([1, 6, 28, 28])\n",
            "Shape after encoder_maxpool1: torch.Size([1, 6, 14, 14])\n",
            "Shape after encoder_conv2: torch.Size([1, 12, 14, 14])\n",
            "Shape after encoder_maxpool2: torch.Size([1, 12, 7, 7])\n"
          ]
        },
        {
          "output_type": "error",
          "ename": "RuntimeError",
          "evalue": "shape '[-1, 1568]' is invalid for input of size 588",
          "traceback": [
            "\u001b[0;31m---------------------------------------------------------------------------\u001b[0m",
            "\u001b[0;31mRuntimeError\u001b[0m                              Traceback (most recent call last)",
            "\u001b[0;32m<ipython-input-21-962aa968554b>\u001b[0m in \u001b[0;36m<cell line: 73>\u001b[0;34m()\u001b[0m\n\u001b[1;32m     71\u001b[0m \u001b[0;34m\u001b[0m\u001b[0m\n\u001b[1;32m     72\u001b[0m \u001b[0;31m# Forward pass through the autoencoder with the image\u001b[0m\u001b[0;34m\u001b[0m\u001b[0;34m\u001b[0m\u001b[0m\n\u001b[0;32m---> 73\u001b[0;31m \u001b[0moutput\u001b[0m \u001b[0;34m=\u001b[0m \u001b[0mautoencoder\u001b[0m\u001b[0;34m(\u001b[0m\u001b[0mimage\u001b[0m\u001b[0;34m)\u001b[0m\u001b[0;34m\u001b[0m\u001b[0;34m\u001b[0m\u001b[0m\n\u001b[0m",
            "\u001b[0;32m/usr/local/lib/python3.10/dist-packages/torch/nn/modules/module.py\u001b[0m in \u001b[0;36m_wrapped_call_impl\u001b[0;34m(self, *args, **kwargs)\u001b[0m\n\u001b[1;32m   1516\u001b[0m             \u001b[0;32mreturn\u001b[0m \u001b[0mself\u001b[0m\u001b[0;34m.\u001b[0m\u001b[0m_compiled_call_impl\u001b[0m\u001b[0;34m(\u001b[0m\u001b[0;34m*\u001b[0m\u001b[0margs\u001b[0m\u001b[0;34m,\u001b[0m \u001b[0;34m**\u001b[0m\u001b[0mkwargs\u001b[0m\u001b[0;34m)\u001b[0m  \u001b[0;31m# type: ignore[misc]\u001b[0m\u001b[0;34m\u001b[0m\u001b[0;34m\u001b[0m\u001b[0m\n\u001b[1;32m   1517\u001b[0m         \u001b[0;32melse\u001b[0m\u001b[0;34m:\u001b[0m\u001b[0;34m\u001b[0m\u001b[0;34m\u001b[0m\u001b[0m\n\u001b[0;32m-> 1518\u001b[0;31m             \u001b[0;32mreturn\u001b[0m \u001b[0mself\u001b[0m\u001b[0;34m.\u001b[0m\u001b[0m_call_impl\u001b[0m\u001b[0;34m(\u001b[0m\u001b[0;34m*\u001b[0m\u001b[0margs\u001b[0m\u001b[0;34m,\u001b[0m \u001b[0;34m**\u001b[0m\u001b[0mkwargs\u001b[0m\u001b[0;34m)\u001b[0m\u001b[0;34m\u001b[0m\u001b[0;34m\u001b[0m\u001b[0m\n\u001b[0m\u001b[1;32m   1519\u001b[0m \u001b[0;34m\u001b[0m\u001b[0m\n\u001b[1;32m   1520\u001b[0m     \u001b[0;32mdef\u001b[0m \u001b[0m_call_impl\u001b[0m\u001b[0;34m(\u001b[0m\u001b[0mself\u001b[0m\u001b[0;34m,\u001b[0m \u001b[0;34m*\u001b[0m\u001b[0margs\u001b[0m\u001b[0;34m,\u001b[0m \u001b[0;34m**\u001b[0m\u001b[0mkwargs\u001b[0m\u001b[0;34m)\u001b[0m\u001b[0;34m:\u001b[0m\u001b[0;34m\u001b[0m\u001b[0;34m\u001b[0m\u001b[0m\n",
            "\u001b[0;32m/usr/local/lib/python3.10/dist-packages/torch/nn/modules/module.py\u001b[0m in \u001b[0;36m_call_impl\u001b[0;34m(self, *args, **kwargs)\u001b[0m\n\u001b[1;32m   1525\u001b[0m                 \u001b[0;32mor\u001b[0m \u001b[0m_global_backward_pre_hooks\u001b[0m \u001b[0;32mor\u001b[0m \u001b[0m_global_backward_hooks\u001b[0m\u001b[0;34m\u001b[0m\u001b[0;34m\u001b[0m\u001b[0m\n\u001b[1;32m   1526\u001b[0m                 or _global_forward_hooks or _global_forward_pre_hooks):\n\u001b[0;32m-> 1527\u001b[0;31m             \u001b[0;32mreturn\u001b[0m \u001b[0mforward_call\u001b[0m\u001b[0;34m(\u001b[0m\u001b[0;34m*\u001b[0m\u001b[0margs\u001b[0m\u001b[0;34m,\u001b[0m \u001b[0;34m**\u001b[0m\u001b[0mkwargs\u001b[0m\u001b[0;34m)\u001b[0m\u001b[0;34m\u001b[0m\u001b[0;34m\u001b[0m\u001b[0m\n\u001b[0m\u001b[1;32m   1528\u001b[0m \u001b[0;34m\u001b[0m\u001b[0m\n\u001b[1;32m   1529\u001b[0m         \u001b[0;32mtry\u001b[0m\u001b[0;34m:\u001b[0m\u001b[0;34m\u001b[0m\u001b[0;34m\u001b[0m\u001b[0m\n",
            "\u001b[0;32m<ipython-input-21-962aa968554b>\u001b[0m in \u001b[0;36mforward\u001b[0;34m(self, x)\u001b[0m\n\u001b[1;32m     35\u001b[0m         \u001b[0mx\u001b[0m \u001b[0;34m=\u001b[0m \u001b[0mself\u001b[0m\u001b[0;34m.\u001b[0m\u001b[0mencoder_maxpool2\u001b[0m\u001b[0;34m(\u001b[0m\u001b[0mx\u001b[0m\u001b[0;34m)\u001b[0m\u001b[0;34m\u001b[0m\u001b[0;34m\u001b[0m\u001b[0m\n\u001b[1;32m     36\u001b[0m         \u001b[0mprint\u001b[0m\u001b[0;34m(\u001b[0m\u001b[0;34m\"Shape after encoder_maxpool2:\"\u001b[0m\u001b[0;34m,\u001b[0m \u001b[0mx\u001b[0m\u001b[0;34m.\u001b[0m\u001b[0mshape\u001b[0m\u001b[0;34m)\u001b[0m\u001b[0;34m\u001b[0m\u001b[0;34m\u001b[0m\u001b[0m\n\u001b[0;32m---> 37\u001b[0;31m         \u001b[0mx\u001b[0m \u001b[0;34m=\u001b[0m \u001b[0mx\u001b[0m\u001b[0;34m.\u001b[0m\u001b[0mview\u001b[0m\u001b[0;34m(\u001b[0m\u001b[0;34m-\u001b[0m\u001b[0;36m1\u001b[0m\u001b[0;34m,\u001b[0m \u001b[0;36m32\u001b[0m \u001b[0;34m*\u001b[0m \u001b[0;36m7\u001b[0m \u001b[0;34m*\u001b[0m \u001b[0;36m7\u001b[0m\u001b[0;34m)\u001b[0m\u001b[0;34m\u001b[0m\u001b[0;34m\u001b[0m\u001b[0m\n\u001b[0m\u001b[1;32m     38\u001b[0m         \u001b[0mprint\u001b[0m\u001b[0;34m(\u001b[0m\u001b[0;34m\"Shape after flattening:\"\u001b[0m\u001b[0;34m,\u001b[0m \u001b[0mx\u001b[0m\u001b[0;34m.\u001b[0m\u001b[0mshape\u001b[0m\u001b[0;34m)\u001b[0m\u001b[0;34m\u001b[0m\u001b[0;34m\u001b[0m\u001b[0m\n\u001b[1;32m     39\u001b[0m         \u001b[0mx\u001b[0m \u001b[0;34m=\u001b[0m \u001b[0mself\u001b[0m\u001b[0;34m.\u001b[0m\u001b[0mencoder_linear\u001b[0m\u001b[0;34m(\u001b[0m\u001b[0mx\u001b[0m\u001b[0;34m)\u001b[0m\u001b[0;34m\u001b[0m\u001b[0;34m\u001b[0m\u001b[0m\n",
            "\u001b[0;31mRuntimeError\u001b[0m: shape '[-1, 1568]' is invalid for input of size 588"
          ]
        }
      ]
    },
    {
      "cell_type": "markdown",
      "source": [
        "t"
      ],
      "metadata": {
        "id": "mPSQCjTzKPV7"
      }
    }
  ]
}